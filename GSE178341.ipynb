{
 "cells": [
  {
   "cell_type": "code",
   "execution_count": null,
   "id": "34f925bb",
   "metadata": {},
   "outputs": [],
   "source": [
    "#import the library\n",
    "import scanpy as sc\n",
    "import numpy as np\n",
    "import scipy as sp\n",
    "import pandas as pd\n",
    "import matplotlib.pyplot as plt\n",
    "from matplotlib import rcParams\n",
    "from matplotlib import colors\n",
    "import seaborn as sb\n",
    "from gprofiler import GProfiler\n",
    "import seaborn as sns\n",
    "import rpy2.rinterface_lib.callbacks\n",
    "import logging\n",
    "import tensorflow as tf\n",
    "import scipy.sparse\n",
    "import os\n",
    "\n",
    "from rpy2.robjects import pandas2ri\n",
    "import anndata2ri\n",
    "\n",
    "import importlib\n",
    "import warnings\n",
    "warnings.filterwarnings(\"ignore\")\n",
    "import pickle as pkl\n",
    "from matplotlib.colors import LinearSegmentedColormap"
   ]
  },
  {
   "cell_type": "code",
   "execution_count": null,
   "id": "b59afc45-e946-446f-aa9e-0f0db636c96f",
   "metadata": {},
   "outputs": [],
   "source": [
    "from matplotlib.colors import LinearSegmentedColormap\n",
    "values = [0,1]\n",
    "colors = [(227, 227, 227), (255, 42, 18)]\n",
    "norm = plt.Normalize(min(values), max(values))\n",
    "my_cmap = LinearSegmentedColormap.from_list(\n",
    "    '', [(norm(value), tuple(np.array(color) / 255)) for value, color in zip(values, colors)])"
   ]
  },
  {
   "cell_type": "code",
   "execution_count": null,
   "id": "f093a4e1-2e3c-46e1-97e2-0221ccfcfcd1",
   "metadata": {
    "tags": []
   },
   "outputs": [],
   "source": [
    "rpy2.rinterface_lib.callbacks.logger.setLevel(logging.ERROR)\n",
    "pandas2ri.activate()\n",
    "anndata2ri.activate()\n",
    "%load_ext rpy2.ipython"
   ]
  },
  {
   "cell_type": "code",
   "execution_count": null,
   "id": "0def436b-e459-47f0-b1c3-406b805c8de9",
   "metadata": {
    "tags": []
   },
   "outputs": [],
   "source": [
    "plt.rcParams['figure.figsize']=(8,8) #rescale figures\n",
    "sc.settings.verbosity = 3\n",
    "#sc.set_figure_params(dpi=200, dpi_save=300)\n",
    "sc.logging.print_versions()"
   ]
  },
  {
   "cell_type": "code",
   "execution_count": null,
   "id": "2a3cf4c9-44b7-4e87-8ff7-406d76b428f5",
   "metadata": {
    "tags": []
   },
   "outputs": [],
   "source": [
    "%%R\n",
    ".libPaths(.libPaths('win-library\\\\4.3'))\n",
    "\n",
    "library(scran)\n",
    "library(Seurat)\n",
    "library(RColorBrewer)\n",
    "library(slingshot)\n",
    "library(monocle)\n",
    "library(gam)\n",
    "library(ggplot2)\n",
    "library(plyr)\n",
    "library(MAST)\n",
    "library(clusterExperiment)\n",
    "library(monocle3)\n",
    "library(SeuratWrappers)\n",
    "library(magrittr)\n",
    "library(dplyr)"
   ]
  },
  {
   "cell_type": "code",
   "execution_count": null,
   "id": "f974a8bb",
   "metadata": {},
   "outputs": [],
   "source": [
    "import h5py\n",
    "from scipy.sparse import csr_matrix\n",
    "\n",
    "# Open the HDF5 file\n",
    "file_path = 'GSE178341/GSE178341_crc10x_full_c295v4_submit.h5'\n",
    "with h5py.File(file_path, 'r') as f:\n",
    "    data = f['matrix/data'][()]\n",
    "    indices = f['matrix/indices'][()]\n",
    "    indptr = f['matrix/indptr'][()]\n",
    "    shape = f['matrix/shape'][()]\n",
    "    genes = f['matrix/features/name'][()]\n",
    "    gene_ID = [str(i).split(\"'\")[1] for i in genes]"
   ]
  },
  {
   "cell_type": "code",
   "execution_count": null,
   "id": "aae1edf3",
   "metadata": {},
   "outputs": [],
   "source": [
    "from matplotlib.colors import LinearSegmentedColormap\n",
    "values = [0,1]\n",
    "colors = [(227, 227, 227), (255, 42, 18)]\n",
    "norm = plt.Normalize(min(values), max(values))\n",
    "my_cmap = LinearSegmentedColormap.from_list(\n",
    "    '', [(norm(value), tuple(np.array(color) / 255)) for value, color in zip(values, colors)])"
   ]
  },
  {
   "cell_type": "code",
   "execution_count": null,
   "id": "d9d18ed8",
   "metadata": {},
   "outputs": [],
   "source": [
    "my_palette = ['#0351A8','#8CB0E0','#D56D11','#FFBB78','#234E08','#53CB8B','#D30083','#CB788D','#4E195A','#C58CCF','#AA290F','#B03FD1','#E8BCCF','#64605F','#B2AD9A','#D2D30B','#D1BD4F','#06DCF2','#9EDAE5','#517219','#5B43CF','#D92F24','#FFD900','#002F33','#B8A3A3']"
   ]
  },
  {
   "cell_type": "code",
   "execution_count": null,
   "id": "1d62025d",
   "metadata": {},
   "outputs": [],
   "source": [
    "matrix = csr_matrix((data, indices, indptr), shape=[shape[1],shape[0]])"
   ]
  },
  {
   "cell_type": "code",
   "execution_count": null,
   "id": "dcc8e49a",
   "metadata": {},
   "outputs": [],
   "source": [
    "meta_data = pd.read_csv('GSE178341/GSE178341_crc10x_full_c295v4_submit_metatables.csv',index_col = 0)"
   ]
  },
  {
   "cell_type": "code",
   "execution_count": null,
   "id": "6d639e30",
   "metadata": {},
   "outputs": [],
   "source": [
    "celltype= pd.read_csv('GSE178341/crc10x_full_c295v4_submit_cluster.csv',index_col = 0)"
   ]
  },
  {
   "cell_type": "code",
   "execution_count": null,
   "id": "5d1f18f9",
   "metadata": {},
   "outputs": [],
   "source": [
    "import anndata\n",
    "adata =anndata.AnnData(X = matrix)\n",
    "adata.var_names = gene_ID\n",
    "adata.obs_names = meta_data.index"
   ]
  },
  {
   "cell_type": "code",
   "execution_count": null,
   "id": "aceefc8d",
   "metadata": {},
   "outputs": [],
   "source": [
    "adata.obs = meta_data.loc[adata.obs_names,:]"
   ]
  },
  {
   "cell_type": "code",
   "execution_count": null,
   "id": "8439d0f8",
   "metadata": {},
   "outputs": [],
   "source": [
    "for i in celltype.columns:\n",
    "    adata.obs[i] = celltype.loc[adata.obs_names,i]"
   ]
  },
  {
   "cell_type": "code",
   "execution_count": null,
   "id": "d5dce654",
   "metadata": {},
   "outputs": [],
   "source": [
    "adata.write('GSE178341.h5ad')"
   ]
  },
  {
   "cell_type": "code",
   "execution_count": null,
   "id": "ad37f6f3-830e-4635-a06d-c8d02da9169e",
   "metadata": {},
   "outputs": [],
   "source": [
    "adata = sc.read_h5ad('GSE178341_processed.h5ad')"
   ]
  },
  {
   "cell_type": "code",
   "execution_count": null,
   "id": "bd2302d1-0a4b-4632-9f71-c76c119c32b3",
   "metadata": {},
   "outputs": [],
   "source": [
    "adata.var_names_make_unique()"
   ]
  },
  {
   "cell_type": "code",
   "execution_count": null,
   "id": "3c1ad4fa-53ed-460e-893c-0211280f5cce",
   "metadata": {},
   "outputs": [],
   "source": [
    "adata_17 = sc.read_h5ad('GSE178341_T17_refined.h5ad')"
   ]
  },
  {
   "cell_type": "code",
   "execution_count": null,
   "id": "d9f0bc90-3567-40ed-b689-1bb896a8bc2e",
   "metadata": {},
   "outputs": [],
   "source": [
    "adata_17_raw = adata[adata_17.obs_names,:]"
   ]
  },
  {
   "cell_type": "code",
   "execution_count": null,
   "id": "9d8adae4-2fa4-4e81-b12f-bfb9a79ddd0d",
   "metadata": {},
   "outputs": [],
   "source": [
    "sc.pl.tsne(adata, color = ['PDCD1','CTLA4','TRDC','IFNG'], cmap = my_cmap, size = 20)"
   ]
  },
  {
   "cell_type": "code",
   "execution_count": null,
   "id": "b6213bd7-27dd-498a-a6cf-d008856a2719",
   "metadata": {},
   "outputs": [],
   "source": [
    "dp_test = np.array(adata_17[:,'TFF3'].X.A > 0) & np.array(adata_17[:,'CD3D'].X.A > 0)\n",
    "sum(dp_test.flatten())"
   ]
  },
  {
   "cell_type": "code",
   "execution_count": null,
   "id": "712051c7-274a-4eb7-8366-7be33c727c1a",
   "metadata": {},
   "outputs": [],
   "source": [
    "colnames = adata_17_raw.obs_names\n",
    "rownames = adata_17_raw.var_names\n",
    "counts = adata_17_raw.X.T"
   ]
  },
  {
   "cell_type": "code",
   "execution_count": null,
   "id": "6f3e692f-cd3f-49c4-bb3a-40a2ad630789",
   "metadata": {},
   "outputs": [],
   "source": [
    "%%R -i colnames -i rownames -i counts\n",
    "colnames(counts) = colnames\n",
    "rownames(counts) = rownames"
   ]
  },
  {
   "cell_type": "code",
   "execution_count": null,
   "id": "d8c90908-007c-4d7c-b2b1-7873db57ac65",
   "metadata": {},
   "outputs": [],
   "source": [
    "%R srat <- CreateSeuratObject(counts = counts)"
   ]
  },
  {
   "cell_type": "code",
   "execution_count": null,
   "id": "e158259c-e362-4b25-8efb-42fa7666ab1f",
   "metadata": {},
   "outputs": [],
   "source": [
    "%R saveRDS(srat, 'GSE178341_T17.rds')"
   ]
  },
  {
   "cell_type": "code",
   "execution_count": null,
   "id": "3e628bf2-3791-4149-9d24-a6ad9f5504f6",
   "metadata": {},
   "outputs": [],
   "source": [
    "adata.obs['n_counts'] = adata.X.sum(1)\n",
    "adata.obs['log_counts'] = np.log(adata.obs['n_counts'])\n",
    "adata.obs['n_genes'] = (adata.X > 0).sum(1)\n",
    "\n",
    "mt_gene_mask = [gene.startswith('MT-') for gene in adata.var_names]\n",
    "adata.obs['mt_frac'] = np.array(adata.X[:, mt_gene_mask].sum(1).ravel())[0]/adata.obs['n_counts']\n",
    "ribo_gene_mask = [gene.startswith('RPL') or gene.startswith('RPS') for gene in adata.var_names]\n",
    "adata.obs['ribo_frac'] = np.array(adata.X[:, ribo_gene_mask].sum(1).ravel())[0]/adata.obs['n_counts']"
   ]
  },
  {
   "cell_type": "code",
   "execution_count": null,
   "id": "f2f5eeab-dfd2-488f-89a9-ff2129ef7e46",
   "metadata": {},
   "outputs": [],
   "source": [
    "adata.var_names[mt_gene_mask]"
   ]
  },
  {
   "cell_type": "code",
   "execution_count": null,
   "id": "5fe1aaf3-08d9-4f77-9c12-10453cfd6233",
   "metadata": {},
   "outputs": [],
   "source": [
    "# Filter cells according to identified QC thresholds:\n",
    "print('Total number of cells: {:d}'.format(adata.n_obs))\n",
    "\n",
    "sc.pp.filter_cells(adata, min_counts = 500)\n",
    "print('Number of cells after min count filter: {:d}'.format(adata.n_obs))\n",
    "\n",
    "\n",
    "adata = adata[adata.obs['mt_frac'] < 0.2]\n",
    "print('Number of cells after MT filter: {:d}'.format(adata.n_obs))\n",
    "\n",
    "sc.pp.filter_cells(adata, min_genes = 200)\n",
    "print('Number of cells after gene filter: {:d}'.format(adata.n_obs))\n"
   ]
  },
  {
   "cell_type": "code",
   "execution_count": null,
   "id": "b5789000-d7b9-49cb-84c3-841e772e998f",
   "metadata": {},
   "outputs": [],
   "source": [
    "sc.pp.normalize_total(adata, key_added = 'normalization_factors')\n",
    "sc.pp.log1p(adata)"
   ]
  },
  {
   "cell_type": "code",
   "execution_count": null,
   "id": "0c5d0f03-b5bf-4217-b807-9d721cdd999d",
   "metadata": {},
   "outputs": [],
   "source": [
    "sc.pp.neighbors(adata, n_pcs = 50)"
   ]
  },
  {
   "cell_type": "code",
   "execution_count": null,
   "id": "8e5b1f61-00b0-4a7c-94e2-b763f2bc01f7",
   "metadata": {},
   "outputs": [],
   "source": [
    "sc.pl.pca(adata, color=['CD4'], legend_loc = 'on data')"
   ]
  },
  {
   "cell_type": "code",
   "execution_count": null,
   "id": "f9525b35-f9a5-4b07-ad61-833ab2059045",
   "metadata": {},
   "outputs": [],
   "source": [
    "%matplotlib inline\n",
    "sc.tl.tsne(adata)\n",
    "#plt.close()\n",
    "plt.rcParams['axes.linewidth'] = 2"
   ]
  },
  {
   "cell_type": "code",
   "execution_count": null,
   "id": "6fbe3d11-4154-4428-a2e8-54841b87a584",
   "metadata": {},
   "outputs": [],
   "source": [
    "sc.pl.tsne(adata, color=['cl295v11SubFull','CD3E','CD3G','CD3D','TRDC','ICOS','CD4','CD8A','CD8B','FOXP3','IFNG','RORC','IL17A','IL17F'], cmap = my_cmap)"
   ]
  },
  {
   "cell_type": "code",
   "execution_count": null,
   "id": "7f5f74b5-516c-41a6-90cf-58c7ac3fcdd5",
   "metadata": {},
   "outputs": [],
   "source": [
    "sc.tl.leiden(adata, resolution = 0.8, key_added= 'leiden')                                                 "
   ]
  },
  {
   "cell_type": "code",
   "execution_count": null,
   "id": "1253b41b-81df-44de-b72a-8209c52e6620",
   "metadata": {},
   "outputs": [],
   "source": [
    "sc.pl.tsne(adata, color=['leiden','CD3E','CD3G','CD3D','TRDC','ICOS','CD4','CD8A','CD8B','FOXP3','IFNG','RORC','IL17A','IL17F'], size =30, cmap = my_cmap, legend_loc = 'on data')"
   ]
  },
  {
   "cell_type": "code",
   "execution_count": null,
   "id": "b6c417fb-c522-449c-bc54-f3eb80bd60ae",
   "metadata": {},
   "outputs": [],
   "source": [
    "export_df = adata.obs"
   ]
  },
  {
   "cell_type": "code",
   "execution_count": null,
   "id": "87e97435-4bf8-4a22-b8f5-06b16ce2d0a0",
   "metadata": {
    "tags": []
   },
   "outputs": [],
   "source": [
    "TNM_T = list()\n",
    "for i in export_df['TumorStage']:\n",
    "    if str(i) != 'nan':\n",
    "        rec = str(i).lower().split('pt')[1]\n",
    "    else:\n",
    "        rec = 'N/A'\n",
    "    TNM_T.append(rec)"
   ]
  },
  {
   "cell_type": "code",
   "execution_count": null,
   "id": "334a85f9-1e26-4a80-bef4-3e83914e2cb0",
   "metadata": {
    "tags": []
   },
   "outputs": [],
   "source": [
    "TNM_N = list()\n",
    "for i in export_df['NodeStatus_detailed']:\n",
    "    if str(i) != 'nan':\n",
    "        rec = str(i).split('N')[1]\n",
    "    else:\n",
    "        rec = 'N/A'\n",
    "    TNM_N.append(rec)"
   ]
  },
  {
   "cell_type": "code",
   "execution_count": null,
   "id": "79210938-3c31-4e4f-babe-b8e163872ce4",
   "metadata": {
    "tags": []
   },
   "outputs": [],
   "source": [
    "TNM_M = list()\n",
    "for i in export_df['MetastasisStatus']:\n",
    "    i = str(i)\n",
    "    if i != 'nan':\n",
    "        id = i.index('M')\n",
    "        if i[id+2].isalpha():\n",
    "            rec = i[id+1:id+3]\n",
    "        else:\n",
    "            rec = i[id+1]\n",
    "    else:\n",
    "        rec = 'N/A'\n",
    "    TNM_M.append(rec)"
   ]
  },
  {
   "cell_type": "code",
   "execution_count": null,
   "id": "15ed1956-8ff5-4d61-8cbf-f9d25b206058",
   "metadata": {},
   "outputs": [],
   "source": [
    "adata.obs['patient'] = export_df['PID']\n",
    "adata.obs['gender'] = export_df['Sex']\n",
    "adata.obs['age'] = export_df['Age']\n",
    "adata.obs['tissue'] = export_df['HistologicTypeSimple']\n",
    "adata.obs['site'] = export_df['TissueSite_detailed']\n",
    "adata.obs['TNM_T'] = TNM_T\n",
    "adata.obs['TNM_N'] = TNM_N\n",
    "adata.obs['TNM_M'] = TNM_M"
   ]
  },
  {
   "cell_type": "code",
   "execution_count": null,
   "id": "72bd802d-25dd-4f23-a322-5fc950f55d80",
   "metadata": {},
   "outputs": [],
   "source": [
    "set(adata.obs['site'])"
   ]
  },
  {
   "cell_type": "code",
   "execution_count": null,
   "id": "50b63d01-f71f-4222-89c7-1a01a86e18a6",
   "metadata": {},
   "outputs": [],
   "source": [
    "def convert_tnm_to_stage(t, n, m):\n",
    "    \"\"\"\n",
    "    Convert TNM components to an overall cancer stage.\n",
    "    \n",
    "    Parameters:\n",
    "    t (str): Tumor size and extent (e.g., 'Tis', 'T1', 'T2', 'T3', 'T4').\n",
    "    n (str): Node involvement (e.g., 'N0', 'N1', 'N2', 'N3').\n",
    "    m (str): Metastasis presence (e.g., 'M0', 'M1').\n",
    "    \n",
    "    Returns:\n",
    "    int: Overall cancer stage (0 to IV).\n",
    "    \"\"\"\n",
    "    t = t[0].lower()\n",
    "    n = n[0].lower()\n",
    "    m = m[0].lower()\n",
    "    # Handling metastasis first because it overrides other categories\n",
    "    if m == '1':\n",
    "        return 'IV'\n",
    "    if t.isnumeric()==0 or n.isnumeric()==0:\n",
    "        return 'N/A'\n",
    "    \n",
    "    # Mapping T and N to stages\n",
    "    if t == '0' and n == '0' and m != '1':\n",
    "        return '0'\n",
    "    elif t == '1' and n == '0' and m != '1':\n",
    "        return 'I'\n",
    "    elif (t == '2' and n == '0' and m != '1') or (t == '1' and n == '1' and m != '1'):\n",
    "        return 'II'\n",
    "    elif (t == '2' and n == '1' and m != '1') or (t in ['3'] and n in ['0', '1'] and m != '1'):\n",
    "        return 'III'\n",
    "    \n",
    "    # Default to highest stage if other conditions are not met (typically not used, more complex logic needed in real cases)\n",
    "    return 'IV'"
   ]
  },
  {
   "cell_type": "code",
   "execution_count": null,
   "id": "03f1407c-0d2f-4a8d-9df8-ac2adeb23243",
   "metadata": {},
   "outputs": [],
   "source": [
    "adata.obs['stage'] = 'N/A'\n",
    "for i in range(adata.shape[0]):\n",
    "    adata.obs['stage'][i] = convert_tnm_to_stage(adata.obs['TNM_T'][i], adata.obs['TNM_N'][i], adata.obs['TNM_M'][i])"
   ]
  },
  {
   "cell_type": "code",
   "execution_count": null,
   "id": "af81c3f0-c3de-46f6-9fcf-be31c597b727",
   "metadata": {},
   "outputs": [],
   "source": [
    "adata.obs['gender'] = adata.obs['gender'].replace({'F':'Female','M':'Male'})"
   ]
  },
  {
   "cell_type": "code",
   "execution_count": null,
   "id": "5879a994-5c3e-4579-a046-ccfcfdef9018",
   "metadata": {},
   "outputs": [],
   "source": [
    "sc.pl.tsne(adata,color = ['patient','tissue','gender','age','site','TNM_T','TNM_N','TNM_M','stage'])"
   ]
  },
  {
   "cell_type": "code",
   "execution_count": null,
   "id": "da248cf8-2e86-4562-88e2-f7592c72b94c",
   "metadata": {},
   "outputs": [],
   "source": [
    "sc.pl.tsne(adata, color=['leiden','CD3E','CD3G','CD3D','TRDC','ICOS','CD4','CD8A','CD8B','FOXP3','IFNG','RORC','IL17A','IL17F'], size =30, cmap = my_cmap, legend_loc = 'on data')"
   ]
  },
  {
   "cell_type": "code",
   "execution_count": null,
   "id": "664f57fa-14e5-476f-9d12-b422da9a8c0d",
   "metadata": {
    "tags": []
   },
   "outputs": [],
   "source": [
    "for i, tnmt in enumerate(adata.obs.groupby('patient')['TNM_T'].apply(set)):\n",
    "    pid = adata.obs.groupby('patient')['TNM_T'].apply(set).index[i]\n",
    "    \n",
    "    if 'nan' not in list(i):\n",
    "        adata.obs['TNM_T'][np.array(adata.obs['patient'] == pid) & np.array(adata.obs['tissue'] == 'Normal colon')] = max(list(i))\n",
    "    else if len(list(i)) > 1:\n",
    "        adata.obs['TNM_T'][np.array(adata.obs['patient'] == pid) & np.array(adata.obs['tissue'] == 'Normal colon')] = max(list(set(['nan']) ^ set(i)))"
   ]
  },
  {
   "cell_type": "code",
   "execution_count": null,
   "id": "ca174036-a8ff-4bae-b14c-57748bbfd0f3",
   "metadata": {},
   "outputs": [],
   "source": [
    "adata.write('GSE178341_processed.h5ad')"
   ]
  },
  {
   "cell_type": "code",
   "execution_count": null,
   "id": "002c8fb7-b830-4235-9d2c-8b63a5d2751c",
   "metadata": {},
   "outputs": [],
   "source": [
    "adata = sc.read_h5ad('GSE178341_processed.h5ad')"
   ]
  },
  {
   "cell_type": "code",
   "execution_count": null,
   "id": "05011df0-295c-4974-9737-d778e38432dd",
   "metadata": {},
   "outputs": [],
   "source": [
    "'0','1','28','36','3','5','15','25','11','21','8','16'"
   ]
  },
  {
   "cell_type": "code",
   "execution_count": null,
   "id": "1ec0db62-20c1-4174-a65d-896adb29f0df",
   "metadata": {},
   "outputs": [],
   "source": [
    "potential_17 = adata[adata.obs['leiden'].isin(['0']),:]"
   ]
  },
  {
   "cell_type": "code",
   "execution_count": null,
   "id": "ed83856b-648e-4501-bbe0-d4eeb4cc048f",
   "metadata": {},
   "outputs": [],
   "source": [
    "del potential_17.uns"
   ]
  },
  {
   "cell_type": "code",
   "execution_count": null,
   "id": "3f455335",
   "metadata": {},
   "outputs": [],
   "source": [
    "sc.pp.highly_variable_genes(potential_17, flavor='seurat', n_top_genes=3000)\n",
    "sc.pp.pca(potential_17, n_comps=50, use_highly_variable=True, svd_solver='arpack')"
   ]
  },
  {
   "cell_type": "code",
   "execution_count": null,
   "id": "ea6380c2",
   "metadata": {},
   "outputs": [],
   "source": [
    "sc.pp.neighbors(potential_17, n_neighbors = 15, n_pcs = 50)\n",
    "sc.tl.leiden(potential_17, resolution = 1, key_added= 'leiden')                                                 "
   ]
  },
  {
   "cell_type": "code",
   "execution_count": null,
   "id": "a71612cb",
   "metadata": {},
   "outputs": [],
   "source": [
    "sc.tl.tsne(potential_17)"
   ]
  },
  {
   "cell_type": "code",
   "execution_count": null,
   "id": "383e52e5",
   "metadata": {},
   "outputs": [],
   "source": [
    "%matplotlib inline\n",
    "sc.pl.tsne(potential_17, color=['leiden','RORC','IL17A','IL17F'],size = 40,cmap = my_cmap)"
   ]
  },
  {
   "cell_type": "code",
   "execution_count": null,
   "id": "3100e6f4-2df3-4703-8201-d3877879604c",
   "metadata": {},
   "outputs": [],
   "source": [
    "plt.rcParams['figure.figsize'] = [8,8]\n",
    "sc.tl.leiden(potential_17, restrict_to = ('leiden', ['5']), resolution = 0.6, key_added= 'leiden1')\n",
    "sc.pl.tsne(potential_17, color=['leiden1','RORC','IL17A','IL17F'], size = 20, legend_loc = 'on data', cmap = my_cmap)"
   ]
  },
  {
   "cell_type": "code",
   "execution_count": null,
   "id": "9a11aa56-99db-4ae6-9efa-62f3c8961d63",
   "metadata": {},
   "outputs": [],
   "source": [
    "plt.rcParams['figure.figsize'] = [8,8]\n",
    "sc.tl.leiden(potential_17, restrict_to = ('leiden1', ['10']), resolution = 0.4, key_added= 'leiden2')\n",
    "sc.pl.tsne(potential_17, color=['leiden2','RORC','IL17A','IL17F'], size = 20, legend_loc = 'on data', cmap = my_cmap)"
   ]
  },
  {
   "cell_type": "code",
   "execution_count": null,
   "id": "94663ed8-e707-4b26-8c08-02aa4fc4eca1",
   "metadata": {},
   "outputs": [],
   "source": [
    "plt.rcParams['figure.figsize'] = [8,8]\n",
    "sc.tl.leiden(potential_17, restrict_to = ('leiden2', ['7']), resolution = 0.5, key_added= 'leiden3')\n",
    "sc.pl.tsne(potential_17, color=['leiden3','RORC','IL17A','IL17F'], size = 20, legend_loc = 'on data', cmap = my_cmap)"
   ]
  },
  {
   "cell_type": "code",
   "execution_count": null,
   "id": "f6a45aad-4dcb-4755-afb6-4d033dd155a1",
   "metadata": {},
   "outputs": [],
   "source": [
    "IL17_genesmask = [gene.startswith(\"IL17\") and gene.startswith(\"IL17R\")==0 for gene in potential_17.var_names]\n",
    "IL17_genes = potential_17.var_names[IL17_genesmask]\n",
    "IL17_exp_set ={\n",
    "    'cytokine': IL17_genes, 'TF': 'RORC'\n",
    "}\n",
    "sc.pl.dotplot(potential_17,IL17_exp_set,groupby = 'leiden2' , vmax = 1, swap_axes = False, dot_min =0.1, dot_max =1,standard_scale = 'var')"
   ]
  },
  {
   "cell_type": "code",
   "execution_count": null,
   "id": "86c0ef76-97b1-4d52-8d53-9beaafc7e517",
   "metadata": {},
   "outputs": [],
   "source": [
    "T17_1 = potential_17[potential_17.obs['leiden2'].isin(['6,1','6,4']),:]"
   ]
  },
  {
   "cell_type": "code",
   "execution_count": null,
   "id": "ee09b36c-0079-459c-8842-df8467b7949f",
   "metadata": {},
   "outputs": [],
   "source": [
    "'0','1','28','36','3','5','15','25','11','21','8','16'"
   ]
  },
  {
   "cell_type": "code",
   "execution_count": null,
   "id": "f14e9ee1-4b16-4caf-8a5e-92b59e380f79",
   "metadata": {},
   "outputs": [],
   "source": [
    "potential_17 = adata[adata.obs['leiden'].isin(['1']),:]"
   ]
  },
  {
   "cell_type": "code",
   "execution_count": null,
   "id": "b6da423f-8230-41e1-9299-bc596039ad94",
   "metadata": {},
   "outputs": [],
   "source": [
    "del potential_17.uns"
   ]
  },
  {
   "cell_type": "code",
   "execution_count": null,
   "id": "50122254-89d1-47c4-bd0e-e241ab27e1e3",
   "metadata": {},
   "outputs": [],
   "source": [
    "sc.pp.highly_variable_genes(potential_17, flavor='seurat', n_top_genes=3000)\n",
    "sc.pp.pca(potential_17, n_comps=50, use_highly_variable=True, svd_solver='arpack')"
   ]
  },
  {
   "cell_type": "code",
   "execution_count": null,
   "id": "9dda97de-8325-42e2-9c82-6219f8acb685",
   "metadata": {},
   "outputs": [],
   "source": [
    "sc.pp.neighbors(potential_17, n_neighbors = 15, n_pcs = 50)\n",
    "sc.tl.leiden(potential_17, resolution = 1, key_added= 'leiden')                                                 "
   ]
  },
  {
   "cell_type": "code",
   "execution_count": null,
   "id": "7e5d38a2-859d-43ee-86d2-63c189078642",
   "metadata": {},
   "outputs": [],
   "source": [
    "sc.tl.tsne(potential_17)"
   ]
  },
  {
   "cell_type": "code",
   "execution_count": null,
   "id": "4cd37569-7d77-4520-b49b-a30889b0c42e",
   "metadata": {},
   "outputs": [],
   "source": [
    "%matplotlib inline\n",
    "sc.pl.tsne(potential_17, color=['leiden','RORC','IL17A','IL17F'],size = 40,cmap = my_cmap)"
   ]
  },
  {
   "cell_type": "code",
   "execution_count": null,
   "id": "c6ad70a4-ac2e-4fd9-943c-71405d1eb943",
   "metadata": {},
   "outputs": [],
   "source": [
    "potential_17 = adata[adata.obs['leiden'].isin(['1']),:]"
   ]
  },
  {
   "cell_type": "code",
   "execution_count": null,
   "id": "1a41a98a-1dad-40af-8b72-3bd9b9f26063",
   "metadata": {},
   "outputs": [],
   "source": [
    "sc.pp.neighbors(potential_17, n_pcs = 50)"
   ]
  },
  {
   "cell_type": "code",
   "execution_count": null,
   "id": "6f91a3fd-183b-4a5d-91f7-a99fdee03d6a",
   "metadata": {},
   "outputs": [],
   "source": [
    "sc.pl.pca(potential_17, color=['CD4'], legend_loc = 'on data')"
   ]
  },
  {
   "cell_type": "code",
   "execution_count": null,
   "id": "235e083b-1d0f-4ef0-a2ff-7a7e79cabab0",
   "metadata": {},
   "outputs": [],
   "source": [
    "sc.tl.leiden(potential_17, resolution = 0.8, key_added= 'leiden')                                                 "
   ]
  },
  {
   "cell_type": "code",
   "execution_count": null,
   "id": "8be873d2-8335-4ed1-a0ff-7fa3b494b9e3",
   "metadata": {},
   "outputs": [],
   "source": [
    "%matplotlib inline\n",
    "sc.tl.tsne(potential_17)\n",
    "#plt.close()\n",
    "plt.rcParams['axes.linewidth'] = 2"
   ]
  },
  {
   "cell_type": "code",
   "execution_count": null,
   "id": "6174de6a-8e1e-44bd-8f34-2ab19676793a",
   "metadata": {},
   "outputs": [],
   "source": [
    "sc.pl.tsne(potential_17, color=['leiden','RORC','IL17A','IL17F'], size = 20, cmap = my_cmap)"
   ]
  },
  {
   "cell_type": "code",
   "execution_count": null,
   "id": "d85d2579-4686-4753-9fdc-e30b40da6efa",
   "metadata": {
    "tags": []
   },
   "outputs": [],
   "source": [
    "plt.rcParams['figure.figsize'] = [8,8]\n",
    "sc.tl.leiden(potential_17, restrict_to = ('leiden', ['6']), resolution = 0.5, key_added= 'leiden1')\n",
    "sc.pl.tsne(potential_17, color=['leiden1','RORC','IL17A','IL17F'], size = 20, legend_loc = 'on data', cmap = my_cmap)"
   ]
  },
  {
   "cell_type": "code",
   "execution_count": null,
   "id": "dff33de2-d059-45c9-b0fe-42841b5f6e23",
   "metadata": {
    "tags": []
   },
   "outputs": [],
   "source": [
    "plt.rcParams['figure.figsize'] = [8,8]\n",
    "sc.tl.leiden(potential_17, restrict_to = ('leiden1', ['1']), resolution = 0.5, key_added= 'leiden2')\n",
    "sc.pl.tsne(potential_17, color=['leiden2','RORC','IL17A','IL17F'], size = 20, legend_loc = 'on data', cmap = my_cmap)"
   ]
  },
  {
   "cell_type": "code",
   "execution_count": null,
   "id": "2bddb826-468f-40de-8935-601d67d424ad",
   "metadata": {
    "tags": []
   },
   "outputs": [],
   "source": [
    "plt.rcParams['figure.figsize'] = [8,8]\n",
    "sc.tl.leiden(potential_17, restrict_to = ('leiden2', ['7']), resolution = 0.5, key_added= 'leiden3')\n",
    "sc.pl.tsne(potential_17, color=['leiden3','RORC','IL17A','IL17F'], size = 20, legend_loc = 'on data', cmap = my_cmap)"
   ]
  },
  {
   "cell_type": "code",
   "execution_count": null,
   "id": "e967d72a-e45a-4b2a-a6c0-430ce4dbd24f",
   "metadata": {},
   "outputs": [],
   "source": [
    "IL17_genesmask = [gene.startswith(\"IL17\") and gene.startswith(\"IL17R\")==0 for gene in potential_17.var_names]\n",
    "IL17_genes = potential_17.var_names[IL17_genesmask]\n",
    "IL17_exp_set ={\n",
    "    'cytokine': IL17_genes, 'TF': 'RORC'\n",
    "}\n",
    "sc.pl.dotplot(potential_17,IL17_exp_set,groupby = 'leiden' , vmax = 1, swap_axes = False, dot_min =0.1, dot_max =1,standard_scale = 'var')"
   ]
  },
  {
   "cell_type": "code",
   "execution_count": null,
   "id": "304b71d4-f3ae-4eb4-9056-0d8cfb4fa20e",
   "metadata": {},
   "outputs": [],
   "source": [
    "T17_2 = potential_17[potential_17.obs['leiden'].isin(['6','10']),:]"
   ]
  },
  {
   "cell_type": "code",
   "execution_count": null,
   "id": "219b628d-2945-432f-8941-781343a39b30",
   "metadata": {},
   "outputs": [],
   "source": [
    "'28','36','5','15','25','11','21','8','16'"
   ]
  },
  {
   "cell_type": "code",
   "execution_count": null,
   "id": "621cc64c-0b2e-4a46-a9ef-4f45c1e4f448",
   "metadata": {},
   "outputs": [],
   "source": [
    "potential_17 = adata[adata.obs['leiden'].isin(['3']),:]"
   ]
  },
  {
   "cell_type": "code",
   "execution_count": null,
   "id": "c82abc74-e81f-4b72-8881-56657e9b46fd",
   "metadata": {},
   "outputs": [],
   "source": [
    "sc.pp.neighbors(potential_17, n_pcs = 50)"
   ]
  },
  {
   "cell_type": "code",
   "execution_count": null,
   "id": "29e692ed-2be1-4d64-8b1c-a3f1b7b244ef",
   "metadata": {},
   "outputs": [],
   "source": [
    "sc.pl.pca(potential_17, color=['CD4'], legend_loc = 'on data')"
   ]
  },
  {
   "cell_type": "code",
   "execution_count": null,
   "id": "49b92659-6bbf-4faa-adc2-f9f0220fe3d9",
   "metadata": {},
   "outputs": [],
   "source": [
    "sc.tl.leiden(potential_17, resolution = 0.8, key_added= 'leiden')                                                 "
   ]
  },
  {
   "cell_type": "code",
   "execution_count": null,
   "id": "2d099ec5-a406-4c2c-8ad8-c3830a6ad13f",
   "metadata": {},
   "outputs": [],
   "source": [
    "%matplotlib inline\n",
    "sc.tl.tsne(potential_17)\n",
    "#plt.close()\n",
    "plt.rcParams['axes.linewidth'] = 2"
   ]
  },
  {
   "cell_type": "code",
   "execution_count": null,
   "id": "463c4fb2-b429-49f1-9376-d80ec6493cc0",
   "metadata": {},
   "outputs": [],
   "source": [
    "sc.pl.tsne(potential_17, color=['leiden','RORC','IL17A','IL17F'], size = 20, cmap = my_cmap)"
   ]
  },
  {
   "cell_type": "code",
   "execution_count": null,
   "id": "a8cb03d2-376e-44d0-99ea-1ca45f3b214a",
   "metadata": {},
   "outputs": [],
   "source": [
    "plt.rcParams['figure.figsize'] = [8,8]\n",
    "sc.tl.leiden(potential_17, restrict_to = ('leiden', ['13']), resolution = 0.3, key_added= 'leiden1')\n",
    "sc.pl.tsne(potential_17, color=['leiden1','RORC','IL17A','IL17F'], size = 20, legend_loc = 'on data', cmap = my_cmap)"
   ]
  },
  {
   "cell_type": "code",
   "execution_count": null,
   "id": "ffe5a8cc-7cba-402e-9e9c-6326856cddea",
   "metadata": {},
   "outputs": [],
   "source": [
    "plt.rcParams['figure.figsize'] = [8,8]\n",
    "sc.tl.leiden(potential_17, restrict_to = ('leiden1', ['6']), resolution = 0.6, key_added= 'leiden2')\n",
    "sc.pl.tsne(potential_17, color=['leiden2','RORC','IL17A','IL17F'], size = 20, legend_loc = 'on data', cmap = my_cmap)"
   ]
  },
  {
   "cell_type": "code",
   "execution_count": null,
   "id": "a249daf0-43b5-43dc-af1c-58ff512e4c4a",
   "metadata": {},
   "outputs": [],
   "source": [
    "IL17_genesmask = [gene.startswith(\"IL17\") and gene.startswith(\"IL17R\")==0 for gene in potential_17.var_names]\n",
    "IL17_genes = potential_17.var_names[IL17_genesmask]\n",
    "IL17_exp_set ={\n",
    "    'cytokine': IL17_genes, 'TF': 'RORC'\n",
    "}\n",
    "sc.pl.dotplot(potential_17,IL17_exp_set,groupby = 'leiden1' , vmax = 1, swap_axes = False, dot_min =0.1, dot_max =1,standard_scale = 'var')"
   ]
  },
  {
   "cell_type": "code",
   "execution_count": null,
   "id": "29390998-7023-4c77-b8a1-46429cd1b1c6",
   "metadata": {},
   "outputs": [],
   "source": [
    "T17_3 = potential_17[potential_17.obs['leiden2'].isin(['5','13,1','16','17']),:]"
   ]
  },
  {
   "cell_type": "code",
   "execution_count": null,
   "id": "4ce8a6ef-59bb-4af2-a777-223fcee06cec",
   "metadata": {},
   "outputs": [],
   "source": [
    "'5','15','25','11','21','8','16'"
   ]
  },
  {
   "cell_type": "code",
   "execution_count": null,
   "id": "18316bc0-8eb5-47d9-b0bf-6e7869da7520",
   "metadata": {},
   "outputs": [],
   "source": [
    "potential_17 = adata[adata.obs['leiden'].isin(['28','36']),:]"
   ]
  },
  {
   "cell_type": "code",
   "execution_count": null,
   "id": "cf0b9b5f-8269-4370-8978-5b116b52f36c",
   "metadata": {},
   "outputs": [],
   "source": [
    "sc.pp.neighbors(potential_17, n_pcs = 50)"
   ]
  },
  {
   "cell_type": "code",
   "execution_count": null,
   "id": "73143b87-1513-43bd-a28e-d8216e9b6449",
   "metadata": {},
   "outputs": [],
   "source": [
    "sc.pl.pca(potential_17, color=['CD4'], legend_loc = 'on data')"
   ]
  },
  {
   "cell_type": "code",
   "execution_count": null,
   "id": "24128b24-f40d-4c1a-8020-1a7b41d1038c",
   "metadata": {},
   "outputs": [],
   "source": [
    "sc.tl.leiden(potential_17, resolution = 0.8, key_added= 'leiden')                                                 "
   ]
  },
  {
   "cell_type": "code",
   "execution_count": null,
   "id": "60af2ae6-e8f1-4df0-8527-5d75c3c1308d",
   "metadata": {},
   "outputs": [],
   "source": [
    "%matplotlib inline\n",
    "sc.tl.tsne(potential_17)\n",
    "#plt.close()\n",
    "plt.rcParams['axes.linewidth'] = 2"
   ]
  },
  {
   "cell_type": "code",
   "execution_count": null,
   "id": "da5a6930-5929-4396-b156-9e25388d0381",
   "metadata": {},
   "outputs": [],
   "source": [
    "sc.pl.tsne(potential_17, color=['leiden','RORC','IL17A','IL17F'], size = 50, cmap = my_cmap)"
   ]
  },
  {
   "cell_type": "code",
   "execution_count": null,
   "id": "3ae55a81-59f5-4657-bbc6-9bee52346197",
   "metadata": {},
   "outputs": [],
   "source": [
    "plt.rcParams['figure.figsize'] = [8,8]\n",
    "sc.tl.leiden(potential_17, restrict_to = ('leiden', ['1']), resolution = 0.5, key_added= 'leiden1')\n",
    "sc.pl.tsne(potential_17, color=['leiden1','RORC','IL17A','IL17F'], size = 20, legend_loc = 'on data', cmap = my_cmap)"
   ]
  },
  {
   "cell_type": "code",
   "execution_count": null,
   "id": "4f44aeca-d289-4961-9487-036ea34fcb9b",
   "metadata": {
    "tags": []
   },
   "outputs": [],
   "source": [
    "plt.rcParams['figure.figsize'] = [8,8]\n",
    "sc.tl.leiden(potential_17, restrict_to = ('leiden1', ['6']), resolution = 0.6, key_added= 'leiden2')\n",
    "sc.pl.tsne(potential_17, color=['leiden2','RORC','IL17A','IL17F'], size = 20, legend_loc = 'on data', cmap = my_cmap)"
   ]
  },
  {
   "cell_type": "code",
   "execution_count": null,
   "id": "cf038123-b477-4214-a8ab-8bf03b61ff11",
   "metadata": {},
   "outputs": [],
   "source": [
    "IL17_genesmask = [gene.startswith(\"IL17\") and gene.startswith(\"IL17R\")==0 for gene in potential_17.var_names]\n",
    "IL17_genes = potential_17.var_names[IL17_genesmask]\n",
    "IL17_exp_set ={\n",
    "    'cytokine': IL17_genes, 'TF': 'RORC'\n",
    "}\n",
    "sc.pl.dotplot(potential_17,IL17_exp_set,groupby = 'leiden1' , vmax = 1, swap_axes = False, dot_min =0.1, dot_max =1,standard_scale = 'var')"
   ]
  },
  {
   "cell_type": "code",
   "execution_count": null,
   "id": "d5d6040e-a000-449b-aed8-dd20db05de26",
   "metadata": {},
   "outputs": [],
   "source": [
    "T17_4 = potential_17[potential_17.obs['leiden1'].isin(['1,2']),:]"
   ]
  },
  {
   "cell_type": "code",
   "execution_count": null,
   "id": "f3c0fee4-6571-4819-b953-6c1fb9acc825",
   "metadata": {},
   "outputs": [],
   "source": [
    "'5','15','25','11','21','16'"
   ]
  },
  {
   "cell_type": "code",
   "execution_count": null,
   "id": "3690c077-5b7a-4302-b8be-0892d73695c0",
   "metadata": {},
   "outputs": [],
   "source": [
    "potential_17 = adata[adata.obs['leiden'].isin(['8']),:]"
   ]
  },
  {
   "cell_type": "code",
   "execution_count": null,
   "id": "bb10e8f7-6e6b-4047-87fb-4f62cc11e548",
   "metadata": {},
   "outputs": [],
   "source": [
    "del potential_17.uns"
   ]
  },
  {
   "cell_type": "code",
   "execution_count": null,
   "id": "79c87fd1-69d8-4312-9df4-1d31f141cc26",
   "metadata": {},
   "outputs": [],
   "source": [
    "sc.pp.highly_variable_genes(potential_17, flavor='seurat', n_top_genes=3000)\n",
    "sc.pp.pca(potential_17, n_comps=50, use_highly_variable=True, svd_solver='arpack')"
   ]
  },
  {
   "cell_type": "code",
   "execution_count": null,
   "id": "a2c13f31-57fa-43aa-9618-c2e2c80e1cc4",
   "metadata": {},
   "outputs": [],
   "source": [
    "sc.pp.neighbors(potential_17, n_neighbors = 15, n_pcs = 50)\n",
    "sc.tl.leiden(potential_17, resolution = 1, key_added= 'leiden')                                                 "
   ]
  },
  {
   "cell_type": "code",
   "execution_count": null,
   "id": "79a53945-e9f1-4b2d-89d9-7bdf2b120df5",
   "metadata": {},
   "outputs": [],
   "source": [
    "sc.tl.tsne(potential_17)"
   ]
  },
  {
   "cell_type": "code",
   "execution_count": null,
   "id": "84727733-0e1c-4735-8b5c-be20cf967347",
   "metadata": {},
   "outputs": [],
   "source": [
    "%matplotlib inline\n",
    "sc.pl.tsne(potential_17, color=['leiden','RORC','IL17A','IL17F'],size = 40,cmap = my_cmap)"
   ]
  },
  {
   "cell_type": "code",
   "execution_count": null,
   "id": "566202f5-c7d6-4142-baf2-cd4aa53ea83b",
   "metadata": {},
   "outputs": [],
   "source": [
    "potential_17 = adata[adata.obs['leiden'].isin(['8']),:]"
   ]
  },
  {
   "cell_type": "code",
   "execution_count": null,
   "id": "a1c8153c-0664-48f4-b1ee-6ee679435d5b",
   "metadata": {},
   "outputs": [],
   "source": [
    "sc.pp.neighbors(potential_17, n_pcs = 50)"
   ]
  },
  {
   "cell_type": "code",
   "execution_count": null,
   "id": "c007f19c-cf89-4fa0-9224-fcc3cba7da89",
   "metadata": {},
   "outputs": [],
   "source": [
    "sc.pl.pca(potential_17, color=['CD4'], legend_loc = 'on data')"
   ]
  },
  {
   "cell_type": "code",
   "execution_count": null,
   "id": "98c77b8e-abb9-4db8-862f-be4999fc9734",
   "metadata": {},
   "outputs": [],
   "source": [
    "sc.tl.leiden(potential_17, resolution = 0.8, key_added= 'leiden')                                                 "
   ]
  },
  {
   "cell_type": "code",
   "execution_count": null,
   "id": "c214a08a-559b-467b-972b-28d2eb91ef00",
   "metadata": {},
   "outputs": [],
   "source": [
    "%matplotlib inline\n",
    "sc.tl.tsne(potential_17)\n",
    "#plt.close()\n",
    "plt.rcParams['axes.linewidth'] = 2"
   ]
  },
  {
   "cell_type": "code",
   "execution_count": null,
   "id": "6040d72e-52cb-441d-81ce-4b2ee2b11f22",
   "metadata": {},
   "outputs": [],
   "source": [
    "sc.pl.tsne(potential_17, color=['leiden','RORC','IL17A','IL17F'], size = 40, cmap = my_cmap)"
   ]
  },
  {
   "cell_type": "code",
   "execution_count": null,
   "id": "6e1add97-96b8-472a-8889-b6e0607439aa",
   "metadata": {
    "tags": []
   },
   "outputs": [],
   "source": [
    "plt.rcParams['figure.figsize'] = [8,8]\n",
    "sc.tl.leiden(potential_17, restrict_to = ('leiden', ['4']), resolution = 0.3, key_added= 'leiden1')\n",
    "sc.pl.tsne(potential_17, color=['leiden1','RORC','IL17A','IL17F'], size = 20, legend_loc = 'on data', cmap = my_cmap)"
   ]
  },
  {
   "cell_type": "code",
   "execution_count": null,
   "id": "8c41b23c-ccc9-4b9e-b121-defedcea7b6c",
   "metadata": {
    "tags": []
   },
   "outputs": [],
   "source": [
    "plt.rcParams['figure.figsize'] = [8,8]\n",
    "sc.tl.leiden(potential_17, restrict_to = ('leiden1', ['6']), resolution = 0.6, key_added= 'leiden2')\n",
    "sc.pl.tsne(potential_17, color=['leiden2','RORC','IL17A','IL17F'], size = 20, legend_loc = 'on data', cmap = my_cmap)"
   ]
  },
  {
   "cell_type": "code",
   "execution_count": null,
   "id": "bf43ec3d-605a-44f3-9585-264f3338c77f",
   "metadata": {},
   "outputs": [],
   "source": [
    "IL17_genesmask = [gene.startswith(\"IL17\") and gene.startswith(\"IL17R\")==0 for gene in potential_17.var_names]\n",
    "IL17_genes = potential_17.var_names[IL17_genesmask]\n",
    "IL17_exp_set ={\n",
    "    'cytokine': IL17_genes, 'TF': 'RORC'\n",
    "}\n",
    "sc.pl.dotplot(potential_17,IL17_exp_set,groupby = 'leiden1' , vmax = 1, swap_axes = False, dot_min =0.1, dot_max =1,standard_scale = 'var')"
   ]
  },
  {
   "cell_type": "code",
   "execution_count": null,
   "id": "0e288309-82b0-4dff-be2c-f80dc2d598c0",
   "metadata": {},
   "outputs": [],
   "source": [
    "T17_5 = potential_17[potential_17.obs['leiden1'].isin(['4,0','6']),:]"
   ]
  },
  {
   "cell_type": "code",
   "execution_count": null,
   "id": "a97c809a-c60a-48a6-ba48-284b4b191bc0",
   "metadata": {},
   "outputs": [],
   "source": []
  },
  {
   "cell_type": "code",
   "execution_count": null,
   "id": "279d15ad-f0e3-42c3-bb41-8e689b87c83e",
   "metadata": {},
   "outputs": [],
   "source": []
  },
  {
   "cell_type": "code",
   "execution_count": null,
   "id": "2084aa40-efef-4ec9-80a7-47f6d28ba576",
   "metadata": {},
   "outputs": [],
   "source": [
    "potential_17 = adata[adata.obs['leiden'].isin(['27']),:]"
   ]
  },
  {
   "cell_type": "code",
   "execution_count": null,
   "id": "44bc15e3-620b-4f6f-ba18-7255944f3f44",
   "metadata": {},
   "outputs": [],
   "source": [
    "del potential_17.uns"
   ]
  },
  {
   "cell_type": "code",
   "execution_count": null,
   "id": "df5b2164-ac88-4c06-9bb1-40c1c5aaaf5f",
   "metadata": {},
   "outputs": [],
   "source": [
    "sc.pp.highly_variable_genes(potential_17, flavor='seurat', n_top_genes=3000)\n",
    "sc.pp.pca(potential_17, n_comps=50, use_highly_variable=True, svd_solver='arpack')"
   ]
  },
  {
   "cell_type": "code",
   "execution_count": null,
   "id": "6ddab3b6-4cf5-4661-97f6-dc97b8995e2e",
   "metadata": {},
   "outputs": [],
   "source": [
    "sc.pp.neighbors(potential_17, n_neighbors = 15, n_pcs = 50)\n",
    "sc.tl.leiden(potential_17, resolution = 1, key_added= 'leiden')                                                 "
   ]
  },
  {
   "cell_type": "code",
   "execution_count": null,
   "id": "a225cc78-9b37-43d1-99c3-3e411b56dda5",
   "metadata": {},
   "outputs": [],
   "source": [
    "sc.tl.tsne(potential_17)"
   ]
  },
  {
   "cell_type": "code",
   "execution_count": null,
   "id": "47eb6d44-d8e1-4990-b322-b7ef2a2846c2",
   "metadata": {},
   "outputs": [],
   "source": [
    "%matplotlib inline\n",
    "sc.pl.tsne(potential_17, color=['leiden','RORC','IL17A','IL17F'],size = 40,cmap = my_cmap)"
   ]
  },
  {
   "cell_type": "code",
   "execution_count": null,
   "id": "9b4b4af7-009c-47c6-bc3b-f57ef784859b",
   "metadata": {},
   "outputs": [],
   "source": [
    "potential_17 = adata[adata.obs['leiden'].isin(['27']),:]"
   ]
  },
  {
   "cell_type": "code",
   "execution_count": null,
   "id": "5b2a5727-c0c8-48d7-97f8-118d01eacd57",
   "metadata": {},
   "outputs": [],
   "source": [
    "sc.pp.neighbors(potential_17, n_pcs = 50)"
   ]
  },
  {
   "cell_type": "code",
   "execution_count": null,
   "id": "157f0f05-5258-48e0-9918-6d47b032b2dc",
   "metadata": {},
   "outputs": [],
   "source": [
    "sc.pl.pca(potential_17, color=['CD4'], legend_loc = 'on data')"
   ]
  },
  {
   "cell_type": "code",
   "execution_count": null,
   "id": "bc948097-8702-4478-93a4-09242383a132",
   "metadata": {},
   "outputs": [],
   "source": [
    "sc.tl.leiden(potential_17, resolution = 0.8, key_added= 'leiden')                                                 "
   ]
  },
  {
   "cell_type": "code",
   "execution_count": null,
   "id": "394b0995-9d6c-4827-977f-3ef1f619f671",
   "metadata": {},
   "outputs": [],
   "source": [
    "%matplotlib inline\n",
    "sc.tl.tsne(potential_17)\n",
    "#plt.close()\n",
    "plt.rcParams['axes.linewidth'] = 2"
   ]
  },
  {
   "cell_type": "code",
   "execution_count": null,
   "id": "7580143b-1b00-4003-92fc-bf3d92e2dc53",
   "metadata": {},
   "outputs": [],
   "source": [
    "sc.pl.tsne(potential_17, color=['leiden','RORC','IL17A','IL17F'], size = 40, cmap = my_cmap)"
   ]
  },
  {
   "cell_type": "code",
   "execution_count": null,
   "id": "906a5d43-1e39-4cbf-ae08-4b5f99a29e2e",
   "metadata": {},
   "outputs": [],
   "source": [
    "IL17_genesmask = [gene.startswith(\"IL17\") and gene.startswith(\"IL17R\")==0 for gene in potential_17.var_names]\n",
    "IL17_genes = potential_17.var_names[IL17_genesmask]\n",
    "IL17_exp_set ={\n",
    "    'cytokine': IL17_genes, 'TF': 'RORC'\n",
    "}\n",
    "sc.pl.dotplot(potential_17,IL17_exp_set,groupby = 'leiden' , swap_axes = False, dot_min =0.1, dot_max =1,standard_scale = 'var')"
   ]
  },
  {
   "cell_type": "code",
   "execution_count": null,
   "id": "fe9ac8d9-929e-4d08-bb90-4904980409ba",
   "metadata": {},
   "outputs": [],
   "source": [
    "T17_10 = potential_17[potential_17.obs['leiden'].isin(['1','2','3','4','5','6','8']),:]"
   ]
  },
  {
   "cell_type": "code",
   "execution_count": null,
   "id": "92880dc9-6211-455c-8a6f-e953d3541510",
   "metadata": {},
   "outputs": [],
   "source": []
  },
  {
   "cell_type": "code",
   "execution_count": null,
   "id": "05c061d5-39be-4050-85d3-9bd21930b4f9",
   "metadata": {},
   "outputs": [],
   "source": []
  },
  {
   "cell_type": "code",
   "execution_count": null,
   "id": "9242b259-4ee5-4edf-ad6c-56c33e5b998f",
   "metadata": {},
   "outputs": [],
   "source": [
    "potential_17 = adata[adata.obs['leiden'].isin(['38']),:]"
   ]
  },
  {
   "cell_type": "code",
   "execution_count": null,
   "id": "3eb76797-3172-4262-b922-77a8383120b2",
   "metadata": {},
   "outputs": [],
   "source": [
    "sc.pp.neighbors(potential_17, n_pcs = 50)"
   ]
  },
  {
   "cell_type": "code",
   "execution_count": null,
   "id": "61a1fb58-bd7d-4c90-8e21-67a87357cb4e",
   "metadata": {},
   "outputs": [],
   "source": [
    "sc.pl.pca(potential_17, color=['CD4'], legend_loc = 'on data')"
   ]
  },
  {
   "cell_type": "code",
   "execution_count": null,
   "id": "46376869-b4d7-451d-8f7e-3ef291ca616f",
   "metadata": {},
   "outputs": [],
   "source": [
    "sc.tl.leiden(potential_17, resolution = 0.8, key_added= 'leiden')                                                 "
   ]
  },
  {
   "cell_type": "code",
   "execution_count": null,
   "id": "76ff2499-d6ad-4ee1-9761-1b7689c8403b",
   "metadata": {},
   "outputs": [],
   "source": [
    "%matplotlib inline\n",
    "sc.tl.tsne(potential_17)\n",
    "#plt.close()\n",
    "plt.rcParams['axes.linewidth'] = 2"
   ]
  },
  {
   "cell_type": "code",
   "execution_count": null,
   "id": "d5b53058-a82e-40c2-9e81-89569d67690f",
   "metadata": {},
   "outputs": [],
   "source": [
    "sc.pl.tsne(potential_17, color=['leiden','RORC','IL17A','IL17F'], size = 80, cmap = my_cmap)"
   ]
  },
  {
   "cell_type": "code",
   "execution_count": null,
   "id": "3adff3dd-f104-4429-ac92-ad725d86be85",
   "metadata": {},
   "outputs": [],
   "source": [
    "IL17_genesmask = [gene.startswith(\"IL17\") and gene.startswith(\"IL17R\")==0 for gene in potential_17.var_names]\n",
    "IL17_genes = potential_17.var_names[IL17_genesmask]\n",
    "IL17_exp_set ={\n",
    "    'cytokine': IL17_genes, 'TF': 'RORC'\n",
    "}\n",
    "sc.pl.dotplot(potential_17,IL17_exp_set,groupby = 'leiden' , vmax = 1, swap_axes = False, dot_min =0.1, dot_max =1,standard_scale = 'var')"
   ]
  },
  {
   "cell_type": "code",
   "execution_count": null,
   "id": "e7343ba7-5ae0-44e7-8b04-cfab3e9efbe2",
   "metadata": {},
   "outputs": [],
   "source": [
    "T17_8 = adata[adata.obs['leiden'].isin(['38']),:]"
   ]
  },
  {
   "cell_type": "code",
   "execution_count": null,
   "id": "feb0a6c2-9b9f-4dc8-9d98-2bd7aa4530ce",
   "metadata": {},
   "outputs": [],
   "source": []
  },
  {
   "cell_type": "code",
   "execution_count": null,
   "id": "55b41482-137e-40f8-8d56-fb1e2488b089",
   "metadata": {},
   "outputs": [],
   "source": [
    "potential_17 = adata[adata.obs['leiden'].isin(['43']),:]"
   ]
  },
  {
   "cell_type": "code",
   "execution_count": null,
   "id": "eb0e3e07-fa95-4e60-8d56-2b86e0044eec",
   "metadata": {},
   "outputs": [],
   "source": [
    "sc.pp.neighbors(potential_17, n_pcs = 50)"
   ]
  },
  {
   "cell_type": "code",
   "execution_count": null,
   "id": "90d16e30-b488-43d6-b11b-3a2ad9427965",
   "metadata": {},
   "outputs": [],
   "source": [
    "sc.pl.pca(potential_17, color=['CD4'], legend_loc = 'on data')"
   ]
  },
  {
   "cell_type": "code",
   "execution_count": null,
   "id": "348bf17a-347e-4ed7-9f4f-3281e60b26ba",
   "metadata": {},
   "outputs": [],
   "source": [
    "sc.tl.leiden(potential_17, resolution = 0.8, key_added= 'leiden')                                                 "
   ]
  },
  {
   "cell_type": "code",
   "execution_count": null,
   "id": "aba66ae5-e7d9-4d51-8d79-026f867be323",
   "metadata": {},
   "outputs": [],
   "source": [
    "%matplotlib inline\n",
    "sc.tl.tsne(potential_17)\n",
    "#plt.close()\n",
    "plt.rcParams['axes.linewidth'] = 2"
   ]
  },
  {
   "cell_type": "code",
   "execution_count": null,
   "id": "1fbdc4c8-1ea7-4947-903a-ddd8df446bdc",
   "metadata": {},
   "outputs": [],
   "source": [
    "sc.pl.tsne(potential_17, color=['leiden','RORC','IL17A','IL17F'], size = 70, cmap = my_cmap)"
   ]
  },
  {
   "cell_type": "code",
   "execution_count": null,
   "id": "494c334a-c39a-4da9-98a1-1302c9456299",
   "metadata": {},
   "outputs": [],
   "source": [
    "IL17_genesmask = [gene.startswith(\"IL17\") and gene.startswith(\"IL17R\")==0 for gene in potential_17.var_names]\n",
    "IL17_genes = potential_17.var_names[IL17_genesmask]\n",
    "IL17_exp_set ={\n",
    "    'cytokine': IL17_genes, 'TF': 'RORC'\n",
    "}\n",
    "sc.pl.dotplot(potential_17,IL17_exp_set,groupby = 'leiden' , swap_axes = False, dot_min =0.1, dot_max =1,standard_scale = 'var')"
   ]
  },
  {
   "cell_type": "code",
   "execution_count": null,
   "id": "8034ddee-0291-4169-8e83-5499af099842",
   "metadata": {},
   "outputs": [],
   "source": [
    "T17_9 = potential_17[potential_17.obs['leiden'].isin(['0','1','3','4','5','6']),:]"
   ]
  },
  {
   "cell_type": "code",
   "execution_count": null,
   "id": "23b1067a-ed35-49b6-99f9-bdccb9778e1d",
   "metadata": {},
   "outputs": [],
   "source": []
  },
  {
   "cell_type": "code",
   "execution_count": null,
   "id": "afe43f2a-55c3-46c5-a253-94ab7bc0bd08",
   "metadata": {},
   "outputs": [],
   "source": []
  },
  {
   "cell_type": "code",
   "execution_count": null,
   "id": "e105b812-4af6-4d28-bd68-09c1ff558ea6",
   "metadata": {},
   "outputs": [],
   "source": [
    "potential_17 = adata[adata.obs['leiden'].isin(['40']),:]"
   ]
  },
  {
   "cell_type": "code",
   "execution_count": null,
   "id": "d31bc4ea-20fd-42c9-bb73-442cb6c5be8d",
   "metadata": {},
   "outputs": [],
   "source": [
    "sc.pp.neighbors(potential_17, n_pcs = 50)"
   ]
  },
  {
   "cell_type": "code",
   "execution_count": null,
   "id": "d708de1b-38c5-4fae-aac7-6a902e8a7005",
   "metadata": {},
   "outputs": [],
   "source": [
    "sc.pl.pca(potential_17, color=['CD4'], legend_loc = 'on data')"
   ]
  },
  {
   "cell_type": "code",
   "execution_count": null,
   "id": "80b625da-da6d-4bf9-913e-32554100cfd2",
   "metadata": {},
   "outputs": [],
   "source": [
    "sc.tl.leiden(potential_17, resolution = 0.8, key_added= 'leiden')                                                 "
   ]
  },
  {
   "cell_type": "code",
   "execution_count": null,
   "id": "20a64819-f127-405a-8d50-de424328c36f",
   "metadata": {},
   "outputs": [],
   "source": [
    "%matplotlib inline\n",
    "sc.tl.tsne(potential_17)\n",
    "#plt.close()\n",
    "plt.rcParams['axes.linewidth'] = 2"
   ]
  },
  {
   "cell_type": "code",
   "execution_count": null,
   "id": "bba21a84-b4f2-4bbc-a18a-a7c320842b68",
   "metadata": {},
   "outputs": [],
   "source": [
    "sc.pl.tsne(potential_17, color=['leiden','RORC','IL17A','IL17F'], size = 40, cmap = my_cmap)"
   ]
  },
  {
   "cell_type": "code",
   "execution_count": null,
   "id": "47fae29c-8667-4de7-824a-5a54ff50c7ae",
   "metadata": {},
   "outputs": [],
   "source": [
    "IL17_genesmask = [gene.startswith(\"IL17\") and gene.startswith(\"IL17R\")==0 for gene in potential_17.var_names]\n",
    "IL17_genes = potential_17.var_names[IL17_genesmask]\n",
    "IL17_exp_set ={\n",
    "    'cytokine': IL17_genes, 'TF': 'RORC'\n",
    "}\n",
    "sc.pl.dotplot(potential_17,IL17_exp_set,groupby = 'leiden' , swap_axes = False, dot_min =0.1, dot_max =1,standard_scale = 'var')"
   ]
  },
  {
   "cell_type": "code",
   "execution_count": null,
   "id": "8bde7e69-5956-470d-9bb2-fbf30789aa69",
   "metadata": {},
   "outputs": [],
   "source": [
    "T17_7 = potential_17[potential_17.obs['leiden'].isin(['0','1','2','3','4','5']),:]"
   ]
  },
  {
   "cell_type": "code",
   "execution_count": null,
   "id": "61e64252-b8b1-4991-adbd-21f63ede438f",
   "metadata": {},
   "outputs": [],
   "source": []
  },
  {
   "cell_type": "code",
   "execution_count": null,
   "id": "665443db-5c72-401a-a5bf-297d44fe528a",
   "metadata": {},
   "outputs": [],
   "source": [
    "potential_17 = adata[adata.obs['leiden'].isin(['5','15','25','11','16']),:]"
   ]
  },
  {
   "cell_type": "code",
   "execution_count": null,
   "id": "25c7214e-f990-47ac-a656-b9cd511fd333",
   "metadata": {},
   "outputs": [],
   "source": [
    "sc.pp.neighbors(potential_17, n_pcs = 50)"
   ]
  },
  {
   "cell_type": "code",
   "execution_count": null,
   "id": "58cdadb1-0404-4a14-b2a1-7ffc9c7c1914",
   "metadata": {},
   "outputs": [],
   "source": [
    "sc.pl.pca(potential_17, color=['CD4'], legend_loc = 'on data')"
   ]
  },
  {
   "cell_type": "code",
   "execution_count": null,
   "id": "00b42b71-5a45-4dcf-8607-5ad9d2dd1f45",
   "metadata": {},
   "outputs": [],
   "source": [
    "sc.tl.leiden(potential_17, resolution = 0.8, key_added= 'leiden')                                                 "
   ]
  },
  {
   "cell_type": "code",
   "execution_count": null,
   "id": "7f32d5e4-d228-4f50-bd0c-6006f580a505",
   "metadata": {},
   "outputs": [],
   "source": [
    "%matplotlib inline\n",
    "sc.tl.tsne(potential_17)\n",
    "#plt.close()\n",
    "plt.rcParams['axes.linewidth'] = 2"
   ]
  },
  {
   "cell_type": "code",
   "execution_count": null,
   "id": "e6244127-c397-4303-9007-b15a8fc51100",
   "metadata": {},
   "outputs": [],
   "source": [
    "sc.pl.tsne(potential_17, color=['leiden','RORC','IL17A','IL17F'], size = 30, cmap = my_cmap)"
   ]
  },
  {
   "cell_type": "code",
   "execution_count": null,
   "id": "39e65caa-1074-4040-a68d-fed92a476351",
   "metadata": {
    "tags": []
   },
   "outputs": [],
   "source": [
    "plt.rcParams['figure.figsize'] = [8,8]\n",
    "sc.tl.leiden(potential_17, restrict_to = ('leiden', ['9']), resolution = 0.3, key_added= 'leiden1')\n",
    "sc.pl.tsne(potential_17, color=['leiden1','RORC','IL17A','IL17F'], size = 20, legend_loc = 'on data', cmap = my_cmap)"
   ]
  },
  {
   "cell_type": "code",
   "execution_count": null,
   "id": "382b8754-e84d-4868-b761-48a9c93729a9",
   "metadata": {
    "tags": []
   },
   "outputs": [],
   "source": [
    "plt.rcParams['figure.figsize'] = [8,8]\n",
    "sc.tl.leiden(potential_17, restrict_to = ('leiden1', ['4']), resolution = 0.6, key_added= 'leiden2')\n",
    "sc.pl.tsne(potential_17, color=['leiden2','RORC','IL17A','IL17F'], size = 20, legend_loc = 'on data', cmap = my_cmap)"
   ]
  },
  {
   "cell_type": "code",
   "execution_count": null,
   "id": "9a3d9ac6-0839-4c28-9043-8a4ad7b856cb",
   "metadata": {
    "tags": []
   },
   "outputs": [],
   "source": [
    "plt.rcParams['figure.figsize'] = [8,8]\n",
    "sc.tl.leiden(potential_17, restrict_to = ('leiden2', ['6']), resolution = 0.6, key_added= 'leiden3')\n",
    "sc.pl.tsne(potential_17, color=['leiden3','RORC','IL17A','IL17F'], size = 20, legend_loc = 'on data', cmap = my_cmap)"
   ]
  },
  {
   "cell_type": "code",
   "execution_count": null,
   "id": "3b766523-9744-4bfb-bfdf-6486941dd7cd",
   "metadata": {},
   "outputs": [],
   "source": [
    "IL17_genesmask = [gene.startswith(\"IL17\") and gene.startswith(\"IL17R\")==0 for gene in potential_17.var_names]\n",
    "IL17_genes = potential_17.var_names[IL17_genesmask]\n",
    "IL17_exp_set ={\n",
    "    'cytokine': IL17_genes, 'TF': 'RORC'\n",
    "}\n",
    "sc.pl.dotplot(potential_17,IL17_exp_set,groupby = 'leiden2' , vmax = 1, swap_axes = False, dot_min =0.1, dot_max =1,standard_scale = 'var')"
   ]
  },
  {
   "cell_type": "code",
   "execution_count": null,
   "id": "cd06466b-7286-44fc-9367-aa78d4b7d17b",
   "metadata": {},
   "outputs": [],
   "source": [
    "T17_6 = potential_17[potential_17.obs['leiden3'].isin(['1','7','9,1','14','18']),:]"
   ]
  },
  {
   "cell_type": "code",
   "execution_count": null,
   "id": "d01ad258-870f-4da6-a9c5-5e7220769ee3",
   "metadata": {},
   "outputs": [],
   "source": [
    "#Why all of a sudden this does not work??\n",
    "adata_17 = T17_list[0].concatenate(T17_list[1:9], batch_key = 'original_cluster', batch_categories=['0','1','3','28-36','8','5-15-25-11-16','40','38','43','27'],join = 'outer',fill_value=0)"
   ]
  },
  {
   "cell_type": "code",
   "execution_count": null,
   "id": "8586b3c2-d4aa-4318-9a54-833bd919468c",
   "metadata": {},
   "outputs": [],
   "source": [
    "#T17_list = [T17_1, T17_2,T17_3,T17_4,T17_5,T17_6,T17_7,T17_8,T17_9,T17_10]\n",
    "T17_list = []\n",
    "obs_names = []\n",
    "for i in range(10):#len(T17_list)):\n",
    "    T17_list.append(sc.read_h5ad('T17_'+str(i)+'.h5ad'))\n",
    "    obs_names += list(T17_list[i].obs_names)\n",
    "    #for j in T17_list[i].obs.columns:\n",
    "        #T17_list[i].obs[j] = T17_list[i].obs[j].astype(str)\n",
    "obs_names = np.array(obs_names).flatten()"
   ]
  },
  {
   "cell_type": "code",
   "execution_count": null,
   "id": "41c52655-d013-43ff-a740-7e8136509906",
   "metadata": {},
   "outputs": [],
   "source": [
    "from scipy.sparse import vstack\n",
    "X_stack = vstack((T17_list[0].X, T17_list[1].X,T17_list[2].X,T17_list[3].X,T17_list[4].X,T17_list[5].X,T17_list[6].X,T17_list[7].X,T17_list[8].X,T17_list[9].X))"
   ]
  },
  {
   "cell_type": "code",
   "execution_count": null,
   "id": "a3bbe23e-8efc-42b2-b661-5acd5934bebd",
   "metadata": {},
   "outputs": [],
   "source": [
    "import anndata\n",
    "adata_17 = anndata.AnnData(X = X_stack)\n",
    "adata_17.obs_names = obs_names\n",
    "adata_17.var_names = T17_list[0].var_names"
   ]
  },
  {
   "cell_type": "code",
   "execution_count": null,
   "id": "4fadd1b4-41be-492a-bd38-159584846d1f",
   "metadata": {},
   "outputs": [],
   "source": [
    "adata_17.obs = adata.obs.loc[adata_17.obs_names,:]"
   ]
  },
  {
   "cell_type": "code",
   "execution_count": null,
   "id": "efe86d90-49a7-4a94-b661-6115909bd65b",
   "metadata": {},
   "outputs": [],
   "source": [
    "sc.pp.highly_variable_genes(adata_17, flavor='seurat', n_top_genes=3000)\n",
    "sc.pp.pca(adata_17, n_comps=50, use_highly_variable=True, svd_solver='arpack')"
   ]
  },
  {
   "cell_type": "code",
   "execution_count": null,
   "id": "c557d7f5-f527-4589-8aa6-4b1a04d895a5",
   "metadata": {},
   "outputs": [],
   "source": [
    "sc.pp.neighbors(adata_17, n_neighbors = 15, n_pcs = 50)\n",
    "sc.tl.leiden(adata_17, resolution = 1, key_added= 'leiden')                                                 "
   ]
  },
  {
   "cell_type": "code",
   "execution_count": null,
   "id": "7500d52e-6ef7-49ae-a9e8-c1101edae3c2",
   "metadata": {},
   "outputs": [],
   "source": [
    "sc.tl.tsne(adata_17)"
   ]
  },
  {
   "cell_type": "code",
   "execution_count": null,
   "id": "3c30a827-243f-4a9a-96af-c12ff66496bb",
   "metadata": {},
   "outputs": [],
   "source": [
    "%matplotlib inline\n",
    "sc.pl.tsne(adata_17, color=['leiden','RORC','IL17A','IL17F'],size = 40,cmap = my_cmap)"
   ]
  },
  {
   "cell_type": "code",
   "execution_count": null,
   "id": "429b8d83-38e9-4d79-8142-5ecba216de07",
   "metadata": {
    "tags": []
   },
   "outputs": [],
   "source": [
    "plt.rcParams['figure.figsize'] = [8,8]\n",
    "sc.tl.leiden(adata_17, restrict_to = ('leiden', ['3']), resolution = 0.5, key_added= 'leiden1')\n",
    "sc.pl.tsne(adata_17, color=['leiden1','RORC','IL17A','IL17F'], size = 20, legend_loc = 'on data', cmap = my_cmap)"
   ]
  },
  {
   "cell_type": "code",
   "execution_count": null,
   "id": "e907745f-d0c1-41bf-b327-9ed1a446781d",
   "metadata": {
    "tags": []
   },
   "outputs": [],
   "source": [
    "plt.rcParams['figure.figsize'] = [8,8]\n",
    "sc.tl.leiden(adata_17, restrict_to = ('leiden1', ['1']), resolution = 0.6, key_added= 'leiden2')\n",
    "sc.pl.tsne(adata_17, color=['leiden2','RORC','IL17A','IL17F'], size = 20, legend_loc = 'on data', cmap = my_cmap)"
   ]
  },
  {
   "cell_type": "code",
   "execution_count": null,
   "id": "79572a8b-f20e-45df-b0e9-19d8f15de416",
   "metadata": {
    "tags": []
   },
   "outputs": [],
   "source": [
    "plt.rcParams['figure.figsize'] = [8,8]\n",
    "sc.tl.leiden(adata_17, restrict_to = ('leiden3', ['10']), resolution = 0.5, key_added= 'leiden4')\n",
    "sc.pl.tsne(adata_17, color=['leiden4','RORC','IL17A','IL17F'], size = 20, legend_loc = 'on data', cmap = my_cmap)"
   ]
  },
  {
   "cell_type": "code",
   "execution_count": null,
   "id": "e817c2ce-c3d9-4f1e-bf51-4486ac4d0a19",
   "metadata": {
    "tags": []
   },
   "outputs": [],
   "source": [
    "plt.rcParams['figure.figsize'] = [8,8]\n",
    "sc.tl.leiden(adata_17, restrict_to = ('leiden2', ['1,1']), resolution = 0.4, key_added= 'leiden3')\n",
    "sc.pl.tsne(adata_17, color=['leiden3','RORC','IL17A','IL17F'], size = 20, legend_loc = 'on data', cmap = my_cmap)"
   ]
  },
  {
   "cell_type": "code",
   "execution_count": null,
   "id": "a96de10b-4901-44c2-b3c8-31b1e0a1e1f3",
   "metadata": {},
   "outputs": [],
   "source": [
    "IL17_genesmask = [gene.startswith(\"IL17\") and gene.startswith(\"IL17R\")==0 for gene in adata_17.var_names]\n",
    "IL17_genes = adata_17.var_names[IL17_genesmask]\n",
    "IL17_exp_set ={\n",
    "    'cytokine': IL17_genes, 'TF': 'RORC'\n",
    "}\n",
    "sc.pl.dotplot(adata_17,IL17_exp_set,groupby = 'leiden4' , vmax = 1, swap_axes = False, dot_min =0.1, dot_max =1,standard_scale = 'var')"
   ]
  },
  {
   "cell_type": "code",
   "execution_count": null,
   "id": "2b477d3e-0e18-4455-9271-3f2bd61eacda",
   "metadata": {},
   "outputs": [],
   "source": [
    "adata_17_refined = adata_17[adata_17.obs['leiden4'].isin(['1,0','1,1,0','1,4','1,5','1,6','3,0','3,1','3,2','3,3','3,4','10,3','11','14','15','16']),:]"
   ]
  },
  {
   "cell_type": "code",
   "execution_count": null,
   "id": "7698ddaa-83cd-4a60-9986-6d20c25c39a1",
   "metadata": {
    "tags": []
   },
   "outputs": [],
   "source": [
    "sc.pl.tsne(adata_17_refined, color=['leiden4','RORC','IL17A','IL17F'], size = 20, legend_loc = 'on data', cmap = my_cmap)"
   ]
  },
  {
   "cell_type": "code",
   "execution_count": null,
   "id": "5615c5a9-c129-40a5-a67c-f23e18905131",
   "metadata": {},
   "outputs": [],
   "source": [
    "adata_17_refined.write('GSE178341_T17_refined.h5ad')"
   ]
  },
  {
   "cell_type": "code",
   "execution_count": null,
   "id": "c7c2ceec-3050-40f4-9939-3dbb551e76d9",
   "metadata": {},
   "outputs": [],
   "source": [
    "adata_17_refined= sc.read_h5ad('GSE178341_T17_refined.h5ad')"
   ]
  },
  {
   "cell_type": "code",
   "execution_count": null,
   "id": "b6330d33-5060-41d5-a70f-d06dfa43ff96",
   "metadata": {},
   "outputs": [],
   "source": []
  },
  {
   "cell_type": "code",
   "execution_count": null,
   "id": "171c1de1-a496-4e58-a8a5-acaca707e3de",
   "metadata": {},
   "outputs": [],
   "source": []
  },
  {
   "cell_type": "code",
   "execution_count": null,
   "id": "274c8c25-5e75-445b-88a0-283c239558cc",
   "metadata": {},
   "outputs": [],
   "source": []
  },
  {
   "cell_type": "code",
   "execution_count": null,
   "id": "59d5512b-5a9a-47e5-9c2f-e350f4eb8bb4",
   "metadata": {},
   "outputs": [],
   "source": [
    "T_adata = sc.read_h5ad('GSE178341_T.h5ad')"
   ]
  },
  {
   "cell_type": "code",
   "execution_count": null,
   "id": "205b91cc",
   "metadata": {},
   "outputs": [],
   "source": [
    "sc.pp.normalize_total(adata, key_added = 'normalization_factors')\n",
    "sc.pp.log1p(adata)"
   ]
  },
  {
   "cell_type": "code",
   "execution_count": null,
   "id": "2822b033",
   "metadata": {},
   "outputs": [],
   "source": [
    "T_adata = T_adata[T_adata.obs['cl295v11SubFull'].isin([\n",
    " 'cTNI17 (gd-like T)',\n",
    " 'cTNI18 (gd-like T PDCD1+)',\n",
    " 'cTNI19 (gd-like T prolif)',\n",
    " 'cTNI20 (PLZF+ T)',\n",
    " 'cTNI21 (PLZF+ T prolif)',\n",
    " 'cTNI23 (NK CD16A+)',\n",
    " 'cTNI24 (NK GZMK+)',\n",
    " 'cTNI25 (NK XCL1+)']),:]"
   ]
  },
  {
   "cell_type": "code",
   "execution_count": null,
   "id": "f6b7dcc3-33c0-4627-999e-5f005bc650d4",
   "metadata": {},
   "outputs": [],
   "source": [
    "del T_adata.uns['log1p']"
   ]
  },
  {
   "cell_type": "code",
   "execution_count": null,
   "id": "7d50f551",
   "metadata": {},
   "outputs": [],
   "source": [
    "sc.pp.highly_variable_genes(T_adata, flavor='seurat', n_top_genes=3000)\n",
    "sc.pp.pca(T_adata, n_comps=50, use_highly_variable=True, svd_solver='arpack')"
   ]
  },
  {
   "cell_type": "code",
   "execution_count": null,
   "id": "e90df67e",
   "metadata": {},
   "outputs": [],
   "source": [
    "sc.pp.neighbors(T_adata, n_neighbors = 15, n_pcs = 50)\n",
    "#sc.tl.leiden(T_adata, resolution = 0.8, key_added= 'leiden')                                                 "
   ]
  },
  {
   "cell_type": "code",
   "execution_count": null,
   "id": "315d4cc4",
   "metadata": {},
   "outputs": [],
   "source": [
    "sc.tl.tsne(T_adata)"
   ]
  },
  {
   "cell_type": "code",
   "execution_count": null,
   "id": "db41ecab",
   "metadata": {},
   "outputs": [],
   "source": [
    "%matplotlib inline\n",
    "plt.rcParams['axes.linewidth'] = 2\n",
    "fig = sc.pl.tsne(T_adata, color = ['cl295v11SubFull','ZBTB16','IKZF2','TRGV4','TRGC1','CD3D','CD3G','CD3E',\n",
    "                                   'CD247','IFNG','IL17A','TRDV1','TRDV2','TRDV3','CD4','CD8A','CD8B',\n",
    "                                   'PDCD1','KLRK1','RORC','TRAV1-2','NCAM1','KLRB1','KLRF1','TRDC'],size = 20, legend_loc = 'on data', palette  = my_palette, ncols = 4, cmap = my_cmap, return_fig = True, legend_fontsize = 'large')\n",
    "ax = fig.get_axes()\n",
    "for i in range(0,len(ax)):\n",
    "    ax[i].xaxis.label.set_fontsize(22)\n",
    "    ax[i].xaxis.label.set_fontweight('bold')\n",
    "    ax[i].yaxis.label.set_fontsize(22)\n",
    "    ax[i].title.set_fontsize(30)\n",
    "    ax[i].yaxis.label.set_fontweight('bold')\n",
    "    ax[i].title.set_fontweight('bold')\n",
    "#plt.savefig('overall_map_withunmatched.png')"
   ]
  },
  {
   "cell_type": "code",
   "execution_count": null,
   "id": "6451588e",
   "metadata": {},
   "outputs": [],
   "source": [
    "%matplotlib inline\n",
    "plt.rcParams['axes.linewidth'] = 2\n",
    "fig = sc.pl.tsne(T_adata, color = ['cl295v11SubFull'],size = 20, palette  = my_palette, ncols = 4, cmap = my_cmap, return_fig = True, legend_fontsize = 'large')\n",
    "ax = fig.get_axes()\n",
    "for i in range(0,len(ax)):\n",
    "    ax[i].xaxis.label.set_fontsize(22)\n",
    "    ax[i].xaxis.label.set_fontweight('bold')\n",
    "    ax[i].yaxis.label.set_fontsize(22)\n",
    "    ax[i].title.set_fontsize(30)\n",
    "    ax[i].yaxis.label.set_fontweight('bold')\n",
    "    ax[i].title.set_fontweight('bold')\n",
    "#plt.savefig('overall_map_withunmatched.png')"
   ]
  },
  {
   "cell_type": "code",
   "execution_count": null,
   "id": "af6f87b2",
   "metadata": {},
   "outputs": [],
   "source": [
    "gamma_genesmask = [gene.startswith(\"TRG\") for gene in T_adata.var_names]\n",
    "gamma_genes = T_adata.var_names[gamma_genesmask]\n",
    "delta_genesmask = [gene.startswith(\"TRD\") for gene in T_adata.var_names]\n",
    "delta_genes = T_adata.var_names[delta_genesmask]"
   ]
  },
  {
   "cell_type": "code",
   "execution_count": null,
   "id": "6e963788-1ab5-416f-8465-8d8218c597f9",
   "metadata": {},
   "outputs": [],
   "source": [
    "TCR_exp_set ={\n",
    "\"gamma\": gamma_genes, \"delta\": delta_genes, \"CD3S\": ['CD3E','CD3D','CD3G']\n",
    "}\n",
    "\n",
    "\n",
    "\n",
    "sc.pl.dotplot(T_adata,TCR_exp_set,groupby = 'cl295v11SubFull' , vmax = 1, swap_axes = False, dot_min =0, dot_max =1,standard_scale = 'var')"
   ]
  },
  {
   "cell_type": "code",
   "execution_count": null,
   "id": "5d8dcb09-3647-4bfe-96ed-d474e2c356e9",
   "metadata": {},
   "outputs": [],
   "source": [
    "plt.rcParams['figure.figsize'] = [8,8]\n",
    "sc.tl.leiden(T_adata, restrict_to = ('cl295v11SubFull', ['cTNI18 (gd-like T PDCD1+)']), resolution = 0.9, key_added= 'leiden1')\n",
    "sc.pl.tsne(T_adata, color=['leiden1','CD3E','CD3G','CD3D','TRDC'], size = 30, legend_loc = 'on data', cmap = my_cmap)"
   ]
  },
  {
   "cell_type": "code",
   "execution_count": null,
   "id": "5ee856b5-e701-4148-8709-2cb9a68915ca",
   "metadata": {},
   "outputs": [],
   "source": [
    "plt.rcParams['figure.figsize'] = [8,8]\n",
    "sc.tl.leiden(T_adata, restrict_to = ('leiden1', ['cTNI17 (gd-like T)']), resolution = 0.9, key_added= 'leiden2')\n",
    "sc.pl.tsne(T_adata, color=['leiden2','CD3E','CD3G','CD3D','TRDC'], size = 30, legend_loc = 'on data', cmap = my_cmap)"
   ]
  },
  {
   "cell_type": "code",
   "execution_count": null,
   "id": "ef046c09-4bef-415a-bc40-8dcf56bc70c3",
   "metadata": {},
   "outputs": [],
   "source": [
    "TCR_exp_set ={\n",
    "\"gamma\": gamma_genes, \"delta\": delta_genes, \"CD3S\": ['CD3E','CD3D','CD3G']\n",
    "}\n",
    "\n",
    "\n",
    "\n",
    "sc.pl.dotplot(T_adata,TCR_exp_set,groupby = 'leiden2' , vmax = 1, swap_axes = False, dot_min =0, dot_max =1,standard_scale = 'var')"
   ]
  },
  {
   "cell_type": "code",
   "execution_count": null,
   "id": "41d8901f-6282-4743-bd48-8c4c53304992",
   "metadata": {},
   "outputs": [],
   "source": [
    "keep_list = ['cTNI17 (gd-like T),'+str(i) for i in range(0,12)] + ['cTNI18 (gd-like T PDCD1+),18'] + ['cTNI18 (gd-like T PDCD1+),'+str(i) for i in [0,1,5,6]] +[ 'cTNI19 (gd-like T prolif)']"
   ]
  },
  {
   "cell_type": "code",
   "execution_count": null,
   "id": "d89e1a84-8cdb-40d2-b741-40131a4e8849",
   "metadata": {},
   "outputs": [],
   "source": [
    "gd = T_adata[T_adata.obs['leiden2'].isin(keep_list),:]"
   ]
  },
  {
   "cell_type": "code",
   "execution_count": null,
   "id": "816a3383-73de-4431-9272-47141c8fd14f",
   "metadata": {},
   "outputs": [],
   "source": [
    "sc.pl.tsne(gd, color=['leiden2','CD3E','CD3G','CD3D','TRDC'], size = 30, legend_loc = 'on data', cmap = my_cmap)"
   ]
  },
  {
   "cell_type": "code",
   "execution_count": null,
   "id": "25fff22e-e9fd-4f10-853d-3649822f159c",
   "metadata": {},
   "outputs": [],
   "source": [
    "gd.write('GSE178341_gd.h5ad')"
   ]
  },
  {
   "cell_type": "markdown",
   "id": "e5e6f773-b39b-470c-9118-a1be1292d6ee",
   "metadata": {},
   "source": [
    "## Do they show any sign of IL17 secreting?"
   ]
  },
  {
   "cell_type": "code",
   "execution_count": null,
   "id": "32ca2881",
   "metadata": {},
   "outputs": [],
   "source": [
    "def DE_to_df(_adata, rank_key, _padj_thresh=0.05, _logfc_thresh=1):\n",
    "    def process_genes(i, direction):\n",
    "        _log2foldmask = (_adata.uns[rank_key]['logfoldchanges'][i].astype('double') >= _logfc_thresh) if direction == \"up\" else (_adata.uns[rank_key]['logfoldchanges'][i].astype('double') <= -_logfc_thresh)\n",
    "        _pvalmask = _adata.uns[rank_key]['pvals_adj'][i].astype('double') <= _padj_thresh\n",
    "        _additional = pd.DataFrame({\n",
    "            i: _adata.uns[rank_key]['names'][i].astype('str')[_log2foldmask & _pvalmask],\n",
    "            'logfoldchanges_'+i: np.abs(_adata.uns[rank_key]['logfoldchanges'][i].astype('double')[_log2foldmask & _pvalmask])\n",
    "        })\n",
    "        _ribo_gene_mask = [gene.startswith('RPL') or gene.startswith('RPS') for gene in _additional[i]]\n",
    "        _mt_gene_mask = [gene.startswith('MT-') for gene in _additional[i]]\n",
    "        if len(_ribo_gene_mask)>0 and len(_mt_gene_mask)>0:\n",
    "            _drop_id = np.array(np.array(_ribo_gene_mask) | np.array(_mt_gene_mask))\n",
    "            _additional = _additional.sort_values(by='logfoldchanges_'+i, ascending=False)\n",
    "            _additional = _additional.iloc[_drop_id==False, :].reset_index(drop=True)\n",
    "        return _additional\n",
    "\n",
    "    _pass_genes_up = pd.DataFrame()\n",
    "    _pass_genes_down = pd.DataFrame()\n",
    "\n",
    "    for i in set(_adata.uns[rank_key]['pvals_adj'].dtype.names):\n",
    "\n",
    "        _pass_genes_up = pd.concat([_pass_genes_up, process_genes(i, \"up\")[i]], ignore_index=False, axis=1)\n",
    "        _pass_genes_down = pd.concat([_pass_genes_down, process_genes(i, \"down\")[i]], ignore_index=False, axis=1)\n",
    "\n",
    "        \n",
    "    return _pass_genes_up, _pass_genes_down"
   ]
  },
  {
   "cell_type": "code",
   "execution_count": null,
   "id": "05cbdd9e",
   "metadata": {},
   "outputs": [],
   "source": [
    "sc.tl.rank_genes_groups(T_adata, groupby='cl295v11SubFull', key_added='rank',method = 'wilcoxon')"
   ]
  },
  {
   "cell_type": "code",
   "execution_count": null,
   "id": "9cecf95c",
   "metadata": {},
   "outputs": [],
   "source": [
    "[pass_genes_up, pass_genes_down] = DE_to_df(T_adata, rank_key='rank', _padj_thresh = 0.05, _logfc_thresh = 1)"
   ]
  },
  {
   "cell_type": "code",
   "execution_count": null,
   "id": "46b30230",
   "metadata": {},
   "outputs": [],
   "source": [
    "pass_genes_up.to_csv('pass_genes_up.csv')"
   ]
  },
  {
   "cell_type": "code",
   "execution_count": null,
   "id": "49413cd8",
   "metadata": {},
   "outputs": [],
   "source": [
    "T_adata.var_names_make_unique()"
   ]
  },
  {
   "cell_type": "code",
   "execution_count": null,
   "id": "ebf215ae",
   "metadata": {},
   "outputs": [],
   "source": [
    "# plt.rcParams.update({'font.size': 15, 'font.weight': 'heavy','axes.linewidth':2})\n",
    "#plt.rcParams.update(plt.rcParamsDefault)\n",
    "gamma_genesmask = [gene.startswith(\"TRGV\") for gene in adata.var_names]\n",
    "gamma_genes = adata.var_names[gamma_genesmask]\n",
    "gammac_genesmask = [gene.startswith(\"TRGC\") for gene in adata.var_names]\n",
    "gammac_genes = adata.var_names[gammac_genesmask]\n",
    "delta_genesmask = [gene.startswith(\"TRDV\") for gene in adata.var_names]\n",
    "delta_genes = adata.var_names[delta_genesmask]\n",
    "deltac_genesmask = [gene.startswith(\"TRDC\") for gene in adata.var_names]\n",
    "deltac_genes = adata.var_names[deltac_genesmask]\n",
    "alpha_genesmask = [gene.startswith(\"TRBV\") for gene in adata.var_names]\n",
    "alpha_genes = adata.var_names[alpha_genesmask]\n",
    "TCR_exp_set ={\"gamma_genes\":gamma_genes,\"others\":['IKZF2','ZBTB16','TCF7','CD28','TRDC','CD3E','CD4','CD8A','CD8B','TBX21','TRAV1-2','NCAM1','TRAV24','TRAJ18']\n",
    "}\n",
    "\n",
    "\n",
    "\n",
    "sc.pl.dotplot(T_adata,TCR_exp_set,groupby = 'subclustered4' , vmax = 1, swap_axes = False, dot_min =0.1, dot_max =1,standard_scale = 'var')"
   ]
  },
  {
   "cell_type": "code",
   "execution_count": null,
   "id": "b5017e3d",
   "metadata": {},
   "outputs": [],
   "source": [
    "# plt.rcParams.update({'font.size': 15, 'font.weight': 'heavy','axes.linewidth':2})\n",
    "#plt.rcParams.update(plt.rcParamsDefault)\n",
    "gamma_genesmask = [gene.startswith(\"TRGV\") for gene in adata.var_names]\n",
    "gamma_genes = adata.var_names[gamma_genesmask]\n",
    "gammac_genesmask = [gene.startswith(\"TRGC\") for gene in adata.var_names]\n",
    "gammac_genes = adata.var_names[gammac_genesmask]\n",
    "delta_genesmask = [gene.startswith(\"TRDV\") for gene in adata.var_names]\n",
    "delta_genes = adata.var_names[delta_genesmask]\n",
    "deltac_genesmask = [gene.startswith(\"TRDC\") for gene in adata.var_names]\n",
    "deltac_genes = adata.var_names[deltac_genesmask]\n",
    "alpha_genesmask = [gene.startswith(\"TRBV\") for gene in adata.var_names]\n",
    "alpha_genes = adata.var_names[alpha_genesmask]\n",
    "TCR_exp_set ={\n",
    "\"gamma V\": gamma_genes,\"gamma C\": gammac_genes, \"delta V\": delta_genes,\"delta C\": deltac_genes, \"alpha\": alpha_genes\n",
    "}\n",
    "\n",
    "\n",
    "\n",
    "sc.pl.dotplot(T_adata,TCR_exp_set,groupby = 'cl295v11SubFull' , vmax = 1, swap_axes = False, dot_min =0.05, dot_max =1,standard_scale = 'var',save= 'TCR_exp.png')"
   ]
  },
  {
   "cell_type": "code",
   "execution_count": null,
   "id": "4a26423c",
   "metadata": {},
   "outputs": [],
   "source": [
    "plt.rcParams['figure.figsize'] = [8,8]\n",
    "sc.tl.leiden(T_adata, restrict_to = ('cl295v11SubFull', ['cTNI13 (CD8+ T IL17+)']), resolution = 0.1, key_added= 'subclustered')\n",
    "sc.pl.tsne(T_adata[T_adata.obs['cl295v11SubFull'] == 'cTNI13 (CD8+ T IL17+)',:], color=['subclustered'], size = 30)"
   ]
  },
  {
   "cell_type": "code",
   "execution_count": null,
   "id": "bb8cdab2-1692-4355-93a4-0e29cbe5cc06",
   "metadata": {},
   "outputs": [],
   "source": [
    "plt.rcParams['figure.figsize'] = [8,8]\n",
    "sc.tl.leiden(T_adata, restrict_to = ('subclustered', ['cTNI20 (PLZF+ T)']), resolution = 0.1, key_added= 'subclustered2')\n",
    "sc.pl.tsne(T_adata[T_adata.obs['subclustered'] == 'cTNI20 (PLZF+ T)',:], color=['subclustered2'], size = 30)"
   ]
  },
  {
   "cell_type": "code",
   "execution_count": null,
   "id": "834bc87a-5dd4-4c4f-8b8b-5f8711705da6",
   "metadata": {},
   "outputs": [],
   "source": [
    "plt.rcParams['figure.figsize'] = [8,8]\n",
    "sc.tl.leiden(T_adata, restrict_to = ('subclustered2', ['cTNI18 (gd-like T PDCD1+)']), resolution = 0.1, key_added= 'subclustered3')\n",
    "sc.pl.tsne(T_adata[T_adata.obs['subclustered'] == 'cTNI18 (gd-like T PDCD1+)',:], color=['subclustered3'], size = 30)"
   ]
  },
  {
   "cell_type": "code",
   "execution_count": null,
   "id": "a595af2b-364b-4219-9f91-013874b22dac",
   "metadata": {},
   "outputs": [],
   "source": [
    "plt.rcParams['figure.figsize'] = [8,8]\n",
    "sc.tl.leiden(T_adata, restrict_to = ('subclustered3', ['cTNI21 (PLZF+ T prolif)']), resolution = 0.1, key_added= 'subclustered4')\n",
    "sc.pl.tsne(T_adata[T_adata.obs['subclustered'] == 'cTNI21 (PLZF+ T prolif)',:], color=['subclustered4'], size = 30)"
   ]
  },
  {
   "cell_type": "code",
   "execution_count": null,
   "id": "41aaad70-3d20-4d00-9485-cfda7bb7ad71",
   "metadata": {},
   "outputs": [],
   "source": [
    "set(T_adata.obs['subclustered4'])"
   ]
  },
  {
   "cell_type": "code",
   "execution_count": null,
   "id": "0a1dc224-63ca-4bcb-8c24-51cc1d10952d",
   "metadata": {},
   "outputs": [],
   "source": [
    "gd_T_temp = T_adata[T_adata.obs['subclustered4'].isin(['cTNI12 (CD8+ IL7R+)',\n",
    "                                                       'cTNI13 (CD8+ T IL17+),0',\n",
    "                                                       'cTNI18 (gd-like T PDCD1+),1',\n",
    "                                                       'cTNI20 (PLZF+ T),1',\n",
    "                                                       'cTNI21 (PLZF+ T prolif),1']),:]"
   ]
  },
  {
   "cell_type": "code",
   "execution_count": null,
   "id": "c47ae5be-2a24-4085-ab01-9e8e477a0d8f",
   "metadata": {},
   "outputs": [],
   "source": [
    "sc.pl.tsne(gd_T_temp, color = ['subclustered4','GD_enrichment'])"
   ]
  },
  {
   "cell_type": "code",
   "execution_count": null,
   "id": "585a4d43-e10d-4e4f-ab2f-9614a6a02332",
   "metadata": {},
   "outputs": [],
   "source": [
    "# plt.rcParams.update({'font.size': 15, 'font.weight': 'heavy','axes.linewidth':2})\n",
    "#plt.rcParams.update(plt.rcParamsDefault)\n",
    "gamma_genesmask = [gene.startswith(\"TRGV\") for gene in adata.var_names]\n",
    "gamma_genes = adata.var_names[gamma_genesmask]\n",
    "gammac_genesmask = [gene.startswith(\"TRGC\") for gene in adata.var_names]\n",
    "gammac_genes = adata.var_names[gammac_genesmask]\n",
    "delta_genesmask = [gene.startswith(\"TRDV\") for gene in adata.var_names]\n",
    "delta_genes = adata.var_names[delta_genesmask]\n",
    "deltac_genesmask = [gene.startswith(\"TRDC\") for gene in adata.var_names]\n",
    "deltac_genes = adata.var_names[deltac_genesmask]\n",
    "alpha_genesmask = [gene.startswith(\"TRAV\") for gene in adata.var_names]\n",
    "alpha_genes = adata.var_names[alpha_genesmask]\n",
    "TCR_exp_set ={\n",
    "\"gamma V\": gamma_genes,\"gamma C\": gammac_genes, \"delta V\": delta_genes,\"delta C\": deltac_genes, \"alpha\": alpha_genes\n",
    "}\n",
    "\n",
    "\n",
    "\n",
    "sc.pl.dotplot(gd_T_temp,TCR_exp_set,groupby = 'subclustered4' , vmax = 1, swap_axes = False, dot_min =0.05, dot_max =1,standard_scale = 'var')#,save= 'TCR_exp.png')"
   ]
  },
  {
   "cell_type": "code",
   "execution_count": null,
   "id": "8a9726dd",
   "metadata": {},
   "outputs": [],
   "source": [
    "del_list = [ 'cTNI13 (CD8+ T IL17+),'+str(i) for i in range(2,15)]\n",
    "T_adata = T_adata[T_adata.obs['subclustered'].isin(del_list)==0,:]"
   ]
  },
  {
   "cell_type": "code",
   "execution_count": null,
   "id": "051eaa6a",
   "metadata": {},
   "outputs": [],
   "source": [
    "T_adata.write('GSE178341_T.h5ad')"
   ]
  },
  {
   "cell_type": "code",
   "execution_count": null,
   "id": "ca4ea865",
   "metadata": {},
   "outputs": [],
   "source": [
    "# plt.rcParams.update({'font.size': 15, 'font.weight': 'heavy','axes.linewidth':2})\n",
    "#plt.rcParams.update(plt.rcParamsDefault)\n",
    "gamma_genesmask = [gene.startswith(\"TRGV\") for gene in adata.var_names]\n",
    "gamma_genes = adata.var_names[gamma_genesmask]\n",
    "gammac_genesmask = [gene.startswith(\"TRGC\") for gene in adata.var_names]\n",
    "gammac_genes = adata.var_names[gammac_genesmask]\n",
    "delta_genesmask = [gene.startswith(\"TRDV\") for gene in adata.var_names]\n",
    "delta_genes = adata.var_names[delta_genesmask]\n",
    "deltac_genesmask = [gene.startswith(\"TRDC\") for gene in adata.var_names]\n",
    "deltac_genes = adata.var_names[deltac_genesmask]\n",
    "alpha_genesmask = [gene.startswith(\"TRBV\") for gene in adata.var_names]\n",
    "alpha_genes = adata.var_names[alpha_genesmask]\n",
    "TCR_exp_set ={\"gamma_genes\":gamma_genes,\"others\":['IKZF2','ZBTB16','TCF7','CD28','CD3E','CD4','CD8A','CD8B',\n",
    "                                                  'TBX21','TRAV1-2','NCAM1','TRAV24','TRAJ18','HES4']\n",
    "}\n",
    "\n",
    "\n",
    "\n",
    "sc.pl.dotplot(T_adata,TCR_exp_set,groupby = 'subclustered' , vmax = 1, swap_axes = False, dot_min =0, dot_max =1,standard_scale = 'var')"
   ]
  },
  {
   "cell_type": "code",
   "execution_count": null,
   "id": "2dd7fd11",
   "metadata": {},
   "outputs": [],
   "source": [
    "# plt.rcParams.update({'font.size': 15, 'font.weight': 'heavy','axes.linewidth':2})\n",
    "#plt.rcParams.update(plt.rcParamsDefault)\n",
    "gamma_genesmask = [gene.startswith(\"TRGV\") for gene in adata.var_names]\n",
    "gamma_genes = adata.var_names[gamma_genesmask]\n",
    "gammac_genesmask = [gene.startswith(\"TRGC\") for gene in adata.var_names]\n",
    "gammac_genes = adata.var_names[gammac_genesmask]\n",
    "delta_genesmask = [gene.startswith(\"TRDV\") for gene in adata.var_names]\n",
    "delta_genes = adata.var_names[delta_genesmask]\n",
    "deltac_genesmask = [gene.startswith(\"TRDC\") for gene in adata.var_names]\n",
    "deltac_genes = adata.var_names[deltac_genesmask]\n",
    "alpha_genesmask = [gene.startswith(\"TRBV\") for gene in adata.var_names]\n",
    "alpha_genes = adata.var_names[alpha_genesmask]\n",
    "TCR_exp_set ={\n",
    "\"gamma V\": gamma_genes,\"gamma C\": gammac_genes, \"delta V\": delta_genes,\"delta C\": deltac_genes, \"alpha\": alpha_genes\n",
    "}\n",
    "\n",
    "\n",
    "\n",
    "sc.pl.dotplot(T_adata,TCR_exp_set,groupby = 'subclustered' , vmax = 1, swap_axes = False, dot_min =0, dot_max =1,standard_scale = 'var',save= 'TCR_exp.png')"
   ]
  },
  {
   "cell_type": "code",
   "execution_count": null,
   "id": "d865855d",
   "metadata": {},
   "outputs": [],
   "source": [
    "plt.rcParams.update({'font.size': 5, 'font.weight': 'heavy','axes.linewidth':5})\n",
    "plt.rcParams.update(plt.rcParamsDefault)\n",
    "\n",
    "\n",
    "sc.pl.dotplot(gd_T_temp,['CD4','CD8A','CD8B','TRGV4','CCR7', 'SELL', 'CD27', 'CD28', 'IL7R', 'CD44','CD38','HLA-DRB1', 'KLRG1', 'IL2',\n",
    "       'IL2RA', 'IL2RB', 'CD69','S1PR1','KLF2', 'ITGAE', 'ITGA1','ITGB2','S1PR1','CCL4', 'GZMK', 'CD101', 'CX3CR1',\n",
    "       'TCF7', 'LEF1', 'PRDM1', 'TBX21', 'EOMES', 'BACH2', 'GZMB', 'PRF1',\n",
    "       'FAS', 'FASLG', 'TNF', 'IFNG', 'NKG7', 'CCL4', 'XCL1',\n",
    "       'XCL2', 'STAT3', 'CD40LG', 'TRAV1-2', 'PDCD1', 'HAVCR2', 'LAG3',\n",
    "       'MKI67', 'TFRC', 'RORC', 'RORA', 'STAT1', 'STAT4', 'STAT5A',\n",
    "       'STAT6', 'RUNX1', 'RUNX3', 'CCR3', 'CCR4', 'CCR5', 'CCL5','CCR6', 'CCR8',\n",
    "       'CCR10','CXCR3',  'CXCR4', 'CXCR5', 'CXCR6', 'IL4', 'IL5', 'IL10', 'IL13', 'IL17A',\n",
    "       'IL21', 'IL22', 'IL6R', 'IL12RB2', 'IL15RA', 'IL17RB', 'IL18R1',\n",
    "       'IL21R', 'IL23R', 'IL27RA', 'KLRD1', 'KLRK1', 'TNFRSF8', 'GZMA',\n",
    "       'LTA', 'IFNGR2', 'HLA-DRA', 'SLC3A2', 'CTLA4', 'FOXP3', 'SMAD3',\n",
    "       'AHR', 'ENTPD1', 'NT5E', 'TGFB1', 'ITGA2', 'BCL6', 'MAF', 'BTLA',\n",
    "       'ICOS', 'DPP4', 'GATA3', 'CCL20', 'IRF4', 'BATF', 'TACR1',\n",
    "       'ZBTB16', 'TNFSF8', 'IKZF2'],groupby = 'subclustered4' , vmax = 1, \n",
    "              swap_axes = False ,dot_min = 0.01,standard_scale = 'var', save= 'Inference.png')\n",
    "# Checked IL9, nothing"
   ]
  },
  {
   "cell_type": "code",
   "execution_count": null,
   "id": "9654388b",
   "metadata": {},
   "outputs": [],
   "source": [
    "import numpy as np\n",
    "import pandas as pd\n",
    "from scipy.sparse import csr_matrix\n",
    "\n",
    "def calculate_enrichment_scores(sparse_expression_data_csr, gene_scores):\n",
    "    # Initialize the enrichment scores with zeros for each cell\n",
    "    enrichment_scores = np.zeros(sparse_expression_data_csr.shape[0])\n",
    "\n",
    "    # Convert the gene_scores to a dense numpy array for multiplication with the sparse matrix\n",
    "    gene_scores_dense = gene_scores.to_numpy()\n",
    "\n",
    "    # Iterate over each cell (each row in the CSR matrix)\n",
    "    for cell_idx in range(sparse_expression_data_csr.shape[0]):\n",
    "        # Extract the expression vector for the current cell\n",
    "        expression_vector = sparse_expression_data_csr[cell_idx, :].toarray().flatten()\n",
    "        \n",
    "        # Calculate the running sum as the dot product between expression and gene scores\n",
    "        running_sum_vector = np.cumsum(expression_vector * gene_scores_dense)\n",
    "        \n",
    "        # The enrichment score for the cell is the maximum of the running sum\n",
    "        enrichment_scores[cell_idx] = np.max(running_sum_vector)\n",
    "\n",
    "    return enrichment_scores\n",
    "\n",
    "\n",
    "def add_gd_enrichment(adata, reference_path):\n",
    "    features=pd.read_csv(reference_path,index_col = 0)\n",
    "    features['-logQ'] = -np.log10(features['q_value'])\n",
    "    features = features[features['-logQ']>0]\n",
    "    gene_list = pd.DataFrame(features['normalized_effect'])*-1\n",
    "    gene_list.index = features['gene_short_name']\n",
    "    gene_list =gene_list.sort_values(by = 'normalized_effect',ascending = False)\n",
    "    print(gene_list)\n",
    "    \n",
    "    sparse_expression_data = scipy.sparse.lil_matrix((adata.shape[0], len(gene_list.index)))\n",
    "    gene_to_index = {gene: idx for idx, gene in enumerate(gene_list.index)}\n",
    "\n",
    "    # Fill the sparse matrix with the expression data\n",
    "    for gene in gene_list.index:\n",
    "        if gene in adata.var_names:\n",
    "            # Get the column index for this gene\n",
    "            col_idx = gene_to_index[gene]\n",
    "            # Extract the column for this gene from adata\n",
    "            gene_expression = adata[:, gene].X\n",
    "            # Assign the column to the appropriate place in the sparse matrix\n",
    "            sparse_expression_data[:, col_idx] = gene_expression\n",
    "\n",
    "    # Convert the LIL matrix to CSR format for more efficient row slicing\n",
    "    sparse_expression_data_csr = sparse_expression_data.tocsr()\n",
    "\n",
    "    enrichment_scores = calculate_enrichment_scores(sparse_expression_data_csr, gene_list['normalized_effect'])\n",
    "    adata.obs['GD_enrichment'] = enrichment_scores"
   ]
  },
  {
   "cell_type": "code",
   "execution_count": null,
   "id": "a05fa16f",
   "metadata": {},
   "outputs": [],
   "source": [
    "add_gd_enrichment(T_adata,'F:/CRC/refined_gd.csv')"
   ]
  },
  {
   "cell_type": "code",
   "execution_count": null,
   "id": "917f5208",
   "metadata": {},
   "outputs": [],
   "source": [
    "sc.pl.tsne(T_adata,  color = ['cl295v11SubFull','IKZF2'], cmap = my_cmap , ncols = 1)"
   ]
  },
  {
   "cell_type": "code",
   "execution_count": null,
   "id": "625a8ccd-a57f-4cc1-998e-6723b9352fc1",
   "metadata": {},
   "outputs": [],
   "source": [
    "T_adata = T_adata[T_adata.obs['cl295v11SubFull'].isin([ 'cTNI07 (CD4+ CXCL13+)',\n",
    " 'cTNI08 (CD4+ Treg)',\n",
    " 'cTNI09 (CD4+ Treg prolif)',\n",
    " 'cTNI10 (CD8+ IL7R+)',\n",
    " 'cTNI11 (CD8+GZMK+)',\n",
    " 'cTNI12 (CD8+ IL7R+)',\n",
    " 'cTNI13 (CD8+ T IL17+)',\n",
    " 'cTNI14 (CD8+ CXCL13+)',\n",
    " 'cTNI15 (CD8+ CXCL13+ HSP+)',\n",
    " 'cTNI16 (CD8+ CXCL13+ prolif)',\n",
    " 'cTNI17 (gd-like T)',\n",
    " 'cTNI18 (gd-like T PDCD1+)',\n",
    " 'cTNI19 (gd-like T prolif)',\n",
    " 'cTNI20 (PLZF+ T)',\n",
    " 'cTNI21 (PLZF+ T prolif)']),:]"
   ]
  },
  {
   "cell_type": "code",
   "execution_count": null,
   "id": "a7f0b31e-a20b-4a24-893d-dd5db3952200",
   "metadata": {},
   "outputs": [],
   "source": [
    "adata_gd = sc.read_h5ad('GSE178341_gd.h5ad')"
   ]
  },
  {
   "cell_type": "code",
   "execution_count": null,
   "id": "df621f8c-0399-4a50-bafa-c22aba0a077d",
   "metadata": {},
   "outputs": [],
   "source": []
  },
  {
   "cell_type": "code",
   "execution_count": null,
   "id": "d906e596-387e-473a-9210-8081c59ca985",
   "metadata": {},
   "outputs": [],
   "source": [
    "sc.pl.tsne(adata_gd,color = ['RORC','IL17A','TRDC'],cmap = my_cmap)"
   ]
  },
  {
   "cell_type": "code",
   "execution_count": null,
   "id": "8ea82a9a-d698-44bc-9601-8c84410492b7",
   "metadata": {},
   "outputs": [],
   "source": [
    "export_df = adata_gd.obs"
   ]
  },
  {
   "cell_type": "code",
   "execution_count": null,
   "id": "deb68f4d-6677-4930-b121-69a27ec4f827",
   "metadata": {
    "tags": []
   },
   "outputs": [],
   "source": [
    "#[str(i).lower() for i in ]\n",
    "TNM_T = list()\n",
    "for i in export_df['TumorStage']:\n",
    "    if str(i) != 'nan':\n",
    "        rec = str(i).lower().split('pt')[1]\n",
    "    else:\n",
    "        rec = 'N/A'\n",
    "    TNM_T.append(rec)"
   ]
  },
  {
   "cell_type": "code",
   "execution_count": null,
   "id": "feae75da-fecc-429e-ae71-64ead44ea1c0",
   "metadata": {
    "tags": []
   },
   "outputs": [],
   "source": [
    "#[str(i).lower() for i in ]\n",
    "TNM_N = list()\n",
    "for i in export_df['NodeStatus_detailed']:\n",
    "    if str(i) != 'nan':\n",
    "        rec = str(i).split('N')[1]\n",
    "    else:\n",
    "        rec = 'N/A'\n",
    "    TNM_N.append(rec)"
   ]
  },
  {
   "cell_type": "code",
   "execution_count": null,
   "id": "d0a30aa7-0cd1-47cf-ae80-c101b38f3b2a",
   "metadata": {
    "tags": []
   },
   "outputs": [],
   "source": [
    "#[str(i).lower() for i in ]\n",
    "TNM_M = list()\n",
    "for i in export_df['MetastasisStatus']:\n",
    "    i = str(i)\n",
    "    if i != 'nan':\n",
    "        id = i.index('M')\n",
    "        if i[id+2].isalpha():\n",
    "            rec = i[id+1:id+3]\n",
    "        else:\n",
    "            rec = i[id+1]\n",
    "    else:\n",
    "        rec = 'N/A'\n",
    "    TNM_M.append(rec)"
   ]
  },
  {
   "cell_type": "code",
   "execution_count": null,
   "id": "e19b1efd-6aba-45d5-9ebf-9ef66eac3401",
   "metadata": {},
   "outputs": [],
   "source": [
    "adata_gd.obs['patient'] = export_df['PID']\n",
    "adata_gd.obs['gender'] = export_df['Sex']\n",
    "adata_gd.obs['age'] = export_df['Age']\n",
    "adata_gd.obs['tissue'] = export_df['HistologicTypeSimple']\n",
    "adata_gd.obs['site'] = export_df['TissueSite_detailed']\n",
    "adata_gd.obs['TNM_T'] = TNM_T\n",
    "adata_gd.obs['TNM_N'] = TNM_N\n",
    "adata_gd.obs['TNM_M'] = TNM_M"
   ]
  },
  {
   "cell_type": "code",
   "execution_count": null,
   "id": "5d526089-bb58-4332-9fce-d5dc902af591",
   "metadata": {},
   "outputs": [],
   "source": [
    "set(adata_gd.obs['site'])"
   ]
  },
  {
   "cell_type": "code",
   "execution_count": null,
   "id": "2435be3a-da67-410b-bfce-e64151fe8a25",
   "metadata": {},
   "outputs": [],
   "source": [
    "def convert_tnm_to_stage(t, n, m):\n",
    "    \"\"\"\n",
    "    Convert TNM components to an overall cancer stage.\n",
    "    \n",
    "    Parameters:\n",
    "    t (str): Tumor size and extent (e.g., 'Tis', 'T1', 'T2', 'T3', 'T4').\n",
    "    n (str): Node involvement (e.g., 'N0', 'N1', 'N2', 'N3').\n",
    "    m (str): Metastasis presence (e.g., 'M0', 'M1').\n",
    "    \n",
    "    Returns:\n",
    "    int: Overall cancer stage (0 to IV).\n",
    "    \"\"\"\n",
    "    t = t[0].lower()\n",
    "    n = n[0].lower()\n",
    "    m = m[0].lower()\n",
    "    # Handling metastasis first because it overrides other categories\n",
    "    if m == '1':\n",
    "        return 'IV'\n",
    "    if t.isnumeric()==0 or n.isnumeric()==0:\n",
    "        return 'N/A'\n",
    "    \n",
    "    # Mapping T and N to stages\n",
    "    if t == '0' and n == '0' and m != '1':\n",
    "        return '0'\n",
    "    elif t == '1' and n == '0' and m != '1':\n",
    "        return 'I'\n",
    "    elif (t == '2' and n == '0' and m != '1') or (t == '1' and n == '1' and m != '1'):\n",
    "        return 'II'\n",
    "    elif (t == '2' and n == '1' and m != '1') or (t in ['3'] and n in ['0', '1'] and m != '1'):\n",
    "        return 'III'\n",
    "    \n",
    "    # Default to highest stage if other conditions are not met (typically not used, more complex logic needed in real cases)\n",
    "    return 'IV'"
   ]
  },
  {
   "cell_type": "code",
   "execution_count": null,
   "id": "34aa9a94-60ed-4693-b4fb-cf837cae1bc2",
   "metadata": {},
   "outputs": [],
   "source": [
    "adata_gd.obs['stage'] = 'N/A'\n",
    "for i in range(adata_gd.shape[0]):\n",
    "    adata_gd.obs['stage'][i] = convert_tnm_to_stage(adata_gd.obs['TNM_T'][i], adata_gd.obs['TNM_N'][i], adata_gd.obs['TNM_M'][i])"
   ]
  },
  {
   "cell_type": "code",
   "execution_count": null,
   "id": "94e358c4-e813-4d9a-be11-ad8a815b5fb1",
   "metadata": {},
   "outputs": [],
   "source": [
    "adata_gd.obs['gender'] = adata_gd.obs['gender'].replace({'F':'Female','M':'Male'})"
   ]
  },
  {
   "cell_type": "code",
   "execution_count": null,
   "id": "f809c419-9880-474a-9ea3-d8e3464c7f79",
   "metadata": {},
   "outputs": [],
   "source": [
    "sc.pl.tsne(adata_gd,color = ['patient','tissue','gender','age','site','TNM_T','TNM_N','TNM_M','stage'])"
   ]
  },
  {
   "cell_type": "code",
   "execution_count": null,
   "id": "c4dd5855-6220-4503-a1fc-40e711656454",
   "metadata": {
    "tags": []
   },
   "outputs": [],
   "source": [
    "for i, tnmt in enumerate(adata_gd.obs.groupby('patient')['TNM_T'].apply(set)):\n",
    "    pid = adata_gd.obs.groupby('patient')['TNM_T'].apply(set).index[i]\n",
    "    \n",
    "    if 'nan' not in list(i):\n",
    "        adata_gd.obs['TNM_T'][np.array(adata_gd.obs['patient'] == pid) & np.array(adata_gd.obs['tissue'] == 'Normal colon')] = max(list(i))\n",
    "    else if len(list(i)) > 1:\n",
    "        adata_gd.obs['TNM_T'][np.array(adata_gd.obs['patient'] == pid) & np.array(adata_gd.obs['tissue'] == 'Normal colon')] = max(list(set(['nan']) ^ set(i)))"
   ]
  },
  {
   "cell_type": "code",
   "execution_count": null,
   "id": "0e169f36-2aae-4ef5-bdaf-1d4601c24c9e",
   "metadata": {},
   "outputs": [],
   "source": [
    "adata_gd.obs[['patient','tissue','gender','age','site','TNM_T','TNM_N','TNM_M','stage']].to_csv('GSE178341_gd.csv')"
   ]
  },
  {
   "cell_type": "code",
   "execution_count": null,
   "id": "1491fc7d-943a-41a7-831c-6391f0572fb6",
   "metadata": {},
   "outputs": [],
   "source": [
    "adata_gd.write('GSE178341_gd.h5ad')"
   ]
  },
  {
   "cell_type": "code",
   "execution_count": null,
   "id": "43dd3566-3c6b-4ba3-9575-7c5d1409e179",
   "metadata": {},
   "outputs": [],
   "source": [
    "gd_info = pd.read_csv('GSE178341_gd.csv')"
   ]
  },
  {
   "cell_type": "code",
   "execution_count": null,
   "id": "90d0ca3f-0fd5-4dce-81a6-7bdd47c385e7",
   "metadata": {},
   "outputs": [],
   "source": [
    "adata.var_names_make_unique()"
   ]
  },
  {
   "cell_type": "code",
   "execution_count": null,
   "id": "a2518cad-54ab-4bd5-bd63-cf0a53d58887",
   "metadata": {},
   "outputs": [],
   "source": [
    "counts = adata[gd_info['cellID'],:].X.T\n",
    "colnames = gd_info['cellID']\n",
    "rownames = adata.var_names"
   ]
  },
  {
   "cell_type": "code",
   "execution_count": null,
   "id": "101fc68a-f2a4-433d-a1d3-028d098d79b5",
   "metadata": {},
   "outputs": [],
   "source": [
    "%%R -i colnames -i rownames -i counts #-i gd_info\n",
    "\n",
    "colnames(counts) = colnames\n",
    "rownames(counts) = rownames\n",
    "\n",
    "srat <- CreateSeuratObject(counts = counts, project = \"GSE178341\", min.cells = 0, min.features = 0, assay = \"RNA\")"
   ]
  },
  {
   "cell_type": "code",
   "execution_count": null,
   "id": "31da5f20-2a3d-43b5-a71f-ae9c9ab5dd1e",
   "metadata": {},
   "outputs": [],
   "source": [
    "%%R\n",
    "srat = AddMetaData(srat, metadata = gd_info)\n",
    "saveRDS(srat, 'GSE178341_gd.rds')"
   ]
  },
  {
   "cell_type": "code",
   "execution_count": null,
   "id": "a997c082-2307-487f-814c-715b6abc83b2",
   "metadata": {},
   "outputs": [],
   "source": []
  },
  {
   "cell_type": "code",
   "execution_count": null,
   "id": "2610c9d7-451f-499e-a70e-7230389860cb",
   "metadata": {},
   "outputs": [],
   "source": [
    "adata = sc.read_h5ad('GSE178341_processed.h5ad')\n",
    "adata_17 = sc.read_h5ad('GSE178341_T17_refined.h5ad')\n",
    "adata_gd = sc.read_h5ad('GSE178341_gd.h5ad')"
   ]
  },
  {
   "cell_type": "code",
   "execution_count": null,
   "id": "67bd1e3b-3e6b-414d-82ce-71a8431979b2",
   "metadata": {},
   "outputs": [],
   "source": [
    "adata.obs['IL17 secreting selected'] = '0'\n",
    "adata.obs['IL17 secreting selected'][adata.obs_names.isin(adata_17.obs_names)] = '1'"
   ]
  },
  {
   "cell_type": "code",
   "execution_count": null,
   "id": "ae08bbce-e5e5-4047-b53e-df4adb8925fe",
   "metadata": {},
   "outputs": [],
   "source": [
    "adata.obs['gdT selected'] = '0'\n",
    "adata.obs['gdT selected'][adata.obs_names.isin(adata_gd.obs_names)] = '1'"
   ]
  },
  {
   "cell_type": "code",
   "execution_count": null,
   "id": "8723ae69-036b-4b9b-a5dc-32248e972e15",
   "metadata": {},
   "outputs": [],
   "source": [
    "from matplotlib.colors import LinearSegmentedColormap\n",
    "values = [0,1]\n",
    "colors = [(227, 227, 227), (255, 42, 18)]\n",
    "norm = plt.Normalize(min(values), max(values))\n",
    "my_cmap = LinearSegmentedColormap.from_list(\n",
    "    '', [(norm(value), tuple(np.array(color) / 255)) for value, color in zip(values, colors)])"
   ]
  },
  {
   "cell_type": "code",
   "execution_count": null,
   "id": "ac6194be-3377-4942-828f-088402925dcd",
   "metadata": {},
   "outputs": [],
   "source": [
    "plt.close()\n",
    "plt.rcParams['axes.linewidth'] = 2\n",
    "plt.rcParams['figure.figsize'] = [8,8]\n",
    "fig = sc.pl.tsne(adata, color=['RORC','IL17A','IL17F','IL17 secreting selected'],\n",
    "                 size =1, ncols = 2, palette = ['#E3E3E3', '#FF2A12'], cmap = my_cmap, return_fig = True, legend_fontsize = 'large')\n",
    "ax = fig.get_axes()\n",
    "for i in range(0,len(ax)):\n",
    "    ax[i].xaxis.label.set_fontsize(22)\n",
    "    ax[i].xaxis.label.set_fontweight('bold')\n",
    "    ax[i].yaxis.label.set_fontsize(22)\n",
    "    ax[i].title.set_fontsize(30)\n",
    "    ax[i].yaxis.label.set_fontweight('bold')\n",
    "    ax[i].title.set_fontweight('bold')\n",
    "fig.savefig('17_selected.png',dpi = 300,bbox_inches='tight') "
   ]
  },
  {
   "cell_type": "code",
   "execution_count": null,
   "id": "24db8b25-9ed5-4b75-9e72-a6bbc39e457a",
   "metadata": {},
   "outputs": [],
   "source": [
    "plt.close()\n",
    "plt.rcParams['axes.linewidth'] = 2\n",
    "plt.rcParams['figure.figsize'] = [8,8]\n",
    "fig = sc.pl.tsne(adata, color=['CD3E','CD3D','CD3G','CD247','TRDC','gdT selected'],\n",
    "                 size =1, ncols = 2, palette = ['#E3E3E3', '#FF2A12'], cmap = my_cmap, return_fig = True, legend_fontsize = 'large')\n",
    "ax = fig.get_axes()\n",
    "for i in range(0,len(ax)):\n",
    "    ax[i].xaxis.label.set_fontsize(22)\n",
    "    ax[i].xaxis.label.set_fontweight('bold')\n",
    "    ax[i].yaxis.label.set_fontsize(22)\n",
    "    ax[i].title.set_fontsize(30)\n",
    "    ax[i].yaxis.label.set_fontweight('bold')\n",
    "    ax[i].title.set_fontweight('bold')\n",
    "fig.savefig('gd_selected.png',dpi = 300,bbox_inches='tight') "
   ]
  },
  {
   "cell_type": "code",
   "execution_count": null,
   "id": "fe2d4ced-7f17-422e-aa5e-45e0338fc3a9",
   "metadata": {},
   "outputs": [],
   "source": []
  }
 ],
 "metadata": {
  "kernelspec": {
   "display_name": "Python 3 (ipykernel)",
   "language": "python",
   "name": "python3"
  },
  "language_info": {
   "codemirror_mode": {
    "name": "ipython",
    "version": 3
   },
   "file_extension": ".py",
   "mimetype": "text/x-python",
   "name": "python",
   "nbconvert_exporter": "python",
   "pygments_lexer": "ipython3",
   "version": "3.9.13"
  }
 },
 "nbformat": 4,
 "nbformat_minor": 5
}
