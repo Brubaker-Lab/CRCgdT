{
 "cells": [
  {
   "cell_type": "code",
   "execution_count": null,
   "id": "586ee7d3-29d5-4a2b-ba57-8706fe56d047",
   "metadata": {
    "tags": []
   },
   "outputs": [],
   "source": [
    "%%R \n",
    "srat_combined = readRDS('GSE245552/COLON/integrated_data.rds')\n",
    "HVG = VariableFeatures(srat_combined)"
   ]
  },
  {
   "cell_type": "code",
   "execution_count": null,
   "id": "8044c827-8285-455d-9041-118788be6c11",
   "metadata": {},
   "outputs": [],
   "source": [
    "%R mat <- srat_combined@assays$integrated@scale.data"
   ]
  },
  {
   "cell_type": "code",
   "execution_count": null,
   "id": "657b2925-dcbe-4d54-b04d-1a920ddb9179",
   "metadata": {},
   "outputs": [],
   "source": [
    "%%R\n",
    "#srat_combined <- RunPCA(srat_combined)\n",
    "pca <- srat_combined[[\"pca\"]]\n",
    "\n",
    "# Get the total variance:\n",
    "total_variance <- sum(matrixStats::rowVars(mat))\n",
    "\n",
    "eigValues = (pca@stdev)^2  ## EigenValues\n",
    "varExplained = eigValues / total_variance\n",
    "\n",
    "PCs = Loadings(srat_combined, reduction = \"pca\")"
   ]
  },
  {
   "cell_type": "code",
   "execution_count": null,
   "id": "9b6faf23-e695-41ce-9497-4254dc104b4d",
   "metadata": {},
   "outputs": [],
   "source": [
    "%%R -o logcounts -o counts\n",
    "merged = JoinLayers(srat_combined@assays$RNA)\n",
    "counts = merged@layers$counts\n",
    "logcounts = merged@layers$data\n",
    "#counts = srat_combined@assays$integrated@counts"
   ]
  },
  {
   "cell_type": "code",
   "execution_count": null,
   "id": "8a931082-d3a5-4f51-989e-bb7221218093",
   "metadata": {},
   "outputs": [],
   "source": [
    "%%R -o features -o HVG -o varExplained -o PCs -o mat -o obs_names -o PC_embeddings -o sample_origin\n",
    "features = rownames(merged)\n",
    "obs_names = colnames(merged)\n",
    "HVG = rownames(srat_combined@assays$integrated)\n",
    "PC_embeddings = srat_combined@reductions$pca@cell.embeddings\n",
    "sample_origin = srat_combined@meta.data$orig.ident"
   ]
  },
  {
   "cell_type": "code",
   "execution_count": null,
   "id": "dee8379d-f75d-4fde-8809-ccbbcc7bb2a8",
   "metadata": {},
   "outputs": [],
   "source": [
    "import anndata\n",
    "adata = anndata.AnnData(X = logcounts.T)\n",
    "adata.var_names = features\n",
    "adata.obs_names = obs_names\n",
    "adata.uns['scaled'] = mat.T\n",
    "adata.layers['counts'] = counts.T\n",
    "#adata.uns['residuals_genes'] = HVG\n",
    "adata.uns['residuals_genes'] = list(HVG)\n",
    "adata.layers['logcounts'] = logcounts.T\n",
    "adata.obsm['X_pca'] = PC_embeddings\n",
    "adata.obs['sample_origin'] = sample_origin"
   ]
  },
  {
   "cell_type": "code",
   "execution_count": null,
   "id": "6f1fd0a8-35f8-4094-af67-1732f09f1433",
   "metadata": {},
   "outputs": [],
   "source": [
    "adata.obs['n_counts'] = adata.layers['counts'].sum(1)\n",
    "adata.obs['n_genes'] = (adata.layers['counts'] > 0).sum(1)\n",
    "adata.var['highly_variable'] = adata.var_names.isin(HVG)\n",
    "adata.uns['pca'] = dict({'variance_ratio': varExplained})"
   ]
  },
  {
   "cell_type": "code",
   "execution_count": null,
   "id": "7911ab59-132d-460b-a805-9990d9459ea3",
   "metadata": {},
   "outputs": [],
   "source": [
    "mt_gene_mask = [gene.startswith('MT-') for gene in adata.var_names]\n",
    "adata.obs['mt_frac'] = np.array(adata.layers['counts'][:, mt_gene_mask].sum(1).ravel())[0]/adata.obs['n_counts']"
   ]
  },
  {
   "cell_type": "code",
   "execution_count": null,
   "id": "00c373ad-1121-4ddf-bcb4-b0ae22533e6c",
   "metadata": {},
   "outputs": [],
   "source": [
    "ribo_gene_mask = [gene.startswith('RPL') or gene.startswith('RPS') for gene in adata.var_names]\n",
    "adata.obs['ribo_frac'] = np.array(adata.layers['counts'][:, ribo_gene_mask].sum(1).ravel())[0]/adata.obs['n_counts']"
   ]
  },
  {
   "cell_type": "code",
   "execution_count": null,
   "id": "35785b4b-8b8f-4af3-9359-bc3e96bc6fb3",
   "metadata": {},
   "outputs": [],
   "source": [
    "sc.pp.neighbors(adata, n_pcs = 50)"
   ]
  },
  {
   "cell_type": "code",
   "execution_count": null,
   "id": "7475f48f-abdb-4d03-a596-fe369d2ab704",
   "metadata": {},
   "outputs": [],
   "source": [
    "sc.tl.leiden(adata, resolution = 0.8, key_added= 'leiden')"
   ]
  },
  {
   "cell_type": "code",
   "execution_count": null,
   "id": "640e75f0-d7de-43a7-a7f8-af1ff09fc74e",
   "metadata": {},
   "outputs": [],
   "source": [
    "sc.pl.pca(adata, color=['leiden','CD4'], legend_loc = 'on data')"
   ]
  },
  {
   "cell_type": "code",
   "execution_count": null,
   "id": "bb868b7d-4139-45c1-b110-433b92c6689f",
   "metadata": {},
   "outputs": [],
   "source": [
    "%matplotlib inline\n",
    "sc.tl.tsne(adata)\n",
    "#plt.close()\n",
    "plt.rcParams['axes.linewidth'] = 2\n",
    "sc.pl.tsne(adata, color=['leiden','CD3E','CD3G','CD3D','TRDC','ICOS','CD4','CD8A','CD8B','FOXP3','IFNG'],legend_loc = 'on data',cmap = my_cmap)"
   ]
  },
  {
   "cell_type": "code",
   "execution_count": null,
   "id": "3356dbd3-22e4-47ca-8de5-d0e8951bd143",
   "metadata": {},
   "outputs": [],
   "source": [
    "adata.write('GSE245552/COLON/integrated.h5ad')"
   ]
  },
  {
   "cell_type": "code",
   "execution_count": null,
   "id": "9256b101-6b81-4fd6-89cf-50b099345ac2",
   "metadata": {},
   "outputs": [],
   "source": [
    "adata = sc.read_h5ad('GSE245552/COLON/integrated.h5ad')"
   ]
  },
  {
   "cell_type": "code",
   "execution_count": null,
   "id": "93177aa6-2c9f-456c-827b-2c1b0eb86221",
   "metadata": {},
   "outputs": [],
   "source": [
    "bioinfo = pd.read_csv('GSE245552/bioinfo.csv')"
   ]
  },
  {
   "cell_type": "code",
   "execution_count": null,
   "id": "b52b558e-308d-438b-b4f3-e9f77d5f2fa6",
   "metadata": {},
   "outputs": [],
   "source": [
    "adata.obs['patient'] = [i.split('_')[1] for i in adata.obs['sample_origin']]"
   ]
  },
  {
   "cell_type": "code",
   "execution_count": null,
   "id": "d2ad7338-1bef-4d31-a6ae-deb2a47ab359",
   "metadata": {},
   "outputs": [],
   "source": [
    "adata.obs['tissue'] = 'CRC'"
   ]
  },
  {
   "cell_type": "code",
   "execution_count": null,
   "id": "94c9dcd1-aed0-4939-b2ba-8fd61cf75609",
   "metadata": {},
   "outputs": [],
   "source": [
    "gender_dict = dict(zip(bioinfo['Patient number'], bioinfo['Gender']))\n",
    "adata.obs['gender'] = [gender_dict[i] for i in adata.obs['patient']]"
   ]
  },
  {
   "cell_type": "code",
   "execution_count": null,
   "id": "4ec403b7-2598-4114-a6b1-f64516ac1755",
   "metadata": {},
   "outputs": [],
   "source": [
    "age_dict = dict(zip(bioinfo['Patient number'], bioinfo['Age']))\n",
    "adata.obs['age'] = [age_dict[i] for i in adata.obs['patient']]"
   ]
  },
  {
   "cell_type": "code",
   "execution_count": null,
   "id": "136d6e4d-a8f0-4de3-85c3-6a309061c3f2",
   "metadata": {},
   "outputs": [],
   "source": [
    "site_dict = dict(zip(bioinfo['Patient number'], bioinfo['Location']))\n",
    "adata.obs['site'] = [site_dict[i] for i in adata.obs['patient']]"
   ]
  },
  {
   "cell_type": "code",
   "execution_count": null,
   "id": "9b866b93-aab0-4eed-b6ce-738ef682c9c3",
   "metadata": {},
   "outputs": [],
   "source": [
    "T_dict = dict(zip(bioinfo['Patient number'], bioinfo['pTNM: T']))\n",
    "adata.obs['TNM_T'] = [T_dict[i] for i in adata.obs['patient']]"
   ]
  },
  {
   "cell_type": "code",
   "execution_count": null,
   "id": "4f01e67e-c604-47a6-bf80-f8ed4e3a1345",
   "metadata": {},
   "outputs": [],
   "source": [
    "N_dict = dict(zip(bioinfo['Patient number'], bioinfo['pTNM: N']))\n",
    "adata.obs['TNM_N'] = [N_dict[i] for i in adata.obs['patient']]"
   ]
  },
  {
   "cell_type": "code",
   "execution_count": null,
   "id": "ad1ac31a-a67a-4829-a6e9-b9e0b7974dda",
   "metadata": {},
   "outputs": [],
   "source": [
    "M_dict = dict(zip(bioinfo['Patient number'], bioinfo['pTNM: M']))\n",
    "adata.obs['TNM_M'] = [M_dict[i] for i in adata.obs['patient']]"
   ]
  },
  {
   "cell_type": "code",
   "execution_count": null,
   "id": "61c39d17-204c-4aa0-97a3-5f6c64c0495f",
   "metadata": {},
   "outputs": [],
   "source": [
    "stage_dict = dict(zip(bioinfo['Patient number'], bioinfo['Stage']))\n",
    "adata.obs['stage'] = [stage_dict[i] for i in adata.obs['patient']]"
   ]
  },
  {
   "cell_type": "code",
   "execution_count": null,
   "id": "36270518-fc67-4931-8a71-b7cc06bb51b2",
   "metadata": {},
   "outputs": [],
   "source": [
    "sc.pl.tsne(adata,color = ['patient','tissue','gender','age','site','TNM_T','TNM_N','TNM_M'])"
   ]
  },
  {
   "cell_type": "code",
   "execution_count": null,
   "id": "6710cb59-249c-4c0a-9750-74a7ff8dff4c",
   "metadata": {},
   "outputs": [],
   "source": [
    "%matplotlib inline\n",
    "plt.rcParams['axes.linewidth'] = 2\n",
    "sc.pl.tsne(adata, color=['leiden','CD3E','CD3G','CD3D','TRDC','RORC','IL17A','CD19'],legend_loc = 'on data',cmap = my_cmap)"
   ]
  },
  {
   "cell_type": "code",
   "execution_count": null,
   "id": "224b0add-98e5-4021-bd0a-1ec0b7364fcb",
   "metadata": {},
   "outputs": [],
   "source": [
    "def DE_to_df(_adata, rank_key, _padj_thresh=0.05, _logfc_thresh=1):\n",
    "    def process_genes(i, direction):\n",
    "        _log2foldmask = (_adata.uns[rank_key]['logfoldchanges'][i].astype('double') >= _logfc_thresh) if direction == \"up\" else (_adata.uns[rank_key]['logfoldchanges'][i].astype('double') <= -_logfc_thresh)\n",
    "        _pvalmask = _adata.uns[rank_key]['pvals_adj'][i].astype('double') <= _padj_thresh\n",
    "        _additional = pd.DataFrame({\n",
    "            i: _adata.uns[rank_key]['names'][i].astype('str')[_log2foldmask & _pvalmask],\n",
    "            'logfoldchanges_'+i: np.abs(_adata.uns[rank_key]['logfoldchanges'][i].astype('double')[_log2foldmask & _pvalmask])\n",
    "        })\n",
    "        _ribo_gene_mask = [gene.startswith('RPL') or gene.startswith('RPS') for gene in _additional[i]]\n",
    "        _mt_gene_mask = [gene.startswith('MT-') for gene in _additional[i]]\n",
    "        if len(_ribo_gene_mask)>0 and len(_mt_gene_mask)>0:\n",
    "            _drop_id = np.array(np.array(_ribo_gene_mask) | np.array(_mt_gene_mask))\n",
    "            _additional = _additional.sort_values(by='logfoldchanges_'+i, ascending=False)\n",
    "            _additional = _additional.iloc[_drop_id==False, :].reset_index(drop=True)\n",
    "        return _additional\n",
    "\n",
    "    _pass_genes_up = pd.DataFrame()\n",
    "    _pass_genes_down = pd.DataFrame()\n",
    "\n",
    "    for i in set(_adata.uns[rank_key]['pvals_adj'].dtype.names):\n",
    "\n",
    "        _pass_genes_up = pd.concat([_pass_genes_up, process_genes(i, \"up\")[i]], ignore_index=False, axis=1)\n",
    "        _pass_genes_down = pd.concat([_pass_genes_down, process_genes(i, \"down\")[i]], ignore_index=False, axis=1)\n",
    "\n",
    "        \n",
    "    return _pass_genes_up, _pass_genes_down"
   ]
  },
  {
   "cell_type": "code",
   "execution_count": null,
   "id": "35cabd57-cd63-41b1-9367-8d7e5aa124e5",
   "metadata": {},
   "outputs": [],
   "source": [
    "sc.tl.rank_genes_groups(adata, groupby='leiden', key_added='rank',method = 'wilcoxon')"
   ]
  },
  {
   "cell_type": "code",
   "execution_count": null,
   "id": "6fb7f4c7-c45f-42fc-9b6c-59b7519b2ae7",
   "metadata": {},
   "outputs": [],
   "source": [
    "[pass_genes_up, pass_genes_down] = DE_to_df(adata, rank_key='rank', _padj_thresh = 0.05, _logfc_thresh = 5)"
   ]
  },
  {
   "cell_type": "code",
   "execution_count": null,
   "id": "c37a52ea-0532-45a1-92a5-526b678c569e",
   "metadata": {},
   "outputs": [],
   "source": [
    "pass_genes_up['0'].dropna()"
   ]
  },
  {
   "cell_type": "code",
   "execution_count": null,
   "id": "59ec569f-2aa3-4aa8-8be9-7c3267340e62",
   "metadata": {},
   "outputs": [],
   "source": [
    "potential_17 = adata[adata.obs['leiden'].isin(['8']),:]"
   ]
  },
  {
   "cell_type": "code",
   "execution_count": null,
   "id": "5b2b974d-2dc3-4f7e-b9b7-bff90f79428e",
   "metadata": {},
   "outputs": [],
   "source": [
    "del potential_17.uns"
   ]
  },
  {
   "cell_type": "code",
   "execution_count": null,
   "id": "3bfbb357-283e-4fc7-978d-09ec0b38941d",
   "metadata": {},
   "outputs": [],
   "source": [
    "sc.pp.highly_variable_genes(potential_17, flavor='seurat', n_top_genes=3000)\n",
    "sc.pp.pca(potential_17, n_comps=50, use_highly_variable=True, svd_solver='arpack')"
   ]
  },
  {
   "cell_type": "code",
   "execution_count": null,
   "id": "855045e2-f488-4351-a561-2a6dd483e911",
   "metadata": {},
   "outputs": [],
   "source": [
    "sc.pp.neighbors(potential_17, n_neighbors = 15, n_pcs = 50)\n",
    "sc.tl.leiden(potential_17, resolution = 1, key_added= 'leiden')                                                 "
   ]
  },
  {
   "cell_type": "code",
   "execution_count": null,
   "id": "c2680325-3526-471f-9586-809c6092f16d",
   "metadata": {},
   "outputs": [],
   "source": [
    "sc.tl.tsne(potential_17)"
   ]
  },
  {
   "cell_type": "code",
   "execution_count": null,
   "id": "e2968746-212a-47da-a05e-861c71980094",
   "metadata": {},
   "outputs": [],
   "source": [
    "%matplotlib inline\n",
    "sc.pl.tsne(potential_17, color=['leiden','RORC','IL17A','IL17F'],size = 50,cmap = my_cmap)"
   ]
  },
  {
   "cell_type": "code",
   "execution_count": null,
   "id": "c7699393-d724-43ad-a677-583afecfe708",
   "metadata": {},
   "outputs": [],
   "source": [
    "plt.rcParams['figure.figsize'] = [8,8]\n",
    "sc.tl.leiden(potential_17, restrict_to = ('leiden', ['1']), resolution = 0.6, key_added= 'leiden1')\n",
    "sc.pl.tsne(potential_17, color=['leiden1','RORC','IL17A','IL17F'], size = 20, legend_loc = 'on data', cmap = my_cmap)"
   ]
  },
  {
   "cell_type": "code",
   "execution_count": null,
   "id": "5b43c4b2-0c10-446d-bba3-9f633c44ebda",
   "metadata": {},
   "outputs": [],
   "source": [
    "IL17_genesmask = [gene.startswith(\"IL17\") and gene.startswith(\"IL17R\")==0 for gene in potential_17.var_names]\n",
    "IL17_genes = potential_17.var_names[IL17_genesmask]\n",
    "IL17_exp_set ={\n",
    "    'cytokine': IL17_genes, 'TF': 'RORC'\n",
    "}\n",
    "sc.pl.dotplot(potential_17,IL17_exp_set,groupby = 'leiden1' , vmax = 1, swap_axes = False, dot_min =0.1, dot_max =1,standard_scale = 'var')"
   ]
  },
  {
   "cell_type": "code",
   "execution_count": null,
   "id": "eb8a139d-b1e3-48ce-9aed-951a6caea3ff",
   "metadata": {},
   "outputs": [],
   "source": [
    "T17_1 = potential_17[potential_17.obs['leiden'].isin(['1,2','1,3'])==0,:]"
   ]
  },
  {
   "cell_type": "code",
   "execution_count": null,
   "id": "a65605d5-62dc-4fda-a639-339bb440bec3",
   "metadata": {},
   "outputs": [],
   "source": [
    "potential_17 = adata[adata.obs['leiden'].isin(['6']),:]"
   ]
  },
  {
   "cell_type": "code",
   "execution_count": null,
   "id": "824468cf-0e7d-45d4-9c21-a1bfd703a503",
   "metadata": {},
   "outputs": [],
   "source": [
    "del potential_17.uns"
   ]
  },
  {
   "cell_type": "code",
   "execution_count": null,
   "id": "9846ba93-78c6-4395-9ae9-c2411bfa6a35",
   "metadata": {},
   "outputs": [],
   "source": [
    "sc.pp.highly_variable_genes(potential_17, flavor='seurat', n_top_genes=3000)\n",
    "sc.pp.pca(potential_17, n_comps=50, use_highly_variable=True, svd_solver='arpack')"
   ]
  },
  {
   "cell_type": "code",
   "execution_count": null,
   "id": "04688fea-93d4-4d96-9d0e-b628a71a17a2",
   "metadata": {},
   "outputs": [],
   "source": [
    "sc.pp.neighbors(potential_17, n_neighbors = 15, n_pcs = 50)\n",
    "sc.tl.leiden(potential_17, resolution = 1, key_added= 'leiden')                                                 "
   ]
  },
  {
   "cell_type": "code",
   "execution_count": null,
   "id": "02b8dd9e-a915-4ffe-b312-d20afc264247",
   "metadata": {},
   "outputs": [],
   "source": [
    "sc.tl.tsne(potential_17)"
   ]
  },
  {
   "cell_type": "code",
   "execution_count": null,
   "id": "912252de-d6b3-4be9-938b-4793627d815d",
   "metadata": {},
   "outputs": [],
   "source": [
    "%matplotlib inline\n",
    "sc.pl.tsne(potential_17, color=['leiden','RORC','IL17A','IL17F'],size = 40,cmap = my_cmap)"
   ]
  },
  {
   "cell_type": "code",
   "execution_count": null,
   "id": "6db09330-e426-43e1-a2dd-265880171dcf",
   "metadata": {},
   "outputs": [],
   "source": [
    "plt.rcParams['figure.figsize'] = [8,8]\n",
    "sc.tl.leiden(potential_17, restrict_to = ('leiden', ['1']), resolution = 0.5, key_added= 'leiden1')\n",
    "sc.pl.tsne(potential_17, color=['leiden1','RORC','IL17A','IL17F'], size = 20, legend_loc = 'on data', cmap = my_cmap)"
   ]
  },
  {
   "cell_type": "code",
   "execution_count": null,
   "id": "3a2d3718-2bce-4ba3-80db-472edfbc0e8d",
   "metadata": {},
   "outputs": [],
   "source": [
    "plt.rcParams['figure.figsize'] = [8,8]\n",
    "sc.tl.leiden(potential_17, restrict_to = ('leiden1', ['5']), resolution = 0.4, key_added= 'leiden2')\n",
    "sc.pl.tsne(potential_17, color=['leiden2','RORC','IL17A','IL17F'], size = 20, legend_loc = 'on data', cmap = my_cmap)"
   ]
  },
  {
   "cell_type": "code",
   "execution_count": null,
   "id": "65f09406-2a73-4e28-9da7-df1a7c89089e",
   "metadata": {
    "tags": []
   },
   "outputs": [],
   "source": [
    "IL17_genesmask = [gene.startswith(\"IL17\") and gene.startswith(\"IL17R\")==0 for gene in potential_17.var_names]\n",
    "IL17_genes = potential_17.var_names[IL17_genesmask]\n",
    "IL17_exp_set ={\n",
    "    'cytokine': IL17_genes, 'TF': 'RORC'\n",
    "}\n",
    "sc.pl.dotplot(potential_17,IL17_exp_set,groupby = 'leiden2' , vmax = 1, swap_axes = False, dot_min =0.1, dot_max =1,standard_scale = 'var')"
   ]
  },
  {
   "cell_type": "code",
   "execution_count": null,
   "id": "f7a873f6-4650-488c-994f-504afef49034",
   "metadata": {},
   "outputs": [],
   "source": [
    "T17_2 = potential_17[potential_17.obs['leiden2'].isin(['1,1','1,0','5,2']),:]"
   ]
  },
  {
   "cell_type": "code",
   "execution_count": null,
   "id": "764b65f7-db9b-47f1-b295-687e920c1722",
   "metadata": {},
   "outputs": [],
   "source": [
    "potential_17 = adata[adata.obs['leiden'].isin(['1']),:]"
   ]
  },
  {
   "cell_type": "code",
   "execution_count": null,
   "id": "e136a6b8-bf62-4a12-b85a-6ce2b7ddd9e4",
   "metadata": {},
   "outputs": [],
   "source": [
    "del potential_17.uns"
   ]
  },
  {
   "cell_type": "code",
   "execution_count": null,
   "id": "47e58fbe-25f8-4432-a952-c970b2e3b260",
   "metadata": {},
   "outputs": [],
   "source": [
    "sc.pp.highly_variable_genes(potential_17, flavor='seurat', n_top_genes=3000)\n",
    "sc.pp.pca(potential_17, n_comps=50, use_highly_variable=True, svd_solver='arpack')"
   ]
  },
  {
   "cell_type": "code",
   "execution_count": null,
   "id": "92841154-8405-435c-9549-2a085b926d1f",
   "metadata": {},
   "outputs": [],
   "source": [
    "sc.pp.neighbors(potential_17, n_neighbors = 15, n_pcs = 50)\n",
    "sc.tl.leiden(potential_17, resolution = 1, key_added= 'leiden')                                                 "
   ]
  },
  {
   "cell_type": "code",
   "execution_count": null,
   "id": "19d9b0e7-9ed9-43b2-8511-364a0bb773b4",
   "metadata": {},
   "outputs": [],
   "source": [
    "sc.tl.tsne(potential_17)"
   ]
  },
  {
   "cell_type": "code",
   "execution_count": null,
   "id": "ee0addc8-1192-4fc5-b7ed-510caf352772",
   "metadata": {},
   "outputs": [],
   "source": [
    "%matplotlib inline\n",
    "sc.pl.tsne(potential_17, color=['leiden','RORC','IL17A','IL17F'],size = 40,cmap = my_cmap)"
   ]
  },
  {
   "cell_type": "code",
   "execution_count": null,
   "id": "2d7b75e4-abcc-4c33-91d0-ab5c1c2c2b46",
   "metadata": {},
   "outputs": [],
   "source": [
    "plt.rcParams['figure.figsize'] = [8,8]\n",
    "sc.tl.leiden(potential_17, restrict_to = ('leiden', ['1']), resolution = 0.6, key_added= 'leiden1')\n",
    "sc.pl.tsne(potential_17, color=['leiden1','RORC','IL17A','IL17F'], size = 20, legend_loc = 'on data', cmap = my_cmap)"
   ]
  },
  {
   "cell_type": "code",
   "execution_count": null,
   "id": "ec098287-c82c-4fff-89e5-de172aa56826",
   "metadata": {
    "tags": []
   },
   "outputs": [],
   "source": [
    "IL17_genesmask = [gene.startswith(\"IL17\") and gene.startswith(\"IL17R\")==0 for gene in potential_17.var_names]\n",
    "IL17_genes = potential_17.var_names[IL17_genesmask]\n",
    "IL17_exp_set ={\n",
    "    'cytokine': IL17_genes, 'TF': 'RORC'\n",
    "}\n",
    "sc.pl.dotplot(potential_17,IL17_exp_set,groupby = 'leiden1' , vmax = 1, swap_axes = False, dot_min =0.1, dot_max =1,standard_scale = 'var')"
   ]
  },
  {
   "cell_type": "code",
   "execution_count": null,
   "id": "fd108873-48dd-4b8b-80ed-9077e9cf1608",
   "metadata": {},
   "outputs": [],
   "source": [
    "T17_3 = potential_17[potential_17.obs['leiden1'].isin(['1,3']),:]"
   ]
  },
  {
   "cell_type": "code",
   "execution_count": null,
   "id": "b71f6c0d-8c0b-4279-977c-b71964585603",
   "metadata": {},
   "outputs": [],
   "source": [
    "adata_17 = T17_1.concatenate(T17_2,T17_3, batch_key = 'original_cluster', batch_categories=['8','6','1'],join = 'outer',fill_value=0)"
   ]
  },
  {
   "cell_type": "code",
   "execution_count": null,
   "id": "041544a3-2476-4f7f-8c40-f92a16ec4183",
   "metadata": {},
   "outputs": [],
   "source": [
    "sc.pp.highly_variable_genes(adata_17, flavor='seurat', n_top_genes=3000)\n",
    "sc.pp.pca(adata_17, n_comps=50, use_highly_variable=True, svd_solver='arpack')"
   ]
  },
  {
   "cell_type": "code",
   "execution_count": null,
   "id": "e5c92df7-e89e-4a03-8df5-b1c3599d9f3c",
   "metadata": {},
   "outputs": [],
   "source": [
    "sc.pp.neighbors(adata_17, n_neighbors = 15, n_pcs = 50)\n",
    "sc.tl.leiden(adata_17, resolution = 1, key_added= 'leiden')                                                 "
   ]
  },
  {
   "cell_type": "code",
   "execution_count": null,
   "id": "21a10d0c-89fc-40b9-aeb3-b31ec36213c2",
   "metadata": {},
   "outputs": [],
   "source": [
    "sc.tl.tsne(adata_17)"
   ]
  },
  {
   "cell_type": "code",
   "execution_count": null,
   "id": "0cf6e0ff-0f8b-40c9-a93c-a4c8271c97a1",
   "metadata": {},
   "outputs": [],
   "source": [
    "%matplotlib inline\n",
    "sc.pl.tsne(adata_17, color=['leiden','RORC','IL17A','IL17F'],size = 40,cmap = my_cmap)"
   ]
  },
  {
   "cell_type": "code",
   "execution_count": null,
   "id": "e426f341-7a1c-4cbc-87bb-0e1d557aaea9",
   "metadata": {},
   "outputs": [],
   "source": [
    "added = adata[adata.obs['leiden']=='24',:]"
   ]
  },
  {
   "cell_type": "code",
   "execution_count": null,
   "id": "cd88b01b-91d7-498a-bb92-971abebba32a",
   "metadata": {},
   "outputs": [],
   "source": [
    "adata_17 = adata_17.concatenate(added,join = 'outer',fill_value=0, index_unique = None)"
   ]
  },
  {
   "cell_type": "code",
   "execution_count": null,
   "id": "db5a4b05-ca43-4b0e-9afd-30636c5d1698",
   "metadata": {},
   "outputs": [],
   "source": [
    "adata_17.write('GSE245552_T17.h5ad')"
   ]
  },
  {
   "cell_type": "code",
   "execution_count": null,
   "id": "daf89d3c-2ffa-4222-916d-18c6b8e9653f",
   "metadata": {},
   "outputs": [],
   "source": []
  },
  {
   "cell_type": "code",
   "execution_count": null,
   "id": "6d4f13e1-d177-4d0e-b849-3dc332746a74",
   "metadata": {},
   "outputs": [],
   "source": []
  },
  {
   "cell_type": "code",
   "execution_count": null,
   "id": "4abdd347-2656-4364-bb8a-eb3140e43fdd",
   "metadata": {},
   "outputs": [],
   "source": []
  },
  {
   "cell_type": "code",
   "execution_count": null,
   "id": "5bd277d7-71fd-4407-a7cb-66d04316da39",
   "metadata": {},
   "outputs": [],
   "source": [
    "potential_gd = adata[adata.obs['leiden'].isin(['11']),:]"
   ]
  },
  {
   "cell_type": "code",
   "execution_count": null,
   "id": "3f455335",
   "metadata": {},
   "outputs": [],
   "source": [
    "sc.pp.highly_variable_genes(potential_gd, flavor='seurat', n_top_genes=3000)\n",
    "sc.pp.pca(potential_gd, n_comps=50, use_highly_variable=True, svd_solver='arpack')"
   ]
  },
  {
   "cell_type": "code",
   "execution_count": null,
   "id": "ea6380c2",
   "metadata": {},
   "outputs": [],
   "source": [
    "sc.pp.neighbors(potential_gd, n_neighbors = 15, n_pcs = 50)\n",
    "sc.tl.leiden(potential_gd, resolution = 1, key_added= 'leiden')                                                 "
   ]
  },
  {
   "cell_type": "code",
   "execution_count": null,
   "id": "a71612cb",
   "metadata": {},
   "outputs": [],
   "source": [
    "sc.tl.tsne(potential_gd)"
   ]
  },
  {
   "cell_type": "code",
   "execution_count": null,
   "id": "383e52e5",
   "metadata": {},
   "outputs": [],
   "source": [
    "%matplotlib inline\n",
    "sc.pl.tsne(potential_gd, color=['leiden','CD3E','CD3G','CD3D','TRDC','ICOS','CD4','CD8A','CD8B','FOXP3'],cmap = my_cmap)"
   ]
  },
  {
   "cell_type": "code",
   "execution_count": null,
   "id": "c94d90a9-571d-4aa8-90da-fd84d243ab56",
   "metadata": {
    "tags": []
   },
   "outputs": [],
   "source": [
    "plt.rcParams['figure.figsize'] = [8,8]\n",
    "sc.tl.leiden(potential_gd, restrict_to = ('leiden', ['8']), resolution = 0.8, key_added= 'leiden1')\n",
    "sc.pl.tsne(potential_gd, color=['leiden1','CD3E','CD3G','CD3D','TRDC'], size = 20, legend_loc = 'on data', cmap = my_cmap)"
   ]
  },
  {
   "cell_type": "code",
   "execution_count": null,
   "id": "0e54bfb0-254c-473b-8d87-7996cdefd08b",
   "metadata": {
    "tags": []
   },
   "outputs": [],
   "source": [
    "plt.rcParams['figure.figsize'] = [8,8]\n",
    "sc.tl.leiden(potential_gd, restrict_to = ('leiden1', ['6']), resolution = 0.6, key_added= 'leiden2')\n",
    "sc.pl.tsne(potential_gd, color=['leiden2','CD3E','CD3G','CD3D','TRDC'], size = 20, legend_loc = 'on data', cmap = my_cmap)"
   ]
  },
  {
   "cell_type": "code",
   "execution_count": null,
   "id": "73820a46-ee01-4a92-a765-fc2276e9134d",
   "metadata": {
    "tags": []
   },
   "outputs": [],
   "source": [
    "plt.rcParams['figure.figsize'] = [8,8]\n",
    "sc.tl.leiden(potential_gd, restrict_to = ('leiden2', ['10']), resolution = 0.3, key_added= 'leiden3')\n",
    "sc.pl.tsne(potential_gd, color=['leiden3','CD3E','CD3G','CD3D','TRDC'], size = 20, legend_loc = 'on data', cmap = my_cmap)"
   ]
  },
  {
   "cell_type": "code",
   "execution_count": null,
   "id": "63925872-d423-41f3-b0aa-6c630f9477dd",
   "metadata": {
    "tags": []
   },
   "outputs": [],
   "source": [
    "plt.rcParams['figure.figsize'] = [8,8]\n",
    "sc.tl.leiden(potential_gd, restrict_to = ('leiden3', ['3']), resolution = 0.5, key_added= 'leiden4')\n",
    "sc.pl.tsne(potential_gd, color=['leiden4','CD3E','CD3G','CD3D','TRDC'], size = 20, legend_loc = 'on data', cmap = my_cmap)"
   ]
  },
  {
   "cell_type": "code",
   "execution_count": null,
   "id": "c44f67c5-4f7d-4ffb-87cb-3766b7d33ab5",
   "metadata": {
    "tags": []
   },
   "outputs": [],
   "source": [
    "plt.rcParams['figure.figsize'] = [8,8]\n",
    "sc.tl.leiden(potential_gd, restrict_to = ('leiden3', ['6']), resolution = 0.5, key_added= 'leiden4')\n",
    "sc.pl.tsne(potential_gd, color=['leiden4','CD3E','CD3G','CD3D','TRDC'], size = 20, legend_loc = 'on data', cmap = my_cmap)"
   ]
  },
  {
   "cell_type": "code",
   "execution_count": null,
   "id": "cc2c8ce9-868c-4bca-b11d-94abd5c0880c",
   "metadata": {},
   "outputs": [],
   "source": [
    "gamma_genesmask = [gene.startswith(\"TRG\") for gene in potential_gd.var_names]\n",
    "gamma_genes = potential_gd.var_names[gamma_genesmask]\n",
    "delta_genesmask = [gene.startswith(\"TRD\") for gene in potential_gd.var_names]\n",
    "delta_genes = potential_gd.var_names[delta_genesmask]"
   ]
  },
  {
   "cell_type": "code",
   "execution_count": null,
   "id": "32dc9ecb-8db8-43e9-bac2-a6cd65303b6a",
   "metadata": {},
   "outputs": [],
   "source": [
    "TCR_exp_set ={\n",
    "\"gamma\": gamma_genes, \"delta\": delta_genes, \"CD3S\": ['CD3E','CD3D','CD3G']\n",
    "}\n",
    "sc.pl.dotplot(potential_gd,TCR_exp_set,groupby = 'leiden1' , vmax = 1, swap_axes = False, dot_min =0, dot_max =1,standard_scale = 'var')"
   ]
  },
  {
   "cell_type": "code",
   "execution_count": null,
   "id": "234e5472-9c60-485d-9942-ade2434a92aa",
   "metadata": {},
   "outputs": [],
   "source": [
    "gd = potential_gd[potential_gd.obs['leiden1'].isin(['0','1','2','3','6','7','8,1','11']),:]"
   ]
  },
  {
   "cell_type": "code",
   "execution_count": null,
   "id": "6e28cc88-ea83-4f26-889b-9ed7a9395f6c",
   "metadata": {},
   "outputs": [],
   "source": [
    "sc.pl.dotplot(gd,TCR_exp_set,groupby = 'leiden1' , vmax = 1, swap_axes = False, dot_min =0, dot_max =1,standard_scale = 'var')"
   ]
  },
  {
   "cell_type": "code",
   "execution_count": null,
   "id": "1b153b3d-5268-4da5-8b38-89131ec7a5c5",
   "metadata": {},
   "outputs": [],
   "source": [
    "gd.write('GSE245552/COLON/GSE245552_gd.h5ad')"
   ]
  },
  {
   "cell_type": "code",
   "execution_count": null,
   "id": "1fea3b8e-f6b2-4ce8-b86e-dc78becccb04",
   "metadata": {},
   "outputs": [],
   "source": [
    "sc.pl.tsne(gd,color = ['RORC','IL17A'],cmap = my_cmap)"
   ]
  },
  {
   "cell_type": "code",
   "execution_count": null,
   "id": "16c8e2c1-aeab-4f14-9011-eadef33d7f8a",
   "metadata": {},
   "outputs": [],
   "source": [
    "adata_gd = sc.read_h5ad('GSE245552/COLON/GSE245552_gd.h5ad')"
   ]
  },
  {
   "cell_type": "code",
   "execution_count": null,
   "id": "a81f3929-7fcc-4932-bc02-85f0cffcdf1c",
   "metadata": {},
   "outputs": [],
   "source": [
    "bioinfo = pd.read_csv('GSE245552/bioinfo.csv')"
   ]
  },
  {
   "cell_type": "code",
   "execution_count": null,
   "id": "c4f91bba-d7b9-4a92-ae21-7082d75d5799",
   "metadata": {},
   "outputs": [],
   "source": [
    "bioinfo"
   ]
  },
  {
   "cell_type": "code",
   "execution_count": null,
   "id": "e8c14124-e260-457e-a463-dc05d6d4756f",
   "metadata": {},
   "outputs": [],
   "source": [
    "adata_gd.obs['patient'] = [i.split('_')[1] for i in adata_gd.obs['sample_origin']]"
   ]
  },
  {
   "cell_type": "code",
   "execution_count": null,
   "id": "a5222bb0-a024-4503-ada2-fffb3d9f5aa9",
   "metadata": {},
   "outputs": [],
   "source": [
    "adata_gd.obs['tissue'] = 'CRC'"
   ]
  },
  {
   "cell_type": "code",
   "execution_count": null,
   "id": "e8bfa76c-305d-4e03-bb66-cfaed69b1fe9",
   "metadata": {},
   "outputs": [],
   "source": [
    "gender_dict = dict(zip(bioinfo['Patient number'], bioinfo['Gender']))\n",
    "adata_gd.obs['gender'] = [gender_dict[i] for i in adata_gd.obs['patient']]"
   ]
  },
  {
   "cell_type": "code",
   "execution_count": null,
   "id": "ab5c6d94-07c8-4d79-891e-fac87d578939",
   "metadata": {},
   "outputs": [],
   "source": [
    "age_dict = dict(zip(bioinfo['Patient number'], bioinfo['Age']))\n",
    "adata_gd.obs['age'] = [age_dict[i] for i in adata_gd.obs['patient']]"
   ]
  },
  {
   "cell_type": "code",
   "execution_count": null,
   "id": "9af06a6e-d5f4-4dd4-afa9-55a1774be2d4",
   "metadata": {},
   "outputs": [],
   "source": [
    "site_dict = dict(zip(bioinfo['Patient number'], bioinfo['Location']))\n",
    "adata_gd.obs['site'] = [site_dict[i] for i in adata_gd.obs['patient']]"
   ]
  },
  {
   "cell_type": "code",
   "execution_count": null,
   "id": "b4dbbf2c-c509-44cb-96df-353688479786",
   "metadata": {},
   "outputs": [],
   "source": [
    "T_dict = dict(zip(bioinfo['Patient number'], bioinfo['pTNM: T']))\n",
    "adata_gd.obs['TNM_T'] = [T_dict[i] for i in adata_gd.obs['patient']]"
   ]
  },
  {
   "cell_type": "code",
   "execution_count": null,
   "id": "9745ad33-881f-44d1-b552-a25d0d7f0fc8",
   "metadata": {},
   "outputs": [],
   "source": [
    "N_dict = dict(zip(bioinfo['Patient number'], bioinfo['pTNM: N']))\n",
    "adata_gd.obs['TNM_N'] = [N_dict[i] for i in adata_gd.obs['patient']]"
   ]
  },
  {
   "cell_type": "code",
   "execution_count": null,
   "id": "a099613b-cccc-4a13-8e5a-b6b9b08908d8",
   "metadata": {},
   "outputs": [],
   "source": [
    "M_dict = dict(zip(bioinfo['Patient number'], bioinfo['pTNM: M']))\n",
    "adata_gd.obs['TNM_M'] = [M_dict[i] for i in adata_gd.obs['patient']]"
   ]
  },
  {
   "cell_type": "code",
   "execution_count": null,
   "id": "71a3fbff-4bcf-4e15-bdee-8bff382b9e88",
   "metadata": {},
   "outputs": [],
   "source": [
    "stage_dict = dict(zip(bioinfo['Patient number'], bioinfo['Stage']))\n",
    "adata_gd.obs['stage'] = [stage_dict[i] for i in adata_gd.obs['patient']]"
   ]
  },
  {
   "cell_type": "code",
   "execution_count": null,
   "id": "c89156dc-182a-44f5-ab6b-9f66458c93b1",
   "metadata": {},
   "outputs": [],
   "source": [
    "sc.pl.tsne(adata_gd,color = ['patient','tissue','gender','age','site','TNM_T','TNM_N','TNM_M'])"
   ]
  },
  {
   "cell_type": "code",
   "execution_count": null,
   "id": "435c1ae3-3eea-409c-b4fd-9f84de563158",
   "metadata": {},
   "outputs": [],
   "source": [
    "adata_gd.obs[['patient','tissue','gender','age','site','TNM_T','TNM_N','TNM_M','stage']].to_csv('GSE245552_gd.csv')"
   ]
  },
  {
   "cell_type": "code",
   "execution_count": null,
   "id": "c25accea-bdbf-4684-82b4-0ec97bac3cab",
   "metadata": {},
   "outputs": [],
   "source": [
    "adata_gd.write('GSE245552/GSE245552_gd.h5ad')"
   ]
  },
  {
   "cell_type": "code",
   "execution_count": null,
   "id": "cf12c5ff-640e-4694-bfaa-512e821da895",
   "metadata": {},
   "outputs": [],
   "source": []
  },
  {
   "cell_type": "code",
   "execution_count": null,
   "id": "54f2020a-8c97-4e38-879f-ab7324b73a1f",
   "metadata": {},
   "outputs": [],
   "source": [
    "from matplotlib.colors import LinearSegmentedColormap\n",
    "values = [0,1]\n",
    "colors = [(227, 227, 227), (255, 42, 18)]\n",
    "norm = plt.Normalize(min(values), max(values))\n",
    "my_cmap = LinearSegmentedColormap.from_list(\n",
    "    '', [(norm(value), tuple(np.array(color) / 255)) for value, color in zip(values, colors)])"
   ]
  },
  {
   "cell_type": "code",
   "execution_count": null,
   "id": "ced8e5ab-9f75-4cad-a14e-f31893270922",
   "metadata": {},
   "outputs": [],
   "source": [
    "adata = sc.read_h5ad('integrated.h5ad')\n",
    "adata_17 = sc.read_h5ad('GSE245552_T17.h5ad')\n",
    "adata_gd = sc.read_h5ad('GSE245552_gd.h5ad')"
   ]
  },
  {
   "cell_type": "code",
   "execution_count": null,
   "id": "5d01ffd3-f3fd-41e0-b416-dadcf1116696",
   "metadata": {},
   "outputs": [],
   "source": [
    "adata_17 = sc.read_h5ad('GSE245552_T17.h5ad')"
   ]
  },
  {
   "cell_type": "code",
   "execution_count": null,
   "id": "01d7bf1e-6d1f-4de5-970c-f7c67722fd8e",
   "metadata": {},
   "outputs": [],
   "source": [
    "adata_17.write('GSE245552_T17.h5ad')"
   ]
  },
  {
   "cell_type": "code",
   "execution_count": null,
   "id": "e971cb0a-1470-4784-81a9-ff529d82f4e5",
   "metadata": {},
   "outputs": [],
   "source": [
    "adata_17.obs[['patient','tissue','gender','age','site','stage','TNM_T','TNM_N','TNM_M']].to_csv('GSE245552_T17.csv')"
   ]
  },
  {
   "cell_type": "code",
   "execution_count": null,
   "id": "5e4cdf70-e8ea-4e75-8b5b-bfb6b890eb10",
   "metadata": {},
   "outputs": [],
   "source": [
    "adata.obs['IL17 secreting selected'] = '0'\n",
    "adata.obs['IL17 secreting selected'][adata.obs_names.isin(adata_17.obs_names)] = '1'"
   ]
  },
  {
   "cell_type": "code",
   "execution_count": null,
   "id": "18813c13-5ac2-4128-bf02-67bc7af93d13",
   "metadata": {},
   "outputs": [],
   "source": [
    "adata.obs['gdT selected'] = '0'\n",
    "adata.obs['gdT selected'][adata.obs_names.isin(adata_gd.obs_names)] = '1'"
   ]
  },
  {
   "cell_type": "code",
   "execution_count": null,
   "id": "404ad6f3-c829-4b94-9f11-eb81e53e9ced",
   "metadata": {},
   "outputs": [],
   "source": [
    "plt.close()\n",
    "plt.rcParams['axes.linewidth'] = 2\n",
    "plt.rcParams['figure.figsize'] = [8,8]\n",
    "fig = sc.pl.tsne(adata, color=['RORC','IL17A','IL17F','IL17 secreting selected'],\n",
    "                 size =10, ncols = 2, palette = ['#E3E3E3', '#FF2A12'], cmap = my_cmap, return_fig = True, legend_fontsize = 'large', vmax = 4)\n",
    "ax = fig.get_axes()\n",
    "for i in range(0,len(ax)):\n",
    "    ax[i].xaxis.label.set_fontsize(22)\n",
    "    ax[i].xaxis.label.set_fontweight('bold')\n",
    "    ax[i].yaxis.label.set_fontsize(22)\n",
    "    ax[i].title.set_fontsize(30)\n",
    "    ax[i].yaxis.label.set_fontweight('bold')\n",
    "    ax[i].title.set_fontweight('bold')\n",
    "fig.savefig('17_selected.png',dpi = 300,bbox_inches='tight') "
   ]
  },
  {
   "cell_type": "code",
   "execution_count": null,
   "id": "61fa8451-e0ca-42f7-ab0f-f4b2f92c8df9",
   "metadata": {},
   "outputs": [],
   "source": [
    "plt.close()\n",
    "plt.rcParams['axes.linewidth'] = 2\n",
    "plt.rcParams['figure.figsize'] = [8,8]\n",
    "fig = sc.pl.tsne(adata, color=['CD3E','CD3D','CD3G','CD247','TRDC','gdT selected'],\n",
    "                 size =20, ncols = 2, palette = ['#E3E3E3', '#FF2A12'], cmap = my_cmap, return_fig = True, legend_fontsize = 'large')\n",
    "ax = fig.get_axes()\n",
    "for i in range(0,len(ax)):\n",
    "    ax[i].xaxis.label.set_fontsize(22)\n",
    "    ax[i].xaxis.label.set_fontweight('bold')\n",
    "    ax[i].yaxis.label.set_fontsize(22)\n",
    "    ax[i].title.set_fontsize(30)\n",
    "    ax[i].yaxis.label.set_fontweight('bold')\n",
    "    ax[i].title.set_fontweight('bold')\n",
    "fig.savefig('gd_selected.png',dpi = 300,bbox_inches='tight') "
   ]
  },
  {
   "cell_type": "code",
   "execution_count": null,
   "id": "7e4dcb9f-af30-456e-b6fb-cbb9df5c7700",
   "metadata": {},
   "outputs": [],
   "source": []
  }
 ],
 "metadata": {
  "kernelspec": {
   "display_name": "Python 3 (ipykernel)",
   "language": "python",
   "name": "python3"
  },
  "language_info": {
   "codemirror_mode": {
    "name": "ipython",
    "version": 3
   },
   "file_extension": ".py",
   "mimetype": "text/x-python",
   "name": "python",
   "nbconvert_exporter": "python",
   "pygments_lexer": "ipython3",
   "version": "3.9.13"
  }
 },
 "nbformat": 4,
 "nbformat_minor": 5
}
