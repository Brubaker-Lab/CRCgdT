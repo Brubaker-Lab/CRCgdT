{
 "cells": [
  {
   "cell_type": "markdown",
   "metadata": {},
   "source": [
    "Read in the data. I personally prefer python so here we go"
   ]
  },
  {
   "cell_type": "code",
   "execution_count": null,
   "metadata": {},
   "outputs": [],
   "source": [
    "import h5py\n",
    "from scipy.sparse import csr_matrix\n",
    "\n",
    "# Open the HDF5 file\n",
    "# Go get the matrix from them, I think you need an application or some sort (but should be easy)\n",
    "file_path = 'NonEpithelial_Count_matrix.h5'\n",
    "with h5py.File(file_path, 'r') as f:\n",
    "    # Load the necessary datasets\n",
    "    data = f['matrix/data'][()]\n",
    "    indices = f['matrix/indices'][()]\n",
    "    indptr = f['matrix/indptr'][()]\n",
    "    shape = f['matrix/shape'][()]"
   ]
  },
  {
   "cell_type": "code",
   "execution_count": null,
   "metadata": {},
   "outputs": [],
   "source": [
    "with h5py.File(file_path, 'r') as f:\n",
    "    # Load the necessary datasets\n",
    "    genes = f['matrix/features/name'][()]\n",
    "    gene_ID = [str(i).split(\"'\")[1] for i in genes]"
   ]
  },
  {
   "cell_type": "code",
   "execution_count": null,
   "metadata": {},
   "outputs": [],
   "source": [
    "matrix = csr_matrix((data, indices, indptr), shape=[shape[1],shape[0]])\n",
    "meta_data = pd.read_csv('NonEpithelial_metadata.csv',index_col = 0)\n",
    "import anndata\n",
    "adata =anndata.AnnData(X = matrix)\n",
    "adata.var_names = gene_ID\n",
    "adata.obs_names = meta_data.index\n",
    "adata.obs = meta_data\n",
    "adata.write('synapse.h5ad')"
   ]
  },
  {
   "cell_type": "markdown",
   "metadata": {},
   "source": [
    "Check the metadata, seems like they got everything"
   ]
  },
  {
   "cell_type": "code",
   "execution_count": null,
   "metadata": {},
   "outputs": [
    {
     "data": {
      "text/html": [
       "<div>\n",
       "<style scoped>\n",
       "    .dataframe tbody tr th:only-of-type {\n",
       "        vertical-align: middle;\n",
       "    }\n",
       "\n",
       "    .dataframe tbody tr th {\n",
       "        vertical-align: top;\n",
       "    }\n",
       "\n",
       "    .dataframe thead th {\n",
       "        text-align: right;\n",
       "    }\n",
       "</style>\n",
       "<table border=\"1\" class=\"dataframe\">\n",
       "  <thead>\n",
       "    <tr style=\"text-align: right;\">\n",
       "      <th></th>\n",
       "      <th>sample.ID</th>\n",
       "      <th>patient.ID</th>\n",
       "      <th>sample.origin</th>\n",
       "      <th>dataset</th>\n",
       "      <th>Gender</th>\n",
       "      <th>Age at recruitment</th>\n",
       "      <th>Group Stage</th>\n",
       "      <th>Stage TNM</th>\n",
       "      <th>Site</th>\n",
       "    </tr>\n",
       "    <tr>\n",
       "      <th>cell.ID</th>\n",
       "      <th></th>\n",
       "      <th></th>\n",
       "      <th></th>\n",
       "      <th></th>\n",
       "      <th></th>\n",
       "      <th></th>\n",
       "      <th></th>\n",
       "      <th></th>\n",
       "      <th></th>\n",
       "    </tr>\n",
       "  </thead>\n",
       "  <tbody>\n",
       "    <tr>\n",
       "      <th>CRC16_MUX8563_AAACCTGCAAGCCGCT-1</th>\n",
       "      <td>MUX8563</td>\n",
       "      <td>CRC2794</td>\n",
       "      <td>Tumor</td>\n",
       "      <td>CRC-SG1</td>\n",
       "      <td>F</td>\n",
       "      <td>65.0</td>\n",
       "      <td>2</td>\n",
       "      <td>T3N0(0/27)M0</td>\n",
       "      <td>Descending colon</td>\n",
       "    </tr>\n",
       "    <tr>\n",
       "      <th>CRC16_MUX8563_AAACCTGTCTCGATGA-1</th>\n",
       "      <td>MUX8563</td>\n",
       "      <td>CRC2794</td>\n",
       "      <td>Tumor</td>\n",
       "      <td>CRC-SG1</td>\n",
       "      <td>F</td>\n",
       "      <td>65.0</td>\n",
       "      <td>2</td>\n",
       "      <td>T3N0(0/27)M0</td>\n",
       "      <td>Descending colon</td>\n",
       "    </tr>\n",
       "    <tr>\n",
       "      <th>CRC16_MUX8563_AAACCTGTCTCTGTCG-1</th>\n",
       "      <td>MUX8563</td>\n",
       "      <td>CRC2794</td>\n",
       "      <td>Tumor</td>\n",
       "      <td>CRC-SG1</td>\n",
       "      <td>F</td>\n",
       "      <td>65.0</td>\n",
       "      <td>2</td>\n",
       "      <td>T3N0(0/27)M0</td>\n",
       "      <td>Descending colon</td>\n",
       "    </tr>\n",
       "    <tr>\n",
       "      <th>CRC16_MUX8563_AAACGGGCAAGTTAAG-1</th>\n",
       "      <td>MUX8563</td>\n",
       "      <td>CRC2794</td>\n",
       "      <td>Tumor</td>\n",
       "      <td>CRC-SG1</td>\n",
       "      <td>F</td>\n",
       "      <td>65.0</td>\n",
       "      <td>2</td>\n",
       "      <td>T3N0(0/27)M0</td>\n",
       "      <td>Descending colon</td>\n",
       "    </tr>\n",
       "    <tr>\n",
       "      <th>CRC16_MUX8563_AAACGGGCAGTTCATG-1</th>\n",
       "      <td>MUX8563</td>\n",
       "      <td>CRC2794</td>\n",
       "      <td>Tumor</td>\n",
       "      <td>CRC-SG1</td>\n",
       "      <td>F</td>\n",
       "      <td>65.0</td>\n",
       "      <td>2</td>\n",
       "      <td>T3N0(0/27)M0</td>\n",
       "      <td>Descending colon</td>\n",
       "    </tr>\n",
       "    <tr>\n",
       "      <th>...</th>\n",
       "      <td>...</td>\n",
       "      <td>...</td>\n",
       "      <td>...</td>\n",
       "      <td>...</td>\n",
       "      <td>...</td>\n",
       "      <td>...</td>\n",
       "      <td>...</td>\n",
       "      <td>...</td>\n",
       "      <td>...</td>\n",
       "    </tr>\n",
       "    <tr>\n",
       "      <th>KUL5_EXT129_TTTGTCAGTTGGACCC-1</th>\n",
       "      <td>EXT129</td>\n",
       "      <td>SC044</td>\n",
       "      <td>Normal</td>\n",
       "      <td>KUL5</td>\n",
       "      <td>F</td>\n",
       "      <td>80.0</td>\n",
       "      <td>III</td>\n",
       "      <td>T3N1M0</td>\n",
       "      <td>Caecum</td>\n",
       "    </tr>\n",
       "    <tr>\n",
       "      <th>KUL5_EXT129_TTTGTCATCAGCATGT-1</th>\n",
       "      <td>EXT129</td>\n",
       "      <td>SC044</td>\n",
       "      <td>Normal</td>\n",
       "      <td>KUL5</td>\n",
       "      <td>F</td>\n",
       "      <td>80.0</td>\n",
       "      <td>III</td>\n",
       "      <td>T3N1M0</td>\n",
       "      <td>Caecum</td>\n",
       "    </tr>\n",
       "    <tr>\n",
       "      <th>KUL5_EXT129_TTTGTCATCCATGAGT-1</th>\n",
       "      <td>EXT129</td>\n",
       "      <td>SC044</td>\n",
       "      <td>Normal</td>\n",
       "      <td>KUL5</td>\n",
       "      <td>F</td>\n",
       "      <td>80.0</td>\n",
       "      <td>III</td>\n",
       "      <td>T3N1M0</td>\n",
       "      <td>Caecum</td>\n",
       "    </tr>\n",
       "    <tr>\n",
       "      <th>KUL5_EXT129_TTTGTCATCGGTTCGG-1</th>\n",
       "      <td>EXT129</td>\n",
       "      <td>SC044</td>\n",
       "      <td>Normal</td>\n",
       "      <td>KUL5</td>\n",
       "      <td>F</td>\n",
       "      <td>80.0</td>\n",
       "      <td>III</td>\n",
       "      <td>T3N1M0</td>\n",
       "      <td>Caecum</td>\n",
       "    </tr>\n",
       "    <tr>\n",
       "      <th>KUL5_EXT129_TTTGTCATCTATCGCC-1</th>\n",
       "      <td>EXT129</td>\n",
       "      <td>SC044</td>\n",
       "      <td>Normal</td>\n",
       "      <td>KUL5</td>\n",
       "      <td>F</td>\n",
       "      <td>80.0</td>\n",
       "      <td>III</td>\n",
       "      <td>T3N1M0</td>\n",
       "      <td>Caecum</td>\n",
       "    </tr>\n",
       "  </tbody>\n",
       "</table>\n",
       "<p>323903 rows × 9 columns</p>\n",
       "</div>"
      ],
      "text/plain": [
       "                                 sample.ID patient.ID sample.origin  dataset  \\\n",
       "cell.ID                                                                        \n",
       "CRC16_MUX8563_AAACCTGCAAGCCGCT-1   MUX8563    CRC2794         Tumor  CRC-SG1   \n",
       "CRC16_MUX8563_AAACCTGTCTCGATGA-1   MUX8563    CRC2794         Tumor  CRC-SG1   \n",
       "CRC16_MUX8563_AAACCTGTCTCTGTCG-1   MUX8563    CRC2794         Tumor  CRC-SG1   \n",
       "CRC16_MUX8563_AAACGGGCAAGTTAAG-1   MUX8563    CRC2794         Tumor  CRC-SG1   \n",
       "CRC16_MUX8563_AAACGGGCAGTTCATG-1   MUX8563    CRC2794         Tumor  CRC-SG1   \n",
       "...                                    ...        ...           ...      ...   \n",
       "KUL5_EXT129_TTTGTCAGTTGGACCC-1      EXT129      SC044        Normal     KUL5   \n",
       "KUL5_EXT129_TTTGTCATCAGCATGT-1      EXT129      SC044        Normal     KUL5   \n",
       "KUL5_EXT129_TTTGTCATCCATGAGT-1      EXT129      SC044        Normal     KUL5   \n",
       "KUL5_EXT129_TTTGTCATCGGTTCGG-1      EXT129      SC044        Normal     KUL5   \n",
       "KUL5_EXT129_TTTGTCATCTATCGCC-1      EXT129      SC044        Normal     KUL5   \n",
       "\n",
       "                                 Gender Age at recruitment Group Stage  \\\n",
       "cell.ID                                                                  \n",
       "CRC16_MUX8563_AAACCTGCAAGCCGCT-1      F               65.0           2   \n",
       "CRC16_MUX8563_AAACCTGTCTCGATGA-1      F               65.0           2   \n",
       "CRC16_MUX8563_AAACCTGTCTCTGTCG-1      F               65.0           2   \n",
       "CRC16_MUX8563_AAACGGGCAAGTTAAG-1      F               65.0           2   \n",
       "CRC16_MUX8563_AAACGGGCAGTTCATG-1      F               65.0           2   \n",
       "...                                 ...                ...         ...   \n",
       "KUL5_EXT129_TTTGTCAGTTGGACCC-1        F               80.0         III   \n",
       "KUL5_EXT129_TTTGTCATCAGCATGT-1        F               80.0         III   \n",
       "KUL5_EXT129_TTTGTCATCCATGAGT-1        F               80.0         III   \n",
       "KUL5_EXT129_TTTGTCATCGGTTCGG-1        F               80.0         III   \n",
       "KUL5_EXT129_TTTGTCATCTATCGCC-1        F               80.0         III   \n",
       "\n",
       "                                      Stage TNM              Site  \n",
       "cell.ID                                                            \n",
       "CRC16_MUX8563_AAACCTGCAAGCCGCT-1  T3N0(0/27)M0   Descending colon  \n",
       "CRC16_MUX8563_AAACCTGTCTCGATGA-1  T3N0(0/27)M0   Descending colon  \n",
       "CRC16_MUX8563_AAACCTGTCTCTGTCG-1  T3N0(0/27)M0   Descending colon  \n",
       "CRC16_MUX8563_AAACGGGCAAGTTAAG-1  T3N0(0/27)M0   Descending colon  \n",
       "CRC16_MUX8563_AAACGGGCAGTTCATG-1  T3N0(0/27)M0   Descending colon  \n",
       "...                                         ...               ...  \n",
       "KUL5_EXT129_TTTGTCAGTTGGACCC-1           T3N1M0            Caecum  \n",
       "KUL5_EXT129_TTTGTCATCAGCATGT-1           T3N1M0            Caecum  \n",
       "KUL5_EXT129_TTTGTCATCCATGAGT-1           T3N1M0            Caecum  \n",
       "KUL5_EXT129_TTTGTCATCGGTTCGG-1           T3N1M0            Caecum  \n",
       "KUL5_EXT129_TTTGTCATCTATCGCC-1           T3N1M0            Caecum  \n",
       "\n",
       "[323903 rows x 9 columns]"
      ]
     },
     "metadata": {},
     "output_type": "display_data"
    }
   ],
   "source": [
    "adata.obs[['sample.ID', 'patient.ID', 'sample.origin','dataset','Gender', 'Age at recruitment', 'Group Stage', 'Stage TNM','Site']]"
   ]
  },
  {
   "cell_type": "code",
   "execution_count": null,
   "metadata": {},
   "outputs": [],
   "source": [
    "adata.obs['patient'] = adata.obs['patient.ID']\n",
    "adata.obs['tissue'] = adata.obs['sample.origin']\n",
    "adata.obs['gender'] = adata.obs['Gender'] \n",
    "adata.obs['age'] = adata.obs['Age at recruitment'] \n",
    "adata.obs['site'] = adata.obs['Site']\n",
    "adata.obs['stage'] = adata.obs['Group Stage']"
   ]
  },
  {
   "cell_type": "markdown",
   "metadata": {},
   "source": [
    "Basic processing, they have filtered data"
   ]
  },
  {
   "cell_type": "code",
   "execution_count": null,
   "metadata": {},
   "outputs": [],
   "source": [
    "sc.pp.normalize_total(adata, key_added = 'normalization_factors')\n",
    "sc.pp.log1p(adata)"
   ]
  },
  {
   "cell_type": "code",
   "execution_count": null,
   "metadata": {},
   "outputs": [],
   "source": [
    "sc.pp.highly_variable_genes(adata, flavor='seurat', n_top_genes=3000)\n",
    "sc.pp.pca(adata, n_comps=50, use_highly_variable=True, svd_solver='arpack')"
   ]
  },
  {
   "cell_type": "code",
   "execution_count": null,
   "metadata": {},
   "outputs": [],
   "source": [
    "sc.pp.neighbors(adata, n_neighbors = 15, n_pcs = 50)\n",
    "sc.tl.leiden(adata, resolution = 0.8, key_added= 'leiden')                                                 "
   ]
  },
  {
   "cell_type": "code",
   "execution_count": null,
   "metadata": {},
   "outputs": [],
   "source": [
    "# Check where we may got some gdT/IL17 producer and further get them by subclustering\n",
    "sc.pl.umap(adata,color = ['leiden','TRDC','RORC','IL17A','IL17F'],cmap = my_cmap, vmax = 3, size = 40, legend_loc = 'on data')"
   ]
  },
  {
   "cell_type": "markdown",
   "metadata": {},
   "source": [
    "Isolate IL17 producers, basically labor work"
   ]
  },
  {
   "cell_type": "code",
   "execution_count": null,
   "metadata": {},
   "outputs": [],
   "source": [
    "prob_gd = adata[adata.obs['leiden'].isin(['7']),:]"
   ]
  },
  {
   "cell_type": "code",
   "execution_count": null,
   "metadata": {},
   "outputs": [],
   "source": [
    "sc.pp.highly_variable_genes(prob_gd, flavor = 'seurat', n_top_genes=3000)\n",
    "#.var['highly_variable'] = adata.var_names.isin(features)\n",
    "sc.pp.pca(prob_gd, n_comps=50, use_highly_variable=True, svd_solver='arpack')"
   ]
  },
  {
   "cell_type": "code",
   "execution_count": null,
   "metadata": {},
   "outputs": [],
   "source": [
    "sc.pp.neighbors(prob_gd, n_neighbors = 15, n_pcs = 50)\n",
    "sc.tl.leiden(prob_gd, resolution = 0.8, key_added= 'leiden')                                                 "
   ]
  },
  {
   "cell_type": "code",
   "execution_count": null,
   "metadata": {},
   "outputs": [],
   "source": [
    "sc.tl.tsne(prob_gd)"
   ]
  },
  {
   "cell_type": "code",
   "execution_count": null,
   "metadata": {},
   "outputs": [],
   "source": [
    "%matplotlib inline\n",
    "plt.rcParams['axes.linewidth'] = 2\n",
    "fig = sc.pl.tsne(prob_gd, color = ['leiden','ZBTB16','IKZF2','TRGV4','CD3D','CD3G','CD3E',\n",
    "                                   'CD247','IFNG','IL17A','TRDC','TRDV1','TRDV2','TRDV3','CD4','CD8A',\n",
    "                                   'PDCD1','KLRK1','RORC','TRAV1-2'],size = 20, legend_loc = 'on data', palette  = my_palette, ncols = 4, cmap = my_cmap, return_fig = True, legend_fontsize = 'large')\n",
    "ax = fig.get_axes()\n",
    "for i in range(0,len(ax)):\n",
    "    ax[i].xaxis.label.set_fontsize(22)\n",
    "    ax[i].xaxis.label.set_fontweight('bold')\n",
    "    ax[i].yaxis.label.set_fontsize(22)\n",
    "    ax[i].title.set_fontsize(30)\n",
    "    ax[i].yaxis.label.set_fontweight('bold')\n",
    "    ax[i].title.set_fontweight('bold')\n",
    "#plt.savefig('overall_map_withunmatched.png')"
   ]
  },
  {
   "cell_type": "code",
   "execution_count": null,
   "metadata": {},
   "outputs": [],
   "source": [
    "gamma_genesmask = [gene.startswith(\"TRG\") for gene in adata.var_names]\n",
    "gamma_genes = adata.var_names[gamma_genesmask]\n",
    "delta_genesmask = [gene.startswith(\"TRD\") for gene in adata.var_names]\n",
    "delta_genes = adata.var_names[delta_genesmask]"
   ]
  },
  {
   "cell_type": "code",
   "execution_count": null,
   "metadata": {},
   "outputs": [],
   "source": [
    "plt.rcParams['figure.figsize'] = [8,8]\n",
    "sc.tl.leiden(prob_gd, restrict_to = ('leiden', ['4']), resolution = 0.9, key_added= 'leiden1')\n",
    "sc.pl.tsne(prob_gd, color=['leiden1','CD4','CD8A','TRDC'], size = 30, legend_loc = 'on data', cmap = my_cmap)"
   ]
  },
  {
   "cell_type": "code",
   "execution_count": null,
   "metadata": {},
   "outputs": [],
   "source": [
    "plt.rcParams['figure.figsize'] = [8,8]\n",
    "sc.tl.leiden(prob_gd, restrict_to = ('leiden1', ['6']), resolution = 0.35, key_added= 'leiden2')\n",
    "sc.pl.tsne(prob_gd, color=['leiden2','CD4','CD8A','TRDC'], size = 30, legend_loc = 'on data', cmap = my_cmap)"
   ]
  },
  {
   "cell_type": "code",
   "execution_count": null,
   "metadata": {},
   "outputs": [],
   "source": [
    "plt.rcParams['figure.figsize'] = [8,8]\n",
    "sc.tl.leiden(prob_gd, restrict_to = ('leiden2', ['3']), resolution = 0.35, key_added= 'leiden3')\n",
    "sc.pl.tsne(prob_gd, color=['leiden3','CD4','CD8A','TRDC'], size = 30, legend_loc = 'on data', cmap = my_cmap)"
   ]
  },
  {
   "cell_type": "code",
   "execution_count": null,
   "metadata": {},
   "outputs": [],
   "source": [
    "plt.rcParams['figure.figsize'] = [8,8]\n",
    "sc.tl.leiden(prob_gd, restrict_to = ('leiden3', ['1']), resolution = 0.9, key_added= 'leiden4')\n",
    "sc.pl.tsne(prob_gd, color=['leiden4','CD4','CD8A','TRDC'], size = 30, legend_loc = 'on data', cmap = my_cmap)"
   ]
  },
  {
   "cell_type": "code",
   "execution_count": null,
   "metadata": {},
   "outputs": [],
   "source": [
    "plt.rcParams['figure.figsize'] = [8,8]\n",
    "sc.tl.leiden(prob_gd, restrict_to = ('leiden4', ['4,1']), resolution = 0.5, key_added= 'leiden5')\n",
    "sc.pl.tsne(prob_gd, color=['leiden5','CD4','CD8A','TRDC'], size = 30, legend_loc = 'on data', cmap = my_cmap)"
   ]
  },
  {
   "cell_type": "code",
   "execution_count": null,
   "metadata": {},
   "outputs": [],
   "source": [
    "TCR_exp_set ={\n",
    "\"gamma\": gamma_genes, \"delta\": delta_genes, \"CD3S\": ['CD3E','CD3D','CD3G']\n",
    "}\n",
    "sc.pl.dotplot(prob_gd,TCR_exp_set,groupby = 'leiden5' , vmax = 1, swap_axes = False, dot_min =0, dot_max =1,standard_scale = 'var')"
   ]
  },
  {
   "cell_type": "code",
   "execution_count": null,
   "metadata": {},
   "outputs": [],
   "source": [
    "gd1 = prob_gd[prob_gd.obs['leiden4'].isin(['1,8','4,0','4,1,0','4,1,1','4,3','4,4','4,5','4,6','4,7']),:]"
   ]
  },
  {
   "cell_type": "code",
   "execution_count": null,
   "metadata": {},
   "outputs": [],
   "source": [
    "sc.pl.tsne(gd1,color = ['leiden4','CD3D','CD3E','CD3G','CD247','TRDC'])"
   ]
  },
  {
   "cell_type": "code",
   "execution_count": null,
   "metadata": {},
   "outputs": [],
   "source": [
    "prob_gd = adata[adata.obs['leiden'].isin(['9']),:]"
   ]
  },
  {
   "cell_type": "code",
   "execution_count": null,
   "metadata": {},
   "outputs": [],
   "source": [
    "sc.pp.highly_variable_genes(prob_gd, flavor = 'seurat', n_top_genes=3000)\n",
    "#.var['highly_variable'] = adata.var_names.isin(features)\n",
    "sc.pp.pca(prob_gd, n_comps=50, use_highly_variable=True, svd_solver='arpack')"
   ]
  },
  {
   "cell_type": "code",
   "execution_count": null,
   "metadata": {},
   "outputs": [],
   "source": [
    "sc.pp.neighbors(prob_gd, n_neighbors = 15, n_pcs = 50)\n",
    "sc.tl.leiden(prob_gd, resolution = 0.8, key_added= 'leiden')                                                 "
   ]
  },
  {
   "cell_type": "code",
   "execution_count": null,
   "metadata": {},
   "outputs": [],
   "source": [
    "sc.tl.tsne(prob_gd)"
   ]
  },
  {
   "cell_type": "code",
   "execution_count": null,
   "metadata": {},
   "outputs": [],
   "source": [
    "%matplotlib inline\n",
    "plt.rcParams['axes.linewidth'] = 2\n",
    "fig = sc.pl.tsne(prob_gd, color = ['leiden','ZBTB16','IKZF2','TRDC','CD3D','CD3G','CD3E','CD247','IFNG','IL17A','TRDV1','TRDV2','TRDV3','CD3D','CD3E','CD3G','CD247','PDCD1','KLRK1','RORC','TRAV1-2'],size = 20, legend_loc = 'on data', palette  = my_palette, ncols = 4, cmap = my_cmap, return_fig = True, legend_fontsize = 'large')\n",
    "ax = fig.get_axes()\n",
    "for i in range(0,len(ax)):\n",
    "    ax[i].xaxis.label.set_fontsize(22)\n",
    "    ax[i].xaxis.label.set_fontweight('bold')\n",
    "    ax[i].yaxis.label.set_fontsize(22)\n",
    "    ax[i].title.set_fontsize(30)\n",
    "    ax[i].yaxis.label.set_fontweight('bold')\n",
    "    ax[i].title.set_fontweight('bold')\n",
    "#plt.savefig('overall_map_withunmatched.png')"
   ]
  },
  {
   "cell_type": "code",
   "execution_count": null,
   "metadata": {},
   "outputs": [],
   "source": [
    "plt.rcParams['figure.figsize'] = [8,8]\n",
    "sc.tl.leiden(prob_gd, restrict_to = ('leiden', ['6']), resolution = 0.4, key_added= 'leiden1')\n",
    "sc.pl.tsne(prob_gd, color=['leiden1','CD3D','CD3E','CD3G','CD247','TRDC'], size = 30, legend_loc = 'on data', cmap = my_cmap)"
   ]
  },
  {
   "cell_type": "code",
   "execution_count": null,
   "metadata": {},
   "outputs": [],
   "source": [
    "plt.rcParams['figure.figsize'] = [8,8]\n",
    "sc.tl.leiden(prob_gd, restrict_to = ('leiden1', ['5']), resolution = 0.5, key_added= 'leiden2')\n",
    "sc.pl.tsne(prob_gd, color=['leiden2','CD3D','CD3E','CD3G','CD247','TRDC'], size = 30, legend_loc = 'on data', cmap = my_cmap)"
   ]
  },
  {
   "cell_type": "code",
   "execution_count": null,
   "metadata": {},
   "outputs": [],
   "source": [
    "plt.rcParams['figure.figsize'] = [8,8]\n",
    "sc.tl.leiden(prob_gd, restrict_to = ('leiden2', ['3']), resolution = 0.5, key_added= 'leiden3')\n",
    "sc.pl.tsne(prob_gd, color=['leiden3','CD3D','CD3E','CD3G','CD247','TRDC'], size = 30, legend_loc = 'on data', cmap = my_cmap)"
   ]
  },
  {
   "cell_type": "code",
   "execution_count": null,
   "metadata": {},
   "outputs": [],
   "source": [
    "TCR_exp_set ={\n",
    "\"gamma\": gamma_genes, \"delta\": delta_genes, \"CD3S\": ['CD3E','CD3D','CD3G']\n",
    "}\n",
    "\n",
    "\n",
    "\n",
    "sc.pl.dotplot(prob_gd,TCR_exp_set,groupby = 'leiden3' , vmax = 1, swap_axes = False, dot_min =0, dot_max =1,standard_scale = 'var')"
   ]
  },
  {
   "cell_type": "code",
   "execution_count": null,
   "metadata": {},
   "outputs": [],
   "source": [
    "gd2 = prob_gd[prob_gd.obs['leiden3'].isin(['5,2','6,2','6,3']),:]"
   ]
  },
  {
   "cell_type": "code",
   "execution_count": null,
   "metadata": {},
   "outputs": [],
   "source": [
    "sc.pl.tsne(gd2,color = ['leiden3','CD3D','CD3E','CD3G','CD247','TRDC'])"
   ]
  },
  {
   "cell_type": "code",
   "execution_count": null,
   "metadata": {},
   "outputs": [],
   "source": [
    "prob_gd = adata[adata.obs['leiden'].isin(['4']),:]"
   ]
  },
  {
   "cell_type": "code",
   "execution_count": null,
   "metadata": {},
   "outputs": [],
   "source": [
    "sc.pp.highly_variable_genes(prob_gd, flavor = 'seurat', n_top_genes=3000)\n",
    "#.var['highly_variable'] = adata.var_names.isin(features)\n",
    "sc.pp.pca(prob_gd, n_comps=50, use_highly_variable=True, svd_solver='arpack')"
   ]
  },
  {
   "cell_type": "code",
   "execution_count": null,
   "metadata": {},
   "outputs": [],
   "source": [
    "sc.pp.neighbors(prob_gd, n_neighbors = 15, n_pcs = 50)\n",
    "sc.tl.leiden(prob_gd, resolution = 0.8, key_added= 'leiden')                                                 "
   ]
  },
  {
   "cell_type": "code",
   "execution_count": null,
   "metadata": {},
   "outputs": [],
   "source": [
    "sc.tl.tsne(prob_gd)"
   ]
  },
  {
   "cell_type": "code",
   "execution_count": null,
   "metadata": {},
   "outputs": [],
   "source": [
    "%matplotlib inline\n",
    "plt.rcParams['axes.linewidth'] = 2\n",
    "fig = sc.pl.tsne(prob_gd, color = ['leiden','ZBTB16','IKZF2','TRDC','CD3D','CD3G','CD3E',\n",
    "                                   'CD247',],size = 20, legend_loc = 'on data', palette  = my_palette, ncols = 4, cmap = my_cmap, return_fig = True, legend_fontsize = 'large')\n",
    "ax = fig.get_axes()\n",
    "for i in range(0,len(ax)):\n",
    "    ax[i].xaxis.label.set_fontsize(22)\n",
    "    ax[i].xaxis.label.set_fontweight('bold')\n",
    "    ax[i].yaxis.label.set_fontsize(22)\n",
    "    ax[i].title.set_fontsize(30)\n",
    "    ax[i].yaxis.label.set_fontweight('bold')\n",
    "    ax[i].title.set_fontweight('bold')\n",
    "#plt.savefig('overall_map_withunmatched.png')"
   ]
  },
  {
   "cell_type": "code",
   "execution_count": null,
   "metadata": {},
   "outputs": [],
   "source": [
    "plt.rcParams['figure.figsize'] = [8,8]\n",
    "sc.tl.leiden(prob_gd, restrict_to = ('leiden', ['7']), resolution = 0.5, key_added= 'leiden1')\n",
    "sc.pl.tsne(prob_gd, color=['leiden1','CD3D','CD3E','CD3G','CD247','TRDC'], size = 30, legend_loc = 'on data', cmap = my_cmap)"
   ]
  },
  {
   "cell_type": "code",
   "execution_count": null,
   "metadata": {},
   "outputs": [],
   "source": [
    "plt.rcParams['figure.figsize'] = [8,8]\n",
    "sc.tl.leiden(prob_gd, restrict_to = ('leiden1', ['1']), resolution = 0.6, key_added= 'leiden2')\n",
    "sc.pl.tsne(prob_gd, color=['leiden2','CD3D','CD3E','CD3G','CD247','TRDC'], size = 30, legend_loc = 'on data', cmap = my_cmap)"
   ]
  },
  {
   "cell_type": "code",
   "execution_count": null,
   "metadata": {},
   "outputs": [],
   "source": [
    "plt.rcParams['figure.figsize'] = [8,8]\n",
    "sc.tl.leiden(prob_gd, restrict_to = ('leiden2', ['6']), resolution = 0.4, key_added= 'leiden3')\n",
    "sc.pl.tsne(prob_gd, color=['leiden3','CD3D','CD3E','CD3G','CD247','TRDC'], size = 30, legend_loc = 'on data', cmap = my_cmap)"
   ]
  },
  {
   "cell_type": "code",
   "execution_count": null,
   "metadata": {},
   "outputs": [],
   "source": [
    "TCR_exp_set ={\n",
    "\"gamma\": gamma_genes, \"delta\": delta_genes, \"CD3S\": ['CD3E','CD3D','CD3G']\n",
    "}\n",
    "\n",
    "\n",
    "\n",
    "sc.pl.dotplot(prob_gd,TCR_exp_set,groupby = 'leiden3' , vmax = 1, swap_axes = False, dot_min =0, dot_max =1,standard_scale = 'var')"
   ]
  },
  {
   "cell_type": "code",
   "execution_count": null,
   "metadata": {},
   "outputs": [],
   "source": [
    "gd3 = prob_gd[prob_gd.obs['leiden3'].isin(['1,3','6,3','7,1','7,2','9']),:]"
   ]
  },
  {
   "cell_type": "code",
   "execution_count": null,
   "metadata": {},
   "outputs": [],
   "source": [
    "sc.pl.tsne(gd3,color = ['leiden3','CD3D','CD3E','CD3G','CD247','TRDC'])"
   ]
  },
  {
   "cell_type": "code",
   "execution_count": null,
   "metadata": {},
   "outputs": [],
   "source": [
    "prob_gd = adata[adata.obs['leiden'].isin(['14']),:]"
   ]
  },
  {
   "cell_type": "code",
   "execution_count": null,
   "metadata": {},
   "outputs": [],
   "source": [
    "sc.pp.highly_variable_genes(prob_gd, flavor = 'seurat', n_top_genes=3000)\n",
    "#.var['highly_variable'] = adata.var_names.isin(features)\n",
    "sc.pp.pca(prob_gd, n_comps=50, use_highly_variable=True, svd_solver='arpack')"
   ]
  },
  {
   "cell_type": "code",
   "execution_count": null,
   "metadata": {},
   "outputs": [],
   "source": [
    "sc.pp.neighbors(prob_gd, n_neighbors = 15, n_pcs = 50)\n",
    "sc.tl.leiden(prob_gd, resolution = 0.8, key_added= 'leiden')                                                 "
   ]
  },
  {
   "cell_type": "code",
   "execution_count": null,
   "metadata": {},
   "outputs": [],
   "source": [
    "sc.tl.tsne(prob_gd)"
   ]
  },
  {
   "cell_type": "code",
   "execution_count": null,
   "metadata": {},
   "outputs": [],
   "source": [
    "%matplotlib inline\n",
    "plt.rcParams['axes.linewidth'] = 2\n",
    "fig = sc.pl.tsne(prob_gd, color = ['leiden','ZBTB16','IKZF2','TRGV4','CD3D','CD3G','CD3E',\n",
    "                                   'CD247','TRDC'],size = 50, legend_loc = 'on data', palette  = my_palette, ncols = 4, cmap = my_cmap, return_fig = True, legend_fontsize = 'large')\n",
    "ax = fig.get_axes()\n",
    "for i in range(0,len(ax)):\n",
    "    ax[i].xaxis.label.set_fontsize(22)\n",
    "    ax[i].xaxis.label.set_fontweight('bold')\n",
    "    ax[i].yaxis.label.set_fontsize(22)\n",
    "    ax[i].title.set_fontsize(30)\n",
    "    ax[i].yaxis.label.set_fontweight('bold')\n",
    "    ax[i].title.set_fontweight('bold')\n",
    "#plt.savefig('overall_map_withunmatched.png')"
   ]
  },
  {
   "cell_type": "code",
   "execution_count": null,
   "metadata": {},
   "outputs": [],
   "source": [
    "plt.rcParams['figure.figsize'] = [8,8]\n",
    "sc.tl.leiden(prob_gd, restrict_to = ('leiden', ['7']), resolution = 0.3, key_added= 'leiden1')\n",
    "sc.pl.tsne(prob_gd, color=['leiden1','CD3D','CD3E','CD3G','CD247','TRDC'], size = 30, legend_loc = 'on data', cmap = my_cmap)"
   ]
  },
  {
   "cell_type": "code",
   "execution_count": null,
   "metadata": {},
   "outputs": [],
   "source": [
    "plt.rcParams['figure.figsize'] = [8,8]\n",
    "sc.tl.leiden(prob_gd, restrict_to = ('leiden1', ['3']), resolution = 0.5, key_added= 'leiden2')\n",
    "sc.pl.tsne(prob_gd, color=['leiden2','CD3D','CD3E','CD3G','CD247','TRDC'], size = 30, legend_loc = 'on data', cmap = my_cmap)"
   ]
  },
  {
   "cell_type": "code",
   "execution_count": null,
   "metadata": {},
   "outputs": [],
   "source": [
    "TCR_exp_set ={\n",
    "\"gamma\": gamma_genes, \"delta\": delta_genes, \"CD3S\": ['CD3E','CD3D','CD3G']\n",
    "}\n",
    "\n",
    "\n",
    "\n",
    "sc.pl.dotplot(prob_gd,TCR_exp_set,groupby = 'leiden2' , vmax = 1, swap_axes = False, dot_min =0, dot_max =1,standard_scale = 'var')"
   ]
  },
  {
   "cell_type": "code",
   "execution_count": null,
   "metadata": {},
   "outputs": [],
   "source": [
    "gd4 = prob_gd[prob_gd.obs['leiden2'].isin(['3,2','3,3','7,1']),:]"
   ]
  },
  {
   "cell_type": "code",
   "execution_count": null,
   "metadata": {},
   "outputs": [],
   "source": [
    "sc.pl.tsne(gd4,color = ['leiden2','CD3D','CD3E','CD3G','CD247','TRDC'])"
   ]
  },
  {
   "cell_type": "code",
   "execution_count": null,
   "metadata": {},
   "outputs": [],
   "source": [
    "adata_gd = gd1.concatenate(gd2,gd3,gd4, batch_key = 'original_cluster', batch_categories=['7','9','4','14'],join = 'outer',fill_value=0)"
   ]
  },
  {
   "cell_type": "code",
   "execution_count": null,
   "metadata": {},
   "outputs": [],
   "source": [
    "sc.pp.highly_variable_genes(adata_gd, flavor = 'seurat', n_top_genes=3000)\n",
    "#.var['highly_variable'] = adata.var_names.isin(features)\n",
    "sc.pp.pca(adata_gd, n_comps=50, use_highly_variable=True, svd_solver='arpack')"
   ]
  },
  {
   "cell_type": "code",
   "execution_count": null,
   "metadata": {},
   "outputs": [],
   "source": [
    "sc.pp.neighbors(adata_gd, n_neighbors = 15, n_pcs = 50)\n",
    "sc.tl.leiden(adata_gd, resolution = 0.8, key_added= 'leiden')                                                 "
   ]
  },
  {
   "cell_type": "code",
   "execution_count": null,
   "metadata": {},
   "outputs": [],
   "source": [
    "sc.tl.tsne(adata_gd)"
   ]
  },
  {
   "cell_type": "code",
   "execution_count": null,
   "metadata": {},
   "outputs": [],
   "source": [
    "%matplotlib inline\n",
    "plt.rcParams['axes.linewidth'] = 2\n",
    "fig = sc.pl.tsne(adata_gd, color = ['original_cluster','leiden','ZBTB16','IKZF2','TRGV4','CD3D','CD3G','CD3E',\n",
    "                                   'CD247','IFNG','IL17A','TRDC','TRDV1','TRDV2','TRDV3','CD4',\n",
    "                                   'CD8A','CD8B','PDCD1','KLRK1','RORC','TRDC','FOXP3','TRAV1-2'],size = 50, legend_loc = 'on data', palette  = my_palette, ncols = 4, cmap = my_cmap, return_fig = True, legend_fontsize = 'large')\n",
    "ax = fig.get_axes()\n",
    "for i in range(0,len(ax)):\n",
    "    ax[i].xaxis.label.set_fontsize(22)\n",
    "    ax[i].xaxis.label.set_fontweight('bold')\n",
    "    ax[i].yaxis.label.set_fontsize(22)\n",
    "    ax[i].title.set_fontsize(30)\n",
    "    ax[i].yaxis.label.set_fontweight('bold')\n",
    "    ax[i].title.set_fontweight('bold')\n",
    "#plt.savefig('overall_map_withunmatched.png')"
   ]
  },
  {
   "cell_type": "code",
   "execution_count": null,
   "metadata": {},
   "outputs": [],
   "source": [
    "plt.rcParams['figure.figsize'] = [8,8]\n",
    "sc.tl.leiden(adata_gd, restrict_to = ('leiden', ['4']), resolution = 0.3, key_added= 'leiden1')\n",
    "sc.pl.tsne(adata_gd, color=['leiden1','CD3E','CD3G','CD3D','TRDC'], size = 30, legend_loc = 'on data', cmap = my_cmap)"
   ]
  },
  {
   "cell_type": "code",
   "execution_count": null,
   "metadata": {},
   "outputs": [],
   "source": [
    "TCR_exp_set ={\n",
    "\"gamma\": gamma_genes, \"delta\": delta_genes, \"CD3S\": ['CD3E','CD3D','CD3G']\n",
    "}\n",
    "\n",
    "\n",
    "\n",
    "sc.pl.dotplot(adata_gd,TCR_exp_set,groupby = 'leiden1' , vmax = 1, swap_axes = False, dot_min =0, dot_max =1,standard_scale = 'var')"
   ]
  },
  {
   "cell_type": "code",
   "execution_count": null,
   "metadata": {},
   "outputs": [],
   "source": [
    "adata_gd_filtered = adata_gd[adata_gd.obs['leiden1'].isin(['4,0','4,2']) == 0,:]"
   ]
  },
  {
   "cell_type": "code",
   "execution_count": null,
   "metadata": {},
   "outputs": [],
   "source": [
    "adata_gd_filtered.write('synapse_gd.h5ad')"
   ]
  },
  {
   "cell_type": "markdown",
   "metadata": {},
   "source": [
    "Isolate IL17 producers, basically labor work"
   ]
  },
  {
   "cell_type": "code",
   "execution_count": null,
   "metadata": {},
   "outputs": [],
   "source": [
    "potential_17 = adata[adata.obs['leiden'].isin(['1']),:]"
   ]
  },
  {
   "cell_type": "code",
   "execution_count": null,
   "metadata": {},
   "outputs": [],
   "source": [
    "del potential_17.uns"
   ]
  },
  {
   "cell_type": "code",
   "execution_count": null,
   "metadata": {},
   "outputs": [],
   "source": [
    "sc.pp.highly_variable_genes(potential_17, flavor='seurat', n_top_genes=3000)\n",
    "sc.pp.pca(potential_17, n_comps=50, use_highly_variable=True, svd_solver='arpack')"
   ]
  },
  {
   "cell_type": "code",
   "execution_count": null,
   "metadata": {},
   "outputs": [],
   "source": [
    "sc.pp.neighbors(potential_17, n_neighbors = 15, n_pcs = 50)\n",
    "sc.tl.leiden(potential_17, resolution = 1, key_added= 'leiden')                                                 "
   ]
  },
  {
   "cell_type": "code",
   "execution_count": null,
   "metadata": {},
   "outputs": [],
   "source": [
    "sc.tl.tsne(potential_17)"
   ]
  },
  {
   "cell_type": "code",
   "execution_count": null,
   "metadata": {},
   "outputs": [],
   "source": [
    "%matplotlib inline\n",
    "sc.pl.tsne(potential_17, color=['leiden','RORC','IL17A','IL17F'],size = 40,cmap = my_cmap)"
   ]
  },
  {
   "cell_type": "code",
   "execution_count": null,
   "metadata": {},
   "outputs": [],
   "source": [
    "plt.rcParams['figure.figsize'] = [8,8]\n",
    "sc.tl.leiden(potential_17, restrict_to = ('leiden', ['5']), resolution = 0.4, key_added= 'leiden1')\n",
    "sc.pl.tsne(potential_17, color=['leiden1','RORC','IL17A','IL17F'], size = 20, legend_loc = 'on data', cmap = my_cmap)"
   ]
  },
  {
   "cell_type": "code",
   "execution_count": null,
   "metadata": {},
   "outputs": [],
   "source": [
    "plt.rcParams['figure.figsize'] = [8,8]\n",
    "sc.tl.leiden(potential_17, restrict_to = ('leiden1', ['7']), resolution = 0.4, key_added= 'leiden2')\n",
    "sc.pl.tsne(potential_17, color=['leiden2','RORC','IL17A','IL17F'], size = 20, legend_loc = 'on data', cmap = my_cmap)"
   ]
  },
  {
   "cell_type": "code",
   "execution_count": null,
   "metadata": {},
   "outputs": [],
   "source": [
    "plt.rcParams['figure.figsize'] = [8,8]\n",
    "sc.tl.leiden(potential_17, restrict_to = ('leiden2', ['2']), resolution = 0.5, key_added= 'leiden3')\n",
    "sc.pl.tsne(potential_17, color=['leiden3','RORC','IL17A','IL17F'], size = 30, legend_loc = 'on data', cmap = my_cmap)"
   ]
  },
  {
   "cell_type": "code",
   "execution_count": null,
   "metadata": {},
   "outputs": [],
   "source": [
    "IL17_genesmask = [gene.startswith(\"IL17\") and gene.startswith(\"IL17R\")==0 for gene in potential_17.var_names]\n",
    "IL17_genes = potential_17.var_names[IL17_genesmask]\n",
    "IL17_exp_set ={\n",
    "    'cytokine': IL17_genes, 'TF': 'RORC'\n",
    "}\n",
    "sc.pl.dotplot(potential_17,IL17_exp_set,groupby = 'leiden3' , vmax = 1, swap_axes = False, dot_min =0.1, dot_max =1,standard_scale = 'var')"
   ]
  },
  {
   "cell_type": "code",
   "execution_count": null,
   "metadata": {},
   "outputs": [],
   "source": [
    "T17_1 = potential_17[potential_17.obs['leiden3'].isin(['2,0','2,1','2,3','2,4','5,2','7,1','7,2','7,3','12']),:]"
   ]
  },
  {
   "cell_type": "code",
   "execution_count": null,
   "metadata": {},
   "outputs": [],
   "source": [
    "potential_17 = adata[adata.obs['leiden'].isin(['9']),:]"
   ]
  },
  {
   "cell_type": "code",
   "execution_count": null,
   "metadata": {},
   "outputs": [],
   "source": [
    "del potential_17.uns"
   ]
  },
  {
   "cell_type": "code",
   "execution_count": null,
   "metadata": {},
   "outputs": [],
   "source": [
    "sc.pp.highly_variable_genes(potential_17, flavor='seurat', n_top_genes=3000)\n",
    "sc.pp.pca(potential_17, n_comps=50, use_highly_variable=True, svd_solver='arpack')"
   ]
  },
  {
   "cell_type": "code",
   "execution_count": null,
   "metadata": {},
   "outputs": [],
   "source": [
    "sc.pp.neighbors(potential_17, n_neighbors = 15, n_pcs = 50)\n",
    "sc.tl.leiden(potential_17, resolution = 1, key_added= 'leiden')                                                 "
   ]
  },
  {
   "cell_type": "code",
   "execution_count": null,
   "metadata": {},
   "outputs": [],
   "source": [
    "sc.tl.tsne(potential_17)"
   ]
  },
  {
   "cell_type": "code",
   "execution_count": null,
   "metadata": {},
   "outputs": [],
   "source": [
    "%matplotlib inline\n",
    "sc.pl.tsne(potential_17, color=['leiden','RORC','IL17A','IL17F'],size = 40,cmap = my_cmap)"
   ]
  },
  {
   "cell_type": "code",
   "execution_count": null,
   "metadata": {},
   "outputs": [],
   "source": [
    "plt.rcParams['figure.figsize'] = [8,8]\n",
    "sc.tl.leiden(potential_17, restrict_to = ('leiden', ['2']), resolution = 0.9, key_added= 'leiden1')\n",
    "sc.pl.tsne(potential_17, color=['leiden1','RORC','IL17A','IL17F'], size = 20, legend_loc = 'on data', cmap = my_cmap)"
   ]
  },
  {
   "cell_type": "code",
   "execution_count": null,
   "metadata": {},
   "outputs": [],
   "source": [
    "plt.rcParams['figure.figsize'] = [8,8]\n",
    "sc.tl.leiden(potential_17, restrict_to = ('leiden1', ['8']), resolution = 0.4, key_added= 'leiden2')\n",
    "sc.pl.tsne(potential_17, color=['leiden2','RORC','IL17A','IL17F'], size = 20, legend_loc = 'on data', cmap = my_cmap)"
   ]
  },
  {
   "cell_type": "code",
   "execution_count": null,
   "metadata": {},
   "outputs": [],
   "source": [
    "plt.rcParams['figure.figsize'] = [8,8]\n",
    "sc.tl.leiden(potential_17, restrict_to = ('leiden2', ['2']), resolution = 0.5, key_added= 'leiden3')\n",
    "sc.pl.tsne(potential_17, color=['leiden3','RORC','IL17A','IL17F'], size = 30, legend_loc = 'on data', cmap = my_cmap)"
   ]
  },
  {
   "cell_type": "code",
   "execution_count": null,
   "metadata": {},
   "outputs": [],
   "source": [
    "IL17_genesmask = [gene.startswith(\"IL17\") and gene.startswith(\"IL17R\")==0 for gene in potential_17.var_names]\n",
    "IL17_genes = potential_17.var_names[IL17_genesmask]\n",
    "IL17_exp_set ={\n",
    "    'cytokine': IL17_genes, 'TF': 'RORC'\n",
    "}\n",
    "sc.pl.dotplot(potential_17,IL17_exp_set,groupby = 'leiden2' , vmax = 1, swap_axes = False, dot_min =0.1, dot_max =1,standard_scale = 'var')"
   ]
  },
  {
   "cell_type": "code",
   "execution_count": null,
   "metadata": {},
   "outputs": [],
   "source": [
    "T17_2 = potential_17[potential_17.obs['leiden2'].isin(['2,1','16']),:]"
   ]
  },
  {
   "cell_type": "code",
   "execution_count": null,
   "metadata": {},
   "outputs": [],
   "source": [
    "potential_17 = adata[adata.obs['leiden'].isin(['8']),:]"
   ]
  },
  {
   "cell_type": "code",
   "execution_count": null,
   "metadata": {},
   "outputs": [],
   "source": [
    "del potential_17.uns"
   ]
  },
  {
   "cell_type": "code",
   "execution_count": null,
   "metadata": {},
   "outputs": [],
   "source": [
    "sc.pp.highly_variable_genes(potential_17, flavor='seurat', n_top_genes=3000)\n",
    "sc.pp.pca(potential_17, n_comps=50, use_highly_variable=True, svd_solver='arpack')"
   ]
  },
  {
   "cell_type": "code",
   "execution_count": null,
   "metadata": {},
   "outputs": [],
   "source": [
    "sc.pp.neighbors(potential_17, n_neighbors = 15, n_pcs = 50)\n",
    "sc.tl.leiden(potential_17, resolution = 1, key_added= 'leiden')                                                 "
   ]
  },
  {
   "cell_type": "code",
   "execution_count": null,
   "metadata": {},
   "outputs": [],
   "source": [
    "sc.tl.tsne(potential_17)"
   ]
  },
  {
   "cell_type": "code",
   "execution_count": null,
   "metadata": {},
   "outputs": [],
   "source": [
    "%matplotlib inline\n",
    "sc.pl.tsne(potential_17, color=['leiden','RORC','IL17A','IL17F'],size = 40,cmap = my_cmap)"
   ]
  },
  {
   "cell_type": "code",
   "execution_count": null,
   "metadata": {},
   "outputs": [],
   "source": [
    "IL17_genesmask = [gene.startswith(\"IL17\") and gene.startswith(\"IL17R\")==0 for gene in potential_17.var_names]\n",
    "IL17_genes = potential_17.var_names[IL17_genesmask]\n",
    "IL17_exp_set ={\n",
    "    'cytokine': IL17_genes, 'TF': 'RORC'\n",
    "}\n",
    "sc.pl.dotplot(potential_17,IL17_exp_set,groupby = 'leiden' , vmax = 1, swap_axes = False, dot_min =0.1, dot_max =1,standard_scale = 'var')"
   ]
  },
  {
   "cell_type": "code",
   "execution_count": null,
   "metadata": {},
   "outputs": [],
   "source": [
    "T17_3 = potential_17[potential_17.obs['leiden'].isin(['0']),:]"
   ]
  },
  {
   "cell_type": "code",
   "execution_count": null,
   "metadata": {},
   "outputs": [],
   "source": [
    "potential_17 = adata[adata.obs['leiden'].isin(['3']),:]"
   ]
  },
  {
   "cell_type": "code",
   "execution_count": null,
   "metadata": {},
   "outputs": [],
   "source": [
    "del potential_17.uns"
   ]
  },
  {
   "cell_type": "code",
   "execution_count": null,
   "metadata": {},
   "outputs": [],
   "source": [
    "sc.pp.highly_variable_genes(potential_17, flavor='seurat', n_top_genes=3000)\n",
    "sc.pp.pca(potential_17, n_comps=50, use_highly_variable=True, svd_solver='arpack')"
   ]
  },
  {
   "cell_type": "code",
   "execution_count": null,
   "metadata": {},
   "outputs": [],
   "source": [
    "sc.pp.neighbors(potential_17, n_neighbors = 15, n_pcs = 50)\n",
    "sc.tl.leiden(potential_17, resolution = 1, key_added= 'leiden')                                                 "
   ]
  },
  {
   "cell_type": "code",
   "execution_count": null,
   "metadata": {},
   "outputs": [],
   "source": [
    "sc.tl.tsne(potential_17)"
   ]
  },
  {
   "cell_type": "code",
   "execution_count": null,
   "metadata": {},
   "outputs": [],
   "source": [
    "%matplotlib inline\n",
    "sc.pl.tsne(potential_17, color=['leiden','RORC','IL17A','IL17F'],size = 40,cmap = my_cmap)"
   ]
  },
  {
   "cell_type": "code",
   "execution_count": null,
   "metadata": {},
   "outputs": [],
   "source": [
    "plt.rcParams['figure.figsize'] = [8,8]\n",
    "sc.tl.leiden(potential_17, restrict_to = ('leiden', ['1']), resolution = 0.9, key_added= 'leiden1')\n",
    "sc.pl.tsne(potential_17, color=['leiden1','RORC','IL17A','IL17F'], size = 20, legend_loc = 'on data', cmap = my_cmap)"
   ]
  },
  {
   "cell_type": "code",
   "execution_count": null,
   "metadata": {},
   "outputs": [],
   "source": [
    "IL17_genesmask = [gene.startswith(\"IL17\") and gene.startswith(\"IL17R\")==0 for gene in potential_17.var_names]\n",
    "IL17_genes = potential_17.var_names[IL17_genesmask]\n",
    "IL17_exp_set ={\n",
    "    'cytokine': IL17_genes, 'TF': 'RORC'\n",
    "}\n",
    "sc.pl.dotplot(potential_17,IL17_exp_set,groupby = 'leiden1' , vmax = 1, swap_axes = False, dot_min =0.1, dot_max =1,standard_scale = 'var')"
   ]
  },
  {
   "cell_type": "code",
   "execution_count": null,
   "metadata": {},
   "outputs": [],
   "source": [
    "T17_4 = potential_17[potential_17.obs['leiden2'].isin(['2,1','16']),:]"
   ]
  },
  {
   "cell_type": "code",
   "execution_count": null,
   "metadata": {},
   "outputs": [],
   "source": [
    "potential_17 = adata[adata.obs['leiden'].isin(['4']),:]"
   ]
  },
  {
   "cell_type": "code",
   "execution_count": null,
   "metadata": {},
   "outputs": [],
   "source": [
    "del potential_17.uns"
   ]
  },
  {
   "cell_type": "code",
   "execution_count": null,
   "metadata": {},
   "outputs": [],
   "source": [
    "sc.pp.highly_variable_genes(potential_17, flavor='seurat', n_top_genes=3000)\n",
    "sc.pp.pca(potential_17, n_comps=50, use_highly_variable=True, svd_solver='arpack')"
   ]
  },
  {
   "cell_type": "code",
   "execution_count": null,
   "metadata": {},
   "outputs": [],
   "source": [
    "sc.pp.neighbors(potential_17, n_neighbors = 15, n_pcs = 50)\n",
    "sc.tl.leiden(potential_17, resolution = 1, key_added= 'leiden')                                                 "
   ]
  },
  {
   "cell_type": "code",
   "execution_count": null,
   "metadata": {},
   "outputs": [],
   "source": [
    "sc.tl.tsne(potential_17)"
   ]
  },
  {
   "cell_type": "code",
   "execution_count": null,
   "metadata": {},
   "outputs": [],
   "source": [
    "%matplotlib inline\n",
    "sc.pl.tsne(potential_17, color=['leiden','RORC','IL17A','IL17F'],size = 40,cmap = my_cmap)"
   ]
  },
  {
   "cell_type": "code",
   "execution_count": null,
   "metadata": {},
   "outputs": [],
   "source": [
    "plt.rcParams['figure.figsize'] = [8,8]\n",
    "sc.tl.leiden(potential_17, restrict_to = ('leiden', ['7']), resolution = 0.5, key_added= 'leiden1')\n",
    "sc.pl.tsne(potential_17, color=['leiden1','RORC','IL17A','IL17F'], size = 20, legend_loc = 'on data', cmap = my_cmap)"
   ]
  },
  {
   "cell_type": "code",
   "execution_count": null,
   "metadata": {},
   "outputs": [],
   "source": [
    "plt.rcParams['figure.figsize'] = [8,8]\n",
    "sc.tl.leiden(potential_17, restrict_to = ('leiden1', ['4']), resolution = 0.5, key_added= 'leiden2')\n",
    "sc.pl.tsne(potential_17, color=['leiden2','RORC','IL17A','IL17F'], size = 20, legend_loc = 'on data', cmap = my_cmap)"
   ]
  },
  {
   "cell_type": "code",
   "execution_count": null,
   "metadata": {},
   "outputs": [],
   "source": [
    "plt.rcParams['figure.figsize'] = [8,8]\n",
    "sc.tl.leiden(potential_17, restrict_to = ('leiden2', ['9']), resolution = 0.5, key_added= 'leiden3')\n",
    "sc.pl.tsne(potential_17, color=['leiden3','RORC','IL17A','IL17F'], size = 30, legend_loc = 'on data', cmap = my_cmap)"
   ]
  },
  {
   "cell_type": "code",
   "execution_count": null,
   "metadata": {},
   "outputs": [],
   "source": [
    "plt.rcParams['figure.figsize'] = [8,8]\n",
    "sc.tl.leiden(potential_17, restrict_to = ('leiden3', ['3']), resolution = 0.6, key_added= 'leiden4')\n",
    "sc.pl.tsne(potential_17, color=['leiden4','RORC','IL17A','IL17F'], size = 30, legend_loc = 'on data', cmap = my_cmap)"
   ]
  },
  {
   "cell_type": "code",
   "execution_count": null,
   "metadata": {},
   "outputs": [],
   "source": [
    "IL17_genesmask = [gene.startswith(\"IL17\") and gene.startswith(\"IL17R\")==0 for gene in potential_17.var_names]\n",
    "IL17_genes = potential_17.var_names[IL17_genesmask]\n",
    "IL17_exp_set ={\n",
    "    'cytokine': IL17_genes, 'TF': 'RORC'\n",
    "}\n",
    "sc.pl.dotplot(potential_17,IL17_exp_set,groupby = 'leiden4' , vmax = 1, swap_axes = False, dot_min =0.1, dot_max =1,standard_scale = 'var')"
   ]
  },
  {
   "cell_type": "code",
   "execution_count": null,
   "metadata": {},
   "outputs": [],
   "source": [
    "T17_5 = potential_17[potential_17.obs['leiden'].isin(['3,0','3,2','4,1','7,0','7,1','7,3','9,0','9,1']),:]"
   ]
  },
  {
   "cell_type": "code",
   "execution_count": null,
   "metadata": {},
   "outputs": [],
   "source": [
    "potential_17 = adata[adata.obs['leiden'].isin(['5']),:]"
   ]
  },
  {
   "cell_type": "code",
   "execution_count": null,
   "metadata": {},
   "outputs": [],
   "source": [
    "del potential_17.uns"
   ]
  },
  {
   "cell_type": "code",
   "execution_count": null,
   "metadata": {},
   "outputs": [],
   "source": [
    "sc.pp.highly_variable_genes(potential_17, flavor='seurat', n_top_genes=3000)\n",
    "sc.pp.pca(potential_17, n_comps=50, use_highly_variable=True, svd_solver='arpack')"
   ]
  },
  {
   "cell_type": "code",
   "execution_count": null,
   "metadata": {},
   "outputs": [],
   "source": [
    "sc.pp.neighbors(potential_17, n_neighbors = 15, n_pcs = 50)\n",
    "sc.tl.leiden(potential_17, resolution = 0.7, key_added= 'leiden')                                                 "
   ]
  },
  {
   "cell_type": "code",
   "execution_count": null,
   "metadata": {},
   "outputs": [],
   "source": [
    "sc.tl.tsne(potential_17)"
   ]
  },
  {
   "cell_type": "code",
   "execution_count": null,
   "metadata": {},
   "outputs": [],
   "source": [
    "%matplotlib inline\n",
    "sc.pl.tsne(potential_17, color=['leiden','RORC','IL17A','IL17F'],size = 40,cmap = my_cmap)"
   ]
  },
  {
   "cell_type": "code",
   "execution_count": null,
   "metadata": {},
   "outputs": [],
   "source": [
    "plt.rcParams['figure.figsize'] = [8,8]\n",
    "sc.tl.leiden(potential_17, restrict_to = ('leiden', ['3']), resolution = 1, key_added= 'leiden1')\n",
    "sc.pl.tsne(potential_17, color=['leiden1','RORC','IL17A','IL17F'], size = 20, legend_loc = 'on data', cmap = my_cmap)"
   ]
  },
  {
   "cell_type": "code",
   "execution_count": null,
   "metadata": {},
   "outputs": [],
   "source": [
    "plt.rcParams['figure.figsize'] = [8,8]\n",
    "sc.tl.leiden(potential_17, restrict_to = ('leiden1', ['4']), resolution = 1, key_added= 'leiden2')\n",
    "sc.pl.tsne(potential_17, color=['leiden2','RORC','IL17A','IL17F'], size = 20, legend_loc = 'on data', cmap = my_cmap)"
   ]
  },
  {
   "cell_type": "code",
   "execution_count": null,
   "metadata": {},
   "outputs": [],
   "source": [
    "IL17_genesmask = [gene.startswith(\"IL17\") and gene.startswith(\"IL17R\")==0 for gene in potential_17.var_names]\n",
    "IL17_genes = potential_17.var_names[IL17_genesmask]\n",
    "IL17_exp_set ={\n",
    "    'cytokine': IL17_genes, 'TF': 'RORC'\n",
    "}\n",
    "sc.pl.dotplot(potential_17,IL17_exp_set,groupby = 'leiden1' , vmax = 1, swap_axes = False, dot_min =0.1, dot_max =1,standard_scale = 'var')"
   ]
  },
  {
   "cell_type": "code",
   "execution_count": null,
   "metadata": {},
   "outputs": [],
   "source": [
    "T17_6 = potential_17[potential_17.obs['leiden1'].isin(['3,7','9']),:]"
   ]
  },
  {
   "cell_type": "code",
   "execution_count": null,
   "metadata": {},
   "outputs": [],
   "source": [
    "potential_17 = adata[adata.obs['leiden'].isin(['15']),:]"
   ]
  },
  {
   "cell_type": "code",
   "execution_count": null,
   "metadata": {},
   "outputs": [],
   "source": [
    "del potential_17.uns"
   ]
  },
  {
   "cell_type": "code",
   "execution_count": null,
   "metadata": {},
   "outputs": [],
   "source": [
    "sc.pp.highly_variable_genes(potential_17, flavor='seurat', n_top_genes=3000)\n",
    "sc.pp.pca(potential_17, n_comps=50, use_highly_variable=True, svd_solver='arpack')"
   ]
  },
  {
   "cell_type": "code",
   "execution_count": null,
   "metadata": {},
   "outputs": [],
   "source": [
    "sc.pp.neighbors(potential_17, n_neighbors = 15, n_pcs = 50)\n",
    "sc.tl.leiden(potential_17, resolution = 1, key_added= 'leiden')                                                 "
   ]
  },
  {
   "cell_type": "code",
   "execution_count": null,
   "metadata": {},
   "outputs": [],
   "source": [
    "sc.tl.tsne(potential_17)"
   ]
  },
  {
   "cell_type": "code",
   "execution_count": null,
   "metadata": {},
   "outputs": [],
   "source": [
    "%matplotlib inline\n",
    "sc.pl.tsne(potential_17, color=['leiden','RORC','IL17A','IL17F'],size = 40,cmap = my_cmap)"
   ]
  },
  {
   "cell_type": "code",
   "execution_count": null,
   "metadata": {},
   "outputs": [],
   "source": [
    "plt.rcParams['figure.figsize'] = [8,8]\n",
    "sc.tl.leiden(potential_17, restrict_to = ('leiden', ['3']), resolution = 0.5, key_added= 'leiden1')\n",
    "sc.pl.tsne(potential_17, color=['leiden1','RORC','IL17A','IL17F'], size = 40, legend_loc = 'on data', cmap = my_cmap)"
   ]
  },
  {
   "cell_type": "code",
   "execution_count": null,
   "metadata": {},
   "outputs": [],
   "source": [
    "plt.rcParams['figure.figsize'] = [8,8]\n",
    "sc.tl.leiden(potential_17, restrict_to = ('leiden1', ['4']), resolution = 0.5, key_added= 'leiden2')\n",
    "sc.pl.tsne(potential_17, color=['leiden2','RORC','IL17A','IL17F'], size = 20, legend_loc = 'on data', cmap = my_cmap)"
   ]
  },
  {
   "cell_type": "code",
   "execution_count": null,
   "metadata": {},
   "outputs": [],
   "source": [
    "plt.rcParams['figure.figsize'] = [8,8]\n",
    "sc.tl.leiden(potential_17, restrict_to = ('leiden2', ['5']), resolution = 0.5, key_added= 'leiden3')\n",
    "sc.pl.tsne(potential_17, color=['leiden3','RORC','IL17A','IL17F'], size = 30, legend_loc = 'on data', cmap = my_cmap)"
   ]
  },
  {
   "cell_type": "code",
   "execution_count": null,
   "metadata": {},
   "outputs": [],
   "source": [
    "plt.rcParams['figure.figsize'] = [8,8]\n",
    "sc.tl.leiden(potential_17, restrict_to = ('leiden3', ['10']), resolution = 0.4, key_added= 'leiden4')\n",
    "sc.pl.tsne(potential_17, color=['leiden4','RORC','IL17A','IL17F'], size = 30, legend_loc = 'on data', cmap = my_cmap)"
   ]
  },
  {
   "cell_type": "code",
   "execution_count": null,
   "metadata": {},
   "outputs": [],
   "source": [
    "IL17_genesmask = [gene.startswith(\"IL17\") and gene.startswith(\"IL17R\")==0 for gene in potential_17.var_names]\n",
    "IL17_genes = potential_17.var_names[IL17_genesmask]\n",
    "IL17_exp_set ={\n",
    "    'cytokine': IL17_genes, 'TF': 'RORC'\n",
    "}\n",
    "sc.pl.dotplot(potential_17,IL17_exp_set,groupby = 'leiden4' , vmax = 1, swap_axes = False, dot_min =0.1, dot_max =1,standard_scale = 'var')"
   ]
  },
  {
   "cell_type": "code",
   "execution_count": null,
   "metadata": {},
   "outputs": [],
   "source": [
    "T17_7 = potential_17[potential_17.obs['leiden'].isin(['3,1','3,3','4,0','4,2','5,0','10,2','5,3','4,1']),:]"
   ]
  },
  {
   "cell_type": "code",
   "execution_count": null,
   "metadata": {},
   "outputs": [],
   "source": [
    "potential_17 = adata[adata.obs['leiden'].isin(['39']),:]"
   ]
  },
  {
   "cell_type": "code",
   "execution_count": null,
   "metadata": {},
   "outputs": [],
   "source": [
    "del potential_17.uns"
   ]
  },
  {
   "cell_type": "code",
   "execution_count": null,
   "metadata": {},
   "outputs": [],
   "source": [
    "sc.pp.highly_variable_genes(potential_17, flavor='seurat', n_top_genes=3000)\n",
    "sc.pp.pca(potential_17, n_comps=50, use_highly_variable=True, svd_solver='arpack')"
   ]
  },
  {
   "cell_type": "code",
   "execution_count": null,
   "metadata": {},
   "outputs": [],
   "source": [
    "sc.pp.neighbors(potential_17, n_neighbors = 15, n_pcs = 50)\n",
    "sc.tl.leiden(potential_17, resolution = 0.7, key_added= 'leiden')                                                 "
   ]
  },
  {
   "cell_type": "code",
   "execution_count": null,
   "metadata": {},
   "outputs": [],
   "source": [
    "sc.tl.tsne(potential_17)"
   ]
  },
  {
   "cell_type": "code",
   "execution_count": null,
   "metadata": {},
   "outputs": [],
   "source": [
    "%matplotlib inline\n",
    "sc.pl.tsne(potential_17, color=['leiden','RORC','IL17A','IL17F'],size = 40,cmap = my_cmap)"
   ]
  },
  {
   "cell_type": "code",
   "execution_count": null,
   "metadata": {},
   "outputs": [],
   "source": [
    "IL17_genesmask = [gene.startswith(\"IL17\") and gene.startswith(\"IL17R\")==0 for gene in potential_17.var_names]\n",
    "IL17_genes = potential_17.var_names[IL17_genesmask]\n",
    "IL17_exp_set ={\n",
    "    'cytokine': IL17_genes, 'TF': 'RORC'\n",
    "}\n",
    "sc.pl.dotplot(potential_17,IL17_exp_set,groupby = 'leiden' , vmax = 1, swap_axes = False, dot_min =0.1, dot_max =1,standard_scale = 'var')"
   ]
  },
  {
   "cell_type": "code",
   "execution_count": null,
   "metadata": {},
   "outputs": [],
   "source": [
    "T17_8 = potential_17[potential_17.obs['leiden'].isin(['4'])==0,:]"
   ]
  },
  {
   "cell_type": "code",
   "execution_count": null,
   "metadata": {},
   "outputs": [],
   "source": [
    "potential_17 = adata[adata.obs['leiden'].isin(['6']),:]"
   ]
  },
  {
   "cell_type": "code",
   "execution_count": null,
   "metadata": {},
   "outputs": [],
   "source": [
    "del potential_17.uns"
   ]
  },
  {
   "cell_type": "code",
   "execution_count": null,
   "metadata": {},
   "outputs": [],
   "source": [
    "sc.pp.highly_variable_genes(potential_17, flavor='seurat', n_top_genes=3000)\n",
    "sc.pp.pca(potential_17, n_comps=50, use_highly_variable=True, svd_solver='arpack')"
   ]
  },
  {
   "cell_type": "code",
   "execution_count": null,
   "metadata": {},
   "outputs": [],
   "source": [
    "sc.pp.neighbors(potential_17, n_neighbors = 15, n_pcs = 50)\n",
    "sc.tl.leiden(potential_17, resolution = 0.7, key_added= 'leiden')                                                 "
   ]
  },
  {
   "cell_type": "code",
   "execution_count": null,
   "metadata": {},
   "outputs": [],
   "source": [
    "sc.tl.tsne(potential_17)"
   ]
  },
  {
   "cell_type": "code",
   "execution_count": null,
   "metadata": {},
   "outputs": [],
   "source": [
    "%matplotlib inline\n",
    "sc.pl.tsne(potential_17, color=['leiden','RORC','IL17A','IL17F'],size = 40,cmap = my_cmap)"
   ]
  },
  {
   "cell_type": "code",
   "execution_count": null,
   "metadata": {},
   "outputs": [],
   "source": [
    "plt.rcParams['figure.figsize'] = [8,8]\n",
    "sc.tl.leiden(potential_17, restrict_to = ('leiden', ['12']), resolution = 0.3, key_added= 'leiden1')\n",
    "sc.pl.tsne(potential_17, color=['leiden1','RORC','IL17A','IL17F'], size = 40, legend_loc = 'on data', cmap = my_cmap)"
   ]
  },
  {
   "cell_type": "code",
   "execution_count": null,
   "metadata": {},
   "outputs": [],
   "source": [
    "IL17_genesmask = [gene.startswith(\"IL17\") and gene.startswith(\"IL17R\")==0 for gene in potential_17.var_names]\n",
    "IL17_genes = potential_17.var_names[IL17_genesmask]\n",
    "IL17_exp_set ={\n",
    "    'cytokine': IL17_genes, 'TF': 'RORC'\n",
    "}\n",
    "sc.pl.dotplot(potential_17,IL17_exp_set,groupby = 'leiden1' , vmax = 1, swap_axes = False, dot_min =0.1, dot_max =1,standard_scale = 'var')"
   ]
  },
  {
   "cell_type": "code",
   "execution_count": null,
   "metadata": {},
   "outputs": [],
   "source": [
    "T17_9 = potential_17[potential_17.obs['leiden1'].isin(['12,0','12,2'])==0,:]"
   ]
  },
  {
   "cell_type": "code",
   "execution_count": null,
   "metadata": {},
   "outputs": [],
   "source": [
    "adata_17 = T17_1.concatenate(T17_2,T17_3,T17_5,T17_6,T17_7,T17_8,T17_9, batch_key = 'original_cluster', join = 'outer',index_unique = None, fill_value=0)"
   ]
  }
 ],
 "metadata": {
  "language_info": {
   "name": "python"
  }
 },
 "nbformat": 4,
 "nbformat_minor": 2
}
