{
 "cells": [
  {
   "cell_type": "code",
   "execution_count": null,
   "id": "dd4e87e0-7d7f-4fde-bb45-a361489d66b6",
   "metadata": {},
   "outputs": [],
   "source": [
    "#import the library\n",
    "import scanpy as sc\n",
    "import numpy as np\n",
    "import scipy as sp\n",
    "import pandas as pd\n",
    "import matplotlib.pyplot as plt\n",
    "from matplotlib import rcParams\n",
    "from matplotlib import colors\n",
    "import seaborn as sb\n",
    "from gprofiler import GProfiler\n",
    "import seaborn as sns\n",
    "import rpy2.rinterface_lib.callbacks\n",
    "import logging\n",
    "import tensorflow as tf\n",
    "import scipy.sparse\n",
    "import os\n",
    "\n",
    "from rpy2.robjects import pandas2ri\n",
    "import anndata2ri\n",
    "\n",
    "import importlib\n",
    "import warnings\n",
    "warnings.filterwarnings(\"ignore\")\n",
    "import pickle as pkl\n",
    "from matplotlib.colors import LinearSegmentedColormap"
   ]
  },
  {
   "cell_type": "code",
   "execution_count": null,
   "id": "42830405-4685-4661-ad57-6934ecf7d6c2",
   "metadata": {},
   "outputs": [],
   "source": [
    "from matplotlib.colors import LinearSegmentedColormap\n",
    "values = [0,1]\n",
    "colors = [(227, 227, 227), (255, 42, 18)]\n",
    "norm = plt.Normalize(min(values), max(values))\n",
    "my_cmap = LinearSegmentedColormap.from_list(\n",
    "    '', [(norm(value), tuple(np.array(color) / 255)) for value, color in zip(values, colors)])"
   ]
  },
  {
   "cell_type": "code",
   "execution_count": null,
   "id": "50bf9624-ed4f-487d-816f-03e9b472bc7c",
   "metadata": {
    "tags": []
   },
   "outputs": [],
   "source": [
    "rpy2.rinterface_lib.callbacks.logger.setLevel(logging.ERROR)\n",
    "pandas2ri.activate()\n",
    "anndata2ri.activate()\n",
    "%load_ext rpy2.ipython"
   ]
  },
  {
   "cell_type": "code",
   "execution_count": null,
   "id": "cfb0b959-4bc4-4e37-bccb-dfdaaa801b4c",
   "metadata": {
    "tags": []
   },
   "outputs": [],
   "source": [
    "plt.rcParams['figure.figsize']=(8,8) #rescale figures\n",
    "sc.settings.verbosity = 3\n",
    "#sc.set_figure_params(dpi=200, dpi_save=300)\n",
    "sc.logging.print_versions()"
   ]
  },
  {
   "cell_type": "code",
   "execution_count": null,
   "id": "3a905c54-746e-4d0f-8a50-519cd7021adb",
   "metadata": {
    "tags": []
   },
   "outputs": [],
   "source": [
    "%%R\n",
    ".libPaths(.libPaths('win-library\\\\4.3'))\n",
    "\n",
    "library(scran)\n",
    "library(Seurat)\n",
    "library(RColorBrewer)\n",
    "library(slingshot)\n",
    "library(monocle)\n",
    "library(gam)\n",
    "library(ggplot2)\n",
    "library(plyr)\n",
    "library(MAST)\n",
    "library(clusterExperiment)\n",
    "library(monocle3)\n",
    "library(SeuratWrappers)\n",
    "library(magrittr)\n",
    "library(dplyr)"
   ]
  },
  {
   "cell_type": "code",
   "execution_count": null,
   "id": "586ee7d3-29d5-4a2b-ba57-8706fe56d047",
   "metadata": {
    "tags": []
   },
   "outputs": [],
   "source": [
    "%%R \n",
    "srat_combined = readRDS('GSE231559/integrated_data.rds')\n",
    "HVG = VariableFeatures(srat_combined)"
   ]
  },
  {
   "cell_type": "code",
   "execution_count": null,
   "id": "8044c827-8285-455d-9041-118788be6c11",
   "metadata": {},
   "outputs": [],
   "source": [
    "%R mat <- srat_combined@assays$SCT@scale.data"
   ]
  },
  {
   "cell_type": "code",
   "execution_count": null,
   "id": "657b2925-dcbe-4d54-b04d-1a920ddb9179",
   "metadata": {},
   "outputs": [],
   "source": [
    "%%R\n",
    "pca <- srat_combined[[\"pca\"]]\n",
    "\n",
    "# Get the total variance:\n",
    "total_variance <- sum(matrixStats::rowVars(mat))\n",
    "\n",
    "eigValues = (pca@stdev)^2  ## EigenValues\n",
    "varExplained = eigValues / total_variance\n",
    "\n",
    "PCs = Loadings(srat_combined, reduction = \"pca\")"
   ]
  },
  {
   "cell_type": "code",
   "execution_count": null,
   "id": "9b6faf23-e695-41ce-9497-4254dc104b4d",
   "metadata": {},
   "outputs": [],
   "source": [
    "%%R -o counts -o logcounts -o residuals\n",
    "\n",
    "counts = srat_combined[[\"SCT\"]]@counts\n",
    "logcounts = srat_combined[[\"SCT\"]]@data\n",
    "residuals = srat_combined[[\"SCT\"]]@scale.data"
   ]
  },
  {
   "cell_type": "code",
   "execution_count": null,
   "id": "8a931082-d3a5-4f51-989e-bb7221218093",
   "metadata": {},
   "outputs": [],
   "source": [
    "%%R -o features -o residual_features -o HVG -o varExplained -o PCs -o mat -o obs_names -o PC_embeddings -o sample_origin\n",
    "features = srat_combined@assays$SCT@counts@Dimnames[[1]]\n",
    "obs_names = srat_combined@assays$SCT@counts@Dimnames[[2]]\n",
    "residual_features = srat_combined@assays$integrated@data@Dimnames[[1]]\n",
    "PC_embeddings = srat_combined@reductions$pca@cell.embeddings\n",
    "sample_origin = srat_combined@meta.data$orig.ident"
   ]
  },
  {
   "cell_type": "code",
   "execution_count": null,
   "id": "dee8379d-f75d-4fde-8809-ccbbcc7bb2a8",
   "metadata": {},
   "outputs": [],
   "source": [
    "import anndata\n",
    "adata = anndata.AnnData(X = logcounts.T)\n",
    "adata.var_names = features\n",
    "adata.obs_names = obs_names\n",
    "adata.uns['scaled'] = mat.T\n",
    "adata.layers['counts'] = counts.T\n",
    "adata.uns['residuals'] = residuals.T\n",
    "adata.layers['logcounts'] = logcounts.T\n",
    "adata.obsm['X_pca'] = PC_embeddings\n",
    "adata.obs['sample_origin'] = sample_origin"
   ]
  },
  {
   "cell_type": "code",
   "execution_count": null,
   "id": "6f1fd0a8-35f8-4094-af67-1732f09f1433",
   "metadata": {},
   "outputs": [],
   "source": [
    "adata.obs['n_counts'] = adata.layers['counts'].sum(1)\n",
    "adata.obs['n_genes'] = (adata.layers['counts'] > 0).sum(1)\n",
    "adata.var['highly_variable'] = adata.var_names.isin(HVG)\n",
    "adata.uns['pca'] = dict({'variance_ratio': varExplained})"
   ]
  },
  {
   "cell_type": "code",
   "execution_count": null,
   "id": "7911ab59-132d-460b-a805-9990d9459ea3",
   "metadata": {},
   "outputs": [],
   "source": [
    "mt_gene_mask = [gene.startswith('MT-') for gene in adata.var_names]\n",
    "adata.obs['mt_frac'] = np.array(adata.layers['counts'][:, mt_gene_mask].sum(1).ravel())[0]/adata.obs['n_counts']"
   ]
  },
  {
   "cell_type": "code",
   "execution_count": null,
   "id": "00c373ad-1121-4ddf-bcb4-b0ae22533e6c",
   "metadata": {},
   "outputs": [],
   "source": [
    "ribo_gene_mask = [gene.startswith('RPL') or gene.startswith('RPS') for gene in adata.var_names]\n",
    "adata.obs['ribo_frac'] = np.array(adata.layers['counts'][:, ribo_gene_mask].sum(1).ravel())[0]/adata.obs['n_counts']"
   ]
  },
  {
   "cell_type": "code",
   "execution_count": null,
   "id": "35785b4b-8b8f-4af3-9359-bc3e96bc6fb3",
   "metadata": {},
   "outputs": [],
   "source": [
    "sc.pp.neighbors(adata, n_pcs = 50)"
   ]
  },
  {
   "cell_type": "code",
   "execution_count": null,
   "id": "7475f48f-abdb-4d03-a596-fe369d2ab704",
   "metadata": {},
   "outputs": [],
   "source": [
    "sc.tl.leiden(adata, resolution = 0.8, key_added= 'leiden')"
   ]
  },
  {
   "cell_type": "code",
   "execution_count": null,
   "id": "640e75f0-d7de-43a7-a7f8-af1ff09fc74e",
   "metadata": {},
   "outputs": [],
   "source": [
    "sc.pl.pca(adata, color=['leiden','CD4'], legend_loc = 'on data')"
   ]
  },
  {
   "cell_type": "code",
   "execution_count": null,
   "id": "bb868b7d-4139-45c1-b110-433b92c6689f",
   "metadata": {},
   "outputs": [],
   "source": [
    "%matplotlib inline\n",
    "sc.tl.tsne(adata)\n",
    "#plt.close()\n",
    "plt.rcParams['axes.linewidth'] = 2\n",
    "sc.pl.tsne(adata, color=['leiden','CD3E','CD3G','CD3D','TRDC','ICOS','CD4','CD8A','CD8B','FOXP3','IFNG'],legend_loc = 'on data',cmap = my_cmap)"
   ]
  },
  {
   "cell_type": "code",
   "execution_count": null,
   "id": "3356dbd3-22e4-47ca-8de5-d0e8951bd143",
   "metadata": {},
   "outputs": [],
   "source": [
    "adata.write('GSE231559/integrated.h5ad')"
   ]
  },
  {
   "cell_type": "code",
   "execution_count": null,
   "id": "a037edff-9daf-4360-a60a-9080f9726836",
   "metadata": {},
   "outputs": [],
   "source": [
    "adata = sc.read_h5ad('AA_Done/GSE231559/integrated.h5ad')"
   ]
  },
  {
   "cell_type": "code",
   "execution_count": null,
   "id": "a1d744fc-f391-4e81-a1fb-0c2baa27b2c7",
   "metadata": {},
   "outputs": [],
   "source": [
    "adata_17= sc.read_h5ad('GSE231559_T17.h5ad')"
   ]
  },
  {
   "cell_type": "code",
   "execution_count": null,
   "id": "b55ce029-f5bd-4004-b04a-710e96877b54",
   "metadata": {},
   "outputs": [],
   "source": [
    "%matplotlib inline\n",
    "plt.rcParams['axes.linewidth'] = 2\n",
    "sc.pl.tsne(adata, color=['leiden','CD3E','CD3G','CD3D','TRDC','RORC','IL17A'],legend_loc = 'on data',cmap = my_cmap)"
   ]
  },
  {
   "cell_type": "code",
   "execution_count": null,
   "id": "53b01abf-1886-4eeb-8b40-3c5dbb2399d2",
   "metadata": {},
   "outputs": [],
   "source": [
    "bioinfo = pd.read_csv('AA_Done/GSE231559/bioinfo.csv')"
   ]
  },
  {
   "cell_type": "code",
   "execution_count": null,
   "id": "155dc6b2-31bd-489a-8641-7d139c060e8d",
   "metadata": {},
   "outputs": [],
   "source": [
    "bioinfo"
   ]
  },
  {
   "cell_type": "code",
   "execution_count": null,
   "id": "95a0ee54-cd84-49f7-9ca6-d72ab7be98fb",
   "metadata": {},
   "outputs": [],
   "source": [
    "adata.obs['GSM'] = [i.split('_')[0] for i in adata.obs['sample_origin']]"
   ]
  },
  {
   "cell_type": "code",
   "execution_count": null,
   "id": "0eb6eb0c-6ef3-400f-ab14-1173a377f106",
   "metadata": {},
   "outputs": [],
   "source": [
    "patient_dict = dict(zip(bioinfo['GSM'], bioinfo['patient']))\n",
    "patient = [patient_dict[i] for i in adata.obs['GSM']]"
   ]
  },
  {
   "cell_type": "code",
   "execution_count": null,
   "id": "eed86ad4-7793-4e8e-aa83-0f83d6351476",
   "metadata": {},
   "outputs": [],
   "source": [
    "gender_dict = dict(zip(bioinfo['GSM'], bioinfo['gender']))\n",
    "gender = [gender_dict[i] for i in adata.obs['GSM']]"
   ]
  },
  {
   "cell_type": "code",
   "execution_count": null,
   "id": "2d3038a1-61b5-4694-950f-48629794f26e",
   "metadata": {},
   "outputs": [],
   "source": [
    "age_dict = dict(zip(bioinfo['GSM'], bioinfo['age']))\n",
    "age = [age_dict[i] for i in adata.obs['GSM']]"
   ]
  },
  {
   "cell_type": "code",
   "execution_count": null,
   "id": "f15a4403-13eb-4412-88f0-27439647695a",
   "metadata": {
    "tags": []
   },
   "outputs": [],
   "source": [
    "tissue_dict = dict(zip(bioinfo['GSM'], bioinfo['tissue']))\n",
    "tissue = [tissue_dict[i] for i in adata.obs['GSM']]"
   ]
  },
  {
   "cell_type": "code",
   "execution_count": null,
   "id": "f1199d3e-f7e8-405f-9972-cdf6341ed5c6",
   "metadata": {},
   "outputs": [],
   "source": [
    "stage_dict = dict(zip(bioinfo['GSM'], bioinfo['stage']))\n",
    "stage = [stage_dict[i] for i in adata.obs['GSM']]"
   ]
  },
  {
   "cell_type": "code",
   "execution_count": null,
   "id": "d53c80a4-f2c6-4e9e-89a9-847b2bc5790e",
   "metadata": {},
   "outputs": [],
   "source": [
    "adata.obs['patient'] = patient\n",
    "adata.obs['gender'] = gender\n",
    "adata.obs['age'] = age\n",
    "adata.obs['site'] = 'colon unknown'\n",
    "adata.obs['stage'] = stage\n",
    "adata.obs['TNM_T'] = 'N/A'\n",
    "adata.obs['TNM_N'] = 'N/A'\n",
    "adata.obs['TNM_M'] = 'N/A'\n",
    "adata.obs['tissue'] = 'CRC'"
   ]
  },
  {
   "cell_type": "code",
   "execution_count": null,
   "id": "bb08921f-bde3-4552-84ef-9cae33c841a0",
   "metadata": {},
   "outputs": [],
   "source": [
    "adata.obs['gender'] = adata.obs['gender'].replace({'F':'Female','M':'Male'})"
   ]
  },
  {
   "cell_type": "code",
   "execution_count": null,
   "id": "90c2a869-e1a5-4b4f-be80-6029b1909fe6",
   "metadata": {},
   "outputs": [],
   "source": [
    "sc.pl.tsne(adata,color = ['patient','tissue','gender','age','site','TNM_T','TNM_N','TNM_M'])"
   ]
  },
  {
   "cell_type": "code",
   "execution_count": null,
   "id": "7a9eed1c-1216-44f7-bce2-4b829f39c03a",
   "metadata": {},
   "outputs": [],
   "source": [
    "potential_17 = adata[adata.obs['leiden'].isin(['2']),:]"
   ]
  },
  {
   "cell_type": "code",
   "execution_count": null,
   "id": "75d979cc-788d-4f18-9184-7ddb443c0709",
   "metadata": {},
   "outputs": [],
   "source": [
    "sc.pp.highly_variable_genes(potential_17, flavor='seurat', n_top_genes=3000)\n",
    "sc.pp.pca(potential_17, n_comps=50, use_highly_variable=True, svd_solver='arpack')"
   ]
  },
  {
   "cell_type": "code",
   "execution_count": null,
   "id": "01b01717-b1ab-4715-b9ce-630b9914decd",
   "metadata": {},
   "outputs": [],
   "source": [
    "sc.pp.neighbors(potential_17, n_neighbors = 15, n_pcs = 50)\n",
    "sc.tl.leiden(potential_17, resolution = 1, key_added= 'leiden')                                                 "
   ]
  },
  {
   "cell_type": "code",
   "execution_count": null,
   "id": "1b06b23a-a807-4499-ab7b-bab3af37d0ad",
   "metadata": {},
   "outputs": [],
   "source": [
    "sc.tl.tsne(potential_17)"
   ]
  },
  {
   "cell_type": "code",
   "execution_count": null,
   "id": "57853aea-281c-4300-a661-059e013c9fc4",
   "metadata": {},
   "outputs": [],
   "source": [
    "%matplotlib inline\n",
    "sc.pl.tsne(potential_17, color=['leiden','RORC','IL17A','IL17F'],size = 50,cmap = my_cmap)"
   ]
  },
  {
   "cell_type": "code",
   "execution_count": null,
   "id": "960a55d6-b2d0-492f-a3d7-22c71734e353",
   "metadata": {},
   "outputs": [],
   "source": [
    "IL17_genesmask = [gene.startswith(\"IL17\") and gene.startswith(\"IL17R\")==0 for gene in potential_17.var_names]\n",
    "IL17_genes = potential_17.var_names[IL17_genesmask]\n",
    "IL17_exp_set ={\n",
    "    'cytokine': IL17_genes, 'TF': 'RORC'\n",
    "}\n",
    "sc.pl.dotplot(potential_17,IL17_exp_set,groupby = 'leiden' , vmax = 1, swap_axes = False, dot_min =0.1, dot_max =1,standard_scale = 'var')"
   ]
  },
  {
   "cell_type": "code",
   "execution_count": null,
   "id": "381c2c35-344d-40c0-8b7d-22909ed988a0",
   "metadata": {},
   "outputs": [],
   "source": [
    "T17_1 = potential_17[potential_17.obs['leiden'].isin(['2','3','4']),:]"
   ]
  },
  {
   "cell_type": "code",
   "execution_count": null,
   "id": "8bd234bd-e879-4354-be2f-4ec26cbb91c0",
   "metadata": {},
   "outputs": [],
   "source": [
    "potential_17 = adata[adata.obs['leiden'].isin(['12']),:]"
   ]
  },
  {
   "cell_type": "code",
   "execution_count": null,
   "id": "4fca406c-ccb8-45b8-bb90-e9b420dd394d",
   "metadata": {},
   "outputs": [],
   "source": [
    "sc.pp.highly_variable_genes(potential_17, flavor='seurat', n_top_genes=3000)\n",
    "sc.pp.pca(potential_17, n_comps=50, use_highly_variable=True, svd_solver='arpack')"
   ]
  },
  {
   "cell_type": "code",
   "execution_count": null,
   "id": "e86017e2-3c2a-40af-962e-d5492d3bb8c5",
   "metadata": {},
   "outputs": [],
   "source": [
    "sc.pp.neighbors(potential_17, n_neighbors = 15, n_pcs = 50)\n",
    "sc.tl.leiden(potential_17, resolution = 1, key_added= 'leiden')                                                 "
   ]
  },
  {
   "cell_type": "code",
   "execution_count": null,
   "id": "6dedd0d3-114d-4a1c-8bf1-b9990ebd4663",
   "metadata": {},
   "outputs": [],
   "source": [
    "sc.tl.tsne(potential_17)"
   ]
  },
  {
   "cell_type": "code",
   "execution_count": null,
   "id": "b061dc81-9cfb-4d28-a097-135ae7adc7b9",
   "metadata": {},
   "outputs": [],
   "source": [
    "%matplotlib inline\n",
    "sc.pl.tsne(potential_17, color=['leiden','RORC','IL17A','IL17F'],size = 40,cmap = my_cmap)"
   ]
  },
  {
   "cell_type": "code",
   "execution_count": null,
   "id": "857967fd-a52d-4f60-b119-97a194e57bc8",
   "metadata": {
    "tags": []
   },
   "outputs": [],
   "source": [
    "IL17_genesmask = [gene.startswith(\"IL17\") and gene.startswith(\"IL17R\")==0 for gene in potential_17.var_names]\n",
    "IL17_genes = potential_17.var_names[IL17_genesmask]\n",
    "IL17_exp_set ={\n",
    "    'cytokine': IL17_genes, 'TF': 'RORC'\n",
    "}\n",
    "sc.pl.dotplot(potential_17,IL17_exp_set,groupby = 'leiden' , vmax = 1, swap_axes = False, dot_min =0.1, dot_max =1,standard_scale = 'var')"
   ]
  },
  {
   "cell_type": "code",
   "execution_count": null,
   "id": "6b95f71a-fb7a-4533-aee4-7d584be414bb",
   "metadata": {},
   "outputs": [],
   "source": [
    "T17_2 = potential_17[potential_17.obs['leiden'].isin(['6','0']),:]"
   ]
  },
  {
   "cell_type": "code",
   "execution_count": null,
   "id": "58278045-c03e-4610-b175-b969c0c104ec",
   "metadata": {},
   "outputs": [],
   "source": [
    "potential_17 = adata[adata.obs['leiden'].isin(['3']),:]"
   ]
  },
  {
   "cell_type": "code",
   "execution_count": null,
   "id": "84b7205a-c875-4ad8-a915-691c7697d69d",
   "metadata": {},
   "outputs": [],
   "source": [
    "sc.pp.highly_variable_genes(potential_17, flavor='seurat', n_top_genes=3000)\n",
    "sc.pp.pca(potential_17, n_comps=50, use_highly_variable=True, svd_solver='arpack')"
   ]
  },
  {
   "cell_type": "code",
   "execution_count": null,
   "id": "f54d5386-e16a-45eb-96c7-6614b63e6a5b",
   "metadata": {},
   "outputs": [],
   "source": [
    "sc.pp.neighbors(potential_17, n_neighbors = 15, n_pcs = 50)\n",
    "sc.tl.leiden(potential_17, resolution = 1, key_added= 'leiden')                                                 "
   ]
  },
  {
   "cell_type": "code",
   "execution_count": null,
   "id": "d175d93d-1941-4c4d-b6d3-b3210f56eead",
   "metadata": {},
   "outputs": [],
   "source": [
    "sc.tl.tsne(potential_17)"
   ]
  },
  {
   "cell_type": "code",
   "execution_count": null,
   "id": "8032c114-54d0-44da-9d37-63049cb94acd",
   "metadata": {},
   "outputs": [],
   "source": [
    "%matplotlib inline\n",
    "sc.pl.tsne(potential_17, color=['leiden','RORC','IL17A','IL17F'],size = 40,cmap = my_cmap)"
   ]
  },
  {
   "cell_type": "code",
   "execution_count": null,
   "id": "d88ac988-060f-4b66-adad-a88aa2befcf8",
   "metadata": {
    "tags": []
   },
   "outputs": [],
   "source": [
    "IL17_genesmask = [gene.startswith(\"IL17\") and gene.startswith(\"IL17R\")==0 for gene in potential_17.var_names]\n",
    "IL17_genes = potential_17.var_names[IL17_genesmask]\n",
    "IL17_exp_set ={\n",
    "    'cytokine': IL17_genes, 'TF': 'RORC'\n",
    "}\n",
    "sc.pl.dotplot(potential_17,IL17_exp_set,groupby = 'leiden' , vmax = 1, swap_axes = False, dot_min =0.1, dot_max =1,standard_scale = 'var')"
   ]
  },
  {
   "cell_type": "code",
   "execution_count": null,
   "id": "e43631d6-1d30-4bf7-9e24-7208da9749a5",
   "metadata": {},
   "outputs": [],
   "source": [
    "T17_3 = potential_17[potential_17.obs['leiden'].isin(['3']),:]"
   ]
  },
  {
   "cell_type": "code",
   "execution_count": null,
   "id": "69f7031a-9e77-463a-a96e-0d86002251b1",
   "metadata": {},
   "outputs": [],
   "source": [
    "#Why all of a sudden this does not work??\n",
    "adata_17 = T17_1.concatenate(T17_2,T17_3, batch_key = 'original_cluster', batch_categories=['2','12','3'],join = 'outer',index_unique=None, fill_value=0)"
   ]
  },
  {
   "cell_type": "code",
   "execution_count": null,
   "id": "2521d36b-0270-430c-b55a-8c495638604f",
   "metadata": {},
   "outputs": [],
   "source": [
    "sc.pp.highly_variable_genes(adata_17, flavor='seurat', n_top_genes=3000)\n",
    "sc.pp.pca(adata_17, n_comps=50, use_highly_variable=True, svd_solver='arpack')"
   ]
  },
  {
   "cell_type": "code",
   "execution_count": null,
   "id": "7aae3c37-db50-41b0-a8c4-4b22bfefd82d",
   "metadata": {},
   "outputs": [],
   "source": [
    "sc.pp.neighbors(adata_17, n_neighbors = 15, n_pcs = 50)\n",
    "sc.tl.leiden(adata_17, resolution = 1, key_added= 'leiden')                                                 "
   ]
  },
  {
   "cell_type": "code",
   "execution_count": null,
   "id": "f752c4ad-4fac-4b1c-9ded-47e44a595939",
   "metadata": {},
   "outputs": [],
   "source": [
    "sc.tl.tsne(adata_17)"
   ]
  },
  {
   "cell_type": "code",
   "execution_count": null,
   "id": "230c47cd-8df8-4c93-a735-43270a42240b",
   "metadata": {},
   "outputs": [],
   "source": [
    "%matplotlib inline\n",
    "sc.pl.tsne(adata_17, color=['leiden','RORC','IL17A','IL17F'],size = 40,cmap = my_cmap)"
   ]
  },
  {
   "cell_type": "code",
   "execution_count": null,
   "id": "f1bd3540-d0bd-41cf-a5ad-acc0892d4608",
   "metadata": {},
   "outputs": [],
   "source": [
    "adata_17.obs[['patient','tissue','gender','age','site','stage','TNM_T','TNM_N','TNM_M']].to_csv('AA_Done/GSE231559_T17.csv')"
   ]
  },
  {
   "cell_type": "code",
   "execution_count": null,
   "id": "56a6bde2-cdf1-4d51-a20b-db8fc7610748",
   "metadata": {},
   "outputs": [],
   "source": [
    "adata_17.write('GSE231559_T17.h5ad')"
   ]
  },
  {
   "cell_type": "code",
   "execution_count": null,
   "id": "5bd277d7-71fd-4407-a7cb-66d04316da39",
   "metadata": {},
   "outputs": [],
   "source": [
    "potential_gd = adata[adata.obs['leiden'].isin(['6','12']),:]"
   ]
  },
  {
   "cell_type": "code",
   "execution_count": null,
   "id": "3f455335",
   "metadata": {},
   "outputs": [],
   "source": [
    "sc.pp.highly_variable_genes(potential_gd, flavor='seurat', n_top_genes=3000)\n",
    "sc.pp.pca(potential_gd, n_comps=50, use_highly_variable=True, svd_solver='arpack')"
   ]
  },
  {
   "cell_type": "code",
   "execution_count": null,
   "id": "ea6380c2",
   "metadata": {},
   "outputs": [],
   "source": [
    "sc.pp.neighbors(potential_gd, n_neighbors = 15, n_pcs = 50)\n",
    "sc.tl.leiden(potential_gd, resolution = 0.8, key_added= 'leiden')                                                 "
   ]
  },
  {
   "cell_type": "code",
   "execution_count": null,
   "id": "a71612cb",
   "metadata": {},
   "outputs": [],
   "source": [
    "sc.tl.tsne(potential_gd)"
   ]
  },
  {
   "cell_type": "code",
   "execution_count": null,
   "id": "383e52e5",
   "metadata": {},
   "outputs": [],
   "source": [
    "%matplotlib inline\n",
    "sc.pl.tsne(potential_gd, color=['leiden','CD3E','CD3G','CD3D','TRDC','ICOS','CD4','CD8A','CD8B','FOXP3'],cmap = my_cmap)"
   ]
  },
  {
   "cell_type": "code",
   "execution_count": null,
   "id": "c94d90a9-571d-4aa8-90da-fd84d243ab56",
   "metadata": {},
   "outputs": [],
   "source": [
    "plt.rcParams['figure.figsize'] = [8,8]\n",
    "sc.tl.leiden(potential_gd, restrict_to = ('leiden', ['4']), resolution = 0.8, key_added= 'leiden1')\n",
    "sc.pl.tsne(potential_gd, color=['leiden1','CD3E','CD3G','CD3D','TRDC'], size = 20, legend_loc = 'on data', cmap = my_cmap)"
   ]
  },
  {
   "cell_type": "code",
   "execution_count": null,
   "id": "0e54bfb0-254c-473b-8d87-7996cdefd08b",
   "metadata": {},
   "outputs": [],
   "source": [
    "plt.rcParams['figure.figsize'] = [8,8]\n",
    "sc.tl.leiden(potential_gd, restrict_to = ('leiden1', ['7']), resolution = 0.3, key_added= 'leiden2')\n",
    "sc.pl.tsne(potential_gd, color=['leiden2','CD3E','CD3G','CD3D','TRDC'], size = 20, legend_loc = 'on data', cmap = my_cmap)"
   ]
  },
  {
   "cell_type": "code",
   "execution_count": null,
   "id": "73820a46-ee01-4a92-a765-fc2276e9134d",
   "metadata": {},
   "outputs": [],
   "source": [
    "plt.rcParams['figure.figsize'] = [8,8]\n",
    "sc.tl.leiden(potential_gd, restrict_to = ('leiden2', ['10']), resolution = 0.3, key_added= 'leiden3')\n",
    "sc.pl.tsne(potential_gd, color=['leiden3','CD3E','CD3G','CD3D','TRDC'], size = 20, legend_loc = 'on data', cmap = my_cmap)"
   ]
  },
  {
   "cell_type": "code",
   "execution_count": null,
   "id": "63925872-d423-41f3-b0aa-6c630f9477dd",
   "metadata": {},
   "outputs": [],
   "source": [
    "plt.rcParams['figure.figsize'] = [8,8]\n",
    "sc.tl.leiden(potential_gd, restrict_to = ('leiden3', ['4,3']), resolution = 0.5, key_added= 'leiden4')\n",
    "sc.pl.tsne(potential_gd, color=['leiden4','CD3E','CD3G','CD3D','TRDC'], size = 20, legend_loc = 'on data', cmap = my_cmap)"
   ]
  },
  {
   "cell_type": "code",
   "execution_count": null,
   "id": "cc2c8ce9-868c-4bca-b11d-94abd5c0880c",
   "metadata": {},
   "outputs": [],
   "source": [
    "gamma_genesmask = [gene.startswith(\"TRG\") for gene in potential_gd.var_names]\n",
    "gamma_genes = potential_gd.var_names[gamma_genesmask]\n",
    "delta_genesmask = [gene.startswith(\"TRD\") for gene in potential_gd.var_names]\n",
    "delta_genes = potential_gd.var_names[delta_genesmask]"
   ]
  },
  {
   "cell_type": "code",
   "execution_count": null,
   "id": "32dc9ecb-8db8-43e9-bac2-a6cd65303b6a",
   "metadata": {},
   "outputs": [],
   "source": [
    "TCR_exp_set ={\n",
    "\"gamma\": gamma_genes, \"delta\": delta_genes, \"CD3S\": ['CD3E','CD3D','CD3G']\n",
    "}\n",
    "sc.pl.dotplot(potential_gd,TCR_exp_set,groupby = 'leiden4' , vmax = 1, swap_axes = False, dot_min =0, dot_max =1,standard_scale = 'var')"
   ]
  },
  {
   "cell_type": "code",
   "execution_count": null,
   "id": "234e5472-9c60-485d-9942-ade2434a92aa",
   "metadata": {},
   "outputs": [],
   "source": [
    "gd = potential_gd[potential_gd.obs['leiden4'].isin(['4,3,1','7,1','7,2','12']),:]"
   ]
  },
  {
   "cell_type": "code",
   "execution_count": null,
   "id": "6e28cc88-ea83-4f26-889b-9ed7a9395f6c",
   "metadata": {},
   "outputs": [],
   "source": [
    "sc.pl.dotplot(gd,TCR_exp_set,groupby = 'leiden4' , vmax = 1, swap_axes = False, dot_min =0, dot_max =1,standard_scale = 'var')"
   ]
  },
  {
   "cell_type": "code",
   "execution_count": null,
   "id": "1b153b3d-5268-4da5-8b38-89131ec7a5c5",
   "metadata": {},
   "outputs": [],
   "source": [
    "gd.write('GSE231559/GSE231559_gd.h5ad')"
   ]
  },
  {
   "cell_type": "code",
   "execution_count": null,
   "id": "1fea3b8e-f6b2-4ce8-b86e-dc78becccb04",
   "metadata": {},
   "outputs": [],
   "source": [
    "sc.pl.tsne(gd,color = ['RORC','IL17A'],cmap = my_cmap)"
   ]
  },
  {
   "cell_type": "code",
   "execution_count": null,
   "id": "f8a6f74d-b9db-4ca1-9956-d04ccc58595a",
   "metadata": {},
   "outputs": [],
   "source": [
    "adata_gd = sc.read_h5ad('AA_Done/GSE231559/GSE231559_gd.h5ad')"
   ]
  },
  {
   "cell_type": "code",
   "execution_count": null,
   "id": "b2333b55-ae8b-47fe-9b28-984e67f8c6ac",
   "metadata": {},
   "outputs": [],
   "source": [
    "bioinfo = pd.read_csv('AA_Done/GSE231559/bioinfo.csv')"
   ]
  },
  {
   "cell_type": "code",
   "execution_count": null,
   "id": "0aed5342-b141-4359-a7ac-2a3f9522c0b4",
   "metadata": {},
   "outputs": [],
   "source": [
    "bioinfo"
   ]
  },
  {
   "cell_type": "code",
   "execution_count": null,
   "id": "58945ab3-dce6-4fda-b544-d333a6ad7073",
   "metadata": {},
   "outputs": [],
   "source": [
    "adata_gd.obs['GSM'] = [i.split('_')[0] for i in adata_gd.obs['sample_origin']]"
   ]
  },
  {
   "cell_type": "code",
   "execution_count": null,
   "id": "69d1b55f-dfcb-4c08-89b2-5c12c818cb16",
   "metadata": {},
   "outputs": [],
   "source": [
    "patient_dict = dict(zip(bioinfo['GSM'], bioinfo['patient']))\n",
    "patient = [patient_dict[i] for i in adata_gd.obs['GSM']]"
   ]
  },
  {
   "cell_type": "code",
   "execution_count": null,
   "id": "53ed7965-8889-43a1-9e08-60e19e7d4313",
   "metadata": {},
   "outputs": [],
   "source": [
    "gender_dict = dict(zip(bioinfo['GSM'], bioinfo['gender']))\n",
    "gender = [gender_dict[i] for i in adata_gd.obs['GSM']]"
   ]
  },
  {
   "cell_type": "code",
   "execution_count": null,
   "id": "3923a0ce-031a-4ab4-b141-ba89d63fa7de",
   "metadata": {},
   "outputs": [],
   "source": [
    "age_dict = dict(zip(bioinfo['GSM'], bioinfo['age']))\n",
    "age = [age_dict[i] for i in adata_gd.obs['GSM']]"
   ]
  },
  {
   "cell_type": "code",
   "execution_count": null,
   "id": "d713dea9-e968-4fa8-a85a-6ec88b82a4cd",
   "metadata": {
    "tags": []
   },
   "outputs": [],
   "source": [
    "tissue_dict = dict(zip(bioinfo['GSM'], bioinfo['tissue']))\n",
    "tissue = [tissue_dict[i] for i in adata_gd.obs['GSM']]"
   ]
  },
  {
   "cell_type": "code",
   "execution_count": null,
   "id": "81410338-41fb-4047-9550-60dc72080be7",
   "metadata": {},
   "outputs": [],
   "source": [
    "stage_dict = dict(zip(bioinfo['GSM'], bioinfo['stage']))\n",
    "stage = [stage_dict[i] for i in adata_gd.obs['GSM']]"
   ]
  },
  {
   "cell_type": "code",
   "execution_count": null,
   "id": "2a768952-8dd6-4dd4-9b93-c5aa9f46f343",
   "metadata": {},
   "outputs": [],
   "source": [
    "adata_gd.obs['patient'] = patient\n",
    "adata_gd.obs['gender'] = gender\n",
    "adata_gd.obs['age'] = age\n",
    "adata_gd.obs['site'] = 'colon unknown'\n",
    "adata_gd.obs['stage'] = stage\n",
    "adata_gd.obs['TNM_T'] = 'N/A'\n",
    "adata_gd.obs['TNM_N'] = 'N/A'\n",
    "adata_gd.obs['TNM_M'] = 'N/A'\n",
    "adata_gd.obs['tissue'] = 'CRC'"
   ]
  },
  {
   "cell_type": "code",
   "execution_count": null,
   "id": "885a69bb-8fa4-4d23-8e90-673b362d9448",
   "metadata": {},
   "outputs": [],
   "source": [
    "adata_gd.obs['gender'] = adata_gd.obs['gender'].replace({'F':'Female','M':'Male'})"
   ]
  },
  {
   "cell_type": "code",
   "execution_count": null,
   "id": "f7c276b7-e529-4990-b37e-8c9cdff51b9b",
   "metadata": {},
   "outputs": [],
   "source": [
    "sc.pl.tsne(adata_gd,color = ['patient','tissue','gender','age','site','TNM_T','TNM_N','TNM_M'])"
   ]
  },
  {
   "cell_type": "code",
   "execution_count": null,
   "id": "d990539c-3538-48b6-9a2b-65d27858c3c0",
   "metadata": {},
   "outputs": [],
   "source": [
    "adata_gd.obs[['patient','tissue','gender','age','site','TNM_T','TNM_N','TNM_M','stage']].to_csv('AA_Done/GSE231559_gd.csv')"
   ]
  },
  {
   "cell_type": "code",
   "execution_count": null,
   "id": "713d52f2-a01c-44d3-aaa0-a0e65eec8b86",
   "metadata": {},
   "outputs": [],
   "source": [
    "adata_gd.write('AA_Done/GSE231559/GSE231559_gd.h5ad')"
   ]
  },
  {
   "cell_type": "code",
   "execution_count": null,
   "id": "b5f17286-18ee-401f-9122-0a7492368d5d",
   "metadata": {},
   "outputs": [],
   "source": []
  },
  {
   "cell_type": "code",
   "execution_count": null,
   "id": "85d5ed85-01e5-4da9-8b1e-f4c586a986c2",
   "metadata": {},
   "outputs": [],
   "source": [
    "from matplotlib.colors import LinearSegmentedColormap\n",
    "values = [0,1]\n",
    "colors = [(227, 227, 227), (255, 42, 18)]\n",
    "norm = plt.Normalize(min(values), max(values))\n",
    "my_cmap = LinearSegmentedColormap.from_list(\n",
    "    '', [(norm(value), tuple(np.array(color) / 255)) for value, color in zip(values, colors)])"
   ]
  },
  {
   "cell_type": "code",
   "execution_count": null,
   "id": "a0e80797-2e81-4035-a71c-ceec6981a87b",
   "metadata": {},
   "outputs": [],
   "source": [
    "adata = sc.read_h5ad('integrated.h5ad')\n",
    "adata_17 = sc.read_h5ad('GSE231559_T17.h5ad')\n",
    "adata_gd = sc.read_h5ad('GSE231559_gd.h5ad')"
   ]
  },
  {
   "cell_type": "code",
   "execution_count": null,
   "id": "b1e6d71f-c2be-4762-959c-f6de143022bb",
   "metadata": {},
   "outputs": [],
   "source": [
    "adata.obs['IL17 secreting selected'] = '0'\n",
    "adata.obs['IL17 secreting selected'][adata.obs_names.isin(adata_17.obs_names)] = '1'"
   ]
  },
  {
   "cell_type": "code",
   "execution_count": null,
   "id": "d1de6173-256b-4a88-acd7-cbf98bbf9ec0",
   "metadata": {},
   "outputs": [],
   "source": [
    "adata.obs['gdT selected'] = '0'\n",
    "adata.obs['gdT selected'][adata.obs_names.isin(adata_gd.obs_names)] = '1'"
   ]
  },
  {
   "cell_type": "code",
   "execution_count": null,
   "id": "bef66cb3-4831-4cbc-a8e8-be704661a4e6",
   "metadata": {},
   "outputs": [],
   "source": [
    "plt.close()\n",
    "plt.rcParams['axes.linewidth'] = 2\n",
    "plt.rcParams['figure.figsize'] = [8,8]\n",
    "fig = sc.pl.tsne(adata, color=['RORC','IL17A','IL17F','IL17 secreting selected'],\n",
    "                 size =20, ncols = 2, palette = ['#E3E3E3', '#FF2A12'], cmap = my_cmap, return_fig = True, legend_fontsize = 'large')\n",
    "ax = fig.get_axes()\n",
    "for i in range(0,len(ax)):\n",
    "    ax[i].xaxis.label.set_fontsize(22)\n",
    "    ax[i].xaxis.label.set_fontweight('bold')\n",
    "    ax[i].yaxis.label.set_fontsize(22)\n",
    "    ax[i].title.set_fontsize(30)\n",
    "    ax[i].yaxis.label.set_fontweight('bold')\n",
    "    ax[i].title.set_fontweight('bold')\n",
    "fig.savefig('17_selected.png',dpi = 300,bbox_inches='tight') "
   ]
  },
  {
   "cell_type": "code",
   "execution_count": null,
   "id": "b8ad659e-c559-47f3-a631-154d3505faad",
   "metadata": {},
   "outputs": [],
   "source": [
    "plt.close()\n",
    "plt.rcParams['axes.linewidth'] = 2\n",
    "plt.rcParams['figure.figsize'] = [8,8]\n",
    "fig = sc.pl.tsne(adata, color=['CD3E','CD3D','CD3G','CD247','TRDC','gdT selected'],\n",
    "                 size =20, ncols = 2, palette = ['#E3E3E3', '#FF2A12'], cmap = my_cmap, return_fig = True, legend_fontsize = 'large')\n",
    "ax = fig.get_axes()\n",
    "for i in range(0,len(ax)):\n",
    "    ax[i].xaxis.label.set_fontsize(22)\n",
    "    ax[i].xaxis.label.set_fontweight('bold')\n",
    "    ax[i].yaxis.label.set_fontsize(22)\n",
    "    ax[i].title.set_fontsize(30)\n",
    "    ax[i].yaxis.label.set_fontweight('bold')\n",
    "    ax[i].title.set_fontweight('bold')\n",
    "fig.savefig('gd_selected.png',dpi = 300,bbox_inches='tight') "
   ]
  },
  {
   "cell_type": "code",
   "execution_count": null,
   "id": "946d0168-6363-437a-be04-b40575a33401",
   "metadata": {},
   "outputs": [],
   "source": []
  }
 ],
 "metadata": {
  "kernelspec": {
   "display_name": "Python 3 (ipykernel)",
   "language": "python",
   "name": "python3"
  },
  "language_info": {
   "codemirror_mode": {
    "name": "ipython",
    "version": 3
   },
   "file_extension": ".py",
   "mimetype": "text/x-python",
   "name": "python",
   "nbconvert_exporter": "python",
   "pygments_lexer": "ipython3",
   "version": "3.9.13"
  }
 },
 "nbformat": 4,
 "nbformat_minor": 5
}
