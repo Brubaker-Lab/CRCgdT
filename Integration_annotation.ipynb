{
 "cells": [
  {
   "cell_type": "code",
   "execution_count": null,
   "metadata": {},
   "outputs": [],
   "source": [
    "plt.rcParams.update({'font.size': 5, 'font.weight': 'heavy','axes.linewidth':5})\n",
    "plt.rcParams.update(plt.rcParamsDefault)\n",
    "\n",
    "\n",
    "sc.pl.dotplot(adata,['CD4','CD8A','CD8B','CCR7', 'SELL', 'CD27', 'CD28', 'IL7R', 'CD44','CD38','HLA-DRB1', 'KLRG1', 'IL2',\n",
    "       'IL2RA', 'IL2RB', 'CD69','S1PR1','KLF2', 'ITGAE', 'ITGA1','ITGB2','S1PR1','CCL4', 'GZMK', 'CD101', 'CX3CR1',\n",
    "       'TCF7', 'LEF1', 'PRDM1', 'TBX21', 'EOMES', 'BACH2', 'GZMB', 'PRF1',\n",
    "       'FAS', 'FASLG', 'TNF', 'IFNG', 'NKG7', 'CCL4', 'XCL1',\n",
    "       'XCL2', 'STAT3', 'CD40LG', 'TRAV1-2', 'PDCD1', 'HAVCR2', 'LAG3',\n",
    "       'MKI67', 'TFRC', 'RORC', 'RORA', 'STAT1', 'STAT4', 'STAT5A',\n",
    "       'STAT6', 'RUNX1', 'RUNX3',  'CCR4', 'CCR5', 'CCL5','CCR6', 'CCR8',\n",
    "       'CCR10','CXCR3',  'CXCR4', 'CXCR5', 'CXCR6', 'IL4',  'IL10', 'IL13', 'IL17A',\n",
    "       'IL6R', 'IL12RB2', 'IL15RA', 'IL17RB', 'IL18R1',\n",
    "       'IL21R', 'IL23R', 'IL27RA', 'KLRD1', 'KLRK1', 'TNFRSF8', 'GZMA',\n",
    "       'LTA', 'IFNGR2', 'HLA-DRA', 'SLC3A2', 'CTLA4', 'FOXP3', 'SMAD3',\n",
    "       'AHR', 'ENTPD1', 'NT5E', 'TGFB1', 'ITGA2', 'BCL6', 'MAF', 'BTLA',\n",
    "       'ICOS', 'DPP4', 'GATA3', 'CCL20', 'IRF4', 'BATF',\n",
    "       'ZBTB16', 'TNFSF8', 'IKZF2'],groupby = 'leiden' , vmax = 1, \n",
    "              swap_axes = False ,dot_min = 0.01,standard_scale = 'var')"
   ]
  },
  {
   "cell_type": "markdown",
   "metadata": {},
   "source": [
    "from now on, it is the subclustering then annotation.\n",
    "for clusters that have distinct separation of functional gene expression, try further sub-clustering"
   ]
  },
  {
   "cell_type": "code",
   "execution_count": null,
   "metadata": {},
   "outputs": [],
   "source": [
    "\n",
    "sc.tl.leiden(adata, restrict_to = ('leiden', ['2']), resolution = 0.3, key_added= 'leiden2')\n",
    "sc.pl.tsne(adata, color=['leiden2','CCL4'], size = 30, legend_loc = 'on data', cmap = my_cmap)"
   ]
  },
  {
   "cell_type": "code",
   "execution_count": null,
   "metadata": {},
   "outputs": [],
   "source": [
    "\n",
    "sc.tl.leiden(adata, restrict_to = ('leiden2', ['7']), resolution = 0.3, key_added= 'leiden3')\n",
    "sc.pl.tsne(adata, color=['leiden3','CCL4'], size = 30, legend_loc = 'on data', cmap = my_cmap)\n"
   ]
  },
  {
   "cell_type": "code",
   "execution_count": null,
   "metadata": {},
   "outputs": [],
   "source": [
    "\n",
    "sc.tl.leiden(adata, restrict_to = ('leiden3', ['14']), resolution = 0.3, key_added= 'leiden4')\n",
    "sc.pl.tsne(adata, color=['leiden4','IFNG'], size = 30, legend_loc = 'on data', cmap = my_cmap)\n"
   ]
  },
  {
   "cell_type": "code",
   "execution_count": null,
   "metadata": {},
   "outputs": [],
   "source": [
    "\n",
    "sc.tl.leiden(adata, restrict_to = ('leiden4', ['0']), resolution = 0.4, key_added= 'leiden5')\n",
    "sc.pl.tsne(adata, color=['leiden5','JUNB'], size = 30, legend_loc = 'on data', cmap = my_cmap)\n"
   ]
  },
  {
   "cell_type": "code",
   "execution_count": null,
   "metadata": {},
   "outputs": [],
   "source": [
    "\n",
    "sc.tl.leiden(adata, restrict_to = ('leiden5', ['14,0']), resolution = 0.3, key_added= 'leiden6')\n",
    "sc.pl.tsne(adata, color=['leiden6','IL7R'], size = 30)"
   ]
  },
  {
   "cell_type": "code",
   "execution_count": null,
   "metadata": {},
   "outputs": [],
   "source": [
    "\n",
    "sc.tl.leiden(adata, restrict_to = ('leiden5', ['14,0']), resolution = 0.3, key_added= 'leiden6')\n",
    "\n",
    "sc.tl.leiden(adata, restrict_to = ('leiden6', ['6']), resolution = 0.3, key_added= 'leiden7')\n",
    "sc.pl.tsne(adata, color=['leiden7','CD3E','CD3G','CD3D','TRDC','RORC','IL17A','IL17F','CD4','CD8A'], size = 30, legend_loc = 'on data', cmap = my_cmap)\n",
    "\n",
    "sc.tl.leiden(adata, restrict_to = ('leiden7', ['8']), resolution = 0.5, key_added= 'leiden8')\n",
    "sc.pl.tsne(adata, color=['leiden8','CD4','CD8A'], size = 30, legend_loc = 'on data', cmap = my_cmap, vmax = 4)\n",
    "\n",
    "sc.tl.leiden(adata, restrict_to = ('leiden8', ['2,0']), resolution = 0.3, key_added= 'leiden9')\n",
    "sc.pl.tsne(adata, color=['leiden9','CD4','CD8A'], size = 30, legend_loc = 'on data', cmap = my_cmap, vmax = 4)\n",
    "\n",
    "sc.tl.leiden(adata, restrict_to = ('leiden9', ['4']), resolution = 0.3, key_added= 'leiden10')\n",
    "sc.pl.tsne(adata, color=['leiden10','CD4','CD8A'], size = 30, legend_loc = 'on data', cmap = my_cmap, vmax = 4)\n",
    "\n",
    "sc.tl.leiden(adata, restrict_to = ('leiden10', ['11']), resolution = 0.2, key_added= 'leiden11')\n",
    "sc.pl.tsne(adata, color=['leiden11','CD4','CD8A'], size = 30, legend_loc = 'on data', cmap = my_cmap, vmax = 4)\n",
    "adata.obs['cluster_blind'] = adata.obs.groupby('leiden11').ngroup().astype('str')"
   ]
  },
  {
   "cell_type": "code",
   "execution_count": null,
   "metadata": {},
   "outputs": [],
   "source": [
    "#Finally, examine each cluster a determin what might be a good label for them\n",
    "\n",
    "adata.obs['cell type'] = adata.obs['cluster_blind']\n",
    "adata.obs['cell type'] = adata.obs['cell type'].astype('str')\n",
    "\n",
    "poised_effector_like_1 = np.array([7,8,15,20,22,23])\n",
    "poised_effector_like_1 = [str(i) for i in poised_effector_like_1]\n",
    "\n",
    "poised_effector_like_2 = np.array([12,10,28])\n",
    "poised_effector_like_2 = [str(i) for i in poised_effector_like_2]\n",
    "\n",
    "tissue_resident_IL7Rneg_like= np.array([11,4,5,9,13,21,29,24])\n",
    "tissue_resident_IL7Rneg_like = [str(i) for i in tissue_resident_IL7Rneg_like]\n",
    "Tpex = np.array([16,17,18])\n",
    "Tpex =[str(i) for i in Tpex]\n",
    "Tex2 = ['26','27']\n",
    "Tex1 = ['33']\n",
    "for c_id in set(adata.obs['cluster_blind']):\n",
    "    if c_id in poised_effector_like_1:\n",
    "        adata.obs = adata.obs.replace({'cell type' : { c_id: 'Poised Teff 1'}})\n",
    "    elif c_id in poised_effector_like_2:\n",
    "        adata.obs = adata.obs.replace({'cell type' : { c_id: 'Poised Teff 2'}})\n",
    "    elif c_id in tissue_resident_IL7Rneg_like:\n",
    "        adata.obs = adata.obs.replace({'cell type' : { c_id: 'IL7R- TRM'}})\n",
    "    elif c_id in Tex1:\n",
    "        adata.obs = adata.obs.replace({'cell type' : { c_id: 'Tex1'}})\n",
    "    elif c_id in Tex2:\n",
    "        adata.obs = adata.obs.replace({'cell type' : { c_id: 'Tex2'}})\n",
    "    elif c_id in Tpex:\n",
    "        adata.obs = adata.obs.replace({'cell type' : { c_id: 'Tpex'}})\n",
    "    else:\n",
    "        adata.obs = adata.obs.replace({'cell type' : { c_id: 'IL7R+ TRM'}})\n",
    "adata.obs['cell type'] = adata.obs['cell type'].astype('category')\n",
    "adata.obs['cell type'] = adata.obs['cell type'].astype('category')\n",
    "ordered_celltype=['Poised Teff 1','Poised Teff 2', 'IL7R+ TRM','IL7R- TRM','Tpex','Tex1','Tex2']\n",
    "\n",
    "adata.obs['cell type'] = adata.obs['cell type'].cat.reorder_categories(ordered_celltype)\n"
   ]
  }
 ],
 "metadata": {
  "language_info": {
   "name": "python"
  }
 },
 "nbformat": 4,
 "nbformat_minor": 2
}
