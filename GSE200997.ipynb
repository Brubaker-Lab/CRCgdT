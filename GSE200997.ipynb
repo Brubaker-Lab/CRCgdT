{
 "cells": [
  {
   "cell_type": "code",
   "execution_count": null,
   "id": "34f925bb",
   "metadata": {},
   "outputs": [],
   "source": [
    "#import the library\n",
    "import scanpy as sc\n",
    "import numpy as np\n",
    "import scipy as sp\n",
    "import pandas as pd\n",
    "import matplotlib.pyplot as plt\n",
    "from matplotlib import rcParams\n",
    "from matplotlib import colors\n",
    "import seaborn as sb\n",
    "from gprofiler import GProfiler\n",
    "import seaborn as sns\n",
    "import rpy2.rinterface_lib.callbacks\n",
    "import logging\n",
    "import tensorflow as tf\n",
    "import scipy.sparse\n",
    "import os\n",
    "\n",
    "from rpy2.robjects import pandas2ri\n",
    "import anndata2ri\n",
    "\n",
    "import importlib\n",
    "import warnings\n",
    "warnings.filterwarnings(\"ignore\")\n",
    "import pickle as pkl\n",
    "from matplotlib.colors import LinearSegmentedColormap"
   ]
  },
  {
   "cell_type": "code",
   "execution_count": null,
   "id": "b59afc45-e946-446f-aa9e-0f0db636c96f",
   "metadata": {},
   "outputs": [],
   "source": [
    "from matplotlib.colors import LinearSegmentedColormap\n",
    "values = [0,1]\n",
    "colors = [(227, 227, 227), (255, 42, 18)]\n",
    "norm = plt.Normalize(min(values), max(values))\n",
    "my_cmap = LinearSegmentedColormap.from_list(\n",
    "    '', [(norm(value), tuple(np.array(color) / 255)) for value, color in zip(values, colors)])"
   ]
  },
  {
   "cell_type": "code",
   "execution_count": null,
   "id": "f093a4e1-2e3c-46e1-97e2-0221ccfcfcd1",
   "metadata": {
    "tags": []
   },
   "outputs": [],
   "source": [
    "rpy2.rinterface_lib.callbacks.logger.setLevel(logging.ERROR)\n",
    "pandas2ri.activate()\n",
    "anndata2ri.activate()\n",
    "%load_ext rpy2.ipython"
   ]
  },
  {
   "cell_type": "code",
   "execution_count": null,
   "id": "0def436b-e459-47f0-b1c3-406b805c8de9",
   "metadata": {
    "tags": []
   },
   "outputs": [],
   "source": [
    "plt.rcParams['figure.figsize']=(8,8) #rescale figures\n",
    "sc.settings.verbosity = 3\n",
    "#sc.set_figure_params(dpi=200, dpi_save=300)\n",
    "sc.logging.print_versions()"
   ]
  },
  {
   "cell_type": "code",
   "execution_count": null,
   "id": "2a3cf4c9-44b7-4e87-8ff7-406d76b428f5",
   "metadata": {
    "tags": []
   },
   "outputs": [],
   "source": [
    "%%R\n",
    ".libPaths(.libPaths('win-library\\\\4.3'))\n",
    "\n",
    "library(scran)\n",
    "library(Seurat)\n",
    "library(RColorBrewer)\n",
    "library(slingshot)\n",
    "library(monocle)\n",
    "library(gam)\n",
    "library(ggplot2)\n",
    "library(plyr)\n",
    "library(MAST)\n",
    "library(clusterExperiment)\n",
    "library(monocle3)\n",
    "library(SeuratWrappers)\n",
    "library(magrittr)\n",
    "library(dplyr)"
   ]
  },
  {
   "cell_type": "code",
   "execution_count": null,
   "id": "b9d64f72-0fd8-463e-bf18-57699ba0d3fc",
   "metadata": {},
   "outputs": [],
   "source": [
    "metadata = pd.read_csv(\"GSE200997_GEO_processed_CRC_10X_cell_annotation.csv\",index_col = 0)"
   ]
  },
  {
   "cell_type": "code",
   "execution_count": null,
   "id": "424e78e9-2202-4c73-9fa3-d57da392d565",
   "metadata": {},
   "outputs": [],
   "source": [
    "tp = pd.read_csv(\"GSE200997_GEO_processed_CRC_10X_raw_UMI_count_matrix.csv\",index_col = 0, iterator=True, chunksize=1000)\n",
    "df = pd.concat(tp, ignore_index=True)"
   ]
  },
  {
   "cell_type": "code",
   "execution_count": null,
   "id": "d3adb0a6-ea25-4662-93ea-d2f941d16344",
   "metadata": {},
   "outputs": [],
   "source": [
    "var_names = pd.read_csv(\"GSE200997_GEO_processed_CRC_10X_raw_UMI_count_matrix.csv\",usecols = [0]) "
   ]
  },
  {
   "cell_type": "code",
   "execution_count": null,
   "id": "cb66ab1a-cdc4-4dfc-a3a8-0a7f5e374a78",
   "metadata": {},
   "outputs": [],
   "source": [
    "obs_names = pd.read_csv(\"GSE200997_GEO_processed_CRC_10X_raw_UMI_count_matrix.csv\", nrows = 1) "
   ]
  },
  {
   "cell_type": "code",
   "execution_count": null,
   "id": "9c091726-ebb3-4219-8da0-5ea0f030cc00",
   "metadata": {},
   "outputs": [],
   "source": [
    "df.index =  var_names.values.ravel()"
   ]
  },
  {
   "cell_type": "code",
   "execution_count": null,
   "id": "924055e7-5445-495c-8973-236adf054fe1",
   "metadata": {},
   "outputs": [],
   "source": [
    "adata = anndata.AnnData(df.T)"
   ]
  },
  {
   "cell_type": "code",
   "execution_count": null,
   "id": "2b20bdc0-d413-4ad1-8d10-9fa99f0ca30f",
   "metadata": {},
   "outputs": [],
   "source": [
    "adata.obs = metadata"
   ]
  },
  {
   "cell_type": "code",
   "execution_count": null,
   "id": "f982ba8c-a250-493c-a596-811bab94f72b",
   "metadata": {},
   "outputs": [],
   "source": [
    "adata.write('raw.h5ad')"
   ]
  },
  {
   "cell_type": "code",
   "execution_count": null,
   "id": "347291b4-0a8e-4959-98c6-c9555bbc486e",
   "metadata": {},
   "outputs": [],
   "source": [
    "adata = sc.read_h5ad('raw.h5ad')"
   ]
  },
  {
   "cell_type": "code",
   "execution_count": null,
   "id": "0d00d931-9a4e-44b1-81ee-c359cc1647ca",
   "metadata": {},
   "outputs": [],
   "source": [
    "adata_17 = sc.read_h5ad('GSE200997_T17.h5ad')"
   ]
  },
  {
   "cell_type": "code",
   "execution_count": null,
   "id": "8d86ec7c-c2e8-4796-99a2-76b30e324bac",
   "metadata": {},
   "outputs": [],
   "source": [
    "adata_17_raw = adata[adata_17.obs_names,:]"
   ]
  },
  {
   "cell_type": "code",
   "execution_count": null,
   "id": "9d0b2657-5cba-49a3-9bee-74e2c5857e13",
   "metadata": {},
   "outputs": [],
   "source": [
    "colnames = adata_17_raw.obs_names\n",
    "rownames = adata_17_raw.var_names\n",
    "counts = adata_17_raw.X.T"
   ]
  },
  {
   "cell_type": "code",
   "execution_count": null,
   "id": "a713daa1-11e1-4976-ba9c-c4a91e9b3e7d",
   "metadata": {},
   "outputs": [],
   "source": [
    "%%R -i colnames -i rownames -i counts\n",
    "colnames(counts) = colnames\n",
    "rownames(counts) = rownames\n",
    "\n",
    "srat <- CreateSeuratObject(counts = counts, project = \"GSE200997\", min.cells = 0, min.features = 0, assay = \"RNA\")"
   ]
  },
  {
   "cell_type": "code",
   "execution_count": null,
   "id": "4159195a-8b04-44a4-a0bd-a69d5c5c7f6c",
   "metadata": {},
   "outputs": [],
   "source": [
    "%R saveRDS(srat, 'F:/CRC/AA_Done/GSE200997_T17.rds')"
   ]
  },
  {
   "cell_type": "code",
   "execution_count": null,
   "id": "3f24adc7-15ec-4073-b6d7-bd7c590f72c7",
   "metadata": {},
   "outputs": [],
   "source": [
    "adata.obs['n_counts'] = adata.X.sum(1)\n",
    "adata.obs['log_counts'] = np.log(adata.obs['n_counts'])\n",
    "adata.obs['n_genes'] = (adata.X > 0).sum(1)\n",
    "adata.obs['log10GenesPerUMI'] = np.log10(adata.obs['n_genes'])/np.log10(adata.obs['n_counts']) #This is the complexity\n",
    "\n",
    "mt_gene_mask = [gene.startswith('MT-') for gene in adata.var_names]\n",
    "adata.obs['mt_frac'] = np.array(adata.X[:, mt_gene_mask].sum(1).ravel())[0]/adata.obs['n_counts']\n",
    "ribo_gene_mask = [gene.startswith('RPL') or gene.startswith('RPS') for gene in adata.var_names]\n",
    "adata.obs['ribo_frac'] = np.array(adata.X[:, ribo_gene_mask].sum(1).ravel())[0]/adata.obs['n_counts']"
   ]
  },
  {
   "cell_type": "code",
   "execution_count": null,
   "id": "f649119c-826c-4382-b52f-55932288d3f7",
   "metadata": {},
   "outputs": [],
   "source": [
    "# Filter cells according to identified QC thresholds:\n",
    "print('Total number of cells: {:d}'.format(adata.n_obs))\n",
    "\n",
    "sc.pp.filter_cells(adata, min_counts = 500)\n",
    "print('Number of cells after min count filter: {:d}'.format(adata.n_obs))\n",
    "\n",
    "\n",
    "adata = adata[adata.obs['mt_frac'] < 0.2]\n",
    "print('Number of cells after MT filter: {:d}'.format(adata.n_obs))\n",
    "\n",
    "sc.pp.filter_cells(adata, min_genes = 200)\n",
    "print('Number of cells after gene filter: {:d}'.format(adata.n_obs))"
   ]
  },
  {
   "cell_type": "code",
   "execution_count": null,
   "id": "319a5cf9-cced-4899-87a4-ad612f4ff1e3",
   "metadata": {},
   "outputs": [],
   "source": [
    "import doubletdetection\n",
    "clf = doubletdetection.BoostClassifier(n_components = 50, n_top_var_genes = 3000)\n",
    "# raw_counts is a cells by genes count matrix\n",
    "labels = clf.fit(adata.X).predict()\n",
    "# higher means more likely to be doublet\n",
    "scores = clf.doublet_score()"
   ]
  },
  {
   "cell_type": "code",
   "execution_count": null,
   "id": "fcf13644-b10f-42e8-8432-9d6659043d67",
   "metadata": {},
   "outputs": [],
   "source": [
    "print('Number of cells before DP filter: {:d}'.format(adata.n_obs))\n",
    "adata = adata[labels == 0]\n",
    "print('Number of cells after DP filter: {:d}'.format(adata.n_obs))"
   ]
  },
  {
   "cell_type": "code",
   "execution_count": null,
   "id": "4a2cd84c",
   "metadata": {},
   "outputs": [],
   "source": [
    "sc.pp.normalize_total(adata, key_added = 'normalization_factors')\n",
    "sc.pp.log1p(adata)"
   ]
  },
  {
   "cell_type": "code",
   "execution_count": null,
   "id": "3f455335",
   "metadata": {},
   "outputs": [],
   "source": [
    "sc.pp.highly_variable_genes(potential_17, flavor='seurat', n_top_genes=3000)\n",
    "sc.pp.pca(potential_17, n_comps=50, use_highly_variable=True, svd_solver='arpack')"
   ]
  },
  {
   "cell_type": "code",
   "execution_count": null,
   "id": "ea6380c2",
   "metadata": {},
   "outputs": [],
   "source": [
    "sc.pp.neighbors(potential_17, n_neighbors = 15, n_pcs = 50)\n",
    "sc.tl.leiden(potential_17, resolution = 1, key_added= 'leiden')                                                 "
   ]
  },
  {
   "cell_type": "code",
   "execution_count": null,
   "id": "a71612cb",
   "metadata": {},
   "outputs": [],
   "source": [
    "sc.tl.tsne(potential_17)"
   ]
  },
  {
   "cell_type": "code",
   "execution_count": null,
   "id": "383e52e5",
   "metadata": {},
   "outputs": [],
   "source": [
    "%matplotlib inline\n",
    "sc.pl.tsne(potential_17, color=['leiden','RORC','IL17A','IL17F'],size = 180,cmap = my_cmap)"
   ]
  },
  {
   "cell_type": "code",
   "execution_count": null,
   "id": "52a6a369-ede7-41e3-97e5-36ce0415dc36",
   "metadata": {},
   "outputs": [],
   "source": [
    "plt.rcParams['figure.figsize'] = [8,8]\n",
    "sc.tl.leiden(adata, restrict_to = ('leiden', ['3']), resolution = 0.3, key_added= 'leiden1')\n",
    "sc.pl.tsne(adata, color=['leiden1','RORC','IL17A','IL17F'], size = 20, legend_loc = 'on data', cmap = my_cmap)"
   ]
  },
  {
   "cell_type": "code",
   "execution_count": null,
   "id": "1ec0db62-20c1-4174-a65d-896adb29f0df",
   "metadata": {},
   "outputs": [],
   "source": [
    "potential_17 = adata[adata.obs['leiden'].isin(['6']),:]"
   ]
  },
  {
   "cell_type": "code",
   "execution_count": null,
   "id": "ed83856b-648e-4501-bbe0-d4eeb4cc048f",
   "metadata": {},
   "outputs": [],
   "source": [
    "del potential_17.uns"
   ]
  },
  {
   "cell_type": "code",
   "execution_count": null,
   "id": "a3bf61c0",
   "metadata": {},
   "outputs": [],
   "source": [
    "sc.pp.highly_variable_genes(potential_17, flavor='seurat', n_top_genes=3000)\n",
    "sc.pp.pca(potential_17, n_comps=50, use_highly_variable=True, svd_solver='arpack')"
   ]
  },
  {
   "cell_type": "code",
   "execution_count": null,
   "id": "8b84e335",
   "metadata": {},
   "outputs": [],
   "source": [
    "sc.pp.neighbors(potential_17, n_neighbors = 15, n_pcs = 50)\n",
    "sc.tl.leiden(potential_17, resolution = 1, key_added= 'leiden')                                                 "
   ]
  },
  {
   "cell_type": "code",
   "execution_count": null,
   "id": "66cecbc3",
   "metadata": {},
   "outputs": [],
   "source": [
    "sc.tl.tsne(potential_17)"
   ]
  },
  {
   "cell_type": "code",
   "execution_count": null,
   "id": "e6eb4959",
   "metadata": {},
   "outputs": [],
   "source": [
    "%matplotlib inline\n",
    "sc.pl.tsne(potential_17, color=['leiden','RORC','IL17A','IL17F'],size = 180,cmap = my_cmap)"
   ]
  },
  {
   "cell_type": "code",
   "execution_count": null,
   "id": "3100e6f4-2df3-4703-8201-d3877879604c",
   "metadata": {
    "tags": []
   },
   "outputs": [],
   "source": [
    "plt.rcParams['figure.figsize'] = [8,8]\n",
    "sc.tl.leiden(potential_17, restrict_to = ('leiden', ['5']), resolution = 0.6, key_added= 'leiden1')\n",
    "sc.pl.tsne(potential_17, color=['leiden1','RORC','IL17A','IL17F'], size = 20, legend_loc = 'on data', cmap = my_cmap)"
   ]
  },
  {
   "cell_type": "code",
   "execution_count": null,
   "id": "9a11aa56-99db-4ae6-9efa-62f3c8961d63",
   "metadata": {
    "tags": []
   },
   "outputs": [],
   "source": [
    "plt.rcParams['figure.figsize'] = [8,8]\n",
    "sc.tl.leiden(potential_17, restrict_to = ('leiden1', ['10']), resolution = 0.4, key_added= 'leiden2')\n",
    "sc.pl.tsne(potential_17, color=['leiden2','RORC','IL17A','IL17F'], size = 20, legend_loc = 'on data', cmap = my_cmap)"
   ]
  },
  {
   "cell_type": "code",
   "execution_count": null,
   "id": "94663ed8-e707-4b26-8c08-02aa4fc4eca1",
   "metadata": {
    "tags": []
   },
   "outputs": [],
   "source": [
    "plt.rcParams['figure.figsize'] = [8,8]\n",
    "sc.tl.leiden(potential_17, restrict_to = ('leiden2', ['7']), resolution = 0.5, key_added= 'leiden3')\n",
    "sc.pl.tsne(potential_17, color=['leiden3','RORC','IL17A','IL17F'], size = 20, legend_loc = 'on data', cmap = my_cmap)"
   ]
  },
  {
   "cell_type": "code",
   "execution_count": null,
   "id": "f6a45aad-4dcb-4755-afb6-4d033dd155a1",
   "metadata": {},
   "outputs": [],
   "source": [
    "IL17_genesmask = [gene.startswith(\"IL17\") and gene.startswith(\"IL17R\")==0 for gene in potential_17.var_names]\n",
    "IL17_genes = potential_17.var_names[IL17_genesmask]\n",
    "IL17_exp_set ={\n",
    "    'cytokine': IL17_genes, 'TF': 'RORC'\n",
    "}\n",
    "sc.pl.dotplot(potential_17,IL17_exp_set,groupby = 'leiden' , vmax = 1, swap_axes = False, dot_min =0.1, dot_max =1,standard_scale = 'var')"
   ]
  },
  {
   "cell_type": "code",
   "execution_count": null,
   "id": "86c0ef76-97b1-4d52-8d53-9beaafc7e517",
   "metadata": {},
   "outputs": [],
   "source": [
    "T17_1 = potential_17[potential_17.obs['leiden'].isin(['2','5','6']),:]"
   ]
  },
  {
   "cell_type": "code",
   "execution_count": null,
   "id": "9b9ab60c-876b-4805-9797-deabef050818",
   "metadata": {},
   "outputs": [],
   "source": [
    "T17_2 = adata[adata.obs['leiden1'].isin(['3,1','3,2','33']),:]"
   ]
  },
  {
   "cell_type": "code",
   "execution_count": null,
   "id": "c5674e95-9dd1-4af0-843a-b041e6b3e726",
   "metadata": {},
   "outputs": [],
   "source": [
    "#Why all of a sudden this does not work??\n",
    "adata_17 = T17_1.concatenate(T17_2, batch_key = 'original_cluster', batch_categories=['6','3-33'],join = 'outer',fill_value=0)"
   ]
  },
  {
   "cell_type": "code",
   "execution_count": null,
   "id": "dff7830f-5295-42f2-b202-e16409462240",
   "metadata": {},
   "outputs": [],
   "source": [
    "sc.pp.highly_variable_genes(adata_17, flavor='seurat', n_top_genes=3000)\n",
    "sc.pp.pca(adata_17, n_comps=50, use_highly_variable=True, svd_solver='arpack')"
   ]
  },
  {
   "cell_type": "code",
   "execution_count": null,
   "id": "d2f387d0-37d8-4a99-9653-2366454c1b0f",
   "metadata": {},
   "outputs": [],
   "source": [
    "sc.pp.neighbors(adata_17, n_neighbors = 15, n_pcs = 50)\n",
    "sc.tl.leiden(adata_17, resolution = 1, key_added= 'leiden')                                                 "
   ]
  },
  {
   "cell_type": "code",
   "execution_count": null,
   "id": "3a188e97-8ceb-4cdf-b8fe-18efb12e927a",
   "metadata": {},
   "outputs": [],
   "source": [
    "sc.tl.tsne(adata_17)"
   ]
  },
  {
   "cell_type": "code",
   "execution_count": null,
   "id": "bb41ef69-62ef-431b-9e41-da849da59b51",
   "metadata": {},
   "outputs": [],
   "source": [
    "%matplotlib inline\n",
    "sc.pl.tsne(adata_17, color=['leiden','RORC','IL17A','IL17F'],size = 40,cmap = my_cmap)"
   ]
  },
  {
   "cell_type": "code",
   "execution_count": null,
   "id": "602746eb-fb79-4e49-9b41-7962be6b142c",
   "metadata": {},
   "outputs": [],
   "source": [
    "adata_17.write('GSE200997_T17.h5ad')"
   ]
  },
  {
   "cell_type": "code",
   "execution_count": null,
   "id": "0e1005f6-1d5f-4dc0-96a5-09ed70c8eae5",
   "metadata": {},
   "outputs": [],
   "source": [
    "adata.write('GSE200997_processed.h5ad')"
   ]
  },
  {
   "cell_type": "code",
   "execution_count": null,
   "id": "946a962e-e1ad-4bf4-8c5d-d0238b1aaecd",
   "metadata": {},
   "outputs": [],
   "source": [
    "adata = sc.read_h5ad('GSE200997_processed.h5ad')"
   ]
  },
  {
   "cell_type": "code",
   "execution_count": null,
   "id": "2c97070f-ee51-4e13-bc4e-d91e01221415",
   "metadata": {},
   "outputs": [],
   "source": [
    "bioinfo = pd.read_csv('GSE200997_bioinfo.csv')"
   ]
  },
  {
   "cell_type": "code",
   "execution_count": null,
   "id": "5bd507de-ae39-40b0-8e1d-379be21c2897",
   "metadata": {},
   "outputs": [],
   "source": [
    "def convert_tnm_to_stage(t, n, m):\n",
    "    \"\"\"\n",
    "    Convert TNM components to an overall cancer stage.\n",
    "    \n",
    "    Parameters:\n",
    "    t (str): Tumor size and extent (e.g., 'Tis', 'T1', 'T2', 'T3', 'T4').\n",
    "    n (str): Node involvement (e.g., 'N0', 'N1', 'N2', 'N3').\n",
    "    m (str): Metastasis presence (e.g., 'M0', 'M1').\n",
    "    \n",
    "    Returns:\n",
    "    int: Overall cancer stage (0 to IV).\n",
    "    \"\"\"\n",
    "    t = t[0].lower()\n",
    "    n = n[0].lower()\n",
    "    m = m[0].lower()\n",
    "    # Handling metastasis first because it overrides other categories\n",
    "    if m == '1':\n",
    "        return 'IV'\n",
    "    if t.isnumeric()==0 or n.isnumeric()==0:\n",
    "        return 'N/A'\n",
    "    \n",
    "    # Mapping T and N to stages\n",
    "    if t == '0' and n == '0' and m != '1':\n",
    "        return '0'\n",
    "    elif t == '1' and n == '0' and m != '1':\n",
    "        return 'I'\n",
    "    elif (t == '2' and n == '0' and m != '1') or (t == '1' and n == '1' and m != '1'):\n",
    "        return 'II'\n",
    "    elif (t == '2' and n == '1' and m != '1') or (t in ['3'] and n in ['0', '1'] and m != '1'):\n",
    "        return 'III'\n",
    "    \n",
    "    # Default to highest stage if other conditions are not met (typically not used, more complex logic needed in real cases)\n",
    "    return 'IV'"
   ]
  },
  {
   "cell_type": "code",
   "execution_count": null,
   "id": "167b45f3-2756-473a-9aa9-c060be63e96d",
   "metadata": {},
   "outputs": [],
   "source": [
    "patient = [i.split('_')[1].split('cac')[1] for i in adata.obs_names]"
   ]
  },
  {
   "cell_type": "code",
   "execution_count": null,
   "id": "7befe10d-9433-4ab8-aa4f-7fcbd3082a90",
   "metadata": {},
   "outputs": [],
   "source": [
    "adata.obs['samples'] = [i.upper() for i in adata.obs['samples']]"
   ]
  },
  {
   "cell_type": "code",
   "execution_count": null,
   "id": "e7f13dca-62a2-43ef-bcb7-a506e43c7e04",
   "metadata": {},
   "outputs": [],
   "source": [
    "adata.obs['patient'] = patient"
   ]
  },
  {
   "cell_type": "code",
   "execution_count": null,
   "id": "a62f228d-fdaf-49ce-9dcb-72c5d95297ba",
   "metadata": {
    "tags": []
   },
   "outputs": [],
   "source": [
    "bioinfo['patient'] = [i.split('CAC')[1] for i in bioinfo['SAMPLE_ID']]\n",
    "site_dict = dict(zip(bioinfo['patient'], bioinfo['Location2']))\n",
    "site = [site_dict[i] for i in adata.obs['patient']]"
   ]
  },
  {
   "cell_type": "code",
   "execution_count": null,
   "id": "8319e589-0783-4e72-928c-fc0fb68f9a5b",
   "metadata": {},
   "outputs": [],
   "source": [
    "gender_dict = dict(zip(bioinfo['patient'], bioinfo['Gender']))\n",
    "gender = [gender_dict[i] for i in adata.obs['patient']]"
   ]
  },
  {
   "cell_type": "code",
   "execution_count": null,
   "id": "982f0d68-e9a7-4b77-b3d2-442b87d9d607",
   "metadata": {},
   "outputs": [],
   "source": [
    "age_dict = dict(zip(bioinfo['patient'], bioinfo['Age']))\n",
    "age = [age_dict[i] for i in adata.obs['patient']]"
   ]
  },
  {
   "cell_type": "code",
   "execution_count": null,
   "id": "13d7c29c-c08c-4c5d-96ea-de9f4d5b646b",
   "metadata": {},
   "outputs": [],
   "source": [
    "bioinfo['TNM_T'] = [i.split('T')[1].split('N')[0] for i in bioinfo['Stage']]\n",
    "bioinfo['TNM_N'] = [i.split('N')[1].split('M')[0] for i in bioinfo['Stage']]\n",
    "bioinfo['TNM_M'] = '0'\n",
    "bioinfo['roman stage'] = 'N/A'\n",
    "for i,stage in enumerate(bioinfo['Stage']):\n",
    "    if len(stage.split('M')) > 1:\n",
    "        bioinfo['TNM_M'][i] = stage.split('M')[1]\n",
    "    bioinfo['roman stage'][i] = convert_tnm_to_stage(bioinfo['TNM_T'][i], bioinfo['TNM_N'][i], bioinfo['TNM_M'][i])"
   ]
  },
  {
   "cell_type": "code",
   "execution_count": null,
   "id": "4a310f1b-0bce-4719-82a6-ebed4c7e386f",
   "metadata": {},
   "outputs": [],
   "source": [
    "bioinfo"
   ]
  },
  {
   "cell_type": "code",
   "execution_count": null,
   "id": "eac2755c-23cf-47d2-9c76-7107d77294f7",
   "metadata": {},
   "outputs": [],
   "source": [
    "for key in ['T','N','M']:\n",
    "    colname = 'TNM_'+key\n",
    "    adata.obs[colname] = 'N/A'\n",
    "    T_dict = dict(zip(bioinfo['SAMPLE_ID'], bioinfo[colname]))\n",
    "    for i,sid in enumerate(adata.obs['samples']):\n",
    "        if sid.startswith('T'):\n",
    "            adata.obs[colname][i] = T_dict[sid] "
   ]
  },
  {
   "cell_type": "code",
   "execution_count": null,
   "id": "b93711fd-50a8-4283-af8e-c3e80b50c3f5",
   "metadata": {},
   "outputs": [],
   "source": [
    "R_stage_dict =  dict(zip(bioinfo['SAMPLE_ID'], bioinfo['roman stage']))\n",
    "adata.obs['roman stage'] = 'N/A'\n",
    "for i,sid in enumerate(adata.obs['samples']):\n",
    "    if sid.startswith('T'):\n",
    "        adata.obs['roman stage'][i] = R_stage_dict[sid] "
   ]
  },
  {
   "cell_type": "code",
   "execution_count": null,
   "id": "733babb0-160d-4dd7-a94c-57e28b19a760",
   "metadata": {},
   "outputs": [],
   "source": [
    "adata.obs['tissue'] = 'Colon ' + adata.obs['Condition'].astype(str).map(str)"
   ]
  },
  {
   "cell_type": "code",
   "execution_count": null,
   "id": "e5d91e3b-66ae-4a7f-afad-f927a639be22",
   "metadata": {},
   "outputs": [],
   "source": [
    "adata.obs['patient'] = patient\n",
    "adata.obs['gender'] = gender\n",
    "adata.obs['age'] = age\n",
    "adata.obs['site'] = site\n",
    "adata.obs['stage'] = adata.obs['roman stage']"
   ]
  },
  {
   "cell_type": "code",
   "execution_count": null,
   "id": "60db4846-194a-4c34-8dca-3d250ca7977f",
   "metadata": {},
   "outputs": [],
   "source": [
    "adata.obs['gender'] = [i[0].upper()+i[1:] for i in adata.obs['gender']]"
   ]
  },
  {
   "cell_type": "code",
   "execution_count": null,
   "id": "1b01fa5b-6d71-4863-b1d0-1905f8eb63f9",
   "metadata": {},
   "outputs": [],
   "source": [
    "sc.pl.tsne(adata,color = ['patient','tissue','gender','age','site','TNM_T','TNM_N','TNM_M','roman stage'])"
   ]
  },
  {
   "cell_type": "code",
   "execution_count": null,
   "id": "9905305e-8762-4e60-bb71-145002090008",
   "metadata": {},
   "outputs": [],
   "source": []
  },
  {
   "cell_type": "code",
   "execution_count": null,
   "id": "599cead5-abc1-48e7-881e-24791cafeb46",
   "metadata": {},
   "outputs": [],
   "source": [
    "T_adata = adata[adata.obs['leiden'].isin([str(i) for i in [0, 1, 2, 6, 4 ,7, 19, 14, 24]]),:]"
   ]
  },
  {
   "cell_type": "code",
   "execution_count": null,
   "id": "55c0d69e-7579-4ac4-b9ea-819ad039eecc",
   "metadata": {},
   "outputs": [],
   "source": [
    "sc.pp.highly_variable_genes(T_adata, flavor='seurat', n_top_genes=3000)\n",
    "sc.pp.pca(T_adata, n_comps=50, use_highly_variable=True, svd_solver='arpack')"
   ]
  },
  {
   "cell_type": "code",
   "execution_count": null,
   "id": "23052fee-42d4-4c40-9eb5-f7df60cbe44c",
   "metadata": {},
   "outputs": [],
   "source": [
    "sc.pp.neighbors(T_adata, n_neighbors = 15, n_pcs = 50)\n",
    "sc.tl.leiden(T_adata, resolution = 0.8, key_added= 'leiden')                                                 "
   ]
  },
  {
   "cell_type": "code",
   "execution_count": null,
   "id": "e656911c-0c2c-4d6b-b585-ddc096ffbea8",
   "metadata": {},
   "outputs": [],
   "source": [
    "sc.tl.tsne(T_adata)"
   ]
  },
  {
   "cell_type": "code",
   "execution_count": null,
   "id": "5d8dcb09-3647-4bfe-96ed-d474e2c356e9",
   "metadata": {},
   "outputs": [],
   "source": [
    "plt.rcParams['figure.figsize'] = [8,8]\n",
    "sc.tl.leiden(T_adata, restrict_to = ('leiden', ['0']), resolution = 0.9, key_added= 'leiden1')\n",
    "sc.pl.tsne(T_adata, color=['leiden1','CD3E','CD3G','CD3D','TRDC'], size = 20, legend_loc = 'on data', cmap = my_cmap)"
   ]
  },
  {
   "cell_type": "code",
   "execution_count": null,
   "id": "68831804-0f76-43b3-b042-29214ad10b8a",
   "metadata": {},
   "outputs": [],
   "source": [
    "%matplotlib inline\n",
    "sc.pl.tsne(T_adata, color=['leiden','CD3E','CD3G','CD3D','TRDC','ICOS','CD4','CD8A','CD8B','FOXP3','IFNG','TRGV4','TRBV7-4'],cmap = my_cmap)"
   ]
  },
  {
   "cell_type": "code",
   "execution_count": null,
   "id": "46aa4614-a328-4459-a58d-4b85c79c3ac9",
   "metadata": {},
   "outputs": [],
   "source": [
    "gamma_genesmask = [gene.startswith(\"TRG\") for gene in T_adata.var_names]\n",
    "gamma_genes = T_adata.var_names[gamma_genesmask]\n",
    "delta_genesmask = [gene.startswith(\"TRD\") for gene in T_adata.var_names]\n",
    "delta_genes = T_adata.var_names[delta_genesmask]"
   ]
  },
  {
   "cell_type": "code",
   "execution_count": null,
   "id": "79bda516-9088-48d6-9967-2980b3a9bc5b",
   "metadata": {},
   "outputs": [],
   "source": [
    "TCR_exp_set ={\n",
    "\"gamma\": gamma_genes, \"delta\": delta_genes, \"CD3S\": ['CD3E','CD3D','CD3G']\n",
    "}\n",
    "sc.pl.dotplot(T_adata,TCR_exp_set,groupby = 'leiden1' , vmax = 1, swap_axes = False, dot_min =0, dot_max =1,standard_scale = 'var')"
   ]
  },
  {
   "cell_type": "code",
   "execution_count": null,
   "id": "3aba3f4a-79aa-4101-94ce-dde0dd7ad18e",
   "metadata": {},
   "outputs": [],
   "source": [
    "keep_list = ['0,1','0,4','0,6','0,7','0,9','0,10']"
   ]
  },
  {
   "cell_type": "code",
   "execution_count": null,
   "id": "cc44bc31-7e45-400c-a415-19e2386d24de",
   "metadata": {},
   "outputs": [],
   "source": [
    "gd_adata = T_adata[T_adata.obs['leiden1'].isin(keep_list),:]"
   ]
  },
  {
   "cell_type": "code",
   "execution_count": null,
   "id": "c1390126-79a2-4999-8c56-2d02ae7e8d5a",
   "metadata": {},
   "outputs": [],
   "source": [
    "gd_adata.write('gdT.h5ad')"
   ]
  },
  {
   "cell_type": "markdown",
   "id": "6c9133f0-bdbe-4697-b380-9d2930542221",
   "metadata": {},
   "source": [
    "## Do they show any sign of IL17 secreting?"
   ]
  },
  {
   "cell_type": "code",
   "execution_count": null,
   "id": "62235e6d-396c-4b0b-b011-7bd624fe8b63",
   "metadata": {},
   "outputs": [],
   "source": [
    "sc.pl.tsne(gd_adata,color = ['IL17A','RORC'], cmap = my_cmap)"
   ]
  },
  {
   "cell_type": "code",
   "execution_count": null,
   "id": "831b4142-d206-4f31-801b-c494394a5481",
   "metadata": {},
   "outputs": [],
   "source": [
    "TCR_exp_set ={\n",
    "\"gamma\": gamma_genes, \"delta\": delta_genes, \"CD3S\": ['CD3E','CD3D','CD3G']\n",
    "}\n",
    "sc.pl.dotplot(gd_adata,TCR_exp_set,groupby = 'leiden1' , vmax = 1, swap_axes = False, dot_min =0, dot_max =1,standard_scale = 'var')"
   ]
  },
  {
   "cell_type": "code",
   "execution_count": null,
   "id": "7c946601-f35e-4adc-bc5a-167c3875cf59",
   "metadata": {},
   "outputs": [],
   "source": [
    "adata_gd = sc.read_h5ad('gdT.h5ad')"
   ]
  },
  {
   "cell_type": "code",
   "execution_count": null,
   "id": "c0f94550-42e2-468c-8081-a19fb315a55f",
   "metadata": {},
   "outputs": [],
   "source": [
    "bioinfo = pd.read_csv('bioinfo.csv')"
   ]
  },
  {
   "cell_type": "code",
   "execution_count": null,
   "id": "9696e2e1-d509-4429-8498-d469e2d1032c",
   "metadata": {},
   "outputs": [],
   "source": [
    "patient = [i.split('_')[1].split('cac')[1] for i in adata_gd.obs_names]"
   ]
  },
  {
   "cell_type": "code",
   "execution_count": null,
   "id": "abd3cf3c-6f0c-4e73-9775-5e1aa70c946f",
   "metadata": {},
   "outputs": [],
   "source": [
    "adata_gd.obs['samples'] = [i.upper() for i in adata_gd.obs['samples']]"
   ]
  },
  {
   "cell_type": "code",
   "execution_count": null,
   "id": "d39f9813-53b6-4803-bdd0-9cdee35003d9",
   "metadata": {},
   "outputs": [],
   "source": [
    "adata_gd.obs['patient'] = patient"
   ]
  },
  {
   "cell_type": "code",
   "execution_count": null,
   "id": "0d56e596-442a-4b93-9e22-251f5ac953fb",
   "metadata": {
    "tags": []
   },
   "outputs": [],
   "source": [
    "bioinfo['patient'] = [i.split('CAC')[1] for i in bioinfo['SAMPLE_ID']]\n",
    "site_dict = dict(zip(bioinfo['patient'], bioinfo['Location2']))\n",
    "site = [site_dict[i] for i in adata_gd.obs['patient']]"
   ]
  },
  {
   "cell_type": "code",
   "execution_count": null,
   "id": "e8bfa76c-305d-4e03-bb66-cfaed69b1fe9",
   "metadata": {},
   "outputs": [],
   "source": [
    "gender_dict = dict(zip(bioinfo['patient'], bioinfo['Gender']))\n",
    "gender = [gender_dict[i] for i in adata_gd.obs['patient']]"
   ]
  },
  {
   "cell_type": "code",
   "execution_count": null,
   "id": "ab5c6d94-07c8-4d79-891e-fac87d578939",
   "metadata": {},
   "outputs": [],
   "source": [
    "age_dict = dict(zip(bioinfo['patient'], bioinfo['Age']))\n",
    "age = [age_dict[i] for i in adata_gd.obs['patient']]"
   ]
  },
  {
   "cell_type": "code",
   "execution_count": null,
   "id": "33e78ef5-1547-4b01-b619-8a61d8acbb2c",
   "metadata": {},
   "outputs": [],
   "source": [
    "bioinfo['TNM_T'] = [i.split('T')[1].split('N')[0] for i in bioinfo['Stage']]\n",
    "bioinfo['TNM_N'] = [i.split('N')[1].split('M')[0] for i in bioinfo['Stage']]\n",
    "bioinfo['TNM_M'] = '0'\n",
    "bioinfo['roman stage'] = 'N/A'\n",
    "for i,stage in enumerate(bioinfo['Stage']):\n",
    "    if len(stage.split('M')) > 1:\n",
    "        bioinfo['TNM_M'][i] = stage.split('M')[1]\n",
    "    bioinfo['roman stage'][i] = convert_tnm_to_stage(bioinfo['TNM_T'][i], bioinfo['TNM_N'][i], bioinfo['TNM_M'][i])"
   ]
  },
  {
   "cell_type": "code",
   "execution_count": null,
   "id": "89a4b71a-666c-452f-84d2-5c875ddceecd",
   "metadata": {},
   "outputs": [],
   "source": [
    "def convert_tnm_to_stage(t, n, m):\n",
    "    \"\"\"\n",
    "    Convert TNM components to an overall cancer stage.\n",
    "    \n",
    "    Parameters:\n",
    "    t (str): Tumor size and extent (e.g., 'Tis', 'T1', 'T2', 'T3', 'T4').\n",
    "    n (str): Node involvement (e.g., 'N0', 'N1', 'N2', 'N3').\n",
    "    m (str): Metastasis presence (e.g., 'M0', 'M1').\n",
    "    \n",
    "    Returns:\n",
    "    int: Overall cancer stage (0 to IV).\n",
    "    \"\"\"\n",
    "    t = t[0].lower()\n",
    "    n = n[0].lower()\n",
    "    m = m[0].lower()\n",
    "    # Handling metastasis first because it overrides other categories\n",
    "    if m == '1':\n",
    "        return 'IV'\n",
    "    if t.isnumeric()==0 or n.isnumeric()==0:\n",
    "        return 'N/A'\n",
    "    \n",
    "    # Mapping T and N to stages\n",
    "    if t == '0' and n == '0' and m != '1':\n",
    "        return '0'\n",
    "    elif t == '1' and n == '0' and m != '1':\n",
    "        return 'I'\n",
    "    elif (t == '2' and n == '0' and m != '1') or (t == '1' and n == '1' and m != '1'):\n",
    "        return 'II'\n",
    "    elif (t == '2' and n == '1' and m != '1') or (t in ['3'] and n in ['0', '1'] and m != '1'):\n",
    "        return 'III'\n",
    "    \n",
    "    # Default to highest stage if other conditions are not met (typically not used, more complex logic needed in real cases)\n",
    "    return 'IV'"
   ]
  },
  {
   "cell_type": "code",
   "execution_count": null,
   "id": "a45236cb-e74b-435d-bbab-078a4176d917",
   "metadata": {},
   "outputs": [],
   "source": [
    "for key in ['T','N','M']:\n",
    "    colname = 'TNM_'+key\n",
    "    adata_gd.obs[colname] = 'N/A'\n",
    "    T_dict = dict(zip(bioinfo['SAMPLE_ID'], bioinfo[colname]))\n",
    "    for i,sid in enumerate(adata_gd.obs['samples']):\n",
    "        if sid.startswith('T'):\n",
    "            adata_gd.obs[colname][i] = T_dict[sid] "
   ]
  },
  {
   "cell_type": "code",
   "execution_count": null,
   "id": "dba44010-b987-489a-b64f-b6beec25065b",
   "metadata": {},
   "outputs": [],
   "source": [
    "R_stage_dict =  dict(zip(bioinfo['SAMPLE_ID'], bioinfo['roman stage']))\n",
    "adata_gd.obs['roman stage'] = 'N/A'\n",
    "for i,sid in enumerate(adata_gd.obs['samples']):\n",
    "    if sid.startswith('T'):\n",
    "        adata_gd.obs['roman stage'][i] = R_stage_dict[sid] "
   ]
  },
  {
   "cell_type": "code",
   "execution_count": null,
   "id": "b0746a4d-2eba-4b9a-a361-ae6bcc41f4b5",
   "metadata": {},
   "outputs": [],
   "source": [
    "adata_gd.obs['tissue'] = 'Colon ' + adata_gd.obs['Condition'].astype(str).map(str)"
   ]
  },
  {
   "cell_type": "code",
   "execution_count": null,
   "id": "354b5d09-9183-44b2-93a1-3b0a85a723e0",
   "metadata": {},
   "outputs": [],
   "source": [
    "adata_gd.obs['patient'] = patient\n",
    "adata_gd.obs['gender'] = gender\n",
    "adata_gd.obs['age'] = age\n",
    "adata_gd.obs['site'] = site\n",
    "adata_gd.obs['stage'] = adata_gd.obs['roman stage']"
   ]
  },
  {
   "cell_type": "code",
   "execution_count": null,
   "id": "d4d89db3-4cab-4271-a05b-b02e5c6a3a4c",
   "metadata": {},
   "outputs": [],
   "source": [
    "adata_gd.obs['gender'] = [i[0].upper()+i[1:] for i in adata_gd.obs['gender']]"
   ]
  },
  {
   "cell_type": "code",
   "execution_count": null,
   "id": "69e59937-c0d3-4ffd-b163-990ddf9e6c37",
   "metadata": {},
   "outputs": [],
   "source": [
    "sc.pl.tsne(adata_gd,color = ['patient','tissue','gender','age','site','TNM_T','TNM_N','TNM_M','roman stage'])"
   ]
  },
  {
   "cell_type": "code",
   "execution_count": null,
   "id": "0704af72-4428-4ce2-9057-13f601221fce",
   "metadata": {},
   "outputs": [],
   "source": [
    "adata_gd.obs[['patient','tissue','gender','age','site','TNM_T','TNM_N','TNM_M','stage']].to_csv('F:/CRC/AA_Done/GSE200997_gd.csv')"
   ]
  },
  {
   "cell_type": "code",
   "execution_count": null,
   "id": "165236cd-d65c-483b-a2c1-12faa2a80c51",
   "metadata": {},
   "outputs": [],
   "source": [
    "adata_gd.write('GSE200997_gd.h5ad')"
   ]
  },
  {
   "cell_type": "code",
   "execution_count": null,
   "id": "beb122c5-df1b-4b0c-95af-0ff2eab453d8",
   "metadata": {},
   "outputs": [],
   "source": [
    "gd_info = pd.read_csv('F:/CRC/AA_Done/GSE200997_gd.csv')"
   ]
  },
  {
   "cell_type": "code",
   "execution_count": null,
   "id": "558bec23-ae5e-47d4-90c1-018db53bac00",
   "metadata": {},
   "outputs": [],
   "source": [
    "adata.var_names_make_unique()"
   ]
  },
  {
   "cell_type": "code",
   "execution_count": null,
   "id": "a821a3c2-932f-4ecf-8a43-b3b1b7137495",
   "metadata": {},
   "outputs": [],
   "source": [
    "counts = adata[gd_info['Unnamed: 0'],:].X.T\n",
    "colnames = gd_info['Unnamed: 0']\n",
    "rownames = adata.var_names"
   ]
  },
  {
   "cell_type": "code",
   "execution_count": null,
   "id": "f97e5597-643c-4a78-8a23-aab72d4a7f66",
   "metadata": {},
   "outputs": [],
   "source": [
    "%%R -i colnames -i rownames -i counts \n",
    "\n",
    "colnames(counts) = colnames\n",
    "rownames(counts) = rownames\n",
    "\n",
    "srat <- CreateSeuratObject(counts = counts, project = \"GSE200997\", min.cells = 0, min.features = 0, assay = \"RNA\")"
   ]
  },
  {
   "cell_type": "code",
   "execution_count": null,
   "id": "3e766941-0bfb-48c7-9d7b-0de11cee0ace",
   "metadata": {},
   "outputs": [],
   "source": [
    "%%R -i gd_info\n",
    "srat = AddMetaData(srat, metadata = gd_info)\n",
    "saveRDS(srat, 'F:/CRC/AA_Done/GSE200997_gd.rds')"
   ]
  },
  {
   "cell_type": "code",
   "execution_count": null,
   "id": "84eecf65-88bb-4bf5-a0d9-3c6247f92eea",
   "metadata": {},
   "outputs": [],
   "source": []
  },
  {
   "cell_type": "code",
   "execution_count": null,
   "id": "3798478a-ceac-4cee-a638-7f55e8ab117f",
   "metadata": {},
   "outputs": [],
   "source": [
    "from matplotlib.colors import LinearSegmentedColormap\n",
    "values = [0,1]\n",
    "colors = [(227, 227, 227), (255, 42, 18)]\n",
    "norm = plt.Normalize(min(values), max(values))\n",
    "my_cmap = LinearSegmentedColormap.from_list(\n",
    "    '', [(norm(value), tuple(np.array(color) / 255)) for value, color in zip(values, colors)])"
   ]
  },
  {
   "cell_type": "code",
   "execution_count": null,
   "id": "be098906-9b3f-4980-b2ae-c9ca4c25e5c2",
   "metadata": {},
   "outputs": [],
   "source": [
    "adata = sc.read_h5ad('GSE200997_processed.h5ad')\n",
    "adata_17 = sc.read_h5ad('GSE200997_T17.h5ad')\n",
    "adata_gd = sc.read_h5ad('GSE200997_gd.h5ad')"
   ]
  },
  {
   "cell_type": "code",
   "execution_count": null,
   "id": "afd33b19-e12f-435c-a9d3-79e8b29c4b7c",
   "metadata": {},
   "outputs": [],
   "source": [
    "adata.obs['IL17 secreting selected'] = '0'\n",
    "adata.obs['IL17 secreting selected'][adata.obs_names.isin(adata_17.obs_names)] = '1'"
   ]
  },
  {
   "cell_type": "code",
   "execution_count": null,
   "id": "41d84e71-1210-40ca-ad95-ba45c7bd743e",
   "metadata": {},
   "outputs": [],
   "source": [
    "adata.obs['gdT selected'] = '0'\n",
    "adata.obs['gdT selected'][adata.obs_names.isin(adata_gd.obs_names)] = '1'"
   ]
  },
  {
   "cell_type": "code",
   "execution_count": null,
   "id": "57ce154d-24c8-40eb-b394-2be861ef5212",
   "metadata": {},
   "outputs": [],
   "source": [
    "plt.close()\n",
    "plt.rcParams['axes.linewidth'] = 2\n",
    "plt.rcParams['figure.figsize'] = [8,8]\n",
    "fig = sc.pl.tsne(adata, color=['RORC','IL17A','IL17F','IL17 secreting selected'],\n",
    "                 size =5, ncols = 2, palette = ['#E3E3E3', '#FF2A12'], cmap = my_cmap, return_fig = True, legend_fontsize = 'large')\n",
    "ax = fig.get_axes()\n",
    "for i in range(0,len(ax)):\n",
    "    ax[i].xaxis.label.set_fontsize(22)\n",
    "    ax[i].xaxis.label.set_fontweight('bold')\n",
    "    ax[i].yaxis.label.set_fontsize(22)\n",
    "    ax[i].title.set_fontsize(30)\n",
    "    ax[i].yaxis.label.set_fontweight('bold')\n",
    "    ax[i].title.set_fontweight('bold')\n",
    "fig.savefig('17_selected.png',dpi = 300,bbox_inches='tight') "
   ]
  },
  {
   "cell_type": "code",
   "execution_count": null,
   "id": "eeadac45-f940-4392-adf1-103204468927",
   "metadata": {},
   "outputs": [],
   "source": [
    "plt.close()\n",
    "plt.rcParams['axes.linewidth'] = 2\n",
    "plt.rcParams['figure.figsize'] = [8,8]\n",
    "fig = sc.pl.tsne(adata, color=['CD3E','CD3D','CD3G','CD247','TRDC','gdT selected'],\n",
    "                 size =5, ncols = 2, palette = ['#E3E3E3', '#FF2A12'], cmap = my_cmap, return_fig = True, legend_fontsize = 'large')\n",
    "ax = fig.get_axes()\n",
    "for i in range(0,len(ax)):\n",
    "    ax[i].xaxis.label.set_fontsize(22)\n",
    "    ax[i].xaxis.label.set_fontweight('bold')\n",
    "    ax[i].yaxis.label.set_fontsize(22)\n",
    "    ax[i].title.set_fontsize(30)\n",
    "    ax[i].yaxis.label.set_fontweight('bold')\n",
    "    ax[i].title.set_fontweight('bold')\n",
    "fig.savefig('gd_selected.png',dpi = 300,bbox_inches='tight') "
   ]
  },
  {
   "cell_type": "code",
   "execution_count": null,
   "id": "9c276e0d-ae3f-4dc1-a234-48b4efb4b655",
   "metadata": {},
   "outputs": [],
   "source": []
  }
 ],
 "metadata": {
  "kernelspec": {
   "display_name": "Python 3 (ipykernel)",
   "language": "python",
   "name": "python3"
  },
  "language_info": {
   "codemirror_mode": {
    "name": "ipython",
    "version": 3
   },
   "file_extension": ".py",
   "mimetype": "text/x-python",
   "name": "python",
   "nbconvert_exporter": "python",
   "pygments_lexer": "ipython3",
   "version": "3.9.13"
  }
 },
 "nbformat": 4,
 "nbformat_minor": 5
}
