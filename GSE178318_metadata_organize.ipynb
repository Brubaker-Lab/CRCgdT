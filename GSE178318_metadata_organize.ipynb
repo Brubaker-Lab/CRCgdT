{
 "cells": [
  {
   "cell_type": "code",
   "execution_count": null,
   "id": "f1a744b0-091d-46b9-86db-4ef1e8564c4f",
   "metadata": {},
   "outputs": [],
   "source": [
    "adata = sc.read_h5ad('GSE178318_processed.h5ad')"
   ]
  },
  {
   "cell_type": "code",
   "execution_count": null,
   "id": "d344b8a2-721f-46b7-b5d9-8da949ca7f13",
   "metadata": {},
   "outputs": [],
   "source": [
    "bioinfo = pd.read_csv('41421_2021_312_MOESM2_ESM.csv')"
   ]
  },
  {
   "cell_type": "code",
   "execution_count": null,
   "id": "f48241bb-8051-466b-a721-cb785d0ae6d8",
   "metadata": {},
   "outputs": [],
   "source": [
    "patient = [i.split('_')[1] for i in adata.obs_names]\n",
    "tissue  = [i.split('_')[2].split('-')[0] for i in adata.obs_names]\n",
    "sample  = [i.split('_')[1]+'_'+i.split('_')[2] for i in adata.obs_names]"
   ]
  },
  {
   "cell_type": "code",
   "execution_count": null,
   "id": "30a8e101-3f36-498a-978f-c24c270594fc",
   "metadata": {},
   "outputs": [],
   "source": [
    "gender_dict = dict(zip(bioinfo['Patient ID'], bioinfo['Gender']))\n",
    "gender = [gender_dict[i] for i in patient]"
   ]
  },
  {
   "cell_type": "code",
   "execution_count": null,
   "id": "13530c1a-1084-4d61-8158-9b4342e554ba",
   "metadata": {},
   "outputs": [],
   "source": [
    "age_dict = dict(zip(bioinfo['Patient ID'], bioinfo['Age (years)']))\n",
    "age = [age_dict[i] for i in patient]"
   ]
  },
  {
   "cell_type": "code",
   "execution_count": null,
   "id": "064d6dbb-db71-4f79-8055-3a95d93c2e27",
   "metadata": {},
   "outputs": [],
   "source": [
    "site_dict = dict(zip(bioinfo['Patient ID'], bioinfo['Site of Primary Tumor']))\n",
    "site = [site_dict[i] for i in patient]"
   ]
  },
  {
   "cell_type": "code",
   "execution_count": null,
   "id": "0f86a1a5-83cb-41b1-a109-d2139e2ffb04",
   "metadata": {},
   "outputs": [],
   "source": [
    "TNM_dict = dict(zip(bioinfo['Patient ID'], bioinfo['TNM']))\n",
    "TNM = [TNM_dict[i] for i in patient]"
   ]
  },
  {
   "cell_type": "code",
   "execution_count": null,
   "id": "e8358bc6-84ec-46c1-9305-3b585f0650ef",
   "metadata": {},
   "outputs": [],
   "source": [
    "T = [i.split('T')[1].split('N')[0] for i in TNM]\n",
    "N = [j.split('M')[0] for j in [i.split('N')[1] for i in TNM]]\n",
    "M = [i.split('M')[1] for i in TNM]"
   ]
  },
  {
   "cell_type": "code",
   "execution_count": null,
   "id": "03142c2d-db3c-49e8-80ac-0cde8b535bab",
   "metadata": {},
   "outputs": [],
   "source": [
    "stage_dict = dict(zip(bioinfo['Patient ID'], bioinfo['Stage AJCC']))\n",
    "stage = [stage_dict[i] for i in patient]"
   ]
  },
  {
   "cell_type": "code",
   "execution_count": null,
   "id": "dbb3b7ee-0bbf-43da-8d0b-ce47a6c5a1e8",
   "metadata": {},
   "outputs": [],
   "source": [
    "adata.obs['patient'] = patient\n",
    "adata.obs['tissue'] = tissue\n",
    "adata.obs['sample'] = sample\n",
    "adata.obs['gender'] = gender\n",
    "adata.obs['age'] = age\n",
    "adata.obs['site'] = site\n",
    "adata.obs['TNM'] = TNM\n",
    "adata.obs['TNM_T'] = T\n",
    "adata.obs['TNM_N'] = N\n",
    "adata.obs['TNM_M'] = M\n",
    "adata.obs['stage'] = stage"
   ]
  },
  {
   "cell_type": "code",
   "execution_count": null,
   "id": "d23bc2cd-6d97-47df-992e-0126a8e659db",
   "metadata": {},
   "outputs": [],
   "source": [
    "adata.obs['site']= adata.obs['site'].astype('str')\n",
    "adata.obs['tissue']= adata.obs['tissue'].astype('str')\n",
    "adata.obs['TNM_T'] = adata.obs['TNM_T'].astype(str)\n",
    "adata.obs['TNM_N'] = adata.obs['TNM_N'].astype(str)\n",
    "adata.obs['TNM_M'] = adata.obs['TNM_M'].astype(str)\n",
    "adata.obs['TNM'] = adata.obs['TNM'].astype(str)\n",
    "adata.obs['stage'] = adata.obs['stage'].astype(str)"
   ]
  },
  {
   "cell_type": "code",
   "execution_count": null,
   "id": "4715acb3-4bd6-4ee6-a0d0-316dc7d61020",
   "metadata": {},
   "outputs": [],
   "source": [
    "adata.obs_names = [i.split('-')[0] for i in adata.obs_names]"
   ]
  },
  {
   "cell_type": "code",
   "execution_count": null,
   "id": "9c06170d-9d8b-40e7-93d8-90edef117aa9",
   "metadata": {},
   "outputs": [],
   "source": [
    "sc.pl.tsne(adata,color = ['patient','tissue','gender','age','site','stage','TNM_T','TNM_N','TNM_M','TRDC','CD3E'])"
   ]
  },
  {
   "cell_type": "code",
   "execution_count": null,
   "id": "4554b351-b6bc-4942-a911-98a4b89dcc22",
   "metadata": {},
   "outputs": [],
   "source": [
    "adata.obs[['patient','tissue','gender','age','site','stage','TNM','TNM_T','TNM_N','TNM_M']]"
   ]
  }
 ],
 "metadata": {
  "kernelspec": {
   "display_name": "Python 3 (ipykernel)",
   "language": "python",
   "name": "python3"
  },
  "language_info": {
   "codemirror_mode": {
    "name": "ipython",
    "version": 3
   },
   "file_extension": ".py",
   "mimetype": "text/x-python",
   "name": "python",
   "nbconvert_exporter": "python",
   "pygments_lexer": "ipython3",
   "version": "3.9.13"
  }
 },
 "nbformat": 4,
 "nbformat_minor": 5
}
