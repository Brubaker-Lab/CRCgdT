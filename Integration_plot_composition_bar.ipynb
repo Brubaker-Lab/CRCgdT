{
 "cells": [
  {
   "cell_type": "code",
   "execution_count": null,
   "metadata": {},
   "outputs": [],
   "source": [
    "print_keys = ['gender','tissue','site','stage','cell type']\n",
    "plt.rcParams['figure.figsize'] = [8,10]\n",
    "plt.rcParams.update({'font.size': 16, 'font.weight': 'bold','axes.linewidth':4})\n",
    "for key in print_keys:\n",
    "    cat_order = adata.obs[key].values.categories\n",
    "    expand_subtype = pd.DataFrame()\n",
    "    for i in set(adata.obs['tissue']):\n",
    "        pdtemp = pd.DataFrame(adata[adata.obs['tissue'] == i,:].obs[key].value_counts(normalize = True))\n",
    "        pdtemp = pdtemp.rename({'proportion': i }, axis='columns')\n",
    "        expand_subtype = pd.concat([expand_subtype, pdtemp], ignore_index=False, axis=1)\n",
    "    expand_subtype = expand_subtype.reindex(index =cat_order)\n",
    "    expand_subtype.transpose().plot.bar(stacked=True,color = adata.uns[key+'_colors'],fontsize = 30 ).legend(loc='center left',bbox_to_anchor=(1.0, 0.5),fontsize = 15)\n",
    "    plt.title(label =key+' breakdown', fontsize = 20)\n",
    "    plt.tight_layout()\n",
    "    plt.savefig(key+' breakdown in tissue gd reduced.png',dpi = 300)"
   ]
  }
 ],
 "metadata": {
  "language_info": {
   "name": "python"
  }
 },
 "nbformat": 4,
 "nbformat_minor": 2
}
