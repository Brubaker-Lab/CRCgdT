{
 "cells": [
  {
   "cell_type": "code",
   "execution_count": null,
   "id": "6576e925-6785-4b1f-89be-b465a84c2d86",
   "metadata": {
    "tags": []
   },
   "outputs": [],
   "source": [
    "#import the library\n",
    "import scanpy as sc\n",
    "import numpy as np\n",
    "import scipy as sp\n",
    "import pandas as pd\n",
    "import matplotlib.pyplot as plt\n",
    "from matplotlib import rcParams\n",
    "from matplotlib import colors\n",
    "import seaborn as sb\n",
    "from gprofiler import GProfiler\n",
    "import seaborn as sns\n",
    "import logging\n",
    "import os\n",
    "import importlib\n",
    "import warnings\n",
    "warnings.filterwarnings(\"ignore\")\n",
    "import pickle as pkl\n",
    "import anndata\n",
    "from matplotlib.colors import LinearSegmentedColormap"
   ]
  },
  {
   "cell_type": "code",
   "execution_count": null,
   "id": "aae81af6-79cf-4b42-99b1-5adf139c7bd8",
   "metadata": {
    "tags": []
   },
   "outputs": [],
   "source": [
    "def print_full(x):\n",
    "    pd.set_option('display.max_rows', len(x))\n",
    "    print(x)\n",
    "    pd.reset_option('display.max_rows')"
   ]
  },
  {
   "cell_type": "code",
   "execution_count": null,
   "id": "b18dd5cc-4158-4203-8550-52b4f2db92c1",
   "metadata": {
    "tags": []
   },
   "outputs": [],
   "source": [
    "#This pallete is for colorblinds\n",
    "my_palette = ['#0351A8','#8CB0E0','#D56D11','#FFBB78','#234E08','#53CB8B','#D30083','#CB788D','#4E195A','#C58CCF','#AA290F','#B03FD1','#E8BCCF','#64605F','#B2AD9A','#D2D30B','#D1BD4F','#06DCF2','#9EDAE5','#517219','#5B43CF','#D92F24','#FFD900','#002F33','#B8A3A3']\n",
    "#my_palette = ['#e6194b', '#3cb44b', '#f58231', '#4363d8', '#ffe119', '#911eb4', '#46f0f0', '#f032e6', '#bcf60c', '#fabebe', '#008080', '#e6beff', '#9a6324', '#fffac8', '#800000', '#aaffc3', '#808000', '#ffd8b1', '#000075', '#808080', '#ffffff', '#000000']\n",
    "stage_palette_1 = ['#e6194b', '#3cb44b', '#f58231', '#4363d8','#808080', '#ffe119']"
   ]
  },
  {
   "cell_type": "code",
   "execution_count": null,
   "id": "fc9238ab-7cc3-4b50-8939-e330a8ebd99d",
   "metadata": {
    "tags": []
   },
   "outputs": [],
   "source": [
    "from matplotlib.colors import LinearSegmentedColormap\n",
    "values = [0, 1]\n",
    "colors = [(227, 227, 227), (255, 42, 18)]\n",
    "colors = [tuple(np.array(color) / 255) for color in colors]\n",
    "my_cmap = LinearSegmentedColormap.from_list('', colors)"
   ]
  },
  {
   "cell_type": "code",
   "execution_count": null,
   "id": "94a301f4-501a-4212-b63a-a7216f62b697",
   "metadata": {
    "tags": []
   },
   "outputs": [],
   "source": [
    "# Ignore R warning messages\n",
    "#Note: this can be commented out to get more verbose R output\n",
    "rpy2.rinterface_lib.callbacks.logger.setLevel(logging.ERROR)\n",
    "\n",
    "# Automatically convert rpy2 outputs to pandas dataframes\n",
    "pandas2ri.activate()\n",
    "anndata2ri.activate()\n",
    "%load_ext rpy2.ipython"
   ]
  },
  {
   "cell_type": "code",
   "execution_count": null,
   "id": "63de486c-77ad-4c3b-9b25-50f2da8f7988",
   "metadata": {
    "tags": []
   },
   "outputs": [],
   "source": [
    "plt.rcParams['figure.figsize']=(8,8) #rescale figures\n",
    "sc.settings.verbosity = 3\n",
    "#sc.set_figure_params(dpi=200, dpi_save=300)\n",
    "sc.logging.print_versions()"
   ]
  },
  {
   "cell_type": "code",
   "execution_count": null,
   "id": "6a7fff94-1c91-4ff9-81b4-90543f01d477",
   "metadata": {
    "tags": []
   },
   "outputs": [],
   "source": [
    "%%R\n",
    ".libPaths(.libPaths('R\\\\win-library\\\\4.3'))\n",
    "\n",
    "# Load all the R libraries we will be using in the notebook\n",
    "library(scran)\n",
    "library(Seurat)\n",
    "library(RColorBrewer)\n",
    "library(slingshot)\n",
    "library(monocle)\n",
    "library(gam)\n",
    "library(ggplot2)\n",
    "library(plyr)\n",
    "library(MAST)\n",
    "library(clusterExperiment)\n",
    "library(monocle3)\n",
    "library(SeuratWrappers)\n",
    "library(magrittr)\n",
    "library(dplyr)  "
   ]
  },
  {
   "cell_type": "code",
   "execution_count": null,
   "id": "907bba93-6d90-4812-94b9-53757ac44752",
   "metadata": {
    "tags": []
   },
   "outputs": [],
   "source": [
    "adata = sc.read_h5ad('gd_integrated.h5ad') # read in the data"
   ]
  },
  {
   "cell_type": "code",
   "execution_count": null,
   "id": "19961f5e-21c3-4b9f-aed9-cca534638ee6",
   "metadata": {
    "tags": []
   },
   "outputs": [],
   "source": [
    "adata.obs['orig.ident'].values.categories # check the datasource"
   ]
  },
  {
   "cell_type": "code",
   "execution_count": null,
   "id": "3846aafb-f1ae-4073-a2c5-0c69b1ffa9a1",
   "metadata": {},
   "outputs": [],
   "source": [
    "sc.pp.neighbors(adata, n_pcs = 50)"
   ]
  },
  {
   "cell_type": "code",
   "execution_count": null,
   "id": "cef8d005-263e-4be9-aaec-f3c03c48d66a",
   "metadata": {},
   "outputs": [],
   "source": [
    "sc.tl.leiden(adata, resolution = 0.8, key_added= 'leiden')"
   ]
  },
  {
   "cell_type": "code",
   "execution_count": null,
   "id": "6f153e53-92d8-42ce-86f7-d44d1576873f",
   "metadata": {},
   "outputs": [],
   "source": [
    "sc.pl.pca(adata, color=['leiden','CD4'], legend_loc = 'on data')"
   ]
  },
  {
   "cell_type": "code",
   "execution_count": null,
   "id": "39483c3c-8427-49ef-810b-f92afe6606f8",
   "metadata": {},
   "outputs": [],
   "source": [
    "%matplotlib inline\n",
    "sc.tl.tsne(adata)\n",
    "#plt.close()\n",
    "plt.rcParams['axes.linewidth'] = 2\n",
    "sc.pl.tsne(adata, color=['leiden','CD3E','CD3G','CD3D','TRDC','ICOS','CD4','CD8A','CD8B','FOXP3','IFNG'],legend_loc = 'on data',cmap = my_cmap)"
   ]
  },
  {
   "cell_type": "code",
   "execution_count": null,
   "id": "1c588f2b-7b6d-4a70-9c2b-9c0d5cd1c318",
   "metadata": {},
   "outputs": [],
   "source": [
    "sc.pl.tsne(adata, color=['leiden','CD3E','CD3G','CD3D','TRDC','orig.ident','gender','tissue'],cmap = my_cmap)"
   ]
  },
  {
   "cell_type": "code",
   "execution_count": null,
   "id": "7252dc2d-e87d-4ae5-98a2-d7fd1dd4561b",
   "metadata": {},
   "outputs": [],
   "source": [
    "adata.write('gd_integrated.h5ad') # same the data\n",
    "# at this step, the basics are done"
   ]
  },
  {
   "cell_type": "code",
   "execution_count": null,
   "id": "9bebc74d-aab1-4177-8c45-29a1d7a8ed97",
   "metadata": {
    "tags": []
   },
   "outputs": [],
   "source": [
    "plt.close()\n",
    "plt.rcParams['axes.linewidth'] = 2\n",
    "plt.rcParams['figure.figsize'] = [8,8]\n",
    "fig = sc.pl.tsne(adata, color=['age'],\n",
    "                 size =40, ncols = 1,  return_fig = True, legend_fontsize = 'large')\n",
    "ax = fig.get_axes()\n",
    "for i in range(0,len(ax)):\n",
    "    ax[i].xaxis.label.set_fontsize(22)\n",
    "    ax[i].xaxis.label.set_fontweight('bold')\n",
    "    ax[i].yaxis.label.set_fontsize(22)\n",
    "    ax[i].title.set_fontsize(30)\n",
    "    ax[i].yaxis.label.set_fontweight('bold')\n",
    "    ax[i].title.set_fontweight('bold')"
   ]
  },
  {
   "cell_type": "code",
   "execution_count": null,
   "id": "4bb244a4-852e-469f-bea4-30e0ade7eee7",
   "metadata": {
    "tags": []
   },
   "outputs": [],
   "source": [
    "plt.close()\n",
    "plt.rcParams['axes.linewidth'] = 2\n",
    "plt.rcParams['figure.figsize'] = [8,8]\n",
    "fig = sc.pl.tsne(adata, color=['stage','TNM_T'],\n",
    "                 size =40, ncols = 1, palette = ['#e6194b', '#3cb44b', '#f58231', '#4363d8','#808080', '#ab986c', '#46f0f0', '#f032e6'], return_fig = True, legend_fontsize = 'large')\n",
    "ax = fig.get_axes()\n",
    "for i in range(0,len(ax)):\n",
    "    ax[i].xaxis.label.set_fontsize(22)\n",
    "    ax[i].xaxis.label.set_fontweight('bold')\n",
    "    ax[i].yaxis.label.set_fontsize(22)\n",
    "    ax[i].title.set_fontsize(30)\n",
    "    ax[i].yaxis.label.set_fontweight('bold')\n",
    "    ax[i].title.set_fontweight('bold')"
   ]
  },
  {
   "cell_type": "code",
   "execution_count": null,
   "id": "8db18b48-3e0a-4eb7-99ed-195ab9cb544a",
   "metadata": {
    "tags": []
   },
   "outputs": [],
   "source": [
    "plt.close()\n",
    "plt.rcParams['axes.linewidth'] = 2\n",
    "plt.rcParams['figure.figsize'] = [8,8]\n",
    "fig = sc.pl.tsne(adata, color=['TNM_N'],\n",
    "                 size =30, ncols = 1, cmap = my_cmap, palette = ['#e6194b', '#3cb44b','#f58231','#808080', '#ab986c', '#ffe119'], return_fig = True, legend_fontsize = 'large')\n",
    "ax = fig.get_axes()\n",
    "for i in range(0,len(ax)):\n",
    "    ax[i].xaxis.label.set_fontsize(22)\n",
    "    ax[i].xaxis.label.set_fontweight('bold')\n",
    "    ax[i].yaxis.label.set_fontsize(22)\n",
    "    ax[i].title.set_fontsize(30)\n",
    "    ax[i].yaxis.label.set_fontweight('bold')\n",
    "    ax[i].title.set_fontweight('bold')"
   ]
  },
  {
   "cell_type": "code",
   "execution_count": null,
   "id": "f30124e8-632e-453f-bfb2-9092a873b100",
   "metadata": {
    "tags": []
   },
   "outputs": [],
   "source": [
    "plt.close()\n",
    "plt.rcParams['axes.linewidth'] = 2\n",
    "plt.rcParams['figure.figsize'] = [8,8]\n",
    "fig = sc.pl.tsne(adata, color=['TNM_M'],\n",
    "                 size =30, ncols = 1, cmap = my_cmap, palette = ['#e6194b', '#3cb44b', '#808080','#ab986c'], return_fig = True, legend_fontsize = 'large')\n",
    "ax = fig.get_axes()\n",
    "for i in range(0,len(ax)):\n",
    "    ax[i].xaxis.label.set_fontsize(22)\n",
    "    ax[i].xaxis.label.set_fontweight('bold')\n",
    "    ax[i].yaxis.label.set_fontsize(22)\n",
    "    ax[i].title.set_fontsize(30)\n",
    "    ax[i].yaxis.label.set_fontweight('bold')\n",
    "    ax[i].title.set_fontweight('bold')"
   ]
  },
  {
   "cell_type": "code",
   "execution_count": null,
   "id": "a3e2b105-f7e9-4774-b338-9c2d44dffef9",
   "metadata": {
    "tags": []
   },
   "outputs": [],
   "source": [
    "plt.close()\n",
    "plt.rcParams['axes.linewidth'] = 2\n",
    "plt.rcParams['figure.figsize'] = [8,8]\n",
    "fig = sc.pl.tsne(adata, color=['orig.ident','gender','tissue' ],\n",
    "                 size =30, ncols = 1, cmap = my_cmap, palette = my_palette, return_fig = True, legend_fontsize = 'large')\n",
    "ax = fig.get_axes()\n",
    "for i in range(0,len(ax)):\n",
    "    ax[i].xaxis.label.set_fontsize(22)\n",
    "    ax[i].xaxis.label.set_fontweight('bold')\n",
    "    ax[i].yaxis.label.set_fontsize(22)\n",
    "    ax[i].title.set_fontsize(30)\n",
    "    ax[i].yaxis.label.set_fontweight('bold')\n",
    "    ax[i].title.set_fontweight('bold')"
   ]
  },
  {
   "cell_type": "code",
   "execution_count": null,
   "id": "f714a793-79aa-4e64-b12f-9486409fe445",
   "metadata": {
    "tags": []
   },
   "outputs": [],
   "source": [
    "plt.close()\n",
    "plt.rcParams['axes.linewidth'] = 2\n",
    "plt.rcParams['figure.figsize'] = [8,8]\n",
    "fig = sc.pl.tsne(adata, color=['site' ],\n",
    "                 size =50, ncols = 1, cmap = my_cmap, palette = [\"#99c969\",\"#4da388\",\"#5a788f\",\"#6793ea\",\"#3750c2\",\n",
    "                                                                 \"#2d2dae\",\"#7f5ad6\",\"#8f1fd0\",\"#69673d\",\"#ba52a5\",'#AB1717'], return_fig = True, legend_fontsize = 'large')\n",
    "ax = fig.get_axes()\n",
    "for i in range(0,len(ax)):\n",
    "    ax[i].xaxis.label.set_fontsize(22)\n",
    "    ax[i].xaxis.label.set_fontweight('bold')\n",
    "    ax[i].yaxis.label.set_fontsize(22)\n",
    "    ax[i].title.set_fontsize(30)\n",
    "    ax[i].yaxis.label.set_fontweight('bold')\n",
    "    ax[i].title.set_fontweight('bold')"
   ]
  },
  {
   "cell_type": "code",
   "execution_count": null,
   "id": "317ff99f-9674-4bfb-b84b-f029390061af",
   "metadata": {
    "tags": []
   },
   "outputs": [],
   "source": [
    "plt.close()\n",
    "plt.rcParams['axes.linewidth'] = 2\n",
    "plt.rcParams['figure.figsize'] = [8,8]\n",
    "fig = sc.pl.tsne(adata, color=['stage' ],\n",
    "                 size =50, ncols = 1, cmap = my_cmap, palette = [\"#1ad10a\",\"#a58c1d\",\"#e16b1b\",\"#ab1717\",\"#808080\"], return_fig = True, legend_fontsize = 'large')\n",
    "ax = fig.get_axes()\n",
    "for i in range(0,len(ax)):\n",
    "    ax[i].xaxis.label.set_fontsize(22)\n",
    "    ax[i].xaxis.label.set_fontweight('bold')\n",
    "    ax[i].yaxis.label.set_fontsize(22)\n",
    "    ax[i].title.set_fontsize(30)\n",
    "    ax[i].yaxis.label.set_fontweight('bold')\n",
    "    ax[i].title.set_fontweight('bold')"
   ]
  },
  {
   "cell_type": "code",
   "execution_count": null,
   "id": "09dbb152-163d-41ea-9a61-479520c6a5e7",
   "metadata": {
    "tags": []
   },
   "outputs": [],
   "source": [
    "plt.close()\n",
    "plt.rcParams['axes.linewidth'] = 2\n",
    "plt.rcParams['figure.figsize'] = [8,8]\n",
    "fig = sc.pl.tsne(adata, color=['CD3E','CD3G','CD3D','CD247','TRDC'],\n",
    "                 size =40, ncols = 5, cmap = my_cmap, return_fig = True, legend_fontsize = 'large')\n",
    "ax = fig.get_axes()\n",
    "for i in range(0,len(ax)):\n",
    "    ax[i].xaxis.label.set_fontsize(22)\n",
    "    ax[i].xaxis.label.set_fontweight('bold')\n",
    "    ax[i].yaxis.label.set_fontsize(22)\n",
    "    ax[i].title.set_fontsize(30)\n",
    "    ax[i].yaxis.label.set_fontweight('bold')\n",
    "    ax[i].title.set_fontweight('bold')\n",
    "fig.savefig('gd_integration_identity_tsne.png',dpi = 300,bbox_inches='tight')"
   ]
  },
  {
   "cell_type": "code",
   "execution_count": null,
   "id": "6cbdcfd6-412f-4671-b01f-4e27904edb2e",
   "metadata": {
    "tags": []
   },
   "outputs": [],
   "source": [
    "%matplotlib inline\n",
    "plt.close()\n",
    "plt.rcParams['axes.linewidth'] = 2\n",
    "plt.rcParams['figure.figsize'] = [8,8]\n",
    "fig = sc.pl.tsne(adata, color=['leiden','IL7R','KLRC1','CCL4','GZMA','IFNG','KLRB1','HSPA6','KRT8','XCL1','CCR7','CX3CR1',\n",
    "                              'KLF2','CTLA4','CCR7','SELL','PHGR1','AQP3','GNLY','IGHA1'],\n",
    "                 size =40, ncols = 5, cmap = my_cmap, return_fig = True, legend_fontsize = 'large')\n",
    "ax = fig.get_axes()\n",
    "for i in range(0,len(ax)):\n",
    "    ax[i].xaxis.label.set_fontsize(22)\n",
    "    ax[i].xaxis.label.set_fontweight('bold')\n",
    "    ax[i].yaxis.label.set_fontsize(22)\n",
    "    ax[i].title.set_fontsize(30)\n",
    "    ax[i].yaxis.label.set_fontweight('bold')\n",
    "    ax[i].title.set_fontweight('bold')\n",
    "#fig.savefig('gd_integration_identity_tsne.png',dpi = 300,bbox_inches='tight')"
   ]
  },
  {
   "cell_type": "code",
   "execution_count": null,
   "id": "e74936a8-5868-4856-86d5-ba568f058551",
   "metadata": {},
   "outputs": [],
   "source": [
    "plt.rcParams.update({'font.size': 5, 'font.weight': 'heavy','axes.linewidth':5})\n",
    "plt.rcParams.update(plt.rcParamsDefault)\n",
    "\n",
    "\n",
    "sc.pl.dotplot(adata,['CD4','CD8A','CD8B','CCR7', 'SELL', 'CD27', 'CD28', 'IL7R', 'CD44','CD38','HLA-DRB1', 'KLRG1', 'IL2',\n",
    "       'IL2RA', 'IL2RB', 'CD69','S1PR1','KLF2', 'ITGAE', 'ITGA1','ITGB2','S1PR1','CCL4', 'GZMK', 'CD101', 'CX3CR1',\n",
    "       'TCF7', 'LEF1', 'PRDM1', 'TBX21', 'EOMES', 'BACH2', 'GZMB', 'PRF1',\n",
    "       'FAS', 'FASLG', 'TNF', 'IFNG', 'NKG7', 'CCL4', 'XCL1',\n",
    "       'XCL2', 'STAT3', 'CD40LG', 'TRAV1-2', 'PDCD1', 'HAVCR2', 'LAG3',\n",
    "       'MKI67', 'TFRC', 'RORC', 'RORA', 'STAT1', 'STAT4', 'STAT5A',\n",
    "       'STAT6', 'RUNX1', 'RUNX3',  'CCR4', 'CCR5', 'CCL5','CCR6', 'CCR8',\n",
    "       'CCR10','CXCR3',  'CXCR4', 'CXCR5', 'CXCR6', 'IL4',  'IL10', 'IL13', 'IL17A',\n",
    "       'IL6R', 'IL12RB2', 'IL15RA', 'IL17RB', 'IL18R1',\n",
    "       'IL21R', 'IL23R', 'IL27RA', 'KLRD1', 'KLRK1', 'TNFRSF8', 'GZMA',\n",
    "       'LTA', 'IFNGR2', 'HLA-DRA', 'SLC3A2', 'CTLA4', 'FOXP3', 'SMAD3',\n",
    "       'AHR', 'ENTPD1', 'NT5E', 'TGFB1', 'ITGA2', 'BCL6', 'MAF', 'BTLA',\n",
    "       'ICOS', 'DPP4', 'GATA3', 'CCL20', 'IRF4', 'BATF',\n",
    "       'ZBTB16', 'TNFSF8', 'IKZF2'],groupby = 'leiden' , vmax = 1, \n",
    "              swap_axes = False ,dot_min = 0.01,standard_scale = 'var', save= 'Inference.png')"
   ]
  },
  {
   "cell_type": "code",
   "execution_count": null,
   "id": "9f0873e6-9335-4bab-949b-8c05c6812324",
   "metadata": {},
   "outputs": [],
   "source": [
    "plt.rcParams['figure.figsize'] = [8,8]\n",
    "sc.tl.leiden(adata, restrict_to = ('leiden', ['2']), resolution = 0.3, key_added= 'leiden2')\n",
    "sc.pl.tsne(adata, color=['leiden2','CCL4'], size = 30, legend_loc = 'on data', cmap = my_cmap)\n",
    "#go back to the DE section to make sure this subcluster make sense"
   ]
  },
  {
   "cell_type": "code",
   "execution_count": null,
   "id": "802e3f8c-ff01-4145-a4a3-26ed852c043e",
   "metadata": {},
   "outputs": [],
   "source": [
    "plt.rcParams['figure.figsize'] = [8,8]\n",
    "sc.tl.leiden(adata, restrict_to = ('leiden2', ['7']), resolution = 0.3, key_added= 'leiden3')\n",
    "sc.pl.tsne(adata, color=['leiden3','CCL4'], size = 30, legend_loc = 'on data', cmap = my_cmap)\n",
    "#go back to the DE section to make sure this subcluster make sense"
   ]
  },
  {
   "cell_type": "code",
   "execution_count": null,
   "id": "a484b87f-3476-4822-9566-fcd320bc7dec",
   "metadata": {},
   "outputs": [],
   "source": [
    "plt.rcParams['figure.figsize'] = [8,8]\n",
    "sc.tl.leiden(adata, restrict_to = ('leiden3', ['14']), resolution = 0.3, key_added= 'leiden4')\n",
    "sc.pl.tsne(adata, color=['leiden4','IFNG'], size = 30, legend_loc = 'on data', cmap = my_cmap)\n",
    "#go back to the DE section to make sure this subcluster make sense"
   ]
  },
  {
   "cell_type": "code",
   "execution_count": null,
   "id": "a64446fe-c2bf-4522-b781-b40fb04a7584",
   "metadata": {},
   "outputs": [],
   "source": [
    "plt.rcParams['figure.figsize'] = [8,8]\n",
    "sc.tl.leiden(adata, restrict_to = ('leiden4', ['0']), resolution = 0.4, key_added= 'leiden5')\n",
    "sc.pl.tsne(adata, color=['leiden5','JUNB'], size = 30, legend_loc = 'on data', cmap = my_cmap)\n",
    "#go back to the DE section to make sure this subcluster make sense"
   ]
  },
  {
   "cell_type": "code",
   "execution_count": null,
   "id": "515d960f-663f-42a4-a056-e225915e241a",
   "metadata": {},
   "outputs": [],
   "source": [
    "plt.rcParams['figure.figsize'] = [8,8]\n",
    "sc.tl.leiden(adata, restrict_to = ('leiden5', ['14,0']), resolution = 0.3, key_added= 'leiden6')\n",
    "sc.pl.tsne(adata, color=['leiden6','CD19','CD3D'], size = 30)#, legend_loc = 'on data', cmap = my_cmap)\n",
    "#go back to the DE section to make sure this subcluster make sense"
   ]
  },
  {
   "cell_type": "code",
   "execution_count": null,
   "id": "054a8883-21a6-4f24-9a8f-e27cb5eba32b",
   "metadata": {},
   "outputs": [],
   "source": [
    "adata.obs['cluster_blind'] = adata.obs.groupby('leiden5').ngroup().astype('str')"
   ]
  },
  {
   "cell_type": "code",
   "execution_count": null,
   "id": "6a6bf18e-a314-4659-b590-027fba48cb67",
   "metadata": {},
   "outputs": [],
   "source": [
    "def DE_to_df(_adata, rank_key, _padj_thresh=0.05, _logfc_thresh=1):\n",
    "    def process_genes(i, direction):\n",
    "        _log2foldmask = (_adata.uns[rank_key]['logfoldchanges'][i].astype('double') >= _logfc_thresh) if direction == \"up\" else (_adata.uns[rank_key]['logfoldchanges'][i].astype('double') <= -_logfc_thresh)\n",
    "        _pvalmask = _adata.uns[rank_key]['pvals_adj'][i].astype('double') <= _padj_thresh\n",
    "        _additional = pd.DataFrame({\n",
    "            i: _adata.uns[rank_key]['names'][i].astype('str')[_log2foldmask & _pvalmask],\n",
    "            'logfoldchanges_'+i: np.abs(_adata.uns[rank_key]['logfoldchanges'][i].astype('double')[_log2foldmask & _pvalmask])\n",
    "        })\n",
    "        _ribo_gene_mask = [gene.startswith('RPL') or gene.startswith('RPS') for gene in _additional[i]]\n",
    "        _mt_gene_mask = [gene.startswith('MT-') for gene in _additional[i]]\n",
    "        if len(_ribo_gene_mask)>0 and len(_mt_gene_mask)>0:\n",
    "            _drop_id = np.array(np.array(_ribo_gene_mask) | np.array(_mt_gene_mask))\n",
    "            _additional = _additional.sort_values(by='logfoldchanges_'+i, ascending=False)\n",
    "            _additional = _additional.iloc[_drop_id==False, :].reset_index(drop=True)\n",
    "        return _additional\n",
    "\n",
    "    _pass_genes_up = pd.DataFrame()\n",
    "    _pass_genes_down = pd.DataFrame()\n",
    "\n",
    "    for i in set(_adata.uns[rank_key]['pvals_adj'].dtype.names):\n",
    "\n",
    "        _pass_genes_up = pd.concat([_pass_genes_up, process_genes(i, \"up\")[i]], ignore_index=False, axis=1)\n",
    "        _pass_genes_down = pd.concat([_pass_genes_down, process_genes(i, \"down\")[i]], ignore_index=False, axis=1)\n",
    "\n",
    "        \n",
    "    return _pass_genes_up, _pass_genes_down"
   ]
  },
  {
   "cell_type": "code",
   "execution_count": null,
   "id": "8f25dffc-1fca-43e9-8794-5ef040f3238e",
   "metadata": {},
   "outputs": [],
   "source": [
    "sc.tl.rank_genes_groups(adata, groupby='cluster_blind', key_added='rank',method = 'wilcoxon')"
   ]
  },
  {
   "cell_type": "code",
   "execution_count": null,
   "id": "b0b1ad4b-dff0-48ff-a1ec-806e51f1aeee",
   "metadata": {},
   "outputs": [],
   "source": [
    "[pass_genes_up, pass_genes_down] = DE_to_df(adata, rank_key='rank', _padj_thresh = 0.01, _logfc_thresh = 2)"
   ]
  },
  {
   "cell_type": "code",
   "execution_count": null,
   "id": "da9d3b37-ce9b-49e3-8673-fba138c75850",
   "metadata": {},
   "outputs": [],
   "source": [
    "DE_list = pass_genes_up.dropna(axis = 1,how = 'all')\n",
    "DE_list = DE_list[DE_list.columns.astype(int).sort_values().astype(str)]"
   ]
  },
  {
   "cell_type": "code",
   "execution_count": null,
   "id": "6781730c-1b52-414f-b52d-7aad4b175dfa",
   "metadata": {},
   "outputs": [],
   "source": [
    "plt.rcParams.update({'font.size': 15, 'font.weight': 'heavy','axes.linewidth':2})\n",
    "#plt.rcParams.update(plt.rcParamsDefault)\n",
    "gamma_genesmask = [gene.startswith(\"TRGV\") or gene.startswith(\"TRGJ\") or gene.startswith(\"TRGC\") for gene in adata.var_names]\n",
    "gamma_genes = adata.var_names[gamma_genesmask]\n",
    "delta_genesmask = [gene.startswith(\"TRDV\") or gene.startswith(\"TRDC\") for gene in adata.var_names]\n",
    "delta_genes = adata.var_names[delta_genesmask]\n",
    "\n",
    "TCR_exp_set ={\n",
    "\"gamma\": gamma_genes, \"delta\": delta_genes, \"T\": ['CD3D','CD3E','CD3G','CD247','CD19'] \n",
    "}\n",
    "\n",
    "\n",
    "\n",
    "sc.pl.dotplot(adata,TCR_exp_set,groupby = 'cluster_blind' , vmax = 1, swap_axes = True, figsize = (8,10), dot_min =0, dot_max =0.8,standard_scale = 'var', save = 'gd_identity.png')"
   ]
  },
  {
   "cell_type": "code",
   "execution_count": null,
   "id": "c99c052c-83c0-4353-96c1-5f5598662d0a",
   "metadata": {},
   "outputs": [],
   "source": [
    "adata_tissue = adata[adata.obs['tissue'].isin(['Carcinoma','Normal']),:]\n",
    "sc.pp.highly_variable_genes(adata_tissue, flavor='seurat', n_top_genes = 5000)"
   ]
  },
  {
   "cell_type": "code",
   "execution_count": null,
   "id": "33f6a05a-7f32-45b7-9634-fd84f87d92c1",
   "metadata": {},
   "outputs": [],
   "source": [
    "counts = adata_tissue.layers['counts'].T[adata_tissue.var['highly_variable'],:]\n",
    "tissue = adata_tissue.obs['tissue'].astype('str')\n",
    "colnames = adata_tissue.obs_names\n",
    "rownames = adata_tissue.var_names[adata_tissue.var['highly_variable']]"
   ]
  },
  {
   "cell_type": "code",
   "execution_count": null,
   "id": "9ba20d15-5166-408a-9b69-1af1c5ef4022",
   "metadata": {},
   "outputs": [],
   "source": [
    "%%R -i counts -i colnames -i rownames -i tissue\n",
    "colnames(counts) = colnames\n",
    "rownames(counts) = rownames\n",
    "\n",
    "srat <- CreateSeuratObject(counts = counts, project = \"gd\", min.cells = 0, min.features = 0, assay = \"RNA\")\n",
    "srat[['tissue']] = tissue\n",
    "saveRDS(srat, file = \"gd_for_DEG.rds\")"
   ]
  },
  {
   "cell_type": "code",
   "execution_count": null,
   "id": "32cf383e-b87b-4c9b-ae9f-0cadc95a6fde",
   "metadata": {},
   "outputs": [],
   "source": [
    "%%R\n",
    "cds <- as.cell_data_set(srat)\n",
    "cds <- estimate_size_factors(cds)\n",
    "cds@rowRanges@elementMetadata@listData[[\"gene_short_name\"]] <- rownames(srat[[\"RNA\"]])\n",
    "\n",
    "gene_fits <- fit_models(cds, model_formula_str = \"~gender\", cores = 6)\n",
    "fit_coefs <- coefficient_table(gene_fits)"
   ]
  },
  {
   "cell_type": "code",
   "execution_count": null,
   "id": "b25350e9-c43f-4a6e-a82f-869114f0df04",
   "metadata": {},
   "outputs": [],
   "source": [
    "%%R\n",
    "# Adjust condition in the filter\n",
    "terms <- fit_coefs %>% filter(term == \"genderMale\")\n",
    "terms = terms %>% select(gene_short_name, term, q_value, normalized_effect)\n",
    "\n",
    "# Store results\n",
    "write.csv(terms,'gd_gender_DEG.csv')"
   ]
  },
  {
   "cell_type": "code",
   "execution_count": null,
   "id": "acccc8fd-aad3-4746-8538-8d601947e319",
   "metadata": {},
   "outputs": [],
   "source": [
    "%R -o terms"
   ]
  },
  {
   "cell_type": "code",
   "execution_count": null,
   "id": "931cb13b-f9e3-4bb3-bc89-4d460196b963",
   "metadata": {},
   "outputs": [],
   "source": [
    "terms = pd.read_csv('gd_gender_DEG.csv')\n",
    "terms['-logQ'] = -np.log10(terms['q_value'])\n",
    "terms = terms[terms['-logQ']>0]\n",
    "fc_thresh = 1\n",
    "lowqval_de = terms[np.array(terms['-logQ']>=-np.log10(0.05)) & np.array(abs(terms['normalized_effect'])>=fc_thresh)]"
   ]
  },
  {
   "cell_type": "code",
   "execution_count": null,
   "id": "df905dde-085f-4451-9ea2-15a709179f9c",
   "metadata": {},
   "outputs": [],
   "source": [
    "##### Volcano plot of results\n",
    "from adjustText import adjust_text\n",
    "terms['-logQ'] = -np.log10(terms['q_value'])\n",
    "terms = terms[terms['-logQ']>0]\n",
    "fc_thresh = 1\n",
    "plt.rcParams['figure.figsize'] = [8,8]\n",
    "plt.rcParams.update({'font.size': 14, 'font.weight': 'bold','axes.linewidth':2})\n",
    "lowqval_de = terms[np.array(terms['-logQ']>=-np.log10(0.05)) & np.array(abs(terms['normalized_effect'])>=fc_thresh)]\n",
    "other_de = terms[np.array(terms['-logQ']<-np.log10(0.05)) | np.array(abs(terms['normalized_effect'])<fc_thresh)] #actually that's other genes (non sig de)\n",
    "\n",
    "fig, ax = plt.subplots()\n",
    "sb.regplot(other_de['normalized_effect'], other_de['-logQ'], fit_reg=False, scatter_kws={'s':50, 'edgecolors': 'black', 'linewidths': 0.5})\n",
    "sb.regplot(lowqval_de['normalized_effect'], lowqval_de['-logQ'], fit_reg=False, scatter_kws={'s':50,'edgecolors': 'black', 'linewidths': 0.5})\n",
    "ax.set_xlabel(\"Normalized log2 FC\", fontsize=30)\n",
    "ax.set_ylabel(\"-log Q-value\", fontsize=30)\n",
    "ax.tick_params(labelsize=15)\n",
    "ax.set_title('Male vs Female',size = 30)\n",
    "    \n",
    "    \n",
    "    \n",
    "# Label names and positions\n",
    "x = [i for i in lowqval_de['normalized_effect']]\n",
    "y = [i*1.02 for i in lowqval_de['-logQ']]\n",
    "labels = lowqval_de['gene_short_name']\n",
    "# Show only some labels to avoid overcrowding the figure\n",
    "to_keep = np.where((np.array(lowqval_de['gene_short_name'].str.startswith('RP'))\n",
    "                    |np.array(lowqval_de['gene_short_name'].str.startswith('MT'))\n",
    "                     |(np.array(abs(lowqval_de['normalized_effect'])<fc_thresh*1.75)\n",
    "                           &np.array(lowqval_de['-logQ']<150))\n",
    "                   )==0)\n",
    "\n",
    "labels = labels.iloc[to_keep]\n",
    "texts = []\n",
    "for i,txt in enumerate(labels):\n",
    "    texts.append(ax.text(x[to_keep[0][i]], y[to_keep[0][i]], txt,size = 11, color= '#904800', weight = 'bold'))\n",
    "\n",
    "adjust_text(texts)\n",
    "#ax.xaxis.label.set_fontweight('bold')\n",
    "#ax.yaxis.label.set_fontweight('bold')\n",
    "#ax.yaxis.label.set_fontsize(22)\n",
    "    #ax.annotate(txt, (x[i], y[i]),size = 10,bbox=dict(boxstyle=\"Square,pad=0.3\", fc=\"orange\", ec=\"b\", lw=2, alpha = 0.6))\n",
    "\n",
    "plt.ylim([-0.01,350])\n",
    "plt.axhline(y=-np.log10(0.05), color=\"orange\", linestyle=\"--\")\n",
    "plt.axvline(x = -fc_thresh, color=\"orange\", linestyle=\"--\")\n",
    "plt.axvline(x = fc_thresh, color=\"orange\", linestyle=\"--\")\n",
    "plt.savefig('gd_gender_DE.png')\n",
    "#plt.show()"
   ]
  },
  {
   "cell_type": "code",
   "execution_count": null,
   "id": "1d1b3411-cce4-4c12-a97f-cc61d04befad",
   "metadata": {
    "tags": []
   },
   "outputs": [],
   "source": [
    "plt.close()\n",
    "plt.rcParams['axes.linewidth'] = 2\n",
    "plt.rcParams['figure.figsize'] = [8,8]\n",
    "fig = sc.pl.umap(adata, color=['tissue'],\n",
    "                 size =30, ncols = 1, cmap = my_cmap, palette = [\"#c71b18\",\"#18b400\",\"#ebde28\",\"#ed9e3c\"], return_fig = True, legend_fontsize = 'large')\n",
    "ax = fig.get_axes()\n",
    "for i in range(0,len(ax)):\n",
    "    ax[i].xaxis.label.set_fontsize(22)\n",
    "    ax[i].xaxis.label.set_fontweight('bold')\n",
    "    ax[i].yaxis.label.set_fontsize(22)\n",
    "    ax[i].title.set_fontsize(30)\n",
    "    ax[i].yaxis.label.set_fontweight('bold')\n",
    "    ax[i].title.set_fontweight('bold')\n",
    "fig.savefig('gd_integration_metadata_tsne.png',dpi = 300,bbox_inches='tight')"
   ]
  },
  {
   "cell_type": "code",
   "execution_count": null,
   "id": "b7295eec-64ca-42e3-a503-96f9d681c00e",
   "metadata": {
    "tags": []
   },
   "outputs": [],
   "source": [
    "plt.close()\n",
    "plt.rcParams['axes.linewidth'] = 2\n",
    "plt.rcParams['figure.figsize'] = [8,8]\n",
    "fig = sc.pl.tsne(adata, color=['site' ],\n",
    "                 size =50, ncols = 1, cmap = my_cmap, palette = [\"#99c969\",\"#4da388\",\"#5a788f\",\"#6793ea\",\"#3750c2\",\n",
    "                                                                 \"#2d2dae\",\"#7f5ad6\",\"#8f1fd0\",\"#808080\",\"#ba52a5\",'#AB1717'], return_fig = True, legend_fontsize = 'large')\n",
    "ax = fig.get_axes()\n",
    "for i in range(0,len(ax)):\n",
    "    ax[i].xaxis.label.set_fontsize(22)\n",
    "    ax[i].xaxis.label.set_fontweight('bold')\n",
    "    ax[i].yaxis.label.set_fontsize(22)\n",
    "    ax[i].title.set_fontsize(30)\n",
    "    ax[i].yaxis.label.set_fontweight('bold')\n",
    "    ax[i].title.set_fontweight('bold')\n",
    "#fig.savefig('gd_integration_site_tsne.png',dpi = 300,bbox_inches='tight')"
   ]
  },
  {
   "cell_type": "code",
   "execution_count": null,
   "id": "957de372-dd19-421f-ae18-af64084f556e",
   "metadata": {
    "tags": []
   },
   "outputs": [],
   "source": [
    "plt.close()\n",
    "plt.rcParams['axes.linewidth'] = 2\n",
    "plt.rcParams['figure.figsize'] = [8,8]\n",
    "fig = sc.pl.tsne(adata, color=['stage' ],\n",
    "                 size =50, ncols = 1, cmap = my_cmap, palette = [\"#1ad10a\",\"#a58c1d\",\"#e16b1b\",\"#ab1717\",\"#808080\"], return_fig = True, legend_fontsize = 'large')\n",
    "ax = fig.get_axes()\n",
    "for i in range(0,len(ax)):\n",
    "    ax[i].xaxis.label.set_fontsize(22)\n",
    "    ax[i].xaxis.label.set_fontweight('bold')\n",
    "    ax[i].yaxis.label.set_fontsize(22)\n",
    "    ax[i].title.set_fontsize(30)\n",
    "    ax[i].yaxis.label.set_fontweight('bold')\n",
    "    ax[i].title.set_fontweight('bold')\n",
    "#fig.savefig('gd_integration_stage_tsne.png',dpi = 300,bbox_inches='tight')"
   ]
  },
  {
   "cell_type": "code",
   "execution_count": null,
   "id": "0b1b1b5f-e4d0-4902-9b11-c9591e65e87d",
   "metadata": {},
   "outputs": [],
   "source": [
    "sc.pl.tsne(adata, color = ['leiden1','CD3D','CD3E','CD3G','CD247','TRDC','CCR7','SELL','IL7R','CD4','CD8A','ICOS','KLRG1'], legend_loc = 'on data',cmap = my_cmap, size = 30)"
   ]
  },
  {
   "cell_type": "code",
   "execution_count": null,
   "id": "7fb70418-256b-49d4-82b9-3019c6060cc4",
   "metadata": {},
   "outputs": [],
   "source": [
    "plt.rcParams['figure.figsize'] = [8,8]\n",
    "sc.tl.leiden(adata, restrict_to = ('leiden3', ['9']), resolution = 0.4, key_added= 'leiden4')\n",
    "sc.pl.tsne(adata, color=['leiden4','CD3E','CD3G','CD3D','TRDC','RORC','IL17A','IL17F'], size = 30, legend_loc = 'on data', cmap = my_cmap)"
   ]
  },
  {
   "cell_type": "code",
   "execution_count": null,
   "id": "7dec0a5f-67a4-4ca9-9e3a-a3aa44ed8ce4",
   "metadata": {},
   "outputs": [],
   "source": [
    "plt.rcParams['figure.figsize'] = [8,8]\n",
    "sc.tl.leiden(adata, restrict_to = ('leiden4', ['1']), resolution = 0.5, key_added= 'leiden5')\n",
    "sc.pl.tsne(adata, color=['leiden5','CD4','CD8A'], size = 30, legend_loc = 'on data', cmap = my_cmap, vmax = 4)"
   ]
  },
  {
   "cell_type": "code",
   "execution_count": null,
   "id": "06c4e98f-a636-47c0-a4f1-237f9ef2629c",
   "metadata": {},
   "outputs": [],
   "source": [
    "plt.rcParams['figure.figsize'] = [8,8]\n",
    "sc.tl.leiden(adata, restrict_to = ('leiden5', ['10']), resolution = 0.2, key_added= 'leiden6')\n",
    "sc.pl.tsne(adata, color=['leiden6','CD3E','CD3G','CD3D','CXCR5','RORC','IL17A','IL17F'], size = 30, legend_loc = 'on data', cmap = my_cmap)"
   ]
  },
  {
   "cell_type": "code",
   "execution_count": null,
   "id": "a17d0033-994a-461c-b188-3e74f657a880",
   "metadata": {
    "tags": []
   },
   "outputs": [],
   "source": [
    "plt.rcParams['figure.figsize'] = [8,8]\n",
    "sc.tl.leiden(adata, restrict_to = ('leiden6', ['6']), resolution = 0.3, key_added= 'leiden7')\n",
    "sc.pl.tsne(adata, color=['leiden7','CD3E','CD3G','CD3D','TRDC','RORC','IL17A','IL17F','CD4','CD8A','CD19'], size = 30, legend_loc = 'on data', cmap = my_cmap)"
   ]
  },
  {
   "cell_type": "code",
   "execution_count": null,
   "id": "89e8388a-1ed7-44f6-9457-6661cd352538",
   "metadata": {
    "tags": []
   },
   "outputs": [],
   "source": [
    "plt.rcParams['figure.figsize'] = [8,8]\n",
    "sc.tl.leiden(adata, restrict_to = ('leiden7', ['8']), resolution = 0.5, key_added= 'leiden8')\n",
    "sc.pl.tsne(adata, color=['leiden8','CD4','CD8A'], size = 30, legend_loc = 'on data', cmap = my_cmap, vmax = 4)"
   ]
  },
  {
   "cell_type": "code",
   "execution_count": null,
   "id": "eafaf0a0-4bf9-4649-b313-67d0f6af5c04",
   "metadata": {
    "tags": []
   },
   "outputs": [],
   "source": [
    "plt.rcParams['figure.figsize'] = [8,8]\n",
    "sc.tl.leiden(adata, restrict_to = ('leiden8', ['2,0']), resolution = 0.3, key_added= 'leiden9')\n",
    "sc.pl.tsne(adata, color=['leiden9','CD4','CD8A'], size = 30, legend_loc = 'on data', cmap = my_cmap, vmax = 4)"
   ]
  },
  {
   "cell_type": "code",
   "execution_count": null,
   "id": "cf77ef79-6ff0-4cd0-9808-55dce2fd7fef",
   "metadata": {
    "tags": []
   },
   "outputs": [],
   "source": [
    "plt.rcParams['figure.figsize'] = [8,8]\n",
    "sc.tl.leiden(adata, restrict_to = ('leiden9', ['4']), resolution = 0.3, key_added= 'leiden10')\n",
    "sc.pl.tsne(adata, color=['leiden10','CD4','CD8A'], size = 30, legend_loc = 'on data', cmap = my_cmap, vmax = 4)"
   ]
  },
  {
   "cell_type": "code",
   "execution_count": null,
   "id": "539e7b15-ab75-4627-be11-62a0602352b9",
   "metadata": {
    "tags": []
   },
   "outputs": [],
   "source": [
    "plt.rcParams['figure.figsize'] = [8,8]\n",
    "sc.tl.leiden(adata, restrict_to = ('leiden10', ['11']), resolution = 0.2, key_added= 'leiden11')\n",
    "sc.pl.tsne(adata, color=['leiden11','CD4','CD8A'], size = 30, legend_loc = 'on data', cmap = my_cmap, vmax = 4)"
   ]
  },
  {
   "cell_type": "code",
   "execution_count": null,
   "id": "3ab81c47-0b44-4aa4-8e58-fe8977ce5566",
   "metadata": {},
   "outputs": [],
   "source": [
    "adata.obs['cluster_blind'] = adata.obs.groupby('leiden11').ngroup().astype('str')"
   ]
  },
  {
   "cell_type": "code",
   "execution_count": null,
   "id": "759e52a7-13ab-49d4-8ac5-8b5d1c867a90",
   "metadata": {},
   "outputs": [],
   "source": [
    "sc.pl.tsne(adata, color = ['cluster_blind','tissue','CTLA4','cell type','GZMH','PDCD1','ENTPD1','GZMB','KLRG1','ITGA1','ITGAE','EPCAM'], legend_loc = 'on data', size = 40, cmap = my_cmap)"
   ]
  },
  {
   "cell_type": "code",
   "execution_count": null,
   "id": "95b7ca02-dbe3-4872-bc8d-0d92dc241744",
   "metadata": {},
   "outputs": [],
   "source": [
    "plt.rcParams.update({'font.size': 15, 'font.weight': 'heavy','axes.linewidth':2})\n",
    "#plt.rcParams.update(plt.rcParamsDefault)\n",
    "\n",
    "gene_list = ['CD3E','CD3G','CD3D','TRDC','TRDV1','TRDV2','TRDV3','CD4','CD8A','CD8B','CD28','CCR7','SELL','IL7R','TCF7','LEF1','S1PR1','KLF2',\n",
    "                    'ITGAE','ITGA1','ITGB2','CD69','KLRG1','KLRB1','KLRC1','KLRC2','KLRC3','KLRD1','KLRF1','KLRK1','GZMA','GZMB','GZMK','GZMH','CCL4','NKG7','PRF1',\n",
    "                         'XCL1','CX3CR1','FCGR3A','TNF','IFNG','IL2','IL2RA','FOXP3','ENTPD1','PDCD1','CTLA4','LAG3','HAVCR2','TIGIT','BTLA','IL10','CXCR5','CXCL13','ZBTB16','IKZF2','RORC','IL17A',\n",
    "             'MUC2','NCR1','NCR2','NCR3','GNLY','KIT','ZNF683','PRDM1','TBX21','ID3','BCL6','BCL2','LAYN','SLAMF6','CD200','MKI67','CD244']\n",
    "sc.pl.dotplot(adata,gene_list,groupby = 'cluster_blind' , vmax = 1, \n",
    "              swap_axes = True ,dot_min = 0.15,standard_scale = 'var',figsize = (10,15), save= 'inference_dot_gd.png')\n",
    "# Checked IL9, nothing"
   ]
  },
  {
   "cell_type": "code",
   "execution_count": null,
   "id": "6d418559-718b-424c-96b2-2934bf214d5e",
   "metadata": {},
   "outputs": [],
   "source": [
    "adata.obs['cell type'] = adata.obs['cluster_blind']\n",
    "adata.obs['cell type'] = adata.obs['cell type'].astype('str')\n",
    "\n",
    "poised_effector_like_1 = np.array([7,8,15,20,22,23])\n",
    "poised_effector_like_1 = [str(i) for i in poised_effector_like_1]\n",
    "\n",
    "poised_effector_like_2 = np.array([12,10,28])\n",
    "poised_effector_like_2 = [str(i) for i in poised_effector_like_2]\n",
    "\n",
    "tissue_resident_IL7Rneg_like= np.array([11,4,5,9,13,21,29,24])\n",
    "tissue_resident_IL7Rneg_like = [str(i) for i in tissue_resident_IL7Rneg_like]\n",
    "Tpex = np.array([16,17,18])\n",
    "Tpex =[str(i) for i in Tpex]\n",
    "Tex2 = ['26','27']\n",
    "Tex1 = ['33']\n",
    "for c_id in set(adata.obs['cluster_blind']):\n",
    "    if c_id in poised_effector_like_1:\n",
    "        adata.obs = adata.obs.replace({'cell type' : { c_id: 'Poised Teff 1'}})\n",
    "    elif c_id in poised_effector_like_2:\n",
    "        adata.obs = adata.obs.replace({'cell type' : { c_id: 'Poised Teff 2'}})\n",
    "    elif c_id in tissue_resident_IL7Rneg_like:\n",
    "        adata.obs = adata.obs.replace({'cell type' : { c_id: 'IL7R- TRM'}})\n",
    "    elif c_id in Tex1:\n",
    "        adata.obs = adata.obs.replace({'cell type' : { c_id: 'Tex1'}})\n",
    "    elif c_id in Tex2:\n",
    "        adata.obs = adata.obs.replace({'cell type' : { c_id: 'Tex2'}})\n",
    "    elif c_id in Tpex:\n",
    "        adata.obs = adata.obs.replace({'cell type' : { c_id: 'Tpex'}})\n",
    "    else:\n",
    "        adata.obs = adata.obs.replace({'cell type' : { c_id: 'IL7R+ TRM'}})\n",
    "adata.obs['cell type'] = adata.obs['cell type'].astype('category')"
   ]
  },
  {
   "cell_type": "code",
   "execution_count": null,
   "id": "bc6e8100-c616-4aa6-aed6-196a48c33cc8",
   "metadata": {
    "tags": []
   },
   "outputs": [],
   "source": [
    "adata.obs['cell type'] = adata.obs['cell type'].astype('category')\n",
    "ordered_celltype=['Poised Teff 1','Poised Teff 2', 'IL7R+ TRM','IL7R- TRM','Tpex','Tex1','Tex2']\n",
    "\n",
    "adata.obs['cell type'] = adata.obs['cell type'].cat.reorder_categories(ordered_celltype)"
   ]
  },
  {
   "cell_type": "code",
   "execution_count": null,
   "id": "eec6d544-09c4-4d5f-b87d-893012fc7fab",
   "metadata": {},
   "outputs": [],
   "source": [
    "palette = [ \"#A7E1F1\",\"#4c9bd4\",\"#3B749C\",\"#1452a3\",'#6E51E5',\"#132876\",'#4539A3']"
   ]
  },
  {
   "cell_type": "code",
   "execution_count": null,
   "id": "e41bf32a-636e-4baa-b9e8-622dd555bdcb",
   "metadata": {},
   "outputs": [],
   "source": [
    "sc.tl.paga(adata, groups='cell type')\n",
    "sc.pl.paga(adata,threshold = 0.25, labels=None, fontsize = 10, fontoutline = 3,node_size_scale = 3,node_size_power = 1,random_state = 0)"
   ]
  },
  {
   "cell_type": "code",
   "execution_count": null,
   "id": "e61eda9b-f6c8-4d47-a43b-f2b1f74da851",
   "metadata": {},
   "outputs": [],
   "source": [
    "sc.tl.umap(adata,min_dist = 0.001, spread =  1.5,init_pos = 'paga')"
   ]
  },
  {
   "cell_type": "code",
   "execution_count": null,
   "id": "a38a15c7-3ae3-4e32-969c-e3f4da5f629b",
   "metadata": {
    "tags": []
   },
   "outputs": [],
   "source": [
    "plt.close()\n",
    "plt.rcParams['axes.linewidth'] = 2\n",
    "plt.rcParams['figure.figsize'] = [8,8]\n",
    "fig = sc.pl.umap(adata, color=['cell type'],\n",
    "                 size =30, ncols = 5, cmap = my_cmap, return_fig = True, legend_fontsize = 'large')\n",
    "ax = fig.get_axes()\n",
    "for i in range(0,len(ax)):\n",
    "    ax[i].xaxis.label.set_fontsize(22)\n",
    "    ax[i].xaxis.label.set_fontweight('bold')\n",
    "    ax[i].yaxis.label.set_fontsize(22)\n",
    "    ax[i].title.set_fontsize(30)\n",
    "    ax[i].yaxis.label.set_fontweight('bold')\n",
    "    ax[i].title.set_fontweight('bold')\n",
    "fig.savefig('gd_integration_metadata_umap.png',dpi = 300,bbox_inches='tight') "
   ]
  },
  {
   "cell_type": "code",
   "execution_count": null,
   "id": "3bcdea6b-fd83-4ceb-89a1-b00812907a61",
   "metadata": {
    "tags": []
   },
   "outputs": [],
   "source": [
    "plt.close()\n",
    "plt.rcParams['axes.linewidth'] = 2\n",
    "plt.rcParams['figure.figsize'] = [8,8]\n",
    "fig = sc.pl.umap(adata, color=['orig.ident'],\n",
    "                 size =30, ncols = 5, cmap = my_cmap, return_fig = True, legend_fontsize = 'large')\n",
    "ax = fig.get_axes()\n",
    "for i in range(0,len(ax)):\n",
    "    ax[i].xaxis.label.set_fontsize(22)\n",
    "    ax[i].xaxis.label.set_fontweight('bold')\n",
    "    ax[i].yaxis.label.set_fontsize(22)\n",
    "    ax[i].title.set_fontsize(30)\n",
    "    ax[i].yaxis.label.set_fontweight('bold')\n",
    "    ax[i].title.set_fontweight('bold')\n",
    "fig.savefig('gd_integration_sources_metadata_umap.png',dpi = 300,bbox_inches='tight') "
   ]
  },
  {
   "cell_type": "code",
   "execution_count": null,
   "id": "44b278fd-e5bf-40fb-b301-e9bf221c4e02",
   "metadata": {},
   "outputs": [],
   "source": [
    "def DE_to_df(_adata, rank_key, _padj_thresh=0.05, _logfc_thresh=1):\n",
    "    def process_genes(i, direction):\n",
    "        _log2foldmask = (_adata.uns[rank_key]['logfoldchanges'][i].astype('double') >= _logfc_thresh) if direction == \"up\" else (_adata.uns[rank_key]['logfoldchanges'][i].astype('double') <= -_logfc_thresh)\n",
    "        _pvalmask = _adata.uns[rank_key]['pvals_adj'][i].astype('double') <= _padj_thresh\n",
    "        _additional = pd.DataFrame({\n",
    "            i: _adata.uns[rank_key]['names'][i].astype('str')[_log2foldmask & _pvalmask],\n",
    "            'logfoldchanges_'+i: np.abs(_adata.uns[rank_key]['logfoldchanges'][i].astype('double')[_log2foldmask & _pvalmask])\n",
    "        })\n",
    "        _ribo_gene_mask = [gene.startswith('RPL') or gene.startswith('RPS') for gene in _additional[i]]\n",
    "        _mt_gene_mask = [gene.startswith('MT-') for gene in _additional[i]]\n",
    "        if len(_ribo_gene_mask)>0 and len(_mt_gene_mask)>0:\n",
    "            _drop_id = np.array(np.array(_ribo_gene_mask) | np.array(_mt_gene_mask))\n",
    "            _additional = _additional.sort_values(by='logfoldchanges_'+i, ascending=False)\n",
    "            _additional = _additional.iloc[_drop_id==False, :].reset_index(drop=True)\n",
    "        return _additional\n",
    "\n",
    "    _pass_genes_up = pd.DataFrame()\n",
    "    _pass_genes_down = pd.DataFrame()\n",
    "\n",
    "    for i in set(_adata.uns[rank_key]['pvals_adj'].dtype.names):\n",
    "\n",
    "        _pass_genes_up = pd.concat([_pass_genes_up, process_genes(i, \"up\")[i]], ignore_index=False, axis=1)\n",
    "        _pass_genes_down = pd.concat([_pass_genes_down, process_genes(i, \"down\")[i]], ignore_index=False, axis=1)\n",
    "\n",
    "        \n",
    "    return _pass_genes_up, _pass_genes_down"
   ]
  },
  {
   "cell_type": "code",
   "execution_count": null,
   "id": "d246dd7d-aa8a-459f-8db6-22af08a089ae",
   "metadata": {},
   "outputs": [],
   "source": [
    "sc.tl.rank_genes_groups(adata, groupby='cell type', key_added='rank',method = 'wilcoxon')"
   ]
  },
  {
   "cell_type": "code",
   "execution_count": null,
   "id": "54987fe5-b34c-404b-8396-38403bd96294",
   "metadata": {},
   "outputs": [],
   "source": [
    "[pass_genes_up, pass_genes_down] = DE_to_df(adata, rank_key='rank', _padj_thresh = 0.01, _logfc_thresh = 2)"
   ]
  },
  {
   "cell_type": "code",
   "execution_count": null,
   "id": "b024b8cd-2bd0-427b-a08b-29ee5a249077",
   "metadata": {},
   "outputs": [],
   "source": [
    "sc.tl.rank_genes_groups(adata, groupby='cell type', groups = ['Tex1','Tex2'],key_added='rank_ex',method = 'wilcoxon')"
   ]
  },
  {
   "cell_type": "code",
   "execution_count": null,
   "id": "35c7585c-b87f-4053-8b3b-6c697100e052",
   "metadata": {},
   "outputs": [],
   "source": [
    "[pass_genes_up, pass_genes_down] = DE_to_df(adata, rank_key='rank_ex', _padj_thresh = 0.05, _logfc_thresh = 2)"
   ]
  },
  {
   "cell_type": "code",
   "execution_count": null,
   "id": "c4713d95-df68-4305-b63c-37f6db664d6e",
   "metadata": {
    "tags": []
   },
   "outputs": [],
   "source": [
    "print_full(pass_genes_up)#['Tex2'].dropna()"
   ]
  },
  {
   "cell_type": "code",
   "execution_count": null,
   "id": "b6489776-4db6-4528-b6ad-3be00188ba7a",
   "metadata": {
    "tags": []
   },
   "outputs": [],
   "source": [
    "plt.rcParams.update({'font.size': 12, 'font.weight': 'heavy','axes.linewidth':2})\n",
    "#plt.rcParams.update(plt.rcParamsDefault)\n",
    "\n",
    "gene_list = ['CD3E','CD3G','CD3D','CD247','TRDC','CD4','CD8A','CD8B','CCR7','SELL','IL7R','TCF7','S1PR1','KLF2',\n",
    "                    'ITGAE','ITGA1','ITGB2','KLRG1','KLRB1','KLRC1','KLRF1','KLRK1','GZMA','GZMB','GZMK','GZMH','CCL4','NKG7','PRF1',\n",
    "                         'XCL1','CX3CR1','FCGR3A','FGFBP2','HSPA6','BAG3','TNF','IFNG','IL2','IL2RA','FOXP3','ENTPD1','CD274','PDCD1','CTLA4','LAG3','HAVCR2','TIGIT',\n",
    "             'CD244','BTLA','CXCR5','CXCL13','IKZF2','RORC','IL17A',\n",
    "             'GNLY','KIT','ZNF683','PRDM1','TBX21','ID3','BCL6','MKI67','FCER1G','TNFRSF9','TNFSF10','MYO7A','HLA-DRA','HLA-DRB5']\n",
    "sc.pl.dotplot(adata,gene_list,groupby = 'cell type' , vmax = 1, \n",
    "              swap_axes = True ,dot_min = 0.12,standard_scale = 'var',figsize = (4,15), save= 'inference_dot_gd.png')\n",
    "# Checked IL9, nothingf"
   ]
  },
  {
   "cell_type": "code",
   "execution_count": null,
   "id": "d96fcc6c-2130-4afb-8198-5b1482da481d",
   "metadata": {},
   "outputs": [],
   "source": [
    "print_keys = ['gender','tissue','site','stage','cell type']"
   ]
  },
  {
   "cell_type": "code",
   "execution_count": null,
   "id": "0d079f8f-caf3-4b00-8f99-67296e9a4180",
   "metadata": {
    "tags": []
   },
   "outputs": [],
   "source": [
    "plt.rcParams['figure.figsize'] = [8,10]\n",
    "plt.rcParams.update({'font.size': 16, 'font.weight': 'bold','axes.linewidth':4})\n",
    "for key in print_keys:\n",
    "    cat_order = adata.obs[key].values.categories\n",
    "    expand_subtype = pd.DataFrame()\n",
    "    for i in set(adata.obs['tissue']):\n",
    "        pdtemp = pd.DataFrame(adata[adata.obs['tissue'] == i,:].obs[key].value_counts(normalize = True))\n",
    "        pdtemp = pdtemp.rename({'proportion': i }, axis='columns')\n",
    "        expand_subtype = pd.concat([expand_subtype, pdtemp], ignore_index=False, axis=1)\n",
    "    expand_subtype = expand_subtype.reindex(index =cat_order)\n",
    "    expand_subtype.transpose().plot.bar(stacked=True,color = adata.uns[key+'_colors'],fontsize = 30 ).legend(loc='center left',bbox_to_anchor=(1.0, 0.5),fontsize = 15)\n",
    "    plt.title(label =key+' breakdown', fontsize = 20)\n",
    "    plt.tight_layout()\n",
    "    plt.savefig(key+' breakdown in tissue gd reduced.png',dpi = 300)"
   ]
  },
  {
   "cell_type": "code",
   "execution_count": null,
   "id": "625c98ae-b6d3-447e-b5fa-051a0df69859",
   "metadata": {
    "tags": []
   },
   "outputs": [],
   "source": [
    "plt.rcParams['figure.figsize'] = [8,7.2]\n",
    "\n",
    "for key in print_keys:\n",
    "    cat_order = adata.obs[key].values.categories\n",
    "    expand_subtype = pd.DataFrame()\n",
    "    for i in set(adata.obs['orig.ident']):\n",
    "        pdtemp = pd.DataFrame(adata[adata.obs['orig.ident'] == i,:].obs[key].value_counts(normalize = True))\n",
    "        pdtemp = pdtemp.rename({'proportion': i }, axis='columns')\n",
    "        expand_subtype = pd.concat([expand_subtype, pdtemp], ignore_index=False, axis=1)\n",
    "    expand_subtype = expand_subtype.reindex(index =cat_order)\n",
    "    expand_subtype.transpose().plot.bar(stacked=True,color = adata.uns[key+'_colors'],fontsize = 20 ).legend(loc='center left',bbox_to_anchor=(1.0, 0.5),fontsize = 15)\n",
    "    plt.title(label =key+' breakdown', fontsize = 20)\n",
    "    plt.tight_layout()\n",
    "    plt.savefig(key+' breakdown in patients gd reduced.png',dpi = 300)"
   ]
  },
  {
   "cell_type": "code",
   "execution_count": null,
   "id": "4a7fdc25-1c24-4df0-90f8-d3d0b88c35ef",
   "metadata": {},
   "outputs": [],
   "source": [
    "plt.rcParams['figure.figsize'] = [8,7.2]\n",
    "\n",
    "ID_tot = adata.obs['site'].values.categories\n",
    "pdtemp = pd.DataFrame(adata.obs['site'].value_counts(normalize = True))\n",
    "#pdtemp = pdtemp.rename({'proportion': i}, axis='columns')\n",
    "\n",
    "pdtemp = pdtemp.reindex(index =ID_tot)\n",
    "wedges, texts, autotexts =plt.pie([i[0] for i in pdtemp.values], colors = adata.uns['site_colors'],autopct='%1.2f%%',radius = 1)\n",
    "for i, (patch, text, autotext) in enumerate(zip(wedges, texts, autotexts)):\n",
    "    if i== 3:\n",
    "        ang = (patch.theta2 + patch.theta1) / 2\n",
    "        x = 0.8 * np.cos(np.deg2rad(ang))\n",
    "        y = 0.8 * np.sin(np.deg2rad(ang))\n",
    "        autotext.set_position((x, y))\n",
    "    elif i == 4:\n",
    "        ang = (patch.theta2 + patch.theta1) / 2\n",
    "        x = 0.8 * np.cos(np.deg2rad(ang))\n",
    "        y = 0.8 * np.sin(np.deg2rad(ang))\n",
    "        autotext.set_position((x, y))\n",
    "plt.legend(wedges, ID_tot,\n",
    "          loc=\"center left\",\n",
    "            bbox_to_anchor=(1, 0, 0.5, 1), fontsize = 15)\n",
    "plt.title(label = 'Sites', fontsize = 30)\n",
    "plt.setp(autotexts, size=15, weight=\"bold\", color = 'w')\n",
    "plt.tight_layout()\n",
    "plt.savefig('site_pie_gd_1.png',dpi = 300,bbox_inches='tight')"
   ]
  },
  {
   "cell_type": "code",
   "execution_count": null,
   "id": "c5b85073-0657-4c36-ae6b-357e384fe718",
   "metadata": {},
   "outputs": [],
   "source": [
    "plt.rcParams['figure.figsize'] = [8,7.2]\n",
    "\n",
    "ID_tot = adata.obs['tissue'].values.categories\n",
    "pdtemp = pd.DataFrame(adata.obs['tissue'].value_counts(normalize = True))\n",
    "#pdtemp = pdtemp.rename({'proportion': i}, axis='columns')\n",
    "\n",
    "pdtemp = pdtemp.reindex(index =ID_tot)\n",
    "wedges, texts, autotexts =plt.pie([i[0] for i in pdtemp.values], colors = adata.uns['tissue_colors'],autopct='%1.2f%%',radius = 1.2)\n",
    "plt.legend(wedges, ID_tot,\n",
    "          loc=\"center left\",\n",
    "            bbox_to_anchor=(1, 0, 0.5, 1), fontsize = 15)\n",
    "plt.title(label = 'Tissue Type', fontsize = 30)\n",
    "plt.setp(autotexts, size=25, weight=\"bold\")\n",
    "plt.tight_layout()\n",
    "plt.savefig('tissue_pie_gd reduced.png',dpi = 300,bbox_inches='tight')"
   ]
  },
  {
   "cell_type": "code",
   "execution_count": null,
   "id": "af4fe438-dc31-4652-bf42-c2dca935c4f3",
   "metadata": {},
   "outputs": [],
   "source": [
    "plt.rcParams['figure.figsize'] = [8,7.2]\n",
    "\n",
    "ID_tot = adata.obs['stage'].values.categories\n",
    "pdtemp = pd.DataFrame(adata.obs['stage'].value_counts(normalize = True))\n",
    "#pdtemp = pdtemp.rename({'proportion': i}, axis='columns')\n",
    "\n",
    "pdtemp = pdtemp.reindex(index =ID_tot)\n",
    "wedges, texts, autotexts =plt.pie([i[0] for i in pdtemp.values], colors = adata.uns['stage_colors'],autopct='%1.2f%%',radius = 1)\n",
    "for i, (patch, text, autotext) in enumerate(zip(wedges, texts, autotexts)):\n",
    "    if i== 1:\n",
    "        ang = (patch.theta2 + patch.theta1) / 2\n",
    "        x = 0.7 * np.cos(np.deg2rad(ang))\n",
    "        y = 0.7 * np.sin(np.deg2rad(ang))\n",
    "        autotext.set_position((x, y))\n",
    "    elif i == 2:\n",
    "        ang = (patch.theta2 + patch.theta1) / 2\n",
    "        x = 0.6 * np.cos(np.deg2rad(ang))\n",
    "        y = 0.6 * np.sin(np.deg2rad(ang))\n",
    "        autotext.set_position((x, y))\n",
    "plt.legend(wedges, ID_tot,\n",
    "          loc=\"center left\",\n",
    "            bbox_to_anchor=(1, 0, 0.5, 1), fontsize = 15)\n",
    "plt.title(label = 'Stage', fontsize = 30)\n",
    "plt.setp(autotexts, size=25, weight=\"bold\", color = 'w')\n",
    "plt.tight_layout()\n",
    "plt.savefig('stage_pie_gd reduced.png',dpi = 300,bbox_inches='tight')"
   ]
  },
  {
   "cell_type": "code",
   "execution_count": null,
   "id": "280b7626-269f-4246-8041-2ff37ad67012",
   "metadata": {},
   "outputs": [],
   "source": [
    "plt.rcParams['figure.figsize'] = [8,7.2]\n",
    "\n",
    "ID_tot = adata.obs['gender'].values.categories\n",
    "pdtemp = pd.DataFrame(adata.obs['gender'].value_counts(normalize = True))\n",
    "#pdtemp = pdtemp.rename({'proportion': i}, axis='columns')\n",
    "\n",
    "pdtemp = pdtemp.reindex(index =ID_tot)\n",
    "wedges, texts, autotexts =plt.pie([i[0] for i in pdtemp.values], colors = adata.uns['gender_colors'],autopct='%1.2f%%',radius = 1)\n",
    "for i, (patch, text, autotext) in enumerate(zip(wedges, texts, autotexts)):\n",
    "    if i== 1:\n",
    "        ang = (patch.theta2 + patch.theta1) / 2\n",
    "        x = 0.7 * np.cos(np.deg2rad(ang))\n",
    "        y = 0.7 * np.sin(np.deg2rad(ang))\n",
    "        autotext.set_position((x, y))\n",
    "    elif i == 2:\n",
    "        ang = (patch.theta2 + patch.theta1) / 2\n",
    "        x = 0.6 * np.cos(np.deg2rad(ang))\n",
    "        y = 0.6 * np.sin(np.deg2rad(ang))\n",
    "        autotext.set_position((x, y))\n",
    "plt.legend(wedges, ID_tot,\n",
    "          loc=\"center left\",\n",
    "            bbox_to_anchor=(1, 0, 0.5, 1), fontsize = 15)\n",
    "plt.title(label = 'Gender', fontsize = 30)\n",
    "plt.setp(autotexts, size=20, weight=\"bold\", color = 'w')\n",
    "plt.tight_layout()\n",
    "plt.savefig('gender_pie_gd reduced.png',dpi = 300,bbox_inches='tight')"
   ]
  },
  {
   "cell_type": "code",
   "execution_count": null,
   "id": "23523329-1bd4-46dd-aa7e-13ed83b274ef",
   "metadata": {},
   "outputs": [],
   "source": [
    "plt.rcParams['figure.figsize'] = [8,7.2]\n",
    "\n",
    "ID_tot = adata.obs['orig.ident'].values.categories\n",
    "pdtemp = pd.DataFrame(adata.obs['orig.ident'].value_counts(normalize = True))\n",
    "#pdtemp = pdtemp.rename({'proportion': i}, axis='columns')\n",
    "\n",
    "pdtemp = pdtemp.reindex(index =ID_tot)\n",
    "wedges, texts, autotexts =plt.pie([i[0] for i in pdtemp.values], colors = adata.uns['orig.ident_colors'],autopct='%1.2f%%',radius = 1)\n",
    "for i, (patch, text, autotext) in enumerate(zip(wedges, texts, autotexts)):\n",
    "    if i== 4:\n",
    "        ang = (patch.theta2 + patch.theta1) / 2\n",
    "        x = 0.7 * np.cos(np.deg2rad(ang))\n",
    "        y = 0.7 * np.sin(np.deg2rad(ang))\n",
    "        autotext.set_position((x, y))\n",
    "    elif i== 5:\n",
    "        ang = (patch.theta2 + patch.theta1) / 2\n",
    "        x = 0.8 * np.cos(np.deg2rad(ang))\n",
    "        y = 0.8 * np.sin(np.deg2rad(ang))\n",
    "        autotext.set_position((x, y))\n",
    "    elif i == 6:\n",
    "        ang = (patch.theta2 + patch.theta1) / 2\n",
    "        x = 1 * np.cos(np.deg2rad(ang))\n",
    "        y = 0.95 * np.sin(np.deg2rad(ang))\n",
    "        autotext.set_position((x, y))\n",
    "plt.legend(wedges, ID_tot,\n",
    "          loc=\"center left\",\n",
    "            bbox_to_anchor=(1, 0, 0.5, 1), fontsize = 15)\n",
    "plt.title(label = 'Data Sources', fontsize = 30)\n",
    "plt.setp(autotexts, size=15, weight=\"bold\",color = 'w')\n",
    "plt.tight_layout()\n",
    "plt.savefig('orig.ident_pie_gd_reduced2.png',dpi = 300,bbox_inches='tight')"
   ]
  },
  {
   "cell_type": "code",
   "execution_count": null,
   "id": "c0e5f3ba-ceb1-4fe2-9962-f93ce1905848",
   "metadata": {},
   "outputs": [],
   "source": [
    "plt.rcParams['figure.figsize'] = [8,7.2]\n",
    "\n",
    "ID_tot = adata.obs['cell type'].values.categories\n",
    "pdtemp = pd.DataFrame(adata.obs['cell type'].value_counts(normalize = True))\n",
    "#pdtemp = pdtemp.rename({'proportion': i}, axis='columns')\n",
    "\n",
    "pdtemp = pdtemp.reindex(index =ID_tot)\n",
    "wedges, texts, autotexts =plt.pie([i[0] for i in pdtemp.values], colors = adata.uns['cell type_colors'],autopct='%1.2f%%',radius = 1)\n",
    "for i, (patch, text, autotext) in enumerate(zip(wedges, texts, autotexts)):\n",
    "    if i== 7:\n",
    "        ang = (patch.theta2 + patch.theta1) / 2\n",
    "        x = 0.8 * np.cos(np.deg2rad(ang))\n",
    "        y = 0.8 * np.sin(np.deg2rad(ang))\n",
    "        autotext.set_position((x, y))\n",
    "    elif i == 6:\n",
    "        ang = (patch.theta2 + patch.theta1) / 2\n",
    "        x = 0.6 * np.cos(np.deg2rad(ang))\n",
    "        y = 0.6 * np.sin(np.deg2rad(ang))\n",
    "        autotext.set_position((x, y))\n",
    "plt.legend(wedges, ID_tot,\n",
    "          loc=\"center left\",\n",
    "            bbox_to_anchor=(1, 0, 0.5, 1), fontsize = 15)\n",
    "plt.title(label = 'cell type', fontsize = 30)\n",
    "plt.setp(autotexts, size=20, weight=\"bold\",color = 'w')\n",
    "plt.tight_layout()\n",
    "plt.savefig('celltype_pie_gd_reduced.png',dpi = 300,bbox_inches='tight')"
   ]
  },
  {
   "cell_type": "code",
   "execution_count": null,
   "id": "cacd8136-1d0c-4069-84b5-de1c5c665377",
   "metadata": {
    "tags": []
   },
   "outputs": [],
   "source": [
    "plt.rcParams.update({'font.size': 15, 'font.weight': 'heavy','axes.linewidth':2})\n",
    "#plt.rcParams.update(plt.rcParamsDefault)\n",
    "\n",
    "gene_list = dict({ 'IL':['IL17A','IL17F'], \n",
    "      'Regulators': ['RORC','RUNX1','IRF4','BATF','KLF4','STAT3'],\n",
    "      'Sanchez et al' : ['IL23R','CCR6','MAF','AHR','CLEC7A','RORA','SLAMF1','BLK','JAML','CXCR6','DPP4'],\n",
    "      'Tan et al': ['CD9','LGALS3','IL2RA','SOX13','S100A6','IL18R1','ICOS'],\n",
    "})\n",
    "\n",
    "sc.pl.dotplot(adata,gene_list,groupby = 'cell type' , vmax = 1, \n",
    "              swap_axes = True ,dot_min = 0.1,standard_scale = 'var',figsize = (4,12), save= 'IL17_secretion_signature.png')\n",
    "# Checked IL9, nothing"
   ]
  },
  {
   "cell_type": "code",
   "execution_count": null,
   "id": "22206811-33ab-4efe-a715-469c57b46893",
   "metadata": {},
   "outputs": [],
   "source": [
    "adata_tissue = adata[adata.obs['tissue'].isin(['Carcinoma','Normal']),:]\n",
    "adata_tissue = adata_tissue[adata_tissue.obs['cell type'].isin(['IL7R+ TRM']),:]\n",
    "sc.pp.highly_variable_genes(adata_tissue, flavor='seurat', n_top_genes = 5000)"
   ]
  },
  {
   "cell_type": "code",
   "execution_count": null,
   "id": "07dffd06-0e95-4746-9bb8-ef7938c550d5",
   "metadata": {},
   "outputs": [],
   "source": [
    "counts = adata_tissue.layers['counts'].T[adata_tissue.var['highly_variable'],:]\n",
    "tissue = adata_tissue.obs['tissue'].astype('str')\n",
    "colnames = adata_tissue.obs_names\n",
    "rownames = adata_tissue.var_names[adata_tissue.var['highly_variable']]"
   ]
  },
  {
   "cell_type": "code",
   "execution_count": null,
   "id": "3efb6fc6-6739-4610-8542-e2856c937150",
   "metadata": {},
   "outputs": [],
   "source": [
    "%%R -i counts -i colnames -i rownames -i tissue\n",
    "colnames(counts) = colnames\n",
    "rownames(counts) = rownames\n",
    "\n",
    "srat <- CreateSeuratObject(counts = counts, project = \"gd\", min.cells = 0, min.features = 0, assay = \"RNA\")\n",
    "srat[['tissue']] = tissue\n",
    "saveRDS(srat, file = \"gd_for_DEG.rds\")"
   ]
  },
  {
   "cell_type": "code",
   "execution_count": null,
   "id": "3ada6255-a663-4195-8ab7-d484f82e0b6a",
   "metadata": {},
   "outputs": [],
   "source": [
    "terms = pd.read_csv('gd_tissue_DEG.csv')\n",
    "terms['-logQ'] = -np.log10(terms['q_value'])\n",
    "terms = terms[terms['-logQ']>0]\n",
    "fc_thresh = 1\n",
    "lowqval_de = terms[np.array(terms['-logQ']>=-np.log10(0.05)) & np.array(abs(terms['normalized_effect'])>=fc_thresh)]\n",
    "terms['normalized_effect'] = terms['normalized_effect']*-1"
   ]
  },
  {
   "cell_type": "code",
   "execution_count": null,
   "id": "20deebba-40ba-49d4-83c6-61cec4d33702",
   "metadata": {},
   "outputs": [],
   "source": [
    "##### Volcano plot of results\n",
    "from adjustText import adjust_text\n",
    "terms['-logQ'] = -np.log10(terms['q_value'])\n",
    "terms = terms[terms['-logQ']>0]\n",
    "fc_thresh = 1\n",
    "plt.rcParams['figure.figsize'] = [8,8]\n",
    "plt.rcParams.update({'font.size': 14, 'font.weight': 'bold','axes.linewidth':2})\n",
    "lowqval_de = terms[np.array(terms['-logQ']>=-np.log10(0.05)) & np.array(abs(terms['normalized_effect'])>=fc_thresh)]\n",
    "other_de = terms[np.array(terms['-logQ']<-np.log10(0.05)) | np.array(abs(terms['normalized_effect'])<fc_thresh)] #actually that's other genes (non sig de)\n",
    "\n",
    "fig, ax = plt.subplots()\n",
    "sb.regplot(other_de['normalized_effect'], other_de['-logQ'], fit_reg=False, scatter_kws={'s':50, 'edgecolors': 'black', 'linewidths': 0.5})\n",
    "sb.regplot(lowqval_de['normalized_effect'], lowqval_de['-logQ'], fit_reg=False, scatter_kws={'s':50,'edgecolors': 'black', 'linewidths': 0.5})\n",
    "ax.set_xlabel(\"Normalized log2 FC\", fontsize=30)\n",
    "ax.set_ylabel(\"-log Q-value\", fontsize=30)\n",
    "ax.tick_params(labelsize=15)\n",
    "ax.set_title('IL7R+ TRM Carcinoma vs Normal',size = 25)\n",
    "    \n",
    "    \n",
    "    \n",
    "# Label names and positions\n",
    "x = [i for i in lowqval_de['normalized_effect']]\n",
    "y = [i*1.02 for i in lowqval_de['-logQ']]\n",
    "labels = lowqval_de['gene_short_name']\n",
    "# Show only some labels to avoid overcrowding the figure\n",
    "to_keep = np.where((np.array(lowqval_de['gene_short_name'].str.startswith('RP'))\n",
    "                    |np.array(lowqval_de['gene_short_name'].str.startswith('MT'))\n",
    "                    |np.array(lowqval_de['gene_short_name'].str.startswith('IG'))\n",
    "                     |(np.array(lowqval_de['normalized_effect']<fc_thresh*1.5)\n",
    "                       &np.array(lowqval_de['normalized_effect']>0)\n",
    "                           &np.array(lowqval_de['-logQ']<50))\n",
    "                    |(np.array(abs(lowqval_de['normalized_effect'])<fc_thresh*1.5)\n",
    "                      &np.array(lowqval_de['normalized_effect']<0)\n",
    "                           &np.array(lowqval_de['-logQ']<50))\n",
    "                   |np.array(lowqval_de['-logQ']<5) |np.array(lowqval_de['-logQ']>70))==0)\n",
    "\n",
    "labels = labels.iloc[to_keep]\n",
    "texts = []\n",
    "for i,txt in enumerate(labels):\n",
    "    if txt not in ['GZMB','GNLY','NKG7','GZMH','CD74','VCAM1','KLF2','CTLA4','ITGB2','IFNG',\n",
    "               'ZNF683','FCER1G','GZMK','KLRG1','FGFBP2','FCGR3A','IL7R','PDCD1','CCL4','KLRK1',\n",
    "              'CD81','CD82','CD83','NFKBIA']:\n",
    "        texts.append(ax.text(x[to_keep[0][i]], y[to_keep[0][i]], txt,size = 11, color= '#904800', weight = 'bold'))\n",
    "    \n",
    "for i,txt in enumerate(labels):    \n",
    "    if txt in ['GZMB','GNLY','NKG7','GZMH','CD74','VCAM1','KLF2','CTLA4','ITGB2','IFNG',\n",
    "               'ZNF683','FCER1G','GZMK','KLRG1','FGFBP2','FCGR3A','IL7R','PDCD1','CCL4','KLRK1',\n",
    "              'CD81','CD82','CD83','NFKBIA','HAVCR2']:\n",
    "        texts.append(ax.text(x[to_keep[0][i]], y[to_keep[0][i]], txt,size = 15, color= '#0E46E2', weight = 'bold', bbox=dict(boxstyle=\"Square,pad=0.1\", fc=\"white\", ec=\"b\", lw=2, alpha = 0.8)))\n",
    "        \n",
    "plt.ylim([-0.01,90])\n",
    "plt.xlim([-3,7.8])\n",
    "adjust_text(texts,arrowprops=dict(arrowstyle='-', color='red'))\n",
    "#ax.xaxis.label.set_fontweight('bold')\n",
    "#ax.yaxis.label.set_fontweight('bold')\n",
    "#ax.yaxis.label.set_fontsize(22)\n",
    "#ax.annotate(txt, (x[i], y[i]),size = 10,bbox=dict(boxstyle=\"Square,pad=0.3\", fc=\"orange\", ec=\"b\", lw=2, alpha = 0.6))\n",
    "\n",
    "\n",
    "plt.axhline(y=-np.log10(0.05), color=\"orange\", linestyle=\"--\")\n",
    "plt.axvline(x = -fc_thresh, color=\"orange\", linestyle=\"--\")\n",
    "plt.axvline(x = fc_thresh, color=\"orange\", linestyle=\"--\")\n",
    "plt.savefig('TRM_gd_tissue_DE.png')\n",
    "#plt.show()"
   ]
  },
  {
   "cell_type": "code",
   "execution_count": null,
   "id": "b935ad87-91e5-4e3d-a4d7-0470b8fe2e4d",
   "metadata": {},
   "outputs": [],
   "source": [
    "adata_tissue = adata[adata.obs['tissue'].isin(['Carcinoma','Normal']),:]\n",
    "adata_tissue = adata_tissue[adata_tissue.obs['cell type'].isin(['IL7R- TRM']),:]\n",
    "sc.pp.highly_variable_genes(adata_tissue, flavor='seurat', n_top_genes = 5000)"
   ]
  },
  {
   "cell_type": "code",
   "execution_count": null,
   "id": "f17103c3-0001-4b7a-8b81-ab1ba378c503",
   "metadata": {},
   "outputs": [],
   "source": [
    "sc.pl.violin(adata_tissue, 'IFNG', groupby = 'tissue')"
   ]
  },
  {
   "cell_type": "code",
   "execution_count": null,
   "id": "0615efa1-44ba-4919-83c1-902a81e505d3",
   "metadata": {},
   "outputs": [],
   "source": [
    "counts = adata_tissue.layers['counts'].T[adata_tissue.var['highly_variable'],:]\n",
    "tissue = adata_tissue.obs['tissue'].astype('str')\n",
    "colnames = adata_tissue.obs_names\n",
    "rownames = adata_tissue.var_names[adata_tissue.var['highly_variable']]"
   ]
  },
  {
   "cell_type": "code",
   "execution_count": null,
   "id": "5e0673aa-4c0c-4fa9-889c-e12dfb006355",
   "metadata": {},
   "outputs": [],
   "source": [
    "%%R -i counts -i colnames -i rownames -i tissue\n",
    "colnames(counts) = colnames\n",
    "rownames(counts) = rownames\n",
    "\n",
    "srat <- CreateSeuratObject(counts = counts, project = \"gd\", min.cells = 0, min.features = 0, assay = \"RNA\")\n",
    "srat[['tissue']] = tissue\n",
    "saveRDS(srat, file = \"IL7RnegTRM_gd_for_DEG.rds\")"
   ]
  },
  {
   "cell_type": "code",
   "execution_count": null,
   "id": "78f82539-5001-4cc0-9bb4-ec388ccf94f6",
   "metadata": {},
   "outputs": [],
   "source": [
    "terms = pd.read_csv('IL7RnegTRM_gd_for_DEG.csv')\n",
    "terms['-logQ'] = -np.log10(terms['q_value'])\n",
    "terms = terms[terms['-logQ']>0]\n",
    "fc_thresh = 1\n",
    "lowqval_de = terms[np.array(terms['-logQ']>=-np.log10(0.05)) & np.array(abs(terms['normalized_effect'])>=fc_thresh)]\n",
    "terms['normalized_effect'] = terms['normalized_effect']*-1"
   ]
  },
  {
   "cell_type": "code",
   "execution_count": null,
   "id": "3dbb94e1-ec0f-422a-bde8-018aae622860",
   "metadata": {},
   "outputs": [],
   "source": [
    "##### Volcano plot of results\n",
    "from adjustText import adjust_text\n",
    "terms['-logQ'] = -np.log10(terms['q_value'])\n",
    "terms = terms[terms['-logQ']>0]\n",
    "fc_thresh = 1\n",
    "plt.rcParams['figure.figsize'] = [8,8]\n",
    "plt.rcParams.update({'font.size': 14, 'font.weight': 'bold','axes.linewidth':2})\n",
    "lowqval_de = terms[np.array(terms['-logQ']>=-np.log10(0.05)) & np.array(abs(terms['normalized_effect'])>=fc_thresh)]\n",
    "other_de = terms[np.array(terms['-logQ']<-np.log10(0.05)) | np.array(abs(terms['normalized_effect'])<fc_thresh)] #actually that's other genes (non sig de)\n",
    "\n",
    "fig, ax = plt.subplots()\n",
    "sb.regplot(other_de['normalized_effect'], other_de['-logQ'], fit_reg=False, scatter_kws={'s':50, 'edgecolors': 'black', 'linewidths': 0.5})\n",
    "sb.regplot(lowqval_de['normalized_effect'], lowqval_de['-logQ'], fit_reg=False, scatter_kws={'s':50,'edgecolors': 'black', 'linewidths': 0.5})\n",
    "ax.set_xlabel(\"Normalized log2 FC\", fontsize=30)\n",
    "ax.set_ylabel(\"-log Q-value\", fontsize=30)\n",
    "ax.tick_params(labelsize=15)\n",
    "ax.set_title('IL7R- TRM Carcinoma vs Normal',size = 30)\n",
    "    \n",
    "    \n",
    "    \n",
    "# Label names and positions\n",
    "x = [i for i in lowqval_de['normalized_effect']]\n",
    "y = [i*1.02 for i in lowqval_de['-logQ']]\n",
    "labels = lowqval_de['gene_short_name']\n",
    "# Show only some labels to avoid overcrowding the figure\n",
    "to_keep = np.where((np.array(lowqval_de['gene_short_name'].str.startswith('RP'))\n",
    "                    |np.array(lowqval_de['gene_short_name'].str.startswith('MT'))\n",
    "                     |(np.array(lowqval_de['normalized_effect']<fc_thresh*2)\n",
    "                       &np.array(lowqval_de['normalized_effect']>0)\n",
    "                           &np.array(lowqval_de['-logQ']<50))\n",
    "                    |(np.array(abs(lowqval_de['normalized_effect'])<fc_thresh*1.5)\n",
    "                      &np.array(lowqval_de['normalized_effect']<0)\n",
    "                           &np.array(lowqval_de['-logQ']<50))\n",
    "                   |np.array(lowqval_de['-logQ']<20)|np.array(lowqval_de['-logQ']>200) )==0)\n",
    "\n",
    "labels = labels.iloc[to_keep]\n",
    "texts = []\n",
    "for i,txt in enumerate(labels):\n",
    "    if txt in ['GZMB','GNLY','NKG7','GZMH','CD74','VCAM1','KLF2','CTLA4','ITGB2','IFNG',\n",
    "               'ZNF683','FCER1G','GZMK','KLRG1','FGFBP2','FCGR3A','IL7R','PDCD1','CCL4','KLRK1',\n",
    "              'CD81','CD82','CD83']:\n",
    "        texts.append(ax.text(x[to_keep[0][i]], y[to_keep[0][i]], txt,size = 15, color= '#0E46E2', weight = 'bold', bbox=dict(boxstyle=\"Square,pad=0.1\", fc=\"white\", ec=\"b\", lw=2, alpha = 0.8)))\n",
    "    else:\n",
    "        texts.append(ax.text(x[to_keep[0][i]], y[to_keep[0][i]], txt,size = 11, color= '#904800', weight = 'bold'))\n",
    "plt.ylim([-0.01,220])\n",
    "adjust_text(texts,arrowprops=dict(arrowstyle='-', color='red'))\n",
    "#ax.xaxis.label.set_fontweight('bold')\n",
    "#ax.yaxis.label.set_fontweight('bold')\n",
    "#ax.yaxis.label.set_fontsize(22)\n",
    "#ax.annotate(txt, (x[i], y[i]),size = 10,bbox=dict(boxstyle=\"Square,pad=0.3\", fc=\"orange\", ec=\"b\", lw=2, alpha = 0.6))\n",
    "\n",
    "\n",
    "plt.axhline(y=-np.log10(0.05), color=\"orange\", linestyle=\"--\")\n",
    "plt.axvline(x = -fc_thresh, color=\"orange\", linestyle=\"--\")\n",
    "plt.axvline(x = fc_thresh, color=\"orange\", linestyle=\"--\")\n",
    "plt.savefig('IL7RnegTRM_gd_tissue_DE.png')\n",
    "#plt.show()"
   ]
  },
  {
   "cell_type": "code",
   "execution_count": null,
   "id": "dfd26a4d-5ca3-4e42-837e-d08699698968",
   "metadata": {},
   "outputs": [],
   "source": [
    "adata_tissue = adata[adata.obs['tissue'].isin(['Carcinoma','Normal']),:]\n",
    "adata_tissue = adata_tissue[adata_tissue.obs['cell type'].isin(['Tpex']),:]\n",
    "sc.pp.highly_variable_genes(adata_tissue, flavor='seurat', n_top_genes = 5000)"
   ]
  },
  {
   "cell_type": "code",
   "execution_count": null,
   "id": "fc0022a2-8018-43c8-82f1-88351a855ce4",
   "metadata": {},
   "outputs": [],
   "source": [
    "counts = adata_tissue.layers['counts'].T[adata_tissue.var['highly_variable'],:]\n",
    "tissue = adata_tissue.obs['tissue'].astype('str')\n",
    "colnames = adata_tissue.obs_names\n",
    "rownames = adata_tissue.var_names[adata_tissue.var['highly_variable']]"
   ]
  },
  {
   "cell_type": "code",
   "execution_count": null,
   "id": "fc9caefe-28b0-4268-82dd-f09f8bc04fa9",
   "metadata": {},
   "outputs": [],
   "source": [
    "%%R -i counts -i colnames -i rownames -i tissue\n",
    "colnames(counts) = colnames\n",
    "rownames(counts) = rownames\n",
    "\n",
    "srat <- CreateSeuratObject(counts = counts, project = \"gd\", min.cells = 0, min.features = 0, assay = \"RNA\")\n",
    "srat[['tissue']] = tissue\n",
    "saveRDS(srat, file = \"Tpex_gd_for_DEG.rds\")"
   ]
  },
  {
   "cell_type": "code",
   "execution_count": null,
   "id": "c7ba335a-72cb-46d8-87dc-2391bde0b20b",
   "metadata": {},
   "outputs": [],
   "source": [
    "terms = pd.read_csv('Tpex_gd_tissue_DEG.csv')\n",
    "terms['-logQ'] = -np.log10(terms['q_value'])\n",
    "terms = terms[terms['-logQ']>0]\n",
    "fc_thresh = 1\n",
    "lowqval_de = terms[np.array(terms['-logQ']>=-np.log10(0.05)) & np.array(abs(terms['normalized_effect'])>=fc_thresh)]\n",
    "terms['normalized_effect'] = terms['normalized_effect']*-1"
   ]
  },
  {
   "cell_type": "code",
   "execution_count": null,
   "id": "074f8873-6c5a-47d0-a5c2-480617887f39",
   "metadata": {},
   "outputs": [],
   "source": [
    "##### Volcano plot of results\n",
    "from adjustText import adjust_text\n",
    "terms['-logQ'] = -np.log10(terms['q_value'])\n",
    "terms = terms[terms['-logQ']>0]\n",
    "fc_thresh = 1\n",
    "plt.rcParams['figure.figsize'] = [8,8]\n",
    "plt.rcParams.update({'font.size': 14, 'font.weight': 'bold','axes.linewidth':2})\n",
    "lowqval_de = terms[np.array(terms['-logQ']>=-np.log10(0.05)) & np.array(abs(terms['normalized_effect'])>=fc_thresh)]\n",
    "other_de = terms[np.array(terms['-logQ']<-np.log10(0.05)) | np.array(abs(terms['normalized_effect'])<fc_thresh)] #actually that's other genes (non sig de)\n",
    "\n",
    "fig, ax = plt.subplots()\n",
    "sb.regplot(other_de['normalized_effect'], other_de['-logQ'], fit_reg=False, scatter_kws={'s':50, 'edgecolors': 'black', 'linewidths': 0.5})\n",
    "sb.regplot(lowqval_de['normalized_effect'], lowqval_de['-logQ'], fit_reg=False, scatter_kws={'s':50,'edgecolors': 'black', 'linewidths': 0.5})\n",
    "ax.set_xlabel(\"Normalized log2 FC\", fontsize=30)\n",
    "ax.set_ylabel(\"-log Q-value\", fontsize=30)\n",
    "ax.tick_params(labelsize=15)\n",
    "ax.set_title('Tpex Carcinoma vs Normal',size = 30)\n",
    "    \n",
    "    \n",
    "    \n",
    "# Label names and positions\n",
    "x = [i for i in lowqval_de['normalized_effect']]\n",
    "y = [i*1.02 for i in lowqval_de['-logQ']]\n",
    "labels = lowqval_de['gene_short_name']\n",
    "# Show only some labels to avoid overcrowding the figure\n",
    "to_keep = np.where((np.array(lowqval_de['gene_short_name'].str.startswith('RP'))\n",
    "                    |np.array(lowqval_de['gene_short_name'].str.startswith('MT'))\n",
    "                     |(np.array(lowqval_de['normalized_effect']<fc_thresh*2)\n",
    "                       &np.array(lowqval_de['normalized_effect']>0)\n",
    "                           &np.array(lowqval_de['-logQ']<50))\n",
    "                    |(np.array(abs(lowqval_de['normalized_effect'])<fc_thresh*1.5)\n",
    "                      &np.array(lowqval_de['normalized_effect']<0)\n",
    "                           &np.array(lowqval_de['-logQ']<50))\n",
    "                   |np.array(lowqval_de['-logQ']<2)|np.array(lowqval_de['-logQ']>200) )==0)\n",
    "\n",
    "labels = labels.iloc[to_keep]\n",
    "texts = []\n",
    "for i,txt in enumerate(labels):\n",
    "    if txt in ['GZMB','GNLY','NKG7','GZMH','CD74','VCAM1','KLF2','CTLA4','ITGB2','IFNG',\n",
    "               'ZNF683','FCER1G','GZMK','KLRG1','FGFBP2','FCGR3A','IL7R','PDCD1','CCL4','KLRK1',\n",
    "              'CD81','CD82','CD83']:\n",
    "        texts.append(ax.text(x[to_keep[0][i]], y[to_keep[0][i]], txt,size = 15, color= '#0E46E2', weight = 'bold', bbox=dict(boxstyle=\"Square,pad=0.1\", fc=\"white\", ec=\"b\", lw=2, alpha = 0.8)))\n",
    "    else:\n",
    "        texts.append(ax.text(x[to_keep[0][i]], y[to_keep[0][i]], txt,size = 11, color= '#904800', weight = 'bold'))\n",
    "plt.ylim([-0.01,30])\n",
    "adjust_text(texts,arrowprops=dict(arrowstyle='-', color='red'))\n",
    "#ax.xaxis.label.set_fontweight('bold')\n",
    "#ax.yaxis.label.set_fontweight('bold')\n",
    "#ax.yaxis.label.set_fontsize(22)\n",
    "#ax.annotate(txt, (x[i], y[i]),size = 10,bbox=dict(boxstyle=\"Square,pad=0.3\", fc=\"orange\", ec=\"b\", lw=2, alpha = 0.6))\n",
    "\n",
    "\n",
    "plt.axhline(y=-np.log10(0.05), color=\"orange\", linestyle=\"--\")\n",
    "plt.axvline(x = -fc_thresh, color=\"orange\", linestyle=\"--\")\n",
    "plt.axvline(x = fc_thresh, color=\"orange\", linestyle=\"--\")\n",
    "plt.savefig('Tpex_gd_tissue_DEG.png')\n",
    "#plt.show()"
   ]
  },
  {
   "cell_type": "code",
   "execution_count": null,
   "id": "6e03c1c2-fe1d-4ec0-8257-dc1b9e86863d",
   "metadata": {},
   "outputs": [],
   "source": [
    "##### Volcano plot of results\n",
    "from adjustText import adjust_text\n",
    "terms['-logQ'] = -np.log10(terms['q_value'])\n",
    "terms = terms[terms['-logQ']>0]\n",
    "fc_thresh = 1\n",
    "plt.rcParams['figure.figsize'] = [8,8]\n",
    "plt.rcParams.update({'font.size': 14, 'font.weight': 'bold','axes.linewidth':2})\n",
    "lowqval_de = terms[np.array(terms['-logQ']>=-np.log10(0.05)) & np.array(abs(terms['normalized_effect'])>=fc_thresh)]\n",
    "other_de = terms[np.array(terms['-logQ']<-np.log10(0.05)) | np.array(abs(terms['normalized_effect'])<fc_thresh)] #actually that's other genes (non sig de)\n",
    "\n",
    "fig, ax = plt.subplots()\n",
    "sb.regplot(other_de['normalized_effect'], other_de['-logQ'], fit_reg=False, scatter_kws={'s':50, 'edgecolors': 'black', 'linewidths': 0.5})\n",
    "sb.regplot(lowqval_de['normalized_effect'], lowqval_de['-logQ'], fit_reg=False, scatter_kws={'s':50,'edgecolors': 'black', 'linewidths': 0.5})\n",
    "ax.set_xlabel(\"Normalized log2 FC\", fontsize=30)\n",
    "ax.set_ylabel(\"-log Q-value\", fontsize=30)\n",
    "ax.tick_params(labelsize=15)\n",
    "ax.set_title('Tex1 Carcinoma vs Normal',size = 30)\n",
    "    \n",
    "    \n",
    "    \n",
    "# Label names and positions\n",
    "x = [i for i in lowqval_de['normalized_effect']]\n",
    "y = [i*1.02 for i in lowqval_de['-logQ']]\n",
    "labels = lowqval_de['gene_short_name']\n",
    "# Show only some labels to avoid overcrowding the figure\n",
    "to_keep = np.where((np.array(lowqval_de['gene_short_name'].str.startswith('RP'))\n",
    "                    |np.array(lowqval_de['gene_short_name'].str.startswith('MT'))\n",
    "                     |(np.array(lowqval_de['normalized_effect']<fc_thresh*2)\n",
    "                       &np.array(lowqval_de['normalized_effect']>0)\n",
    "                           &np.array(lowqval_de['-logQ']<50))\n",
    "                    |(np.array(abs(lowqval_de['normalized_effect'])<fc_thresh*1.5)\n",
    "                      &np.array(lowqval_de['normalized_effect']<0)\n",
    "                           &np.array(lowqval_de['-logQ']<50))\n",
    "                   |np.array(lowqval_de['-logQ']<2)|np.array(lowqval_de['-logQ']>200) )==0)\n",
    "\n",
    "labels = labels.iloc[to_keep]\n",
    "texts = []\n",
    "for i,txt in enumerate(labels):\n",
    "    if txt in ['GZMB','GNLY','NKG7','GZMH','CD74','VCAM1','KLF2','CTLA4','ITGB2','IFNG',\n",
    "               'ZNF683','FCER1G','GZMK','KLRG1','FGFBP2','FCGR3A','IL7R','PDCD1','CCL4','KLRK1',\n",
    "              'CD81','CD82','CD83']:\n",
    "        texts.append(ax.text(x[to_keep[0][i]], y[to_keep[0][i]], txt,size = 15, color= '#0E46E2', weight = 'bold', bbox=dict(boxstyle=\"Square,pad=0.1\", fc=\"white\", ec=\"b\", lw=2, alpha = 0.8)))\n",
    "    else:\n",
    "        texts.append(ax.text(x[to_keep[0][i]], y[to_keep[0][i]], txt,size = 11, color= '#904800', weight = 'bold'))\n",
    "\n",
    "adjust_text(texts,arrowprops=dict(arrowstyle='-', color='red'))\n",
    "#ax.xaxis.label.set_fontweight('bold')\n",
    "#ax.yaxis.label.set_fontweight('bold')\n",
    "#ax.yaxis.label.set_fontsize(22)\n",
    "#ax.annotate(txt, (x[i], y[i]),size = 10,bbox=dict(boxstyle=\"Square,pad=0.3\", fc=\"orange\", ec=\"b\", lw=2, alpha = 0.6))\n",
    "\n",
    "plt.ylim([-0.01,30])\n",
    "plt.axhline(y=-np.log10(0.05), color=\"orange\", linestyle=\"--\")\n",
    "plt.axvline(x = -fc_thresh, color=\"orange\", linestyle=\"--\")\n",
    "plt.axvline(x = fc_thresh, color=\"orange\", linestyle=\"--\")\n",
    "plt.savefig('Tex1_gd_tissue_DEG.png')\n",
    "#plt.show()"
   ]
  },
  {
   "cell_type": "code",
   "execution_count": null,
   "id": "6199df59-d2c0-4ff2-a599-4e89d57a7d09",
   "metadata": {},
   "outputs": [],
   "source": [
    "adata_tissue = adata[adata.obs['tissue'].isin(['Carcinoma','Normal']),:]\n",
    "adata_tissue = adata_tissue[adata_tissue.obs['cell type'].isin(['Poised Teff 1']),:]\n",
    "sc.pp.highly_variable_genes(adata_tissue, flavor='seurat', n_top_genes = 5000)"
   ]
  },
  {
   "cell_type": "code",
   "execution_count": null,
   "id": "72a75b44-10e8-41df-ae99-5ca794d45677",
   "metadata": {},
   "outputs": [],
   "source": [
    "counts = adata_tissue.layers['counts'].T[adata_tissue.var['highly_variable'],:]\n",
    "tissue = adata_tissue.obs['tissue'].astype('str')\n",
    "colnames = adata_tissue.obs_names\n",
    "rownames = adata_tissue.var_names[adata_tissue.var['highly_variable']]"
   ]
  },
  {
   "cell_type": "code",
   "execution_count": null,
   "id": "763b01f2-1391-41af-8aea-5f890b5e74f2",
   "metadata": {},
   "outputs": [],
   "source": [
    "%%R -i counts -i colnames -i rownames -i tissue\n",
    "colnames(counts) = colnames\n",
    "rownames(counts) = rownames\n",
    "\n",
    "srat <- CreateSeuratObject(counts = counts, project = \"gd\", min.cells = 0, min.features = 0, assay = \"RNA\")\n",
    "srat[['tissue']] = tissue\n",
    "saveRDS(srat, file = \"Teff1_gd_for_DEG.rds\")"
   ]
  },
  {
   "cell_type": "code",
   "execution_count": null,
   "id": "bba0c876-d31f-482f-ab34-d6b358bc6259",
   "metadata": {},
   "outputs": [],
   "source": [
    "terms = pd.read_csv('Teff1_gd_tissue_DEG.csv')\n",
    "terms['-logQ'] = -np.log10(terms['q_value'])\n",
    "terms = terms[terms['-logQ']>0]\n",
    "fc_thresh = 1\n",
    "lowqval_de = terms[np.array(terms['-logQ']>=-np.log10(0.05)) & np.array(abs(terms['normalized_effect'])>=fc_thresh)]\n",
    "terms['normalized_effect'] = terms['normalized_effect']*-1"
   ]
  },
  {
   "cell_type": "code",
   "execution_count": null,
   "id": "43c0d993-4f6a-4b51-bad8-457e1929beb1",
   "metadata": {},
   "outputs": [],
   "source": [
    "##### Volcano plot of results\n",
    "from adjustText import adjust_text\n",
    "terms['-logQ'] = -np.log10(terms['q_value'])\n",
    "terms = terms[terms['-logQ']>0]\n",
    "fc_thresh = 1\n",
    "plt.rcParams['figure.figsize'] = [8,8]\n",
    "plt.rcParams.update({'font.size': 14, 'font.weight': 'bold','axes.linewidth':2})\n",
    "lowqval_de = terms[np.array(terms['-logQ']>=-np.log10(0.05)) & np.array(abs(terms['normalized_effect'])>=fc_thresh)]\n",
    "other_de = terms[np.array(terms['-logQ']<-np.log10(0.05)) | np.array(abs(terms['normalized_effect'])<fc_thresh)] #actually that's other genes (non sig de)\n",
    "\n",
    "fig, ax = plt.subplots()\n",
    "sb.regplot(other_de['normalized_effect'], other_de['-logQ'], fit_reg=False, scatter_kws={'s':50, 'edgecolors': 'black', 'linewidths': 0.5})\n",
    "sb.regplot(lowqval_de['normalized_effect'], lowqval_de['-logQ'], fit_reg=False, scatter_kws={'s':50,'edgecolors': 'black', 'linewidths': 0.5})\n",
    "ax.set_xlabel(\"Normalized log2 FC\", fontsize=30)\n",
    "ax.set_ylabel(\"-log Q-value\", fontsize=30)\n",
    "ax.tick_params(labelsize=15)\n",
    "ax.set_title('Teff1 Carcinoma vs Normal',size = 30)\n",
    "    \n",
    "    \n",
    "    \n",
    "# Label names and positions\n",
    "x = [i for i in lowqval_de['normalized_effect']]\n",
    "y = [i*1.02 for i in lowqval_de['-logQ']]\n",
    "labels = lowqval_de['gene_short_name']\n",
    "# Show only some labels to avoid overcrowding the figure\n",
    "to_keep = np.where((np.array(lowqval_de['gene_short_name'].str.startswith('RP'))\n",
    "                    |np.array(lowqval_de['gene_short_name'].str.startswith('MT'))\n",
    "                     |(np.array(lowqval_de['normalized_effect']<fc_thresh*1)\n",
    "                       &np.array(lowqval_de['normalized_effect']>0)\n",
    "                           &np.array(lowqval_de['-logQ']<50))\n",
    "                    |(np.array(abs(lowqval_de['normalized_effect'])<fc_thresh*1.5)\n",
    "                      &np.array(lowqval_de['normalized_effect']<0)\n",
    "                           &np.array(lowqval_de['-logQ']<50))\n",
    "                   |np.array(lowqval_de['-logQ']<2)|np.array(lowqval_de['-logQ']>200) )==0)\n",
    "\n",
    "labels = labels.iloc[to_keep]\n",
    "texts = []\n",
    "for i,txt in enumerate(labels):\n",
    "    if txt in ['GZMB','GNLY','NKG7','GZMH','CD74','VCAM1','KLF2','CTLA4','ITGB2','IFNG',\n",
    "               'ZNF683','FCER1G','GZMK','KLRG1','FGFBP2','FCGR3A','IL7R','PDCD1','CCL4','KLRK1','HAVCR2','KLRC2',\n",
    "              'CD81','CD82','CD83']:\n",
    "        texts.append(ax.text(x[to_keep[0][i]], y[to_keep[0][i]], txt,size = 15, color= '#0E46E2', weight = 'bold', bbox=dict(boxstyle=\"Square,pad=0.1\", fc=\"white\", ec=\"b\", lw=2, alpha = 0.8)))\n",
    "    else:\n",
    "        texts.append(ax.text(x[to_keep[0][i]], y[to_keep[0][i]], txt,size = 11, color= '#904800', weight = 'bold'))\n",
    "plt.ylim([-0.01,30])\n",
    "plt.xlim([-4,4])\n",
    "adjust_text(texts,arrowprops=dict(arrowstyle='-', color='red'))\n",
    "#ax.xaxis.label.set_fontweight('bold')\n",
    "#ax.yaxis.label.set_fontweight('bold')\n",
    "#ax.yaxis.label.set_fontsize(22)\n",
    "#ax.annotate(txt, (x[i], y[i]),size = 10,bbox=dict(boxstyle=\"Square,pad=0.3\", fc=\"orange\", ec=\"b\", lw=2, alpha = 0.6))\n",
    "\n",
    "\n",
    "plt.axhline(y=-np.log10(0.05), color=\"orange\", linestyle=\"--\")\n",
    "plt.axvline(x = -fc_thresh, color=\"orange\", linestyle=\"--\")\n",
    "plt.axvline(x = fc_thresh, color=\"orange\", linestyle=\"--\")\n",
    "plt.savefig('Teff1_gd_tissue_DEG.png')\n",
    "#plt.show()"
   ]
  },
  {
   "cell_type": "code",
   "execution_count": null,
   "id": "d245e308-ca6b-4f19-a6a1-1b9a80b0c089",
   "metadata": {},
   "outputs": [],
   "source": [
    "adata_tissue = adata[adata.obs['tissue'].isin(['Carcinoma','Normal']),:]\n",
    "adata_tissue = adata_tissue[adata_tissue.obs['cell type'].isin(['Poised Teff 2']),:]\n",
    "sc.pp.highly_variable_genes(adata_tissue, flavor='seurat', n_top_genes = 5000)"
   ]
  },
  {
   "cell_type": "code",
   "execution_count": null,
   "id": "4667fffc-7b00-4483-abf9-eace44830bb9",
   "metadata": {},
   "outputs": [],
   "source": [
    "counts = adata_tissue.layers['counts'].T[adata_tissue.var['highly_variable'],:]\n",
    "tissue = adata_tissue.obs['tissue'].astype('str')\n",
    "colnames = adata_tissue.obs_names\n",
    "rownames = adata_tissue.var_names[adata_tissue.var['highly_variable']]"
   ]
  },
  {
   "cell_type": "code",
   "execution_count": null,
   "id": "211c82fb-2619-423e-8943-6a6aa2143314",
   "metadata": {},
   "outputs": [],
   "source": [
    "%%R -i counts -i colnames -i rownames -i tissue\n",
    "colnames(counts) = colnames\n",
    "rownames(counts) = rownames\n",
    "\n",
    "srat <- CreateSeuratObject(counts = counts, project = \"gd\", min.cells = 0, min.features = 0, assay = \"RNA\")\n",
    "srat[['tissue']] = tissue\n",
    "saveRDS(srat, file = \"Teff2_gd_for_DEG.rds\")"
   ]
  },
  {
   "cell_type": "code",
   "execution_count": null,
   "id": "092b74d6-916f-41d6-9e0f-eb0f8ea534b0",
   "metadata": {},
   "outputs": [],
   "source": [
    "terms = pd.read_csv('Teff2_gd_tissue_DEG.csv')\n",
    "terms['-logQ'] = -np.log10(terms['q_value'])\n",
    "terms = terms[terms['-logQ']>0]\n",
    "fc_thresh = 1\n",
    "lowqval_de = terms[np.array(terms['-logQ']>=-np.log10(0.05)) & np.array(abs(terms['normalized_effect'])>=fc_thresh)]\n",
    "terms['normalized_effect'] = terms['normalized_effect']*-1"
   ]
  },
  {
   "cell_type": "code",
   "execution_count": null,
   "id": "88b90c55-8c35-415f-af27-0671ea3afc05",
   "metadata": {},
   "outputs": [],
   "source": [
    "##### Volcano plot of results\n",
    "from adjustText import adjust_text\n",
    "terms['-logQ'] = -np.log10(terms['q_value'])\n",
    "terms = terms[terms['-logQ']>0]\n",
    "fc_thresh = 1\n",
    "plt.rcParams['figure.figsize'] = [8,8]\n",
    "plt.rcParams.update({'font.size': 14, 'font.weight': 'bold','axes.linewidth':2})\n",
    "lowqval_de = terms[np.array(terms['-logQ']>=-np.log10(0.05)) & np.array(abs(terms['normalized_effect'])>=fc_thresh)]\n",
    "other_de = terms[np.array(terms['-logQ']<-np.log10(0.05)) | np.array(abs(terms['normalized_effect'])<fc_thresh)] #actually that's other genes (non sig de)\n",
    "\n",
    "fig, ax = plt.subplots()\n",
    "sb.regplot(other_de['normalized_effect'], other_de['-logQ'], fit_reg=False, scatter_kws={'s':50, 'edgecolors': 'black', 'linewidths': 0.5})\n",
    "sb.regplot(lowqval_de['normalized_effect'], lowqval_de['-logQ'], fit_reg=False, scatter_kws={'s':50,'edgecolors': 'black', 'linewidths': 0.5})\n",
    "ax.set_xlabel(\"Normalized log2 FC\", fontsize=30)\n",
    "ax.set_ylabel(\"-log Q-value\", fontsize=30)\n",
    "ax.tick_params(labelsize=15)\n",
    "ax.set_title('Teff2 Carcinoma vs Normal',size = 30)\n",
    "    \n",
    "    \n",
    "    \n",
    "# Label names and positions\n",
    "x = [i for i in lowqval_de['normalized_effect']]\n",
    "y = [i*1.02 for i in lowqval_de['-logQ']]\n",
    "labels = lowqval_de['gene_short_name']\n",
    "# Show only some labels to avoid overcrowding the figure\n",
    "to_keep = np.where((np.array(lowqval_de['gene_short_name'].str.startswith('RP'))\n",
    "                    |np.array(lowqval_de['gene_short_name'].str.startswith('MT'))\n",
    "                     |np.array(lowqval_de['gene_short_name'].str.startswith('IG'))\n",
    "                     |(np.array(lowqval_de['normalized_effect']<fc_thresh*1)\n",
    "                       &np.array(lowqval_de['normalized_effect']>0)\n",
    "                           &np.array(lowqval_de['-logQ']<50))\n",
    "                    |(np.array(abs(lowqval_de['normalized_effect'])<fc_thresh*2.5)\n",
    "                      &np.array(lowqval_de['normalized_effect']<0)\n",
    "                           &np.array(lowqval_de['-logQ']<50))\n",
    "                   |np.array(lowqval_de['-logQ']<2)|np.array(lowqval_de['-logQ']>20) )==0)\n",
    "\n",
    "labels = labels.iloc[to_keep]\n",
    "texts = []\n",
    "for i,txt in enumerate(labels):\n",
    "    if txt in ['GZMB','GNLY','NKG7','GZMH','CD74','VCAM1','KLF2','CTLA4','ITGB2','IFNG',\n",
    "               'ZNF683','FCER1G','GZMK','KLRG1','FGFBP2','FCGR3A','IL7R','PDCD1','CCL4','KLRK1','CD44',\n",
    "              'CD81','CD82','CD83','CCL5']:\n",
    "        texts.append(ax.text(x[to_keep[0][i]], y[to_keep[0][i]], txt,size = 15, color= '#0E46E2', weight = 'bold', bbox=dict(boxstyle=\"Square,pad=0.1\", fc=\"white\", ec=\"b\", lw=2, alpha = 0.8)))\n",
    "    else:\n",
    "        texts.append(ax.text(x[to_keep[0][i]], y[to_keep[0][i]], txt,size = 11, color= '#904800', weight = 'bold'))\n",
    "plt.ylim([-0.01,30])\n",
    "plt.xlim([-5,4])\n",
    "\n",
    "adjust_text(texts,min_arrow_len = 2,force_pull = (0.1,0.1), max_move = (5,5),arrowprops=dict(arrowstyle='-', color='red'))\n",
    "#ax.xaxis.label.set_fontweight('bold')\n",
    "#ax.yaxis.label.set_fontweight('bold')\n",
    "#ax.yaxis.label.set_fontsize(22)\n",
    "#ax.annotate(txt, (x[i], y[i]),size = 10,bbox=dict(boxstyle=\"Square,pad=0.3\", fc=\"orange\", ec=\"b\", lw=2, alpha = 0.6))\n",
    "\n",
    "\n",
    "plt.axhline(y=-np.log10(0.05), color=\"orange\", linestyle=\"--\")\n",
    "plt.axvline(x = -fc_thresh, color=\"orange\", linestyle=\"--\")\n",
    "plt.axvline(x = fc_thresh, color=\"orange\", linestyle=\"--\")\n",
    "plt.savefig('Teff2_gd_tissue_DEG.png')\n",
    "#plt.show()"
   ]
  }
 ],
 "metadata": {
  "kernelspec": {
   "display_name": "Python 3 (ipykernel)",
   "language": "python",
   "name": "python3"
  },
  "language_info": {
   "codemirror_mode": {
    "name": "ipython",
    "version": 3
   },
   "file_extension": ".py",
   "mimetype": "text/x-python",
   "name": "python",
   "nbconvert_exporter": "python",
   "pygments_lexer": "ipython3",
   "version": "3.11.5"
  }
 },
 "nbformat": 4,
 "nbformat_minor": 5
}
