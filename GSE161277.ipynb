{
 "cells": [
  {
   "cell_type": "code",
   "execution_count": null,
   "id": "9ae472cd-3cc2-4982-a86c-271551261394",
   "metadata": {
    "tags": []
   },
   "outputs": [],
   "source": [
    "#import the library\n",
    "import scanpy as sc\n",
    "import numpy as np\n",
    "import scipy as sp\n",
    "import pandas as pd\n",
    "import matplotlib.pyplot as plt\n",
    "from matplotlib import rcParams\n",
    "from matplotlib import colors\n",
    "import seaborn as sb\n",
    "from gprofiler import GProfiler\n",
    "import seaborn as sns\n",
    "import rpy2.rinterface_lib.callbacks\n",
    "import logging\n",
    "import tensorflow as tf\n",
    "import os\n",
    "\n",
    "from rpy2.robjects import pandas2ri\n",
    "import anndata2ri\n",
    "\n",
    "import importlib\n",
    "import warnings\n",
    "warnings.filterwarnings(\"ignore\")\n",
    "import pickle as pkl\n",
    "from matplotlib.colors import LinearSegmentedColormap"
   ]
  },
  {
   "cell_type": "code",
   "execution_count": null,
   "id": "2175cebf-e3cf-45a6-9684-152101ed5825",
   "metadata": {},
   "outputs": [],
   "source": [
    "def print_full(x):\n",
    "    pd.set_option('display.max_rows', len(x))\n",
    "    print(x)\n",
    "    pd.reset_option('display.max_rows')"
   ]
  },
  {
   "cell_type": "code",
   "execution_count": null,
   "id": "0a67a0a5-5936-48ad-9b96-eef4b4a5af20",
   "metadata": {},
   "outputs": [],
   "source": [
    "#This pallete is for colorblinds\n",
    "my_palette = ['#0351A8','#8CB0E0','#D56D11','#FFBB78','#234E08','#53CB8B','#D30083','#CB788D','#4E195A','#C58CCF','#AA290F','#B03FD1','#E8BCCF','#64605F','#B2AD9A','#D2D30B','#D1BD4F','#06DCF2','#9EDAE5','#517219','#5B43CF','#D92F24','#FFD900','#002F33','#B8A3A3']"
   ]
  },
  {
   "cell_type": "code",
   "execution_count": null,
   "id": "7168d098-c4c6-4832-a2bd-f74441dc96c7",
   "metadata": {},
   "outputs": [],
   "source": [
    "adata = sc.read_h5ad('integrated.h5ad')"
   ]
  },
  {
   "cell_type": "code",
   "execution_count": null,
   "id": "731f0f48-88bb-4d88-a7d2-6a40451d7b67",
   "metadata": {},
   "outputs": [],
   "source": [
    "from matplotlib.colors import LinearSegmentedColormap\n",
    "values = [0,1]\n",
    "colors = [(227, 227, 227), (255, 42, 18)]\n",
    "norm = plt.Normalize(min(values), max(values))\n",
    "my_cmap = LinearSegmentedColormap.from_list(\n",
    "    '', [(norm(value), tuple(np.array(color) / 255)) for value, color in zip(values, colors)])"
   ]
  },
  {
   "cell_type": "code",
   "execution_count": null,
   "id": "587e81c1-2f3b-4405-823d-a992827d0479",
   "metadata": {
    "tags": []
   },
   "outputs": [],
   "source": [
    "# Ignore R warning messages\n",
    "#Note: this can be commented out to get more verbose R output\n",
    "rpy2.rinterface_lib.callbacks.logger.setLevel(logging.ERROR)\n",
    "\n",
    "# Automatically convert rpy2 outputs to pandas dataframes\n",
    "pandas2ri.activate()\n",
    "anndata2ri.activate()\n",
    "%load_ext rpy2.ipython"
   ]
  },
  {
   "cell_type": "code",
   "execution_count": null,
   "id": "c028cf1f-4f2b-45d2-b7e1-a6e996cb4e6b",
   "metadata": {
    "tags": []
   },
   "outputs": [],
   "source": [
    "plt.rcParams['figure.figsize']=(8,8) #rescale figures\n",
    "sc.settings.verbosity = 3\n",
    "#sc.set_figure_params(dpi=200, dpi_save=300)\n",
    "sc.logging.print_versions()"
   ]
  },
  {
   "cell_type": "code",
   "execution_count": null,
   "id": "cec8c260-356d-45f2-a994-35300bf8b785",
   "metadata": {},
   "outputs": [],
   "source": [
    "%%R\n",
    "# Load libraries from correct lib Paths for my environment - ignore this!\n",
    ".libPaths(.libPaths('C:\\\\Users\\\\16220\\\\AppData\\\\Local\\\\R\\\\win-library\\\\4.3'))\n",
    "library(Seurat)"
   ]
  },
  {
   "cell_type": "code",
   "execution_count": null,
   "id": "0b89cc09-13a4-46be-ac4a-90aaf549b341",
   "metadata": {
    "tags": []
   },
   "outputs": [],
   "source": [
    "%%R\n",
    "# Load libraries from correct lib Paths for my environment - ignore this!\n",
    ".libPaths(.libPaths('C:\\\\Users\\\\16220\\\\AppData\\\\Local\\\\R\\\\win-library\\\\4.3'))\n",
    "library(Seurat)\n",
    "# Load all the R libraries we will be using in the notebook\n",
    "library(scran)\n",
    "library(Seurat)\n",
    "library(RColorBrewer)\n",
    "library(slingshot)\n",
    "library(monocle)\n",
    "library(gam)\n",
    "library(ggplot2)\n",
    "library(plyr)\n",
    "library(MAST)\n",
    "library(clusterExperiment)\n",
    "library(monocle3)\n",
    "library(SeuratWrappers)\n",
    "library(magrittr) # needs to be run every time you start R and want to use %>%\n",
    "library(dplyr)    # alternatively, this also loads %>%"
   ]
  },
  {
   "cell_type": "code",
   "execution_count": null,
   "id": "586ee7d3-29d5-4a2b-ba57-8706fe56d047",
   "metadata": {
    "tags": []
   },
   "outputs": [],
   "source": [
    "%%R \n",
    "srat_combined = readRDS('F:/CRC/GSE161277_Adenoma/integrated_data.rds')\n",
    "HVG = VariableFeatures(srat_combined)"
   ]
  },
  {
   "cell_type": "code",
   "execution_count": null,
   "id": "8044c827-8285-455d-9041-118788be6c11",
   "metadata": {},
   "outputs": [],
   "source": [
    "%R mat <- srat_combined@assays$integrated@scale.data"
   ]
  },
  {
   "cell_type": "code",
   "execution_count": null,
   "id": "657b2925-dcbe-4d54-b04d-1a920ddb9179",
   "metadata": {},
   "outputs": [],
   "source": [
    "%%R\n",
    "#srat_combined <- RunPCA(srat_combined)\n",
    "pca <- srat_combined[[\"pca\"]]\n",
    "\n",
    "# Get the total variance:\n",
    "total_variance <- sum(matrixStats::rowVars(mat))\n",
    "\n",
    "eigValues = (pca@stdev)^2  ## EigenValues\n",
    "varExplained = eigValues / total_variance\n",
    "\n",
    "PCs = Loadings(srat_combined, reduction = \"pca\")"
   ]
  },
  {
   "cell_type": "code",
   "execution_count": null,
   "id": "9b6faf23-e695-41ce-9497-4254dc104b4d",
   "metadata": {},
   "outputs": [],
   "source": [
    "%%R -o logcounts -o counts\n",
    "merged = JoinLayers(srat_combined@assays$RNA)\n",
    "counts = merged@layers$counts\n",
    "logcounts = merged@layers$data\n",
    "#counts = srat_combined@assays$integrated@counts"
   ]
  },
  {
   "cell_type": "code",
   "execution_count": null,
   "id": "8a931082-d3a5-4f51-989e-bb7221218093",
   "metadata": {},
   "outputs": [],
   "source": [
    "%%R -o features -o HVG -o varExplained -o PCs -o mat -o obs_names -o PC_embeddings -o sample_origin\n",
    "features = rownames(merged)\n",
    "obs_names = colnames(merged)\n",
    "HVG = rownames(srat_combined@assays$integrated)\n",
    "PC_embeddings = srat_combined@reductions$pca@cell.embeddings\n",
    "sample_origin = srat_combined@meta.data$orig.ident"
   ]
  },
  {
   "cell_type": "code",
   "execution_count": null,
   "id": "dee8379d-f75d-4fde-8809-ccbbcc7bb2a8",
   "metadata": {},
   "outputs": [],
   "source": [
    "import anndata\n",
    "adata = anndata.AnnData(X = logcounts.T)\n",
    "adata.var_names = features\n",
    "adata.obs_names = obs_names\n",
    "adata.uns['scaled'] = mat.T\n",
    "adata.layers['counts'] = counts.T\n",
    "#adata.uns['residuals_genes'] = HVG\n",
    "adata.uns['residuals_genes'] = list(HVG)\n",
    "adata.layers['logcounts'] = logcounts.T\n",
    "adata.obsm['X_pca'] = PC_embeddings\n",
    "adata.obs['sample_origin'] = sample_origin"
   ]
  },
  {
   "cell_type": "code",
   "execution_count": null,
   "id": "6f1fd0a8-35f8-4094-af67-1732f09f1433",
   "metadata": {},
   "outputs": [],
   "source": [
    "adata.obs['n_counts'] = adata.layers['counts'].sum(1)\n",
    "adata.obs['n_genes'] = (adata.layers['counts'] > 0).sum(1)\n",
    "adata.var['highly_variable'] = adata.var_names.isin(HVG)\n",
    "adata.uns['pca'] = dict({'variance_ratio': varExplained})"
   ]
  },
  {
   "cell_type": "code",
   "execution_count": null,
   "id": "7911ab59-132d-460b-a805-9990d9459ea3",
   "metadata": {},
   "outputs": [],
   "source": [
    "mt_gene_mask = [gene.startswith('MT-') for gene in adata.var_names]\n",
    "adata.obs['mt_frac'] = np.array(adata.layers['counts'][:, mt_gene_mask].sum(1).ravel())[0]/adata.obs['n_counts']"
   ]
  },
  {
   "cell_type": "code",
   "execution_count": null,
   "id": "00c373ad-1121-4ddf-bcb4-b0ae22533e6c",
   "metadata": {},
   "outputs": [],
   "source": [
    "ribo_gene_mask = [gene.startswith('RPL') or gene.startswith('RPS') for gene in adata.var_names]\n",
    "adata.obs['ribo_frac'] = np.array(adata.layers['counts'][:, ribo_gene_mask].sum(1).ravel())[0]/adata.obs['n_counts']"
   ]
  },
  {
   "cell_type": "code",
   "execution_count": null,
   "id": "35785b4b-8b8f-4af3-9359-bc3e96bc6fb3",
   "metadata": {},
   "outputs": [],
   "source": [
    "sc.pp.neighbors(adata, n_pcs = 50)"
   ]
  },
  {
   "cell_type": "code",
   "execution_count": null,
   "id": "7475f48f-abdb-4d03-a596-fe369d2ab704",
   "metadata": {},
   "outputs": [],
   "source": [
    "sc.tl.leiden(adata, resolution = 0.8, key_added= 'leiden')"
   ]
  },
  {
   "cell_type": "code",
   "execution_count": null,
   "id": "640e75f0-d7de-43a7-a7f8-af1ff09fc74e",
   "metadata": {},
   "outputs": [],
   "source": [
    "sc.pl.pca(adata, color=['leiden','CD4'], legend_loc = 'on data')"
   ]
  },
  {
   "cell_type": "code",
   "execution_count": null,
   "id": "bb868b7d-4139-45c1-b110-433b92c6689f",
   "metadata": {},
   "outputs": [],
   "source": [
    "%matplotlib inline\n",
    "sc.tl.tsne(adata)"
   ]
  },
  {
   "cell_type": "code",
   "execution_count": null,
   "id": "edffbac8-daa5-474b-b541-b2e0e8ba3bae",
   "metadata": {},
   "outputs": [],
   "source": [
    "plt.rcParams['axes.linewidth'] = 2\n",
    "sc.pl.tsne(adata, color=['leiden','CD3E','CD3G','CD3D','TRDC','ICOS','CD4','CD8A','CD8B','FOXP3','IFNG','RORC','IL17A','IL17F'],legend_loc = 'on data',cmap = my_cmap)"
   ]
  },
  {
   "cell_type": "code",
   "execution_count": null,
   "id": "c26c8790-2675-4b4e-acc3-757cd86a60e4",
   "metadata": {},
   "outputs": [],
   "source": [
    "patient = [i.split('_')[1] for i in adata.obs['sample_origin']]\n",
    "tissue  = [i.split('_')[2] for i in adata.obs['sample_origin']]"
   ]
  },
  {
   "cell_type": "code",
   "execution_count": null,
   "id": "8b1954c2-3290-4e86-aa0f-663d468e9067",
   "metadata": {},
   "outputs": [],
   "source": [
    "bioinfo = pd.read_csv('Bioinfo.csv', header = None, index_col = 0).T\n",
    "bioinfo"
   ]
  },
  {
   "cell_type": "code",
   "execution_count": null,
   "id": "56a0f42d-21c1-45f7-9563-6f1c1f5f49ec",
   "metadata": {},
   "outputs": [],
   "source": [
    "gender_dict = dict(zip(bioinfo['Patient ID'], bioinfo['Gender']))\n",
    "gender = [gender_dict[i] for i in patient]"
   ]
  },
  {
   "cell_type": "code",
   "execution_count": null,
   "id": "6650fdb0-fd89-4427-8dc4-b2bea7c1f420",
   "metadata": {},
   "outputs": [],
   "source": [
    "age_dict = dict(zip(bioinfo['Patient ID'], bioinfo['Age']))\n",
    "age = [age_dict[i] for i in patient]"
   ]
  },
  {
   "cell_type": "code",
   "execution_count": null,
   "id": "5a65bd0d-69c5-4d6f-84d8-c5db7f6d93e4",
   "metadata": {},
   "outputs": [],
   "source": [
    "site_dict = dict(zip(bioinfo['Patient ID'], bioinfo['Site of tumor']))\n",
    "site = [site_dict[i] for i in patient]"
   ]
  },
  {
   "cell_type": "code",
   "execution_count": null,
   "id": "d9a67207-ad91-4e1b-841e-67fa33cc1cae",
   "metadata": {},
   "outputs": [],
   "source": [
    "TNM_dict = dict(zip(bioinfo['Patient ID'], bioinfo['pTNM']))\n",
    "TNM = [TNM_dict[i] for i in patient]"
   ]
  },
  {
   "cell_type": "code",
   "execution_count": null,
   "id": "2f6ae49c-2868-4223-90ba-d2ee38ac0763",
   "metadata": {},
   "outputs": [],
   "source": [
    "stage_dict = dict(zip(bioinfo['Patient ID'], bioinfo['Stage']))\n",
    "stage = [stage_dict[i] for i in patient]"
   ]
  },
  {
   "cell_type": "code",
   "execution_count": null,
   "id": "02993bfe-62b6-4644-b31c-d5e1147420ef",
   "metadata": {},
   "outputs": [],
   "source": [
    "T_dict = dict(zip(bioinfo['Patient ID'], bioinfo['pTNM: T']))\n",
    "T = [T_dict[i] for i in patient]"
   ]
  },
  {
   "cell_type": "code",
   "execution_count": null,
   "id": "bc72d9f1-b1ed-4ef4-9c3d-8ce8bb608403",
   "metadata": {},
   "outputs": [],
   "source": [
    "N_dict = dict(zip(bioinfo['Patient ID'], bioinfo['pTNM: N']))\n",
    "N = [N_dict[i] for i in patient]"
   ]
  },
  {
   "cell_type": "code",
   "execution_count": null,
   "id": "0fa7ab43-f445-455c-9ad4-66e042141558",
   "metadata": {},
   "outputs": [],
   "source": [
    "M_dict = dict(zip(bioinfo['Patient ID'], bioinfo['pTNM: M']))\n",
    "M = [M_dict[i] for i in patient]"
   ]
  },
  {
   "cell_type": "code",
   "execution_count": null,
   "id": "1c623f76-af87-4dae-ad3e-56916a5cd68e",
   "metadata": {},
   "outputs": [],
   "source": [
    "adata.obs['patient'] = patient\n",
    "adata.obs['tissue'] = tissue\n",
    "adata.obs['gender'] = gender\n",
    "adata.obs['age'] = age\n",
    "adata.obs['site'] = site\n",
    "adata.obs['TNM'] = TNM\n",
    "adata.obs['TNM_T'] = T\n",
    "adata.obs['TNM_N'] = N\n",
    "adata.obs['TNM_M'] = M\n",
    "adata.obs['stage'] = stage"
   ]
  },
  {
   "cell_type": "code",
   "execution_count": null,
   "id": "e061d792-d172-4173-8e03-188d1e7cdc6f",
   "metadata": {},
   "outputs": [],
   "source": [
    "sc.pl.tsne(adata,color = ['patient','tissue','gender','age','site','TNM','stage','TNM_T','TNM_N','TNM_M'])"
   ]
  },
  {
   "cell_type": "code",
   "execution_count": null,
   "id": "59fdded8-2ab4-4a88-af0a-046f4745ba29",
   "metadata": {},
   "outputs": [],
   "source": [
    "adata.obs['site']= adata.obs['site'].astype('str')\n",
    "adata.obs['tissue']= adata.obs['tissue'].astype('str')"
   ]
  },
  {
   "cell_type": "code",
   "execution_count": null,
   "id": "1ace057d-96f6-41d9-9572-64b99690de29",
   "metadata": {},
   "outputs": [],
   "source": [
    "adata.obs['TNM_T'] = adata.obs['TNM_T'].astype(str)\n",
    "adata.obs['TNM_N'] = adata.obs['TNM_N'].astype(str)\n",
    "adata.obs['TNM_M'] = adata.obs['TNM_M'].astype(str)\n",
    "adata.obs['TNM'] = adata.obs['TNM'].astype(str)\n",
    "adata.obs['stage'] = adata.obs['stage'].astype(str)\n",
    "adata.obs['stage'][adata.obs['tissue'].isin(['normal'])] = 'N/A'\n",
    "adata.obs['TNM'][adata.obs['tissue'].isin(['normal'])] = 'N/A'\n",
    "adata.obs['TNM_T'][adata.obs['tissue'].isin(['normal'])] = 'N/A'\n",
    "adata.obs['TNM_N'][adata.obs['tissue'].isin(['normal'])] = 'N/A'\n",
    "adata.obs['TNM_M'][adata.obs['tissue'].isin(['normal'])] = 'N/A'"
   ]
  },
  {
   "cell_type": "code",
   "execution_count": null,
   "id": "cb80b299-5fdb-480d-9697-b06ba50406b4",
   "metadata": {},
   "outputs": [],
   "source": [
    "adata.obs[['patient','tissue','gender','age','site','stage','TNM_T','TNM_N','TNM_M']].to_csv('F:/CRC/AA_Done/GSE161277.csv')"
   ]
  },
  {
   "cell_type": "code",
   "execution_count": null,
   "id": "3356dbd3-22e4-47ca-8de5-d0e8951bd143",
   "metadata": {},
   "outputs": [],
   "source": [
    "adata.write('integrated.h5ad')"
   ]
  },
  {
   "cell_type": "code",
   "execution_count": null,
   "id": "5bd277d7-71fd-4407-a7cb-66d04316da39",
   "metadata": {},
   "outputs": [],
   "source": [
    "potential_gd = adata[adata.obs['leiden'].isin(['0','5','25','11','1','7']),:]"
   ]
  },
  {
   "cell_type": "code",
   "execution_count": null,
   "id": "de03b8e7-ee8b-4b97-ab4f-bb91bc6ac89d",
   "metadata": {},
   "outputs": [],
   "source": [
    "sc.pl.tsne(potential_gd, color=['leiden','CD3E','CD3G','CD3D','TRDC','ICOS','CD4','CD8A','CD8B','FOXP3','IFNG','RORC','IL17A','IL17F'],legend_loc = 'on data',cmap = my_cmap)"
   ]
  },
  {
   "cell_type": "code",
   "execution_count": null,
   "id": "3f455335",
   "metadata": {},
   "outputs": [],
   "source": [
    "sc.pp.highly_variable_genes(potential_gd, flavor='seurat', n_top_genes=3000)\n",
    "sc.pp.pca(potential_gd, n_comps=50, use_highly_variable=True, svd_solver='arpack')"
   ]
  },
  {
   "cell_type": "code",
   "execution_count": null,
   "id": "ea6380c2",
   "metadata": {},
   "outputs": [],
   "source": [
    "sc.pp.neighbors(potential_gd, n_neighbors = 15, n_pcs = 50)\n",
    "sc.tl.leiden(potential_gd, resolution = 1, key_added= 'leiden')                                                 "
   ]
  },
  {
   "cell_type": "code",
   "execution_count": null,
   "id": "a71612cb",
   "metadata": {},
   "outputs": [],
   "source": [
    "sc.tl.tsne(potential_gd)"
   ]
  },
  {
   "cell_type": "code",
   "execution_count": null,
   "id": "383e52e5",
   "metadata": {},
   "outputs": [],
   "source": [
    "%matplotlib inline\n",
    "sc.pl.tsne(potential_gd, color=['leiden','CD3E','CD3G','CD3D','TRDC',\n",
    "                                'ICOS','CD4','CD8A','CD8B','FOXP3','IFNG','RORC','IL17A','IL17F'],\n",
    "           legend_loc = 'on data',cmap = my_cmap)"
   ]
  },
  {
   "cell_type": "code",
   "execution_count": null,
   "id": "e48d46e0-05ca-43c9-af4f-53f49fe1caba",
   "metadata": {},
   "outputs": [],
   "source": [
    "potential_gd = potential_gd[potential_gd.obs['leiden'].isin(['3','11','23','9']),:]"
   ]
  },
  {
   "cell_type": "code",
   "execution_count": null,
   "id": "a299008b-0170-42c5-b9ce-06f8df11885d",
   "metadata": {},
   "outputs": [],
   "source": [
    "sc.pp.highly_variable_genes(potential_gd, flavor='seurat', n_top_genes=3000)\n",
    "sc.pp.pca(potential_gd, n_comps=50, use_highly_variable=True, svd_solver='arpack')"
   ]
  },
  {
   "cell_type": "code",
   "execution_count": null,
   "id": "08be6f94-fa6b-413a-884e-c574c1bb16bb",
   "metadata": {},
   "outputs": [],
   "source": [
    "sc.pp.neighbors(potential_gd, n_neighbors = 15, n_pcs = 50)\n",
    "sc.tl.leiden(potential_gd, resolution = 1, key_added= 'leiden')                                                 "
   ]
  },
  {
   "cell_type": "code",
   "execution_count": null,
   "id": "4d2e1111-0c61-4993-94f5-ad201e4a81cb",
   "metadata": {},
   "outputs": [],
   "source": [
    "sc.tl.tsne(potential_gd)"
   ]
  },
  {
   "cell_type": "code",
   "execution_count": null,
   "id": "2170815c-3998-4b04-987e-52634a3528fc",
   "metadata": {},
   "outputs": [],
   "source": [
    "%matplotlib inline\n",
    "sc.pl.tsne(potential_gd, color=['leiden','CD3E','CD3G','CD3D','TRDC',\n",
    "                                'ICOS','CD4','CD8A','CD8B','FOXP3','IFNG','RORC','IL17A','IL17F'],\n",
    "           legend_loc = 'on data',cmap = my_cmap)"
   ]
  },
  {
   "cell_type": "code",
   "execution_count": null,
   "id": "c94d90a9-571d-4aa8-90da-fd84d243ab56",
   "metadata": {},
   "outputs": [],
   "source": [
    "plt.rcParams['figure.figsize'] = [8,8]\n",
    "sc.tl.leiden(potential_gd, restrict_to = ('leiden', ['1']), resolution = 0.5, key_added= 'leiden1')\n",
    "sc.pl.tsne(potential_gd, color=['leiden1','CD3E','CD3G','CD3D','TRDC','RORC'], size = 50, legend_loc = 'on data', cmap = my_cmap)"
   ]
  },
  {
   "cell_type": "code",
   "execution_count": null,
   "id": "0e54bfb0-254c-473b-8d87-7996cdefd08b",
   "metadata": {},
   "outputs": [],
   "source": [
    "plt.rcParams['figure.figsize'] = [8,8]\n",
    "sc.tl.leiden(potential_gd, restrict_to = ('leiden1', ['4']), resolution = 0.5, key_added= 'leiden2')\n",
    "sc.pl.tsne(potential_gd, color=['leiden2','CD3E','CD3G','CD3D','TRDC','RORC'], size = 40, legend_loc = 'on data', cmap = my_cmap)"
   ]
  },
  {
   "cell_type": "code",
   "execution_count": null,
   "id": "73820a46-ee01-4a92-a765-fc2276e9134d",
   "metadata": {
    "tags": []
   },
   "outputs": [],
   "source": [
    "plt.rcParams['figure.figsize'] = [8,8]\n",
    "sc.tl.leiden(potential_gd, restrict_to = ('leiden2', ['3']), resolution = 0.6, key_added= 'leiden3')\n",
    "sc.pl.tsne(potential_gd, color=['leiden3','CD3E','CD3G','CD3D','TRDC','RORC'], size = 40, legend_loc = 'on data', cmap = my_cmap)"
   ]
  },
  {
   "cell_type": "code",
   "execution_count": null,
   "id": "cc2c8ce9-868c-4bca-b11d-94abd5c0880c",
   "metadata": {},
   "outputs": [],
   "source": [
    "gamma_genesmask = [gene.startswith(\"TRG\") for gene in potential_gd.var_names]\n",
    "gamma_genes = potential_gd.var_names[gamma_genesmask]\n",
    "delta_genesmask = [gene.startswith(\"TRD\") for gene in potential_gd.var_names]\n",
    "delta_genes = potential_gd.var_names[delta_genesmask]"
   ]
  },
  {
   "cell_type": "code",
   "execution_count": null,
   "id": "32dc9ecb-8db8-43e9-bac2-a6cd65303b6a",
   "metadata": {},
   "outputs": [],
   "source": [
    "TCR_exp_set ={\n",
    "\"gamma\": gamma_genes, \"delta\": delta_genes, \"CD3S\": ['CD3E','CD3D','CD3G']\n",
    "}\n",
    "sc.pl.dotplot(potential_gd,TCR_exp_set,groupby = 'leiden2' , vmax = 1, swap_axes = False, dot_min =0, dot_max =1,standard_scale = 'var')"
   ]
  },
  {
   "cell_type": "code",
   "execution_count": null,
   "id": "234e5472-9c60-485d-9942-ade2434a92aa",
   "metadata": {},
   "outputs": [],
   "source": [
    "gd = potential_gd[potential_gd.obs['leiden2'].isin(['1','3','5,1','6,1']),:]"
   ]
  },
  {
   "cell_type": "code",
   "execution_count": null,
   "id": "6e28cc88-ea83-4f26-889b-9ed7a9395f6c",
   "metadata": {},
   "outputs": [],
   "source": [
    "sc.pl.dotplot(gd,TCR_exp_set,groupby = 'leiden2' , vmax = 1, swap_axes = False, dot_min =0, dot_max =1,standard_scale = 'var')"
   ]
  },
  {
   "cell_type": "code",
   "execution_count": null,
   "id": "1b153b3d-5268-4da5-8b38-89131ec7a5c5",
   "metadata": {},
   "outputs": [],
   "source": [
    "gd.write('F:/CRC/GSE161277_Adenoma/GSE161277_Adenoma_gd.h5ad')"
   ]
  },
  {
   "cell_type": "code",
   "execution_count": null,
   "id": "f9e9ffbd-1053-46dd-acf0-9cbe4c69d5d9",
   "metadata": {},
   "outputs": [],
   "source": [
    "IL17_genesmask = [gene.startswith(\"IL17\") and gene.startswith(\"IL17R\")==0 for gene in potential_gd.var_names]\n",
    "IL17_genes = potential_gd.var_names[IL17_genesmask]\n",
    "IL17_exp_set ={\n",
    "    'cytokine': IL17_genes, 'TF': 'RORC'\n",
    "}\n",
    "sc.pl.dotplot(potential_gd,IL17_exp_set,groupby = 'leiden2' , vmax = 1, swap_axes = False, dot_min =0.1, dot_max =1,standard_scale = 'var')"
   ]
  },
  {
   "cell_type": "code",
   "execution_count": null,
   "id": "891e4e4b-bcbc-4367-9b45-e32cdf8b54b9",
   "metadata": {},
   "outputs": [],
   "source": [
    "IL17pos = potential_gd[potential_gd.obs['leiden2'].isin(['0','1,2','4,0','4,1','4,2','8','9']),:]"
   ]
  },
  {
   "cell_type": "code",
   "execution_count": null,
   "id": "42a6488f-9a31-44b4-bc58-80a8dd83ab75",
   "metadata": {},
   "outputs": [],
   "source": [
    "IL17pos.write('GSE161277_Adenoma_T17.h5ad')"
   ]
  },
  {
   "cell_type": "code",
   "execution_count": null,
   "id": "14a56736-025e-4d23-8c53-f5df1ff033c2",
   "metadata": {},
   "outputs": [],
   "source": [
    "adata_T17 = sc.read_h5ad('GSE161277_Adenoma_T17.h5ad')"
   ]
  },
  {
   "cell_type": "code",
   "execution_count": null,
   "id": "476c3337-20ab-4264-a956-3c11a321a475",
   "metadata": {},
   "outputs": [],
   "source": [
    "adata_T17.obs[['patient','tissue','gender','age','site','stage','TNM_T','TNM_N','TNM_M']].to_csv('F:/CRC/AA_Done/GSE161277_T17.csv')"
   ]
  },
  {
   "cell_type": "code",
   "execution_count": null,
   "id": "1fea3b8e-f6b2-4ce8-b86e-dc78becccb04",
   "metadata": {},
   "outputs": [],
   "source": [
    "sc.pl.tsne(gd,color = ['RORC','IL17A'],cmap = my_cmap)"
   ]
  },
  {
   "cell_type": "code",
   "execution_count": null,
   "id": "16c8e2c1-aeab-4f14-9011-eadef33d7f8a",
   "metadata": {},
   "outputs": [],
   "source": [
    "adata_gd = sc.read_h5ad('GSE161277_Adenoma_gd.h5ad')"
   ]
  },
  {
   "cell_type": "code",
   "execution_count": null,
   "id": "47cb5bda-973e-437f-a0de-688a48f8b413",
   "metadata": {},
   "outputs": [],
   "source": [
    "patient = [i.split('_')[1] for i in adata_gd.obs['sample_origin']]"
   ]
  },
  {
   "cell_type": "code",
   "execution_count": null,
   "id": "26d0648a-6de5-4a1e-a1a7-a700a8ade7d9",
   "metadata": {},
   "outputs": [],
   "source": [
    "bioinfo = pd.read_csv('Bioinfo.csv', header = None, index_col = 0).T\n",
    "bioinfo"
   ]
  },
  {
   "cell_type": "code",
   "execution_count": null,
   "id": "499e3cd2-b603-4210-81d6-b15a03e931b0",
   "metadata": {},
   "outputs": [],
   "source": [
    "gender_dict = dict(zip(bioinfo['Patient ID'], bioinfo['Gender']))\n",
    "gender = [gender_dict[i] for i in patient]"
   ]
  },
  {
   "cell_type": "code",
   "execution_count": null,
   "id": "13de9715-2202-4c50-90a2-f28c43b9ae8a",
   "metadata": {},
   "outputs": [],
   "source": [
    "age_dict = dict(zip(bioinfo['Patient ID'], bioinfo['Age']))\n",
    "age = [age_dict[i] for i in patient]"
   ]
  },
  {
   "cell_type": "code",
   "execution_count": null,
   "id": "b48bbf59-2f1d-42f7-88ee-bc1ba6760467",
   "metadata": {},
   "outputs": [],
   "source": [
    "site_dict = dict(zip(bioinfo['Patient ID'], bioinfo['Site of tumor']))\n",
    "site = [site_dict[i] for i in patient]"
   ]
  },
  {
   "cell_type": "code",
   "execution_count": null,
   "id": "5770761d-4c13-4539-840f-a6c41cab28e2",
   "metadata": {},
   "outputs": [],
   "source": [
    "TNM_dict = dict(zip(bioinfo['Patient ID'], bioinfo['pTNM']))\n",
    "TNM = [TNM_dict[i] for i in patient]"
   ]
  },
  {
   "cell_type": "code",
   "execution_count": null,
   "id": "9d759306-f373-4277-9cb5-1dbf8eda92d7",
   "metadata": {},
   "outputs": [],
   "source": [
    "stage_dict = dict(zip(bioinfo['Patient ID'], bioinfo['Stage']))\n",
    "stage = [stage_dict[i] for i in patient]"
   ]
  },
  {
   "cell_type": "code",
   "execution_count": null,
   "id": "dd68411c-e7b6-4d52-b9cb-67d4ee31008c",
   "metadata": {},
   "outputs": [],
   "source": [
    "T_dict = dict(zip(bioinfo['Patient ID'], bioinfo['pTNM: T']))\n",
    "T = [T_dict[i] for i in patient]"
   ]
  },
  {
   "cell_type": "code",
   "execution_count": null,
   "id": "93964d1b-60ab-4012-aa22-7631a5c798da",
   "metadata": {},
   "outputs": [],
   "source": [
    "N_dict = dict(zip(bioinfo['Patient ID'], bioinfo['pTNM: N']))\n",
    "N = [N_dict[i] for i in patient]"
   ]
  },
  {
   "cell_type": "code",
   "execution_count": null,
   "id": "d9a1c238-3605-4c87-8e07-23504b321852",
   "metadata": {},
   "outputs": [],
   "source": [
    "M_dict = dict(zip(bioinfo['Patient ID'], bioinfo['pTNM: M']))\n",
    "M = [M_dict[i] for i in patient]"
   ]
  },
  {
   "cell_type": "code",
   "execution_count": null,
   "id": "a77c01ba-d25d-4fc2-9471-f5d4ffc47468",
   "metadata": {},
   "outputs": [],
   "source": [
    "adata_gd.obs['patient'] = patient\n",
    "adata_gd.obs['tissue'] = tissue\n",
    "adata_gd.obs['gender'] = gender\n",
    "adata_gd.obs['age'] = age\n",
    "adata_gd.obs['site'] = site\n",
    "adata_gd.obs['TNM'] = TNM\n",
    "adata_gd.obs['TNM_T'] = T\n",
    "adata_gd.obs['TNM_N'] = N\n",
    "adata_gd.obs['TNM_M'] = M\n",
    "adata_gd.obs['stage'] = stage"
   ]
  },
  {
   "cell_type": "code",
   "execution_count": null,
   "id": "71b16b14-d991-4048-883a-090ffa5289ee",
   "metadata": {},
   "outputs": [],
   "source": [
    "sc.pl.tsne(adata_gd,color = ['patient','tissue','gender','age','site','TNM','stage','TNM_T','TNM_N','TNM_M'])"
   ]
  },
  {
   "cell_type": "code",
   "execution_count": null,
   "id": "660a5c2e-3831-4917-bfae-d628182844e3",
   "metadata": {},
   "outputs": [],
   "source": [
    "adata_gd.obs['site']= adata_gd.obs['site'].astype('str')\n",
    "adata_gd.obs['tissue']= adata_gd.obs['tissue'].astype('str')"
   ]
  },
  {
   "cell_type": "code",
   "execution_count": null,
   "id": "ea79acda-3e09-4bed-a4f2-9e8f350923f8",
   "metadata": {},
   "outputs": [],
   "source": [
    "adata_gd.obs['TNM_T'] = adata_gd.obs['TNM_T'].astype(str)\n",
    "adata_gd.obs['TNM_N'] = adata_gd.obs['TNM_N'].astype(str)\n",
    "adata_gd.obs['TNM_M'] = adata_gd.obs['TNM_M'].astype(str)\n",
    "adata_gd.obs['TNM'] = adata_gd.obs['TNM'].astype(str)\n",
    "adata_gd.obs['stage'] = adata_gd.obs['stage'].astype(str)\n",
    "adata_gd.obs['stage'][adata_gd.obs['tissue'].isin(['normal'])] = 'N/A'\n",
    "adata_gd.obs['TNM'][adata_gd.obs['tissue'].isin(['normal'])] = 'N/A'\n",
    "adata_gd.obs['TNM_T'][adata_gd.obs['tissue'].isin(['normal'])] = 'N/A'\n",
    "adata_gd.obs['TNM_N'][adata_gd.obs['tissue'].isin(['normal'])] = 'N/A'\n",
    "adata_gd.obs['TNM_M'][adata_gd.obs['tissue'].isin(['normal'])] = 'N/A'"
   ]
  },
  {
   "cell_type": "code",
   "execution_count": null,
   "id": "eb41014c-f14f-4d4a-987a-fb97c1abf710",
   "metadata": {},
   "outputs": [],
   "source": [
    "adata_gd.obs[['patient','tissue','gender','age','site','TNM','stage','TNM_T','TNM_N','TNM_M']].to_csv('F:/CRC/AA_Done/GSE161277_gd.csv')"
   ]
  },
  {
   "cell_type": "code",
   "execution_count": null,
   "id": "6c2f4dc3-9acd-460d-aaf3-dba3d9d87a59",
   "metadata": {},
   "outputs": [],
   "source": [
    "adata_gd.write('GSE161277_gd.h5ad')"
   ]
  },
  {
   "cell_type": "code",
   "execution_count": null,
   "id": "957d2f9c-0676-42c9-9a0e-acc98b028372",
   "metadata": {},
   "outputs": [],
   "source": []
  },
  {
   "cell_type": "code",
   "execution_count": null,
   "id": "0df166c6-07c3-42d4-9c12-6ed201b4f7a0",
   "metadata": {},
   "outputs": [],
   "source": [
    "from matplotlib.colors import LinearSegmentedColormap\n",
    "values = [0,1]\n",
    "colors = [(227, 227, 227), (255, 42, 18)]\n",
    "norm = plt.Normalize(min(values), max(values))\n",
    "my_cmap = LinearSegmentedColormap.from_list(\n",
    "    '', [(norm(value), tuple(np.array(color) / 255)) for value, color in zip(values, colors)])"
   ]
  },
  {
   "cell_type": "code",
   "execution_count": null,
   "id": "4104d8b7-4e60-4f26-aa5d-59a0b62ea7f7",
   "metadata": {},
   "outputs": [],
   "source": [
    "#adata = sc.read_h5ad('integrated.h5ad')\n",
    "#adata_17 = sc.read_h5ad('GSE161277_Adenoma_T17.h5ad')\n",
    "adata_gd = sc.read_h5ad('GSE161277_gd.h5ad')"
   ]
  },
  {
   "cell_type": "code",
   "execution_count": null,
   "id": "7376b304-5729-472c-b2bd-65e4fccb3334",
   "metadata": {},
   "outputs": [],
   "source": [
    "adata.obs['IL17 secreting selected'] = '0'\n",
    "adata.obs['IL17 secreting selected'][adata.obs_names.isin(adata_17.obs_names)] = '1'"
   ]
  },
  {
   "cell_type": "code",
   "execution_count": null,
   "id": "116b6bea-597d-4cd5-811e-412c325ea206",
   "metadata": {},
   "outputs": [],
   "source": [
    "adata.obs['gdT selected'] = '0'\n",
    "adata.obs['gdT selected'][adata.obs_names.isin(adata_gd.obs_names)] = '1'"
   ]
  },
  {
   "cell_type": "code",
   "execution_count": null,
   "id": "1c68b063-d499-4bcf-8c59-034c7e7e385c",
   "metadata": {},
   "outputs": [],
   "source": [
    "plt.close()\n",
    "plt.rcParams['axes.linewidth'] = 2\n",
    "plt.rcParams['figure.figsize'] = [8,8]\n",
    "fig = sc.pl.tsne(adata, color=['RORC','IL17A','IL17F','IL17 secreting selected'],\n",
    "                 size =20, ncols = 2, palette = ['#E3E3E3', '#FF2A12'], cmap = my_cmap, return_fig = True, legend_fontsize = 'large')\n",
    "ax = fig.get_axes()\n",
    "for i in range(0,len(ax)):\n",
    "    ax[i].xaxis.label.set_fontsize(22)\n",
    "    ax[i].xaxis.label.set_fontweight('bold')\n",
    "    ax[i].yaxis.label.set_fontsize(22)\n",
    "    ax[i].title.set_fontsize(30)\n",
    "    ax[i].yaxis.label.set_fontweight('bold')\n",
    "    ax[i].title.set_fontweight('bold')\n",
    "fig.savefig('17_selected.png',dpi = 300,bbox_inches='tight') "
   ]
  },
  {
   "cell_type": "code",
   "execution_count": null,
   "id": "f179462c-3a68-4b60-b5ba-e40d15f76a2f",
   "metadata": {},
   "outputs": [],
   "source": [
    "plt.close()\n",
    "plt.rcParams['axes.linewidth'] = 2\n",
    "plt.rcParams['figure.figsize'] = [8,8]\n",
    "fig = sc.pl.tsne(adata, color=['CD3E','CD3D','CD3G','CD247','TRDC','gdT selected'],\n",
    "                 size =20, ncols = 2, palette = ['#E3E3E3', '#FF2A12'], cmap = my_cmap, return_fig = True, legend_fontsize = 'large')\n",
    "ax = fig.get_axes()\n",
    "for i in range(0,len(ax)):\n",
    "    ax[i].xaxis.label.set_fontsize(22)\n",
    "    ax[i].xaxis.label.set_fontweight('bold')\n",
    "    ax[i].yaxis.label.set_fontsize(22)\n",
    "    ax[i].title.set_fontsize(30)\n",
    "    ax[i].yaxis.label.set_fontweight('bold')\n",
    "    ax[i].title.set_fontweight('bold')\n",
    "fig.savefig('gd_selected.png',dpi = 300,bbox_inches='tight') "
   ]
  },
  {
   "cell_type": "code",
   "execution_count": null,
   "id": "30713d7c-ce14-4867-8f4b-219f06a72de9",
   "metadata": {},
   "outputs": [],
   "source": []
  }
 ],
 "metadata": {
  "kernelspec": {
   "display_name": "Python 3 (ipykernel)",
   "language": "python",
   "name": "python3"
  },
  "language_info": {
   "codemirror_mode": {
    "name": "ipython",
    "version": 3
   },
   "file_extension": ".py",
   "mimetype": "text/x-python",
   "name": "python",
   "nbconvert_exporter": "python",
   "pygments_lexer": "ipython3",
   "version": "3.9.13"
  }
 },
 "nbformat": 4,
 "nbformat_minor": 5
}
