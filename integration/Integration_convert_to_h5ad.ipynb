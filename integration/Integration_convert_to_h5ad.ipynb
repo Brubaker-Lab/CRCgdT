{
 "cells": [
  {
   "cell_type": "code",
   "execution_count": null,
   "metadata": {},
   "outputs": [],
   "source": [
    "%%R \n",
    "srat_combined = readRDS('integrated_data.rds') # The output of SCTransform\n",
    "HVG = VariableFeatures(srat_combined)"
   ]
  },
  {
   "cell_type": "code",
   "execution_count": null,
   "metadata": {},
   "outputs": [
    {
     "data": {
      "text/plain": [
       "array([[-2.6937571 , -2.45442555, -2.43574886, ..., 10.        ,\n",
       "        -0.22105828,  5.97981812],\n",
       "       [-2.28048602, -3.18019692, -2.68573542, ...,  7.54522133,\n",
       "        10.        , 10.        ],\n",
       "       [-0.94005987,  1.67083964, -0.40994753, ..., -0.71351776,\n",
       "         7.70982643, -0.64411865],\n",
       "       ...,\n",
       "       [ 0.1888066 , -0.36333327, -0.23790177, ..., -0.28515844,\n",
       "        -0.55464638, -0.42498454],\n",
       "       [-0.14404412, -0.23095836, -0.3972117 , ..., -0.26328313,\n",
       "        -0.22352942, -0.46534847],\n",
       "       [-0.11213089,  0.03447263,  0.03982213, ...,  0.01214038,\n",
       "        -0.2127177 , -0.26438226]])"
      ]
     },
     "metadata": {},
     "output_type": "display_data"
    }
   ],
   "source": [
    "%R mat <- srat_combined@assays$integrated@scale.data\n",
    "# The SCT residuals"
   ]
  },
  {
   "cell_type": "code",
   "execution_count": null,
   "metadata": {},
   "outputs": [],
   "source": [
    "%%R -o metadata\n",
    "metadata = srat_combined@meta.data\n",
    "#get the metadata"
   ]
  },
  {
   "cell_type": "code",
   "execution_count": null,
   "metadata": {},
   "outputs": [],
   "source": [
    "%%R\n",
    "srat_combined <- RunPCA(srat_combined)\n",
    "pca <- srat_combined[[\"pca\"]]\n",
    "\n",
    "# Get the total variance:\n",
    "total_variance <- sum(matrixStats::rowVars(mat))\n",
    "\n",
    "eigValues = (pca@stdev)^2  ## EigenValues\n",
    "varExplained = eigValues / total_variance\n",
    "\n",
    "PCs = Loadings(srat_combined, reduction = \"pca\")"
   ]
  },
  {
   "cell_type": "code",
   "execution_count": null,
   "metadata": {},
   "outputs": [],
   "source": [
    "%%R -o logcounts -o counts\n",
    "counts = srat_combined[[\"SCT\"]]@counts #SCT corrected counts\n",
    "logcounts = srat_combined[[\"SCT\"]]@data # log1p SCT corrected counts"
   ]
  },
  {
   "cell_type": "code",
   "execution_count": null,
   "metadata": {},
   "outputs": [],
   "source": [
    "%%R -o features -o HVG -o varExplained -o PCs -o mat -o obs_names -o PC_embeddings\n",
    "features = rownames(srat_combined[[\"SCT\"]])\n",
    "obs_names = colnames(srat_combined[[\"SCT\"]])\n",
    "HVG = rownames(srat_combined@assays$integrated)\n",
    "PC_embeddings = srat_combined@reductions$pca@cell.embeddings"
   ]
  },
  {
   "cell_type": "code",
   "execution_count": null,
   "metadata": {},
   "outputs": [],
   "source": [
    "#Remeber to do the transpose when back from R to python!\n",
    "import anndata\n",
    "adata = anndata.AnnData(X = logcounts.T)\n",
    "adata.var_names = features\n",
    "adata.obs_names = obs_names\n",
    "adata.obs = metadata\n",
    "adata.uns['scaled'] = mat.T \n",
    "adata.layers['counts'] = counts.T\n",
    "adata.uns['residuals_genes'] = HVG\n",
    "adata.uns['residuals_genes'] = list(HVG)\n",
    "adata.layers['logcounts'] = logcounts.T\n",
    "adata.obsm['X_pca'] = PC_embeddings"
   ]
  },
  {
   "cell_type": "code",
   "execution_count": null,
   "metadata": {},
   "outputs": [],
   "source": [
    "adata.obs['n_counts'] = adata.layers['counts'].sum(1)\n",
    "adata.obs['n_genes'] = (adata.layers['counts'] > 0).sum(1)\n",
    "adata.var['highly_variable'] = adata.var_names.isin(HVG)\n",
    "adata.uns['pca'] = dict({'variance_ratio': varExplained})"
   ]
  }
 ],
 "metadata": {
  "language_info": {
   "name": "python"
  }
 },
 "nbformat": 4,
 "nbformat_minor": 2
}
