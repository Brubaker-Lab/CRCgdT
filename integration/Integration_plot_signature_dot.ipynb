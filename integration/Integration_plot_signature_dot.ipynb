{
 "cells": [
  {
   "cell_type": "code",
   "execution_count": null,
   "metadata": {},
   "outputs": [],
   "source": [
    "plt.rcParams.update({'font.size': 15, 'font.weight': 'heavy','axes.linewidth':2})\n",
    "#plt.rcParams.update(plt.rcParamsDefault)\n",
    "\n",
    "gene_list = dict({ 'IL':['IL17A','IL17F'], \n",
    "      'Regulators': ['RORC','RUNX1','IRF4','BATF','KLF4','STAT3'],\n",
    "      'Sanchez et al' : ['IL23R','CCR6','MAF','AHR','CLEC7A','RORA','SLAMF1','BLK','JAML','CXCR6','DPP4'],\n",
    "      'Tan et al': ['CD9','LGALS3','IL2RA','SOX13','S100A6','IL18R1','ICOS']\n",
    "})\n",
    "\n",
    "sc.pl.dotplot(adata,gene_list,groupby = 'cell type' , vmax = 1, \n",
    "              swap_axes = True ,dot_min = 0.1,standard_scale = 'var',figsize = (4,12), save= 'IL17_secretion_signature.png')"
   ]
  },
  {
   "cell_type": "code",
   "execution_count": null,
   "metadata": {},
   "outputs": [],
   "source": [
    "plt.rcParams.update({'font.size': 12, 'font.weight': 'heavy','axes.linewidth':2})\n",
    "#plt.rcParams.update(plt.rcParamsDefault)\n",
    "\n",
    "gene_list = ['CD3E','CD3G','CD3D','CD247','TRDC','CD4','CD8A','CD8B','CCR7','SELL','IL7R','TCF7','S1PR1','KLF2',\n",
    "                    'ITGAE','ITGA1','ITGB2','KLRG1','KLRB1','KLRC1','KLRF1','KLRK1','GZMA','GZMB','GZMK','GZMH','CCL4','NKG7','PRF1',\n",
    "                         'XCL1','CX3CR1','FCGR3A','FGFBP2','HSPA6','BAG3','TNF','IFNG','IL2','IL2RA','FOXP3','ENTPD1','CD274','PDCD1','CTLA4','LAG3','HAVCR2','TIGIT',\n",
    "             'CD244','BTLA','CXCR5','CXCL13','IKZF2','RORC','IL17A',\n",
    "             'GNLY','KIT','ZNF683','PRDM1','TBX21','ID3','BCL6','MKI67','FCER1G','TNFRSF9','TNFSF10','MYO7A','HLA-DRA','HLA-DRB5']\n",
    "sc.pl.dotplot(adata,gene_list,groupby = 'cell type' , vmax = 1, \n",
    "              swap_axes = True ,dot_min = 0.1,standard_scale = 'var',figsize = (4,15), save= 'inference_dot_gd.png')"
   ]
  }
 ],
 "metadata": {
  "language_info": {
   "name": "python"
  }
 },
 "nbformat": 4,
 "nbformat_minor": 2
}
