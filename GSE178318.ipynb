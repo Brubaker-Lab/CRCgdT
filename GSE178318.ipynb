{
 "cells": [
  {
   "cell_type": "code",
   "execution_count": null,
   "id": "f13638bc-abe0-4826-9f3c-a2baf5654b42",
   "metadata": {
    "tags": []
   },
   "outputs": [],
   "source": [
    "#import the library\n",
    "import scanpy as sc\n",
    "import numpy as np\n",
    "import scipy as sp\n",
    "import pandas as pd\n",
    "import matplotlib.pyplot as plt\n",
    "from matplotlib import rcParams\n",
    "from matplotlib import colors\n",
    "import seaborn as sb\n",
    "from gprofiler import GProfiler\n",
    "import seaborn as sns\n",
    "import rpy2.rinterface_lib.callbacks\n",
    "import logging\n",
    "import tensorflow as tf\n",
    "import os\n",
    "\n",
    "from rpy2.robjects import pandas2ri\n",
    "import anndata2ri\n",
    "\n",
    "import importlib\n",
    "import warnings\n",
    "warnings.filterwarnings(\"ignore\")\n",
    "import pickle as pkl\n",
    "from matplotlib.colors import LinearSegmentedColormap"
   ]
  },
  {
   "cell_type": "code",
   "execution_count": null,
   "id": "574c8897-3e87-4c33-ae01-fce98f0e95ea",
   "metadata": {},
   "outputs": [],
   "source": [
    "def print_full(x):\n",
    "    pd.set_option('display.max_rows', len(x))\n",
    "    print(x)\n",
    "    pd.reset_option('display.max_rows')"
   ]
  },
  {
   "cell_type": "code",
   "execution_count": null,
   "id": "0418a856-2469-4df9-9369-9130de20e873",
   "metadata": {},
   "outputs": [],
   "source": [
    "#This pallete is for colorblinds\n",
    "my_palette = ['#0351A8','#8CB0E0','#D56D11','#FFBB78','#234E08','#53CB8B','#D30083','#CB788D','#4E195A','#C58CCF','#AA290F','#B03FD1','#E8BCCF','#64605F','#B2AD9A','#D2D30B','#D1BD4F','#06DCF2','#9EDAE5','#517219','#5B43CF','#D92F24','#FFD900','#002F33','#B8A3A3']"
   ]
  },
  {
   "cell_type": "code",
   "execution_count": null,
   "id": "b59afc45-e946-446f-aa9e-0f0db636c96f",
   "metadata": {},
   "outputs": [],
   "source": [
    "from matplotlib.colors import LinearSegmentedColormap\n",
    "values = [0,1]\n",
    "colors = [(227, 227, 227), (255, 42, 18)]\n",
    "norm = plt.Normalize(min(values), max(values))\n",
    "my_cmap = LinearSegmentedColormap.from_list(\n",
    "    '', [(norm(value), tuple(np.array(color) / 255)) for value, color in zip(values, colors)])"
   ]
  },
  {
   "cell_type": "code",
   "execution_count": null,
   "id": "587e81c1-2f3b-4405-823d-a992827d0479",
   "metadata": {
    "tags": []
   },
   "outputs": [],
   "source": [
    "# Ignore R warning messages\n",
    "#Note: this can be commented out to get more verbose R output\n",
    "rpy2.rinterface_lib.callbacks.logger.setLevel(logging.ERROR)\n",
    "\n",
    "# Automatically convert rpy2 outputs to pandas dataframes\n",
    "pandas2ri.activate()\n",
    "anndata2ri.activate()\n",
    "%load_ext rpy2.ipython"
   ]
  },
  {
   "cell_type": "code",
   "execution_count": null,
   "id": "c028cf1f-4f2b-45d2-b7e1-a6e996cb4e6b",
   "metadata": {
    "tags": []
   },
   "outputs": [],
   "source": [
    "plt.rcParams['figure.figsize']=(8,8) #rescale figures\n",
    "sc.settings.verbosity = 3\n",
    "#sc.set_figure_params(dpi=200, dpi_save=300)\n",
    "sc.logging.print_versions()"
   ]
  },
  {
   "cell_type": "code",
   "execution_count": null,
   "id": "0b89cc09-13a4-46be-ac4a-90aaf549b341",
   "metadata": {
    "tags": []
   },
   "outputs": [],
   "source": [
    "%%R\n",
    "# Load libraries from correct lib Paths for my environment - ignore this!\n",
    ".libPaths(.libPaths('C:\\\\Users\\\\16220\\\\AppData\\\\Local\\\\R\\\\win-library\\\\4.3'))\n",
    "\n",
    "# Load all the R libraries we will be using in the notebook\n",
    "library(scran)\n",
    "library(Seurat)\n",
    "library(RColorBrewer)\n",
    "library(slingshot)\n",
    "library(monocle)\n",
    "library(gam)\n",
    "library(ggplot2)\n",
    "library(plyr)\n",
    "library(MAST)\n",
    "library(clusterExperiment)\n",
    "library(monocle3)\n",
    "library(SeuratWrappers)\n",
    "library(magrittr) # needs to be run every time you start R and want to use %>%\n",
    "library(dplyr)    # alternatively, this also loads %>%"
   ]
  },
  {
   "cell_type": "markdown",
   "id": "e350b17f-8f1b-4ba6-a95d-1f4b45060a53",
   "metadata": {},
   "source": [
    "#### For quick loading"
   ]
  },
  {
   "cell_type": "code",
   "execution_count": null,
   "id": "4e713138-a565-453e-b473-28c2c25ad43c",
   "metadata": {},
   "outputs": [],
   "source": [
    "adata =sc.read_h5ad('GSE178318_processed.h5ad')"
   ]
  },
  {
   "cell_type": "markdown",
   "id": "bf1962fc-b707-4195-8f55-0e2ccdab7aad",
   "metadata": {},
   "source": [
    "#### Load the R data we just got"
   ]
  },
  {
   "cell_type": "code",
   "execution_count": null,
   "id": "586ee7d3-29d5-4a2b-ba57-8706fe56d047",
   "metadata": {
    "tags": []
   },
   "outputs": [],
   "source": [
    "%%R \n",
    "srat_combined = readRDS('processed_GSE178318.rds')"
   ]
  },
  {
   "cell_type": "code",
   "execution_count": null,
   "id": "b6876af2-7ecf-477d-9014-e398b38f19f5",
   "metadata": {
    "tags": []
   },
   "outputs": [],
   "source": [
    "%%R -o counts -o features -o obs_names\n",
    "counts = srat_combined@assays$RNA@layers$counts\n",
    "features = rownames(srat_combined)\n",
    "obs_names = colnames(srat_combined)"
   ]
  },
  {
   "cell_type": "code",
   "execution_count": null,
   "id": "eaae68c1-86ce-419e-8ccf-d897dae3e51e",
   "metadata": {},
   "outputs": [],
   "source": [
    "import anndata\n",
    "adata = anndata.AnnData(X = counts.T)\n",
    "adata.var_names = features\n",
    "adata.obs_names = obs_names"
   ]
  },
  {
   "cell_type": "code",
   "execution_count": null,
   "id": "ae77f7cf-82a8-4ed5-b0f8-5462268e5d8d",
   "metadata": {},
   "outputs": [],
   "source": [
    "adata.write('F:/CRC/GSE178318/GSE178318.h5ad')"
   ]
  },
  {
   "cell_type": "code",
   "execution_count": null,
   "id": "8cd34803-7b48-483e-8c00-2f38d6684a26",
   "metadata": {},
   "outputs": [],
   "source": [
    "sc.pp.normalize_total(adata, key_added = 'normalization_factors')\n",
    "sc.pp.log1p(adata)"
   ]
  },
  {
   "cell_type": "code",
   "execution_count": null,
   "id": "341cedb5-65e4-4dc8-bbfa-ab1f8bc9a93b",
   "metadata": {},
   "outputs": [],
   "source": [
    "sc.pp.highly_variable_genes(adata, flavor='seurat', n_top_genes=3000)\n",
    "sc.pp.pca(adata, n_comps=50, use_highly_variable=True, svd_solver='arpack')"
   ]
  },
  {
   "cell_type": "code",
   "execution_count": null,
   "id": "b0783feb-e933-47cf-bfc2-2af5ac31973a",
   "metadata": {},
   "outputs": [],
   "source": [
    "sc.pp.neighbors(adata, n_neighbors = 15, n_pcs = 50)\n",
    "sc.tl.leiden(adata, resolution = 0.8, key_added= 'leiden')                                                 "
   ]
  },
  {
   "cell_type": "code",
   "execution_count": null,
   "id": "3c20c11a-4332-449a-a708-152ddac93c69",
   "metadata": {},
   "outputs": [],
   "source": [
    "sc.tl.tsne(adata)"
   ]
  },
  {
   "cell_type": "code",
   "execution_count": null,
   "id": "37cc629d-291d-45b8-a4e2-ceb5c200aeb6",
   "metadata": {},
   "outputs": [],
   "source": [
    "sc.pl.tsne(adata, color = 'TRDC')"
   ]
  },
  {
   "cell_type": "markdown",
   "id": "bc1a5bb6-df6e-4157-9aba-d957bbc9512c",
   "metadata": {},
   "source": [
    "#### Those clusters seems worth further subclustering"
   ]
  },
  {
   "cell_type": "code",
   "execution_count": null,
   "id": "5bd277d7-71fd-4407-a7cb-66d04316da39",
   "metadata": {},
   "outputs": [],
   "source": [
    "potential_gd = adata[adata.obs['leiden'].isin(['0','2','5','6','12','19','23']),:]"
   ]
  },
  {
   "cell_type": "markdown",
   "id": "3bc17c8f-eb7c-4e8d-b126-174748fc9a9d",
   "metadata": {
    "tags": []
   },
   "source": [
    "### 0"
   ]
  },
  {
   "cell_type": "code",
   "execution_count": null,
   "id": "d499b427-4bd6-44b1-945b-67d1542292b6",
   "metadata": {},
   "outputs": [],
   "source": [
    "potential_gd = adata[adata.obs['leiden'].isin(['0']),:]"
   ]
  },
  {
   "cell_type": "code",
   "execution_count": null,
   "id": "3f455335",
   "metadata": {},
   "outputs": [],
   "source": [
    "sc.pp.highly_variable_genes(potential_17, flavor='seurat', n_top_genes=3000)\n",
    "sc.pp.pca(potential_17, n_comps=50, use_highly_variable=True, svd_solver='arpack')"
   ]
  },
  {
   "cell_type": "code",
   "execution_count": null,
   "id": "ea6380c2",
   "metadata": {},
   "outputs": [],
   "source": [
    "sc.pp.neighbors(potential_17, n_neighbors = 15, n_pcs = 50)\n",
    "sc.tl.leiden(potential_17, resolution = 1, key_added= 'leiden')                                                 "
   ]
  },
  {
   "cell_type": "code",
   "execution_count": null,
   "id": "a71612cb",
   "metadata": {},
   "outputs": [],
   "source": [
    "sc.tl.tsne(potential_17)"
   ]
  },
  {
   "cell_type": "code",
   "execution_count": null,
   "id": "383e52e5",
   "metadata": {},
   "outputs": [],
   "source": [
    "%matplotlib inline\n",
    "sc.pl.tsne(potential_17, color=['leiden','RORC','IL17A','IL17F'],size = 50,cmap = my_cmap)"
   ]
  },
  {
   "cell_type": "code",
   "execution_count": null,
   "id": "c94d90a9-571d-4aa8-90da-fd84d243ab56",
   "metadata": {},
   "outputs": [],
   "source": [
    "plt.rcParams['figure.figsize'] = [8,8]\n",
    "sc.tl.leiden(potential_gd, restrict_to = ('leiden', ['7']), resolution = 0.7, key_added= 'leiden1')\n",
    "sc.pl.tsne(potential_gd, color=['leiden1','CD3E','CD3G','CD3D','TRDC'], size = 20, legend_loc = 'on data', cmap = my_cmap)"
   ]
  },
  {
   "cell_type": "code",
   "execution_count": null,
   "id": "5e615c3f-4d74-4b36-884c-879f0e9feb43",
   "metadata": {},
   "outputs": [],
   "source": [
    "gd1 = potential_gd[potential_gd.obs['leiden1'].isin(['7,1']),:]"
   ]
  },
  {
   "cell_type": "markdown",
   "id": "e032e480-44a6-4a47-917e-e6b5d1cd9c30",
   "metadata": {},
   "source": [
    "### 2"
   ]
  },
  {
   "cell_type": "code",
   "execution_count": null,
   "id": "43915e22-3284-4d93-9650-41eaed2f0c38",
   "metadata": {},
   "outputs": [],
   "source": [
    "potential_gd = adata[adata.obs['leiden'].isin(['2']),:]"
   ]
  },
  {
   "cell_type": "code",
   "execution_count": null,
   "id": "9e45e6dc-d562-4c06-88a8-49072fbe6472",
   "metadata": {},
   "outputs": [],
   "source": [
    "sc.pp.highly_variable_genes(potential_gd, flavor='seurat', n_top_genes=3000)\n",
    "sc.pp.pca(potential_gd, n_comps=50, use_highly_variable=True, svd_solver='arpack')"
   ]
  },
  {
   "cell_type": "code",
   "execution_count": null,
   "id": "71704826-332d-4175-b797-77d55fac4e69",
   "metadata": {},
   "outputs": [],
   "source": [
    "sc.pp.neighbors(potential_gd, n_neighbors = 15, n_pcs = 50)\n",
    "sc.tl.leiden(potential_gd, resolution = 1, key_added= 'leiden')                                                 "
   ]
  },
  {
   "cell_type": "code",
   "execution_count": null,
   "id": "eba823c5-1531-4415-a5dd-1d98558b11dc",
   "metadata": {},
   "outputs": [],
   "source": [
    "sc.tl.tsne(potential_gd)"
   ]
  },
  {
   "cell_type": "code",
   "execution_count": null,
   "id": "b04e3359-f989-429e-84a7-d2063a4604f5",
   "metadata": {},
   "outputs": [],
   "source": [
    "%matplotlib inline\n",
    "sc.pl.tsne(potential_gd, color=['leiden','CD3E','CD3G','CD3D','TRDC','ICOS','CD4','CD8A','CD8B','FOXP3','IL17A','RORC'],size = 40,cmap = my_cmap)"
   ]
  },
  {
   "cell_type": "code",
   "execution_count": null,
   "id": "31a0a81e-8aa2-4164-a134-dc45d40f26ad",
   "metadata": {},
   "outputs": [],
   "source": [
    "plt.rcParams['figure.figsize'] = [8,8]\n",
    "sc.tl.leiden(potential_gd, restrict_to = ('leiden', ['1']), resolution = 0.5, key_added= 'leiden1')\n",
    "sc.pl.tsne(potential_gd, color=['leiden1','CD3E','CD3G','CD3D','TRDC'], size = 20, legend_loc = 'on data', cmap = my_cmap)"
   ]
  },
  {
   "cell_type": "code",
   "execution_count": null,
   "id": "0e95ccf4-3893-4633-8d40-6b7ec3ae2c57",
   "metadata": {},
   "outputs": [],
   "source": [
    "plt.rcParams['figure.figsize'] = [8,8]\n",
    "sc.tl.leiden(potential_gd, restrict_to = ('leiden1', ['2']), resolution = 1, key_added= 'leiden2')\n",
    "sc.pl.tsne(potential_gd, color=['leiden2','CD3E','CD3G','CD3D','TRDC'], size = 20, legend_loc = 'on data', cmap = my_cmap)"
   ]
  },
  {
   "cell_type": "code",
   "execution_count": null,
   "id": "452f5682-5a23-42e2-b183-bed65532d801",
   "metadata": {},
   "outputs": [],
   "source": [
    "plt.rcParams['figure.figsize'] = [8,8]\n",
    "sc.tl.leiden(potential_gd, restrict_to = ('leiden2', ['2,5']), resolution = 0.5, key_added= 'leiden3')\n",
    "sc.pl.tsne(potential_gd, color=['leiden3','CD3E','CD3G','CD3D','TRDC'], size = 20, legend_loc = 'on data', cmap = my_cmap)"
   ]
  },
  {
   "cell_type": "code",
   "execution_count": null,
   "id": "d4c60ee1-cbdf-4088-853d-825aa4f3a90a",
   "metadata": {},
   "outputs": [],
   "source": [
    "plt.rcParams['figure.figsize'] = [8,8]\n",
    "sc.tl.leiden(potential_gd, restrict_to = ('leiden3', ['3']), resolution = 0.5, key_added= 'leiden4')\n",
    "sc.pl.tsne(potential_gd, color=['leiden4','CD3E','CD3G','CD3D','TRDC'], size = 20, legend_loc = 'on data', cmap = my_cmap)"
   ]
  },
  {
   "cell_type": "code",
   "execution_count": null,
   "id": "2bbc7c2d-5094-42ba-a9da-14ea4ab76b77",
   "metadata": {},
   "outputs": [],
   "source": [
    "plt.rcParams['figure.figsize'] = [8,8]\n",
    "sc.tl.leiden(potential_gd, restrict_to = ('leiden4', ['5']), resolution = 0.5, key_added= 'leiden5')\n",
    "sc.pl.tsne(potential_gd, color=['leiden5','CD3E','CD3G','CD3D','TRDC'], size = 20, legend_loc = 'on data', cmap = my_cmap)"
   ]
  },
  {
   "cell_type": "code",
   "execution_count": null,
   "id": "4c81c1b2-b99a-4e7a-b2ac-96c8d9498e60",
   "metadata": {},
   "outputs": [],
   "source": [
    "plt.rcParams['figure.figsize'] = [8,8]\n",
    "sc.tl.leiden(potential_gd, restrict_to = ('leiden5', ['7']), resolution = 0.3, key_added= 'leiden6')\n",
    "sc.pl.tsne(potential_gd, color=['leiden6','CD3E','CD3G','CD3D','TRDC'], size = 20, legend_loc = 'on data', cmap = my_cmap)"
   ]
  },
  {
   "cell_type": "code",
   "execution_count": null,
   "id": "cc2c8ce9-868c-4bca-b11d-94abd5c0880c",
   "metadata": {},
   "outputs": [],
   "source": [
    "gamma_genesmask = [gene.startswith(\"TRG\") for gene in potential_gd.var_names]\n",
    "gamma_genes = potential_gd.var_names[gamma_genesmask]\n",
    "delta_genesmask = [gene.startswith(\"TRD\") for gene in potential_gd.var_names]\n",
    "delta_genes = potential_gd.var_names[delta_genesmask]"
   ]
  },
  {
   "cell_type": "code",
   "execution_count": null,
   "id": "32dc9ecb-8db8-43e9-bac2-a6cd65303b6a",
   "metadata": {},
   "outputs": [],
   "source": [
    "TCR_exp_set ={\n",
    "\"gamma\": gamma_genes, \"delta\": delta_genes, \"CD3S\": ['CD3E','CD3D','CD3G']\n",
    "}\n",
    "sc.pl.dotplot(potential_gd,TCR_exp_set,groupby = 'leiden6' , vmax = 1, swap_axes = False, dot_min =0, dot_max =1,standard_scale = 'var')"
   ]
  },
  {
   "cell_type": "code",
   "execution_count": null,
   "id": "a305c514-5d62-4a11-aff7-edb3f2df6573",
   "metadata": {},
   "outputs": [],
   "source": [
    "gd2 = potential_gd[potential_gd.obs['leiden6'].isin(['1,2','2,3','2,5,1','5,0','7,1','7,2']),:]"
   ]
  },
  {
   "cell_type": "code",
   "execution_count": null,
   "id": "6e28cc88-ea83-4f26-889b-9ed7a9395f6c",
   "metadata": {},
   "outputs": [],
   "source": [
    "sc.pl.dotplot(gd2,TCR_exp_set,groupby = 'leiden6' , vmax = 1, swap_axes = False, dot_min =0, dot_max =1,standard_scale = 'var')"
   ]
  },
  {
   "cell_type": "markdown",
   "id": "3dad834a-683d-46cd-bc80-94faa8a23e76",
   "metadata": {},
   "source": [
    "### 5"
   ]
  },
  {
   "cell_type": "code",
   "execution_count": null,
   "id": "f4d98bc8-b96f-4586-b0d0-2f4f8fdbb726",
   "metadata": {},
   "outputs": [],
   "source": [
    "potential_gd = adata[adata.obs['leiden'].isin(['5']),:]"
   ]
  },
  {
   "cell_type": "code",
   "execution_count": null,
   "id": "2b5dfef4-06c4-4575-b9aa-3b59d43623c4",
   "metadata": {},
   "outputs": [],
   "source": [
    "sc.pp.highly_variable_genes(potential_gd, flavor='seurat', n_top_genes=3000)\n",
    "sc.pp.pca(potential_gd, n_comps=50, use_highly_variable=True, svd_solver='arpack')"
   ]
  },
  {
   "cell_type": "code",
   "execution_count": null,
   "id": "e9764e75-246d-455a-8adc-bd670c828ea6",
   "metadata": {},
   "outputs": [],
   "source": [
    "sc.pp.neighbors(potential_gd, n_neighbors = 15, n_pcs = 50)\n",
    "sc.tl.leiden(potential_gd, resolution = 1, key_added= 'leiden')                                                 "
   ]
  },
  {
   "cell_type": "code",
   "execution_count": null,
   "id": "b7599c23-fd1b-45c1-8613-1748027fc2b3",
   "metadata": {},
   "outputs": [],
   "source": [
    "sc.tl.tsne(potential_gd)"
   ]
  },
  {
   "cell_type": "code",
   "execution_count": null,
   "id": "c9b9589e-ea6b-4fb9-8aa1-28a9c5336ca9",
   "metadata": {},
   "outputs": [],
   "source": [
    "%matplotlib inline\n",
    "sc.pl.tsne(potential_gd, color=['leiden','CD3E','CD3G','CD3D','TRDC','ICOS','CD4','CD8A','CD8B','FOXP3','IL17A','RORC'],size = 40,cmap = my_cmap)"
   ]
  },
  {
   "cell_type": "code",
   "execution_count": null,
   "id": "9c893165-6487-47b8-9a4a-d05bd56a1ce2",
   "metadata": {},
   "outputs": [],
   "source": [
    "plt.rcParams['figure.figsize'] = [8,8]\n",
    "sc.tl.leiden(potential_gd, restrict_to = ('leiden', ['2']), resolution = 1, key_added= 'leiden1')\n",
    "sc.pl.tsne(potential_gd, color=['leiden1','CD3E','CD3G','CD3D','TRDC'], size = 20, legend_loc = 'on data', cmap = my_cmap)"
   ]
  },
  {
   "cell_type": "code",
   "execution_count": null,
   "id": "24fa73cd-dca6-4270-84bf-5bcb4ff1d089",
   "metadata": {},
   "outputs": [],
   "source": [
    "plt.rcParams['figure.figsize'] = [8,8]\n",
    "sc.tl.leiden(potential_gd, restrict_to = ('leiden1', ['3']), resolution = 1, key_added= 'leiden2')\n",
    "sc.pl.tsne(potential_gd, color=['leiden2','CD3E','CD3G','CD3D','TRDC'], size = 20, legend_loc = 'on data', cmap = my_cmap)"
   ]
  },
  {
   "cell_type": "code",
   "execution_count": null,
   "id": "d8466d7a-9669-4555-a2c0-8fe69c445eb3",
   "metadata": {},
   "outputs": [],
   "source": [
    "plt.rcParams['figure.figsize'] = [8,8]\n",
    "sc.tl.leiden(potential_gd, restrict_to = ('leiden2', ['7']), resolution =0.8, key_added= 'leiden3')\n",
    "sc.pl.tsne(potential_gd, color=['leiden3','CD3E','CD3G','CD3D','TRDC'], size = 20, legend_loc = 'on data', cmap = my_cmap)"
   ]
  },
  {
   "cell_type": "code",
   "execution_count": null,
   "id": "840ba742-4f83-4ac8-94a5-b27b2c4f03b2",
   "metadata": {},
   "outputs": [],
   "source": [
    "plt.rcParams['figure.figsize'] = [8,8]\n",
    "sc.tl.leiden(potential_gd, restrict_to = ('leiden3', ['8']), resolution = 0.8, key_added= 'leiden4')\n",
    "sc.pl.tsne(potential_gd, color=['leiden4','CD3E','CD3G','CD3D','TRDC'], size = 20, legend_loc = 'on data', cmap = my_cmap)"
   ]
  },
  {
   "cell_type": "code",
   "execution_count": null,
   "id": "58096cd1-e9e5-4379-b1d6-58b0ad6a708c",
   "metadata": {},
   "outputs": [],
   "source": [
    "gamma_genesmask = [gene.startswith(\"TRG\") for gene in potential_gd.var_names]\n",
    "gamma_genes = potential_gd.var_names[gamma_genesmask]\n",
    "delta_genesmask = [gene.startswith(\"TRD\") for gene in potential_gd.var_names]\n",
    "delta_genes = potential_gd.var_names[delta_genesmask]"
   ]
  },
  {
   "cell_type": "code",
   "execution_count": null,
   "id": "3e617519-48e5-4de8-86af-4cabf0c836a2",
   "metadata": {},
   "outputs": [],
   "source": [
    "TCR_exp_set ={\n",
    "\"gamma\": gamma_genes, \"delta\": delta_genes, \"CD3S\": ['CD3E','CD3D','CD3G']\n",
    "}\n",
    "sc.pl.dotplot(potential_gd,TCR_exp_set,groupby = 'leiden4' , vmax = 1, swap_axes = False, dot_min =0, dot_max =1,standard_scale = 'var')"
   ]
  },
  {
   "cell_type": "code",
   "execution_count": null,
   "id": "336ff88d-8deb-4c0d-8bd2-249e806272de",
   "metadata": {},
   "outputs": [],
   "source": [
    "gd3 = potential_gd[potential_gd.obs['leiden4'].isin(['2,1','3,10','7,1','7,2','8,3']),:]"
   ]
  },
  {
   "cell_type": "code",
   "execution_count": null,
   "id": "8e39bca3-65e5-47d9-9184-d2800e1de4cc",
   "metadata": {},
   "outputs": [],
   "source": [
    "sc.pl.dotplot(gd3,TCR_exp_set,groupby = 'leiden4' , vmax = 1, swap_axes = False, dot_min =0, dot_max =1,standard_scale = 'var')"
   ]
  },
  {
   "cell_type": "markdown",
   "id": "09368974-ca76-4006-9a35-44bba9b7b600",
   "metadata": {},
   "source": [
    "### 6"
   ]
  },
  {
   "cell_type": "code",
   "execution_count": null,
   "id": "e446c474-56b4-40c9-9772-6f95c1a3bfe2",
   "metadata": {},
   "outputs": [],
   "source": [
    "potential_gd = adata[adata.obs['leiden'].isin(['6']),:]"
   ]
  },
  {
   "cell_type": "code",
   "execution_count": null,
   "id": "2416db78-8fc9-49d2-b42e-6d9a192a8f36",
   "metadata": {},
   "outputs": [],
   "source": [
    "sc.pp.highly_variable_genes(potential_gd, flavor='seurat', n_top_genes=3000)\n",
    "sc.pp.pca(potential_gd, n_comps=50, use_highly_variable=True, svd_solver='arpack')"
   ]
  },
  {
   "cell_type": "code",
   "execution_count": null,
   "id": "9b97a302-4b8d-4f51-bd4a-0121542e5f57",
   "metadata": {},
   "outputs": [],
   "source": [
    "sc.pp.neighbors(potential_gd, n_neighbors = 15, n_pcs = 50)\n",
    "sc.tl.leiden(potential_gd, resolution = 1, key_added= 'leiden')                                                 "
   ]
  },
  {
   "cell_type": "code",
   "execution_count": null,
   "id": "180d8b29-1b29-4a84-92e8-452a57034434",
   "metadata": {},
   "outputs": [],
   "source": [
    "sc.tl.tsne(potential_gd)"
   ]
  },
  {
   "cell_type": "code",
   "execution_count": null,
   "id": "8696e928-f2be-4fc9-a0d7-079120409592",
   "metadata": {},
   "outputs": [],
   "source": [
    "%matplotlib inline\n",
    "sc.pl.tsne(potential_gd, color=['leiden','CD3E','CD3G','CD3D','TRDC','ICOS','CD4','CD8A','CD8B','FOXP3','IL17A','RORC'],size = 40,cmap = my_cmap)"
   ]
  },
  {
   "cell_type": "code",
   "execution_count": null,
   "id": "8b864e72-a3c0-45a3-8ef8-2175d568fbb8",
   "metadata": {},
   "outputs": [],
   "source": [
    "plt.rcParams['figure.figsize'] = [8,8]\n",
    "sc.tl.leiden(potential_gd, restrict_to = ('leiden', ['3']), resolution = 1, key_added= 'leiden1')\n",
    "sc.pl.tsne(potential_gd, color=['leiden1','CD3E','CD3G','CD3D','TRDC'], size = 20, legend_loc = 'on data', cmap = my_cmap)"
   ]
  },
  {
   "cell_type": "code",
   "execution_count": null,
   "id": "65dfed2b-7b3c-4ed0-b48d-08009de9e841",
   "metadata": {},
   "outputs": [],
   "source": [
    "plt.rcParams['figure.figsize'] = [8,8]\n",
    "sc.tl.leiden(potential_gd, restrict_to = ('leiden1', ['4']), resolution = 0.9, key_added= 'leiden2')\n",
    "sc.pl.tsne(potential_gd, color=['leiden2','CD3E','CD3G','CD3D','TRDC'], size = 20, legend_loc = 'on data', cmap = my_cmap)"
   ]
  },
  {
   "cell_type": "code",
   "execution_count": null,
   "id": "f7ebd93a-c770-4f68-9504-73da1424ffd3",
   "metadata": {},
   "outputs": [],
   "source": [
    "plt.rcParams['figure.figsize'] = [8,8]\n",
    "sc.tl.leiden(potential_gd, restrict_to = ('leiden2', ['7']), resolution = 0.5, key_added= 'leiden3')\n",
    "sc.pl.tsne(potential_gd, color=['leiden3','CD3E','CD3G','CD3D','TRDC'], size = 20, legend_loc = 'on data', cmap = my_cmap)"
   ]
  },
  {
   "cell_type": "code",
   "execution_count": null,
   "id": "d9ddc6fd-14ad-4e7e-a3c5-b3450a698b8c",
   "metadata": {},
   "outputs": [],
   "source": [
    "gamma_genesmask = [gene.startswith(\"TRG\") for gene in potential_gd.var_names]\n",
    "gamma_genes = potential_gd.var_names[gamma_genesmask]\n",
    "delta_genesmask = [gene.startswith(\"TRD\") for gene in potential_gd.var_names]\n",
    "delta_genes = potential_gd.var_names[delta_genesmask]"
   ]
  },
  {
   "cell_type": "code",
   "execution_count": null,
   "id": "7852ac62-6a51-4a22-9348-72aad6558550",
   "metadata": {},
   "outputs": [],
   "source": [
    "TCR_exp_set ={\n",
    "\"gamma\": gamma_genes, \"delta\": delta_genes, \"CD3S\": ['CD3E','CD3D','CD3G'],'others': ['ZBTB16','IKZF2','CD4','CD8A']\n",
    "}\n",
    "sc.pl.dotplot(potential_gd,TCR_exp_set,groupby = 'leiden3' , vmax = 1, swap_axes = False, dot_min =0, dot_max =1,standard_scale = 'var')"
   ]
  },
  {
   "cell_type": "code",
   "execution_count": null,
   "id": "16d46358-ae2c-47f5-996e-9b301399aa1b",
   "metadata": {},
   "outputs": [],
   "source": [
    "gd4 = potential_gd[potential_gd.obs['leiden3'].isin(['4,0','4,5','4,8','7,0','3,1']),:]"
   ]
  },
  {
   "cell_type": "code",
   "execution_count": null,
   "id": "23e1be73-e500-4da7-9ed6-dfc79598bc5e",
   "metadata": {},
   "outputs": [],
   "source": [
    "sc.pl.dotplot(gd4,TCR_exp_set,groupby = 'leiden3' , vmax = 1, swap_axes = False, dot_min =0, dot_max =1,standard_scale = 'var')"
   ]
  },
  {
   "cell_type": "markdown",
   "id": "7c1e4911-0db5-4bba-acf4-46eed9b05230",
   "metadata": {
    "tags": []
   },
   "source": [
    "### 12"
   ]
  },
  {
   "cell_type": "code",
   "execution_count": null,
   "id": "b6d548ca-5cc1-476f-81c3-9c229bc169bc",
   "metadata": {},
   "outputs": [],
   "source": [
    "potential_gd = adata[adata.obs['leiden'].isin(['12']),:]"
   ]
  },
  {
   "cell_type": "code",
   "execution_count": null,
   "id": "b26e75db-4db2-4014-8be1-d2446bd335b9",
   "metadata": {},
   "outputs": [],
   "source": [
    "sc.pp.highly_variable_genes(potential_gd, flavor='seurat', n_top_genes=3000)\n",
    "sc.pp.pca(potential_gd, n_comps=50, use_highly_variable=True, svd_solver='arpack')"
   ]
  },
  {
   "cell_type": "code",
   "execution_count": null,
   "id": "aeb37587-3dd1-4a92-a732-1e34f236e90c",
   "metadata": {},
   "outputs": [],
   "source": [
    "sc.pp.neighbors(potential_gd, n_neighbors = 15, n_pcs = 50)\n",
    "sc.tl.leiden(potential_gd, resolution = 1, key_added= 'leiden')                                                 "
   ]
  },
  {
   "cell_type": "code",
   "execution_count": null,
   "id": "941e4823-d2d5-482d-8059-6fba0c27f90a",
   "metadata": {},
   "outputs": [],
   "source": [
    "sc.tl.tsne(potential_gd)"
   ]
  },
  {
   "cell_type": "code",
   "execution_count": null,
   "id": "c9786c7c-125c-4079-9ffc-200eee4519a1",
   "metadata": {},
   "outputs": [],
   "source": [
    "%matplotlib inline\n",
    "sc.pl.tsne(potential_gd, color=['leiden','CD3E','CD3G','CD3D','TRDC','ICOS','CD4','CD8A','CD8B','FOXP3','IL17A','RORC'],size = 40,cmap = my_cmap)"
   ]
  },
  {
   "cell_type": "code",
   "execution_count": null,
   "id": "44cfc181-8312-48c6-8a91-628330d7a57c",
   "metadata": {},
   "outputs": [],
   "source": [
    "plt.rcParams['figure.figsize'] = [8,8]\n",
    "sc.tl.leiden(potential_gd, restrict_to = ('leiden', ['6']), resolution = 0.9, key_added= 'leiden1')\n",
    "sc.pl.tsne(potential_gd, color=['leiden1','CD3E','CD3G','CD3D','TRDC'], size = 40, legend_loc = 'on data', cmap = my_cmap)"
   ]
  },
  {
   "cell_type": "code",
   "execution_count": null,
   "id": "8785c91d-0197-4fb0-b918-143390a8361f",
   "metadata": {},
   "outputs": [],
   "source": [
    "plt.rcParams['figure.figsize'] = [8,8]\n",
    "sc.tl.leiden(potential_gd, restrict_to = ('leiden1', ['5']), resolution = 0.9, key_added= 'leiden2')\n",
    "sc.pl.tsne(potential_gd, color=['leiden2','CD3E','CD3G','CD3D','TRDC'], size = 40, legend_loc = 'on data', cmap = my_cmap)"
   ]
  },
  {
   "cell_type": "code",
   "execution_count": null,
   "id": "52445f5d-bdcd-49fe-934c-86ca0efe1371",
   "metadata": {},
   "outputs": [],
   "source": [
    "gamma_genesmask = [gene.startswith(\"TRG\") for gene in potential_gd.var_names]\n",
    "gamma_genes = potential_gd.var_names[gamma_genesmask]\n",
    "delta_genesmask = [gene.startswith(\"TRD\") for gene in potential_gd.var_names]\n",
    "delta_genes = potential_gd.var_names[delta_genesmask]"
   ]
  },
  {
   "cell_type": "code",
   "execution_count": null,
   "id": "f6019272-948b-4b1e-b936-f406b518d053",
   "metadata": {},
   "outputs": [],
   "source": [
    "TCR_exp_set ={\n",
    "\"gamma\": gamma_genes, \"delta\": delta_genes, \"CD3S\": ['CD3E','CD3D','CD3G']\n",
    "}\n",
    "sc.pl.dotplot(potential_gd,TCR_exp_set,groupby = 'leiden2' , vmax = 1, swap_axes = False, dot_min =0.1, dot_max =1,standard_scale = 'var')"
   ]
  },
  {
   "cell_type": "code",
   "execution_count": null,
   "id": "e664fa0c-3b31-43e4-b3fe-edc6dc07ec4a",
   "metadata": {},
   "outputs": [],
   "source": [
    "gd5 = potential_gd[potential_gd.obs['leiden2'].isin(['5,1','6,4','6,5']),:]"
   ]
  },
  {
   "cell_type": "code",
   "execution_count": null,
   "id": "ecd6e563-ab05-41d3-8147-be6697c98194",
   "metadata": {},
   "outputs": [],
   "source": [
    "sc.pl.dotplot(gd5,TCR_exp_set,groupby = 'leiden2' , vmax = 1, swap_axes = False, dot_min =0, dot_max =1,standard_scale = 'var')"
   ]
  },
  {
   "cell_type": "markdown",
   "id": "2a3a8c76-f58a-49fa-971c-0cb228f87f91",
   "metadata": {},
   "source": [
    "### 19"
   ]
  },
  {
   "cell_type": "code",
   "execution_count": null,
   "id": "17c411ec-81d1-418f-82fd-165964056da6",
   "metadata": {},
   "outputs": [],
   "source": [
    "potential_gd = adata[adata.obs['leiden'].isin(['19']),:]"
   ]
  },
  {
   "cell_type": "code",
   "execution_count": null,
   "id": "89e83282-ca33-4347-bbc7-3b84a70828ed",
   "metadata": {},
   "outputs": [],
   "source": [
    "sc.pp.highly_variable_genes(potential_gd, flavor='seurat', n_top_genes=3000)\n",
    "sc.pp.pca(potential_gd, n_comps=50, use_highly_variable=True, svd_solver='arpack')"
   ]
  },
  {
   "cell_type": "code",
   "execution_count": null,
   "id": "b884602c-096b-4290-a1d2-3d87360a39dd",
   "metadata": {},
   "outputs": [],
   "source": [
    "sc.pp.neighbors(potential_gd, n_neighbors = 15, n_pcs = 50)\n",
    "sc.tl.leiden(potential_gd, resolution = 1, key_added= 'leiden')                                                 "
   ]
  },
  {
   "cell_type": "code",
   "execution_count": null,
   "id": "b0c9da7a-1d35-4211-b7ed-dc9d95c6e40e",
   "metadata": {},
   "outputs": [],
   "source": [
    "sc.tl.tsne(potential_gd)"
   ]
  },
  {
   "cell_type": "code",
   "execution_count": null,
   "id": "667610a1-22bc-402e-b5c3-be085a79f704",
   "metadata": {},
   "outputs": [],
   "source": [
    "%matplotlib inline\n",
    "sc.pl.tsne(potential_gd, color=['leiden','CD3E','CD3G','CD3D','TRDC','ICOS','CD4','CD8A','CD8B','FOXP3','IL17A','RORC'],size = 40,cmap = my_cmap)"
   ]
  },
  {
   "cell_type": "code",
   "execution_count": null,
   "id": "f14a43e2-f4ab-48a8-86aa-1f0f0df75979",
   "metadata": {},
   "outputs": [],
   "source": [
    "plt.rcParams['figure.figsize'] = [8,8]\n",
    "sc.tl.leiden(potential_gd, restrict_to = ('leiden', ['0']), resolution = 0.5, key_added= 'leiden1')\n",
    "sc.pl.tsne(potential_gd, color=['leiden1','CD3E','CD3G','CD3D','TRDC'], size = 20, legend_loc = 'on data', cmap = my_cmap)"
   ]
  },
  {
   "cell_type": "code",
   "execution_count": null,
   "id": "8eeae7a1-16dc-41e7-9c4d-e1098cc483e5",
   "metadata": {},
   "outputs": [],
   "source": [
    "plt.rcParams['figure.figsize'] = [8,8]\n",
    "sc.tl.leiden(potential_gd, restrict_to = ('leiden1', ['3']), resolution = 0.3, key_added= 'leiden2')\n",
    "sc.pl.tsne(potential_gd, color=['leiden2','CD3E','CD3G','CD3D','TRDC'], size = 40, legend_loc = 'on data', cmap = my_cmap)"
   ]
  },
  {
   "cell_type": "code",
   "execution_count": null,
   "id": "077d2f2e-81d5-4f92-9708-51052864176e",
   "metadata": {},
   "outputs": [],
   "source": [
    "gamma_genesmask = [gene.startswith(\"TRG\") for gene in potential_gd.var_names]\n",
    "gamma_genes = potential_gd.var_names[gamma_genesmask]\n",
    "delta_genesmask = [gene.startswith(\"TRD\") for gene in potential_gd.var_names]\n",
    "delta_genes = potential_gd.var_names[delta_genesmask]"
   ]
  },
  {
   "cell_type": "code",
   "execution_count": null,
   "id": "f1209c0b-7a2d-4940-9629-c0974be28297",
   "metadata": {},
   "outputs": [],
   "source": [
    "TCR_exp_set ={\n",
    "\"gamma\": gamma_genes, \"delta\": delta_genes, \"CD3S\": ['CD3E','CD3D','CD3G']\n",
    "}\n",
    "sc.pl.dotplot(potential_gd,TCR_exp_set,groupby = 'leiden2' , vmax = 1, swap_axes = False, dot_min =0, dot_max =1,standard_scale = 'var')"
   ]
  },
  {
   "cell_type": "code",
   "execution_count": null,
   "id": "488f77d1-1185-4ad0-96d4-c76ef34b9fff",
   "metadata": {},
   "outputs": [],
   "source": [
    "gd6 = potential_gd[potential_gd.obs['leiden2'].isin(['0,0','4']),:]"
   ]
  },
  {
   "cell_type": "code",
   "execution_count": null,
   "id": "9d363e71-7585-4bbc-8b54-16d6e5740919",
   "metadata": {},
   "outputs": [],
   "source": [
    "sc.pl.dotplot(gd6,TCR_exp_set,groupby = 'leiden2' , vmax = 1, swap_axes = False, dot_min =0, dot_max =1,standard_scale = 'var')"
   ]
  },
  {
   "cell_type": "markdown",
   "id": "7c227c6c-76df-4131-aff8-9aa2807bfc82",
   "metadata": {
    "tags": []
   },
   "source": [
    "### 23"
   ]
  },
  {
   "cell_type": "code",
   "execution_count": null,
   "id": "436ff800-6217-4ee1-8f06-fa5898b9dc94",
   "metadata": {},
   "outputs": [],
   "source": [
    "potential_gd = adata[adata.obs['leiden'].isin(['23']),:]"
   ]
  },
  {
   "cell_type": "code",
   "execution_count": null,
   "id": "685c907e-ac4b-4dba-9a71-3a4aa94e62fb",
   "metadata": {},
   "outputs": [],
   "source": [
    "sc.pp.highly_variable_genes(potential_gd, flavor='seurat', n_top_genes=3000)\n",
    "sc.pp.pca(potential_gd, n_comps=50, use_highly_variable=True, svd_solver='arpack')"
   ]
  },
  {
   "cell_type": "code",
   "execution_count": null,
   "id": "e94250f1-cc4b-487f-9e69-6c11a302d971",
   "metadata": {},
   "outputs": [],
   "source": [
    "sc.pp.neighbors(potential_gd, n_neighbors = 15, n_pcs = 50)\n",
    "sc.tl.leiden(potential_gd, resolution = 1.5, key_added= 'leiden')                                                 "
   ]
  },
  {
   "cell_type": "code",
   "execution_count": null,
   "id": "a68a5b72-744a-45d7-a1d9-714bdd6863dc",
   "metadata": {},
   "outputs": [],
   "source": [
    "sc.tl.tsne(potential_gd)"
   ]
  },
  {
   "cell_type": "code",
   "execution_count": null,
   "id": "d616eb89-3a51-42c3-aa14-4bd943537906",
   "metadata": {},
   "outputs": [],
   "source": [
    "%matplotlib inline\n",
    "sc.pl.tsne(potential_gd, color=['leiden','CD3E','CD3G','CD3D','TRDC','ICOS','CD4','CD8A','CD8B','FOXP3','IL17A','RORC'],size = 80,cmap = my_cmap)"
   ]
  },
  {
   "cell_type": "code",
   "execution_count": null,
   "id": "d85f1d93-a94e-4133-8bb7-e67df5503b03",
   "metadata": {},
   "outputs": [],
   "source": [
    "gamma_genesmask = [gene.startswith(\"TRG\") for gene in potential_gd.var_names]\n",
    "gamma_genes = potential_gd.var_names[gamma_genesmask]\n",
    "delta_genesmask = [gene.startswith(\"TRD\") for gene in potential_gd.var_names]\n",
    "delta_genes = potential_gd.var_names[delta_genesmask]"
   ]
  },
  {
   "cell_type": "code",
   "execution_count": null,
   "id": "8b75f62e-404f-4ce8-8fc8-540965b4b8d4",
   "metadata": {},
   "outputs": [],
   "source": [
    "TCR_exp_set ={\n",
    "\"gamma\": gamma_genes, \"delta\": delta_genes, \"CD3S\": ['CD3E','CD3D','CD3G']\n",
    "}\n",
    "sc.pl.dotplot(potential_gd,TCR_exp_set,groupby = 'leiden' , vmax = 1, swap_axes = False, dot_min =0, dot_max =1,standard_scale = 'var')"
   ]
  },
  {
   "cell_type": "code",
   "execution_count": null,
   "id": "377c2819-06a4-4fb0-ad84-731e124618c1",
   "metadata": {},
   "outputs": [],
   "source": [
    "gd7 = potential_gd[potential_gd.obs['leiden6'].isin(['1,2','2,3','2,5,1','5,0','7,1','7,2']),:]"
   ]
  },
  {
   "cell_type": "code",
   "execution_count": null,
   "id": "68105ca2-afaa-4514-93e1-e785a2ebfd9f",
   "metadata": {},
   "outputs": [],
   "source": [
    "sc.pl.dotplot(gd7,TCR_exp_set,groupby = 'leiden6' , vmax = 1, swap_axes = False, dot_min =0, dot_max =1,standard_scale = 'var')"
   ]
  },
  {
   "cell_type": "markdown",
   "id": "32d9eb0d-7f75-41f4-aff5-fbc0e28456f0",
   "metadata": {},
   "source": [
    "### end"
   ]
  },
  {
   "cell_type": "code",
   "execution_count": null,
   "id": "ee2610b1-adbb-48ae-9bd2-754bc44afecd",
   "metadata": {},
   "outputs": [],
   "source": [
    "adata_gd = gd1.concatenate(gd2,gd3,gd4,gd5,gd6, batch_key = 'original_cluster', batch_categories=['0','2','5','6','12','19'],join = 'outer',fill_value=0)"
   ]
  },
  {
   "cell_type": "code",
   "execution_count": null,
   "id": "1b153b3d-5268-4da5-8b38-89131ec7a5c5",
   "metadata": {},
   "outputs": [],
   "source": [
    "#go back to your raw count, use these ID to get your gdT ready for integration\n",
    "gd_id = adata_gd.index"
   ]
  },
  {
   "cell_type": "code",
   "execution_count": null,
   "id": "1fea3b8e-f6b2-4ce8-b86e-dc78becccb04",
   "metadata": {},
   "outputs": [],
   "source": [
    "sc.pl.tsne(adata_gd,color = ['RORC','IL17A'],cmap = my_cmap)"
   ]
  },
  {
   "cell_type": "markdown",
   "id": "189e6e8b-ba19-4dd8-af7d-7aca9da3d8fe",
   "metadata": {},
   "source": [
    "### Right, do the same thing for IL17"
   ]
  },
  {
   "cell_type": "code",
   "execution_count": null,
   "id": "1ec0db62-20c1-4174-a65d-896adb29f0df",
   "metadata": {},
   "outputs": [],
   "source": [
    "potential_17 = adata[adata.obs['leiden'].isin(['19']),:]"
   ]
  },
  {
   "cell_type": "code",
   "execution_count": null,
   "id": "ed83856b-648e-4501-bbe0-d4eeb4cc048f",
   "metadata": {},
   "outputs": [],
   "source": [
    "del potential_17.uns"
   ]
  },
  {
   "cell_type": "code",
   "execution_count": null,
   "id": "bb813160",
   "metadata": {},
   "outputs": [],
   "source": [
    "sc.pp.highly_variable_genes(potential_17, flavor='seurat', n_top_genes=3000)\n",
    "sc.pp.pca(potential_17, n_comps=50, use_highly_variable=True, svd_solver='arpack')"
   ]
  },
  {
   "cell_type": "code",
   "execution_count": null,
   "id": "c804c735",
   "metadata": {},
   "outputs": [],
   "source": [
    "sc.pp.neighbors(potential_17, n_neighbors = 15, n_pcs = 50)\n",
    "sc.tl.leiden(potential_17, resolution = 1, key_added= 'leiden')                                                 "
   ]
  },
  {
   "cell_type": "code",
   "execution_count": null,
   "id": "d6fdbabe",
   "metadata": {},
   "outputs": [],
   "source": [
    "sc.tl.tsne(potential_17)"
   ]
  },
  {
   "cell_type": "code",
   "execution_count": null,
   "id": "f8ed9670",
   "metadata": {},
   "outputs": [],
   "source": [
    "%matplotlib inline\n",
    "sc.pl.tsne(potential_17, color=['leiden','RORC','IL17A','IL17F'],size = 50,cmap = my_cmap)"
   ]
  },
  {
   "cell_type": "code",
   "execution_count": null,
   "id": "ae521145-9921-42eb-a348-eb63f7980b1b",
   "metadata": {},
   "outputs": [],
   "source": [
    "potential_17 = adata[adata.obs['leiden'].isin(['9']),:]"
   ]
  },
  {
   "cell_type": "code",
   "execution_count": null,
   "id": "189cae94-55ce-499a-87f0-7b5cbe071a9f",
   "metadata": {},
   "outputs": [],
   "source": [
    "del potential_17.uns"
   ]
  },
  {
   "cell_type": "code",
   "execution_count": null,
   "id": "0533507e-b88b-4033-9e45-5c6c5b2f7ac4",
   "metadata": {},
   "outputs": [],
   "source": [
    "sc.pp.highly_variable_genes(potential_17, flavor='seurat', n_top_genes=3000)\n",
    "sc.pp.pca(potential_17, n_comps=50, use_highly_variable=True, svd_solver='arpack')"
   ]
  },
  {
   "cell_type": "code",
   "execution_count": null,
   "id": "b3677ba7-93a2-42e0-a795-3a3741956ac9",
   "metadata": {},
   "outputs": [],
   "source": [
    "sc.pp.neighbors(potential_17, n_neighbors = 15, n_pcs = 50)\n",
    "sc.tl.leiden(potential_17, resolution = 1, key_added= 'leiden')                                                 "
   ]
  },
  {
   "cell_type": "code",
   "execution_count": null,
   "id": "92d414d3-bfc1-42a0-acbf-ec5617385c55",
   "metadata": {},
   "outputs": [],
   "source": [
    "sc.tl.tsne(potential_17)"
   ]
  },
  {
   "cell_type": "code",
   "execution_count": null,
   "id": "87fad08d-4b20-4948-937a-c6863ff687a6",
   "metadata": {},
   "outputs": [],
   "source": [
    "%matplotlib inline\n",
    "sc.pl.tsne(potential_17, color=['leiden','RORC','IL17A','IL17F'],size = 40,cmap = my_cmap)"
   ]
  },
  {
   "cell_type": "code",
   "execution_count": null,
   "id": "34fca0a0-94fc-40c3-b5bd-9c28475b3d92",
   "metadata": {},
   "outputs": [],
   "source": [
    "plt.rcParams['figure.figsize'] = [8,8]\n",
    "sc.tl.leiden(potential_17, restrict_to = ('leiden', ['6']), resolution = 0.6, key_added= 'leiden1')\n",
    "sc.pl.tsne(potential_17, color=['leiden1','RORC','IL17A','IL17F'], size = 50, legend_loc = 'on data', cmap = my_cmap)"
   ]
  },
  {
   "cell_type": "code",
   "execution_count": null,
   "id": "6a115177-3794-4b28-9f83-452b56660962",
   "metadata": {},
   "outputs": [],
   "source": [
    "plt.rcParams['figure.figsize'] = [8,8]\n",
    "sc.tl.leiden(potential_17, restrict_to = ('leiden1', ['7']), resolution = 0.3, key_added= 'leiden2')\n",
    "sc.pl.tsne(potential_17, color=['leiden2','RORC','IL17A','IL17F'], size = 50, legend_loc = 'on data', cmap = my_cmap)"
   ]
  },
  {
   "cell_type": "code",
   "execution_count": null,
   "id": "7508e2a2-3cd3-4bd4-8a1b-77cc3534e2a9",
   "metadata": {},
   "outputs": [],
   "source": [
    "IL17_genesmask = [gene.startswith(\"IL17\") and gene.startswith(\"IL17R\")==0 for gene in potential_17.var_names]\n",
    "IL17_genes = potential_17.var_names[IL17_genesmask]\n",
    "IL17_exp_set ={\n",
    "    'cytokine': IL17_genes, 'TF': 'RORC'\n",
    "}\n",
    "sc.pl.dotplot(potential_17,IL17_exp_set,groupby = 'leiden2' , vmax = 1, swap_axes = False, dot_min =0.1, dot_max =1,standard_scale = 'var')"
   ]
  },
  {
   "cell_type": "code",
   "execution_count": null,
   "id": "04233e15-2730-495b-91c1-e2eccb9e8477",
   "metadata": {},
   "outputs": [],
   "source": [
    "T17_2 = potential_17[potential_17.obs['leiden2'].isin(['6,1','7,0']),:]"
   ]
  },
  {
   "cell_type": "code",
   "execution_count": null,
   "id": "e02090c2-529a-4353-8756-ed0eb76e4cff",
   "metadata": {},
   "outputs": [],
   "source": [
    "potential_17 = adata[adata.obs['leiden'].isin(['10']),:]"
   ]
  },
  {
   "cell_type": "code",
   "execution_count": null,
   "id": "bbee361e-3439-4e65-bceb-f5f71b59eb76",
   "metadata": {},
   "outputs": [],
   "source": [
    "del potential_17.uns"
   ]
  },
  {
   "cell_type": "code",
   "execution_count": null,
   "id": "75860a9d-7f0f-4a6b-bcca-348173aa3e90",
   "metadata": {},
   "outputs": [],
   "source": [
    "sc.pp.highly_variable_genes(potential_17, flavor='seurat', n_top_genes=3000)\n",
    "sc.pp.pca(potential_17, n_comps=50, use_highly_variable=True, svd_solver='arpack')"
   ]
  },
  {
   "cell_type": "code",
   "execution_count": null,
   "id": "018b8654-6232-4b54-a7d0-38ea9c94e448",
   "metadata": {},
   "outputs": [],
   "source": [
    "sc.pp.neighbors(potential_17, n_neighbors = 15, n_pcs = 50)\n",
    "sc.tl.leiden(potential_17, resolution = 1, key_added= 'leiden')                                                 "
   ]
  },
  {
   "cell_type": "code",
   "execution_count": null,
   "id": "5eb3c4cc-09ab-415c-a110-86ad9c757292",
   "metadata": {},
   "outputs": [],
   "source": [
    "sc.tl.tsne(potential_17)"
   ]
  },
  {
   "cell_type": "code",
   "execution_count": null,
   "id": "b62071fe-8b6e-4d68-9041-76dd42f320a7",
   "metadata": {},
   "outputs": [],
   "source": [
    "%matplotlib inline\n",
    "sc.pl.tsne(potential_17, color=['leiden','RORC','IL17A','IL17F'],size = 40,cmap = my_cmap)"
   ]
  },
  {
   "cell_type": "code",
   "execution_count": null,
   "id": "404759a5-ec6f-4062-b695-b6701e51fce5",
   "metadata": {},
   "outputs": [],
   "source": [
    "plt.rcParams['figure.figsize'] = [8,8]\n",
    "sc.tl.leiden(potential_17, restrict_to = ('leiden', ['4']), resolution = 0.6, key_added= 'leiden1')\n",
    "sc.pl.tsne(potential_17, color=['leiden1','RORC','IL17A','IL17F'], size = 20, legend_loc = 'on data', cmap = my_cmap)"
   ]
  },
  {
   "cell_type": "code",
   "execution_count": null,
   "id": "0aef0c1e-51b6-4d3e-a53d-0590a82ba6ce",
   "metadata": {
    "jupyter": {
     "source_hidden": true
    },
    "tags": []
   },
   "outputs": [],
   "source": [
    "plt.rcParams['figure.figsize'] = [8,8]\n",
    "sc.tl.leiden(potential_17, restrict_to = ('leiden1', ['10']), resolution = 0.4, key_added= 'leiden2')\n",
    "sc.pl.tsne(potential_17, color=['leiden2','RORC','IL17A','IL17F'], size = 20, legend_loc = 'on data', cmap = my_cmap)"
   ]
  },
  {
   "cell_type": "code",
   "execution_count": null,
   "id": "5f938857-8906-49d8-838c-20e57c410975",
   "metadata": {
    "jupyter": {
     "source_hidden": true
    },
    "tags": []
   },
   "outputs": [],
   "source": [
    "plt.rcParams['figure.figsize'] = [8,8]\n",
    "sc.tl.leiden(potential_17, restrict_to = ('leiden2', ['7']), resolution = 0.5, key_added= 'leiden3')\n",
    "sc.pl.tsne(potential_17, color=['leiden3','RORC','IL17A','IL17F'], size = 20, legend_loc = 'on data', cmap = my_cmap)"
   ]
  },
  {
   "cell_type": "code",
   "execution_count": null,
   "id": "77406fb3-820f-49c5-b0ca-c18e7a64c3bf",
   "metadata": {},
   "outputs": [],
   "source": [
    "IL17_genesmask = [gene.startswith(\"IL17\") and gene.startswith(\"IL17R\")==0 for gene in potential_17.var_names]\n",
    "IL17_genes = potential_17.var_names[IL17_genesmask]\n",
    "IL17_exp_set ={\n",
    "    'cytokine': IL17_genes, 'TF': 'RORC'\n",
    "}\n",
    "sc.pl.dotplot(potential_17,IL17_exp_set,groupby = 'leiden1' , vmax = 1, swap_axes = False, dot_min =0.1, dot_max =1,standard_scale = 'var')"
   ]
  },
  {
   "cell_type": "code",
   "execution_count": null,
   "id": "169dfc5e-ff3a-4860-bb44-c745e2520d20",
   "metadata": {},
   "outputs": [],
   "source": [
    "T17_3 = potential_17[potential_17.obs['leiden1'].isin(['4,0','12']),:]"
   ]
  },
  {
   "cell_type": "code",
   "execution_count": null,
   "id": "92000dfe-142f-4299-b327-385817e67c7d",
   "metadata": {},
   "outputs": [],
   "source": [
    "potential_17 = adata[adata.obs['leiden'].isin(['0']),:]"
   ]
  },
  {
   "cell_type": "code",
   "execution_count": null,
   "id": "135fc490-c022-4c26-9d00-ad16c9f12fc5",
   "metadata": {},
   "outputs": [],
   "source": [
    "del potential_17.uns"
   ]
  },
  {
   "cell_type": "code",
   "execution_count": null,
   "id": "a4f00339-3e57-4497-8ebb-0e790a582e6b",
   "metadata": {},
   "outputs": [],
   "source": [
    "sc.pp.highly_variable_genes(potential_17, flavor='seurat', n_top_genes=3000)\n",
    "sc.pp.pca(potential_17, n_comps=50, use_highly_variable=True, svd_solver='arpack')"
   ]
  },
  {
   "cell_type": "code",
   "execution_count": null,
   "id": "3e7ec04f-07ac-4bc7-ab8b-35dd540a66af",
   "metadata": {},
   "outputs": [],
   "source": [
    "sc.pp.neighbors(potential_17, n_neighbors = 15, n_pcs = 50)\n",
    "sc.tl.leiden(potential_17, resolution = 1, key_added= 'leiden')                                                 "
   ]
  },
  {
   "cell_type": "code",
   "execution_count": null,
   "id": "1bb7a1fa-ffc6-4b01-8b0d-42fae8573de0",
   "metadata": {},
   "outputs": [],
   "source": [
    "sc.tl.tsne(potential_17)"
   ]
  },
  {
   "cell_type": "code",
   "execution_count": null,
   "id": "ed3fa99e-0279-4b6d-ba0b-1824dc7e367f",
   "metadata": {},
   "outputs": [],
   "source": [
    "%matplotlib inline\n",
    "sc.pl.tsne(potential_17, color=['leiden','RORC','IL17A','IL17F'],size = 40,cmap = my_cmap)"
   ]
  },
  {
   "cell_type": "code",
   "execution_count": null,
   "id": "3eadd270-0c2f-44b7-ae2b-b1e7feb2800f",
   "metadata": {},
   "outputs": [],
   "source": [
    "plt.rcParams['figure.figsize'] = [8,8]\n",
    "sc.tl.leiden(potential_17, restrict_to = ('leiden', ['6']), resolution = 0.7, key_added= 'leiden1')\n",
    "sc.pl.tsne(potential_17, color=['leiden1','RORC','IL17A','IL17F'], size = 20, legend_loc = 'on data', cmap = my_cmap)"
   ]
  },
  {
   "cell_type": "code",
   "execution_count": null,
   "id": "18930eb1-bb23-4a92-9898-3ea9986ed6fc",
   "metadata": {
    "jupyter": {
     "source_hidden": true
    },
    "tags": []
   },
   "outputs": [],
   "source": [
    "plt.rcParams['figure.figsize'] = [8,8]\n",
    "sc.tl.leiden(potential_17, restrict_to = ('leiden1', ['10']), resolution = 0.4, key_added= 'leiden2')\n",
    "sc.pl.tsne(potential_17, color=['leiden2','RORC','IL17A','IL17F'], size = 20, legend_loc = 'on data', cmap = my_cmap)"
   ]
  },
  {
   "cell_type": "code",
   "execution_count": null,
   "id": "5cd63b40-0e26-4ac6-9245-7bf37cc45f27",
   "metadata": {
    "jupyter": {
     "source_hidden": true
    },
    "tags": []
   },
   "outputs": [],
   "source": [
    "plt.rcParams['figure.figsize'] = [8,8]\n",
    "sc.tl.leiden(potential_17, restrict_to = ('leiden2', ['7']), resolution = 0.5, key_added= 'leiden3')\n",
    "sc.pl.tsne(potential_17, color=['leiden3','RORC','IL17A','IL17F'], size = 20, legend_loc = 'on data', cmap = my_cmap)"
   ]
  },
  {
   "cell_type": "code",
   "execution_count": null,
   "id": "7a97a255-77e8-47ca-b617-81293253232a",
   "metadata": {},
   "outputs": [],
   "source": [
    "IL17_genesmask = [gene.startswith(\"IL17\") and gene.startswith(\"IL17R\")==0 for gene in potential_17.var_names]\n",
    "IL17_genes = potential_17.var_names[IL17_genesmask]\n",
    "IL17_exp_set ={\n",
    "    'cytokine': IL17_genes, 'TF': 'RORC'\n",
    "}\n",
    "sc.pl.dotplot(potential_17,IL17_exp_set,groupby = 'leiden1' , vmax = 1, swap_axes = False, dot_min =0.1, dot_max =1,standard_scale = 'var')"
   ]
  },
  {
   "cell_type": "code",
   "execution_count": null,
   "id": "a638474d-57ed-4e9c-b455-31d2928c36d9",
   "metadata": {},
   "outputs": [],
   "source": [
    "T17_4 = potential_17[potential_17.obs['leiden1'].isin(['6,1']),:]"
   ]
  },
  {
   "cell_type": "code",
   "execution_count": null,
   "id": "b01cc13a-1ab0-4c0c-83d2-0524283722b9",
   "metadata": {},
   "outputs": [],
   "source": [
    "potential_17 = adata[adata.obs['leiden'].isin(['8']),:]"
   ]
  },
  {
   "cell_type": "code",
   "execution_count": null,
   "id": "1194b39d-9125-4b1a-b957-6813bfdd093b",
   "metadata": {},
   "outputs": [],
   "source": [
    "del potential_17.uns"
   ]
  },
  {
   "cell_type": "code",
   "execution_count": null,
   "id": "abaef389-55e9-4dc2-9c6d-97a7b0d3f231",
   "metadata": {},
   "outputs": [],
   "source": [
    "sc.pp.highly_variable_genes(potential_17, flavor='seurat', n_top_genes=3000)\n",
    "sc.pp.pca(potential_17, n_comps=50, use_highly_variable=True, svd_solver='arpack')"
   ]
  },
  {
   "cell_type": "code",
   "execution_count": null,
   "id": "efc68d9b-04d6-4b1d-bc46-2b17ce8fc7b4",
   "metadata": {},
   "outputs": [],
   "source": [
    "sc.pp.neighbors(potential_17, n_neighbors = 15, n_pcs = 50)\n",
    "sc.tl.leiden(potential_17, resolution = 1, key_added= 'leiden')                                                 "
   ]
  },
  {
   "cell_type": "code",
   "execution_count": null,
   "id": "f90599a8-60e5-4459-a23e-399e5d45c5d7",
   "metadata": {},
   "outputs": [],
   "source": [
    "sc.tl.tsne(potential_17)"
   ]
  },
  {
   "cell_type": "code",
   "execution_count": null,
   "id": "1ee5b860-6aee-477b-9f01-38ccbf9277cb",
   "metadata": {},
   "outputs": [],
   "source": [
    "%matplotlib inline\n",
    "sc.pl.tsne(potential_17, color=['leiden','RORC','IL17A','IL17F'],size = 40,cmap = my_cmap)"
   ]
  },
  {
   "cell_type": "code",
   "execution_count": null,
   "id": "3f3884a6-9c43-4a5e-b708-457aea19c2ed",
   "metadata": {},
   "outputs": [],
   "source": [
    "plt.rcParams['figure.figsize'] = [8,8]\n",
    "sc.tl.leiden(potential_17, restrict_to = ('leiden', ['6']), resolution = 0.7, key_added= 'leiden1')\n",
    "sc.pl.tsne(potential_17, color=['leiden1','RORC','IL17A','IL17F'], size = 20, legend_loc = 'on data', cmap = my_cmap)"
   ]
  },
  {
   "cell_type": "code",
   "execution_count": null,
   "id": "5e60724c-f523-43ba-a4f3-3dce951fde15",
   "metadata": {
    "jupyter": {
     "source_hidden": true
    },
    "tags": []
   },
   "outputs": [],
   "source": [
    "plt.rcParams['figure.figsize'] = [8,8]\n",
    "sc.tl.leiden(potential_17, restrict_to = ('leiden1', ['10']), resolution = 0.4, key_added= 'leiden2')\n",
    "sc.pl.tsne(potential_17, color=['leiden2','RORC','IL17A','IL17F'], size = 20, legend_loc = 'on data', cmap = my_cmap)"
   ]
  },
  {
   "cell_type": "code",
   "execution_count": null,
   "id": "7c4e5daa-8c36-45b9-bf60-051faf22dfd7",
   "metadata": {
    "jupyter": {
     "source_hidden": true
    },
    "tags": []
   },
   "outputs": [],
   "source": [
    "plt.rcParams['figure.figsize'] = [8,8]\n",
    "sc.tl.leiden(potential_17, restrict_to = ('leiden2', ['7']), resolution = 0.5, key_added= 'leiden3')\n",
    "sc.pl.tsne(potential_17, color=['leiden3','RORC','IL17A','IL17F'], size = 20, legend_loc = 'on data', cmap = my_cmap)"
   ]
  },
  {
   "cell_type": "code",
   "execution_count": null,
   "id": "f5ea4df9-5572-4bad-bc6c-8b8132b0e425",
   "metadata": {},
   "outputs": [],
   "source": [
    "IL17_genesmask = [gene.startswith(\"IL17\") and gene.startswith(\"IL17R\")==0 for gene in potential_17.var_names]\n",
    "IL17_genes = potential_17.var_names[IL17_genesmask]\n",
    "IL17_exp_set ={\n",
    "    'cytokine': IL17_genes, 'TF': 'RORC'\n",
    "}\n",
    "sc.pl.dotplot(potential_17,IL17_exp_set,groupby = 'leiden' , vmax = 1, swap_axes = False, dot_min =0.1, dot_max =1,standard_scale = 'var')"
   ]
  },
  {
   "cell_type": "code",
   "execution_count": null,
   "id": "29972666-b7d7-4e49-bd45-4cfbfa446fba",
   "metadata": {},
   "outputs": [],
   "source": [
    "T17_5 = potential_17[potential_17.obs['leiden'].isin(['7']),:]"
   ]
  },
  {
   "cell_type": "code",
   "execution_count": null,
   "id": "44c2e60e-e699-4793-a189-b55d774649fc",
   "metadata": {},
   "outputs": [],
   "source": [
    "T17_1 = adata[adata.obs['leiden'].isin(['19']),:]"
   ]
  },
  {
   "cell_type": "code",
   "execution_count": null,
   "id": "941cc3ff-262e-49a6-8145-a5bedd095740",
   "metadata": {},
   "outputs": [],
   "source": [
    "#Why all of a sudden this does not work??\n",
    "adata_17 = T17_1.concatenate(T17_2,T17_3,T17_4,T17_5, batch_key = 'original_cluster', batch_categories=['19','9','10','0','8'],join = 'outer',fill_value=0)\n",
    "#Same thing here, you save the index and go back to raw\n",
    "ID_17 = adata_17.index"
   ]
  },
  {
   "cell_type": "markdown",
   "id": "7c277c60-b66a-4e3d-9220-950fd38e1de4",
   "metadata": {},
   "source": [
    "### Visualize the selection"
   ]
  },
  {
   "cell_type": "code",
   "execution_count": null,
   "id": "bc5d1b13-2962-45ff-9dd8-548e04eb9ac1",
   "metadata": {},
   "outputs": [],
   "source": [
    "adata = sc.read_h5ad('GSE178318_processed.h5ad')\n",
    "adata_17 = sc.read_h5ad('GSE178318_T17.h5ad')\n",
    "adata_gd = sc.read_h5ad('GSE178318_gd.h5ad')"
   ]
  },
  {
   "cell_type": "code",
   "execution_count": null,
   "id": "871957a3-f822-4093-a187-55ef6872407d",
   "metadata": {},
   "outputs": [],
   "source": [
    "adata.obs['IL17 secreting selected'] = '0'\n",
    "adata.obs['IL17 secreting selected'][adata.obs_names.isin(adata_17.obs_names)] = '1'"
   ]
  },
  {
   "cell_type": "code",
   "execution_count": null,
   "id": "3ea39592-8b1a-4b12-b280-2d8f55c72d17",
   "metadata": {},
   "outputs": [],
   "source": [
    "adata.obs['gdT selected'] = '0'\n",
    "adata.obs['gdT selected'][adata.obs_names.isin(adata_gd.obs_names)] = '1'"
   ]
  },
  {
   "cell_type": "code",
   "execution_count": null,
   "id": "1e952ab7-112b-4b34-87ad-679aec90a0d0",
   "metadata": {},
   "outputs": [],
   "source": [
    "plt.close()\n",
    "plt.rcParams['axes.linewidth'] = 2\n",
    "plt.rcParams['figure.figsize'] = [8,8]\n",
    "fig = sc.pl.tsne(adata, color=['RORC','IL17A','IL17F','IL17 secreting selected'],\n",
    "                 size =10, ncols = 2, palette = ['#E3E3E3', '#FF2A12'], cmap = my_cmap, return_fig = True, legend_fontsize = 'large')\n",
    "ax = fig.get_axes()\n",
    "for i in range(0,len(ax)):\n",
    "    ax[i].xaxis.label.set_fontsize(22)\n",
    "    ax[i].xaxis.label.set_fontweight('bold')\n",
    "    ax[i].yaxis.label.set_fontsize(22)\n",
    "    ax[i].title.set_fontsize(30)\n",
    "    ax[i].yaxis.label.set_fontweight('bold')\n",
    "    ax[i].title.set_fontweight('bold')\n",
    "fig.savefig('17_selected.png',dpi = 300,bbox_inches='tight') "
   ]
  },
  {
   "cell_type": "code",
   "execution_count": null,
   "id": "580ecfd3-2f89-4a2c-b563-784d0619820d",
   "metadata": {},
   "outputs": [],
   "source": [
    "plt.close()\n",
    "plt.rcParams['axes.linewidth'] = 2\n",
    "plt.rcParams['figure.figsize'] = [8,8]\n",
    "fig = sc.pl.tsne(adata, color=['CD3E','CD3D','CD3G','CD247','TRDC','gdT selected'],\n",
    "                 size =10, ncols = 2, palette = ['#E3E3E3', '#FF2A12'], cmap = my_cmap, return_fig = True, legend_fontsize = 'large')\n",
    "ax = fig.get_axes()\n",
    "for i in range(0,len(ax)):\n",
    "    ax[i].xaxis.label.set_fontsize(22)\n",
    "    ax[i].xaxis.label.set_fontweight('bold')\n",
    "    ax[i].yaxis.label.set_fontsize(22)\n",
    "    ax[i].title.set_fontsize(30)\n",
    "    ax[i].yaxis.label.set_fontweight('bold')\n",
    "    ax[i].title.set_fontweight('bold')\n",
    "fig.savefig('gd_selected.png',dpi = 300,bbox_inches='tight') "
   ]
  },
  {
   "cell_type": "code",
   "execution_count": null,
   "id": "cc387149-14da-4daa-9a0a-57bd8f6a5894",
   "metadata": {},
   "outputs": [],
   "source": []
  }
 ],
 "metadata": {
  "kernelspec": {
   "display_name": "Python 3 (ipykernel)",
   "language": "python",
   "name": "python3"
  },
  "language_info": {
   "codemirror_mode": {
    "name": "ipython",
    "version": 3
   },
   "file_extension": ".py",
   "mimetype": "text/x-python",
   "name": "python",
   "nbconvert_exporter": "python",
   "pygments_lexer": "ipython3",
   "version": "3.10.14"
  }
 },
 "nbformat": 4,
 "nbformat_minor": 5
}
