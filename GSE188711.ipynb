{
 "cells": [
  {
   "cell_type": "code",
   "execution_count": null,
   "id": "34f925bb",
   "metadata": {},
   "outputs": [],
   "source": [
    "#import the library\n",
    "import scanpy as sc\n",
    "import numpy as np\n",
    "import scipy as sp\n",
    "import pandas as pd\n",
    "import matplotlib.pyplot as plt\n",
    "from matplotlib import rcParams\n",
    "from matplotlib import colors\n",
    "import seaborn as sb\n",
    "from gprofiler import GProfiler\n",
    "import seaborn as sns\n",
    "import rpy2.rinterface_lib.callbacks\n",
    "import logging\n",
    "import tensorflow as tf\n",
    "import scipy.sparse\n",
    "import os\n",
    "\n",
    "from rpy2.robjects import pandas2ri\n",
    "import anndata2ri\n",
    "\n",
    "import importlib\n",
    "import warnings\n",
    "warnings.filterwarnings(\"ignore\")\n",
    "import pickle as pkl\n",
    "from matplotlib.colors import LinearSegmentedColormap"
   ]
  },
  {
   "cell_type": "code",
   "execution_count": null,
   "id": "b59afc45-e946-446f-aa9e-0f0db636c96f",
   "metadata": {},
   "outputs": [],
   "source": [
    "from matplotlib.colors import LinearSegmentedColormap\n",
    "values = [0,1]\n",
    "colors = [(227, 227, 227), (255, 42, 18)]\n",
    "norm = plt.Normalize(min(values), max(values))\n",
    "my_cmap = LinearSegmentedColormap.from_list(\n",
    "    '', [(norm(value), tuple(np.array(color) / 255)) for value, color in zip(values, colors)])"
   ]
  },
  {
   "cell_type": "code",
   "execution_count": null,
   "id": "f093a4e1-2e3c-46e1-97e2-0221ccfcfcd1",
   "metadata": {
    "tags": []
   },
   "outputs": [],
   "source": [
    "rpy2.rinterface_lib.callbacks.logger.setLevel(logging.ERROR)\n",
    "pandas2ri.activate()\n",
    "anndata2ri.activate()\n",
    "%load_ext rpy2.ipython"
   ]
  },
  {
   "cell_type": "code",
   "execution_count": null,
   "id": "0def436b-e459-47f0-b1c3-406b805c8de9",
   "metadata": {
    "tags": []
   },
   "outputs": [],
   "source": [
    "plt.rcParams['figure.figsize']=(8,8) #rescale figures\n",
    "sc.settings.verbosity = 3\n",
    "#sc.set_figure_params(dpi=200, dpi_save=300)\n",
    "sc.logging.print_versions()"
   ]
  },
  {
   "cell_type": "code",
   "execution_count": null,
   "id": "2a3cf4c9-44b7-4e87-8ff7-406d76b428f5",
   "metadata": {
    "tags": []
   },
   "outputs": [],
   "source": [
    "%%R\n",
    ".libPaths(.libPaths('win-library\\\\4.3'))\n",
    "\n",
    "library(scran)\n",
    "library(Seurat)\n",
    "library(RColorBrewer)\n",
    "library(slingshot)\n",
    "library(monocle)\n",
    "library(gam)\n",
    "library(ggplot2)\n",
    "library(plyr)\n",
    "library(MAST)\n",
    "library(clusterExperiment)\n",
    "library(monocle3)\n",
    "library(SeuratWrappers)\n",
    "library(magrittr)\n",
    "library(dplyr)"
   ]
  },
  {
   "cell_type": "code",
   "execution_count": null,
   "id": "586ee7d3-29d5-4a2b-ba57-8706fe56d047",
   "metadata": {
    "tags": []
   },
   "outputs": [],
   "source": [
    "%%R \n",
    "srat_combined = readRDS('F:/CRC/GSE188711_LeftnRight/integrated_data.rds')\n",
    "HVG = VariableFeatures(srat_combined)"
   ]
  },
  {
   "cell_type": "code",
   "execution_count": null,
   "id": "8044c827-8285-455d-9041-118788be6c11",
   "metadata": {},
   "outputs": [],
   "source": [
    "%R mat <- srat_combined@assays$integrated@scale.data"
   ]
  },
  {
   "cell_type": "code",
   "execution_count": null,
   "id": "657b2925-dcbe-4d54-b04d-1a920ddb9179",
   "metadata": {},
   "outputs": [],
   "source": [
    "%%R\n",
    "#srat_combined <- RunPCA(srat_combined)\n",
    "pca <- srat_combined[[\"pca\"]]\n",
    "\n",
    "# Get the total variance:\n",
    "total_variance <- sum(matrixStats::rowVars(mat))\n",
    "\n",
    "eigValues = (pca@stdev)^2  ## EigenValues\n",
    "varExplained = eigValues / total_variance\n",
    "\n",
    "PCs = Loadings(srat_combined, reduction = \"pca\")"
   ]
  },
  {
   "cell_type": "code",
   "execution_count": null,
   "id": "9b6faf23-e695-41ce-9497-4254dc104b4d",
   "metadata": {},
   "outputs": [],
   "source": [
    "%%R -o logcounts -o counts\n",
    "merged = JoinLayers(srat_combined@assays$RNA)\n",
    "counts = merged@layers$counts\n",
    "logcounts = merged@layers$data\n",
    "#counts = srat_combined@assays$integrated@counts"
   ]
  },
  {
   "cell_type": "code",
   "execution_count": null,
   "id": "8a931082-d3a5-4f51-989e-bb7221218093",
   "metadata": {},
   "outputs": [],
   "source": [
    "%%R -o features -o HVG -o varExplained -o PCs -o mat -o obs_names -o PC_embeddings -o sample_origin\n",
    "features = rownames(merged)\n",
    "obs_names = colnames(merged)\n",
    "HVG = rownames(srat_combined@assays$integrated)\n",
    "PC_embeddings = srat_combined@reductions$pca@cell.embeddings\n",
    "sample_origin = srat_combined@meta.data$orig.ident"
   ]
  },
  {
   "cell_type": "code",
   "execution_count": null,
   "id": "dee8379d-f75d-4fde-8809-ccbbcc7bb2a8",
   "metadata": {},
   "outputs": [],
   "source": [
    "import anndata\n",
    "adata = anndata.AnnData(X = logcounts.T)\n",
    "adata.var_names = features\n",
    "adata.obs_names = obs_names\n",
    "adata.uns['scaled'] = mat.T\n",
    "adata.layers['counts'] = counts.T\n",
    "#adata.uns['residuals_genes'] = HVG\n",
    "adata.uns['residuals_genes'] = list(HVG)\n",
    "adata.layers['logcounts'] = logcounts.T\n",
    "adata.obsm['X_pca'] = PC_embeddings\n",
    "adata.obs['sample_origin'] = sample_origin"
   ]
  },
  {
   "cell_type": "code",
   "execution_count": null,
   "id": "6f1fd0a8-35f8-4094-af67-1732f09f1433",
   "metadata": {},
   "outputs": [],
   "source": [
    "adata.obs['n_counts'] = adata.layers['counts'].sum(1)\n",
    "adata.obs['n_genes'] = (adata.layers['counts'] > 0).sum(1)\n",
    "adata.var['highly_variable'] = adata.var_names.isin(HVG)\n",
    "adata.uns['pca'] = dict({'variance_ratio': varExplained})"
   ]
  },
  {
   "cell_type": "code",
   "execution_count": null,
   "id": "7911ab59-132d-460b-a805-9990d9459ea3",
   "metadata": {},
   "outputs": [],
   "source": [
    "mt_gene_mask = [gene.startswith('MT-') for gene in adata.var_names]\n",
    "adata.obs['mt_frac'] = np.array(adata.layers['counts'][:, mt_gene_mask].sum(1).ravel())[0]/adata.obs['n_counts']"
   ]
  },
  {
   "cell_type": "code",
   "execution_count": null,
   "id": "00c373ad-1121-4ddf-bcb4-b0ae22533e6c",
   "metadata": {},
   "outputs": [],
   "source": [
    "ribo_gene_mask = [gene.startswith('RPL') or gene.startswith('RPS') for gene in adata.var_names]\n",
    "adata.obs['ribo_frac'] = np.array(adata.layers['counts'][:, ribo_gene_mask].sum(1).ravel())[0]/adata.obs['n_counts']"
   ]
  },
  {
   "cell_type": "code",
   "execution_count": null,
   "id": "35785b4b-8b8f-4af3-9359-bc3e96bc6fb3",
   "metadata": {},
   "outputs": [],
   "source": [
    "sc.pp.neighbors(adata, n_pcs = 50)"
   ]
  },
  {
   "cell_type": "code",
   "execution_count": null,
   "id": "7475f48f-abdb-4d03-a596-fe369d2ab704",
   "metadata": {},
   "outputs": [],
   "source": [
    "sc.tl.leiden(adata, resolution = 0.8, key_added= 'leiden')"
   ]
  },
  {
   "cell_type": "code",
   "execution_count": null,
   "id": "640e75f0-d7de-43a7-a7f8-af1ff09fc74e",
   "metadata": {},
   "outputs": [],
   "source": [
    "sc.pl.pca(adata, color=['leiden','CD4'], legend_loc = 'on data')"
   ]
  },
  {
   "cell_type": "code",
   "execution_count": null,
   "id": "bb868b7d-4139-45c1-b110-433b92c6689f",
   "metadata": {},
   "outputs": [],
   "source": [
    "%matplotlib inline\n",
    "sc.tl.tsne(adata)\n",
    "#plt.close()\n",
    "plt.rcParams['axes.linewidth'] = 2\n",
    "sc.pl.tsne(adata, color=['leiden','CD3E','CD3G','CD3D','TRDC','ICOS','CD4','CD8A','CD8B','FOXP3','IFNG'],legend_loc = 'on data',cmap = my_cmap)"
   ]
  },
  {
   "cell_type": "code",
   "execution_count": null,
   "id": "3356dbd3-22e4-47ca-8de5-d0e8951bd143",
   "metadata": {},
   "outputs": [],
   "source": [
    "adata.write('F:/CRC/GSE188711_LeftnRight/integrated.h5ad')"
   ]
  },
  {
   "cell_type": "code",
   "execution_count": null,
   "id": "7f50357a-7423-4759-9129-96d3436fe525",
   "metadata": {},
   "outputs": [],
   "source": [
    "adata = sc.read_h5ad('F:/CRC/AA_Done/GSE188711_LeftnRight/integrated.h5ad')"
   ]
  },
  {
   "cell_type": "code",
   "execution_count": null,
   "id": "824201be-06a7-41cd-9dc2-6782a9fab7d8",
   "metadata": {},
   "outputs": [],
   "source": [
    "bioinfo = pd.read_csv('F:/CRC/AA_Done/GSE188711_LeftnRight/bioinfo.csv')"
   ]
  },
  {
   "cell_type": "code",
   "execution_count": null,
   "id": "d3cd9b86-bbfd-48a5-b37e-1b686df4bdd8",
   "metadata": {},
   "outputs": [],
   "source": [
    "patient_dict = dict(zip(bioinfo['GSM'], bioinfo['Patient No.']))\n",
    "patient = [patient_dict[i] for i in adata.obs['sample_origin']]"
   ]
  },
  {
   "cell_type": "code",
   "execution_count": null,
   "id": "05833b10-8bc6-48cd-aa3e-348cc5824c30",
   "metadata": {},
   "outputs": [],
   "source": [
    "gender_dict = dict(zip(bioinfo['GSM'], bioinfo['Sex']))\n",
    "gender = [gender_dict[i] for i in adata.obs['sample_origin']]"
   ]
  },
  {
   "cell_type": "code",
   "execution_count": null,
   "id": "f974456a-7ca8-40c0-81f2-03af42bcb97d",
   "metadata": {},
   "outputs": [],
   "source": [
    "age_dict = dict(zip(bioinfo['GSM'], bioinfo['Age']))\n",
    "age = [age_dict[i] for i in adata.obs['sample_origin']]"
   ]
  },
  {
   "cell_type": "code",
   "execution_count": null,
   "id": "1b638d7d-1a3e-47f1-b054-425ae9e78235",
   "metadata": {},
   "outputs": [],
   "source": [
    "site_dict = dict(zip(bioinfo['GSM'], bioinfo['Location']))\n",
    "site = [site_dict[i] for i in adata.obs['sample_origin']]"
   ]
  },
  {
   "cell_type": "code",
   "execution_count": null,
   "id": "3fc2fce1-213e-4883-877f-9fea71ded3be",
   "metadata": {},
   "outputs": [],
   "source": [
    "T_dict = dict(zip(bioinfo['GSM'], bioinfo['AJCC Stage']))\n",
    "TNM_T = [T_dict[i] for i in adata.obs['sample_origin']]"
   ]
  },
  {
   "cell_type": "code",
   "execution_count": null,
   "id": "a224685d-4f88-489c-856e-6b62ae92c8bb",
   "metadata": {},
   "outputs": [],
   "source": [
    "N_dict = dict(zip(bioinfo['GSM'], bioinfo['LN Metastasis']))\n",
    "TNM_N = [N_dict[i] for i in adata.obs['sample_origin']]"
   ]
  },
  {
   "cell_type": "code",
   "execution_count": null,
   "id": "daf7d157-c650-4f6a-8bdd-8dc28e302946",
   "metadata": {},
   "outputs": [],
   "source": [
    "M_dict = dict(zip(bioinfo['GSM'], bioinfo['Distant Metastasis']))\n",
    "TNM_M = [M_dict[i] for i in adata.obs['sample_origin']]"
   ]
  },
  {
   "cell_type": "code",
   "execution_count": null,
   "id": "2b705984-f4f0-4f95-8dcc-2aebbe20cc21",
   "metadata": {},
   "outputs": [],
   "source": [
    "stage_dict = dict(zip(bioinfo['GSM'], bioinfo['AJCC Stage']))\n",
    "adata.obs['stage'] = [stage_dict[i] for i in adata.obs['sample_origin']]"
   ]
  },
  {
   "cell_type": "code",
   "execution_count": null,
   "id": "be88b8cf-2ed3-4b21-879c-b34089674db4",
   "metadata": {},
   "outputs": [],
   "source": [
    "adata.obs['patient'] = patient\n",
    "adata.obs['tissue'] = 'CRC'\n",
    "adata.obs['gender'] = gender\n",
    "adata.obs['age'] = age\n",
    "adata.obs['site'] = site\n",
    "adata.obs['TNM_T'] = TNM_T\n",
    "adata.obs['TNM_N'] = TNM_N\n",
    "adata.obs['TNM_M'] = TNM_M"
   ]
  },
  {
   "cell_type": "code",
   "execution_count": null,
   "id": "a45a39ec-27e6-46a6-bada-83f56e34c949",
   "metadata": {},
   "outputs": [],
   "source": [
    "adata.obs['gender'] = adata.obs['gender'].replace({'F':'Female','M':'Male'})"
   ]
  },
  {
   "cell_type": "code",
   "execution_count": null,
   "id": "2d775733-7523-4a6e-8e6a-59721450526c",
   "metadata": {},
   "outputs": [],
   "source": [
    "sc.pl.tsne(adata,color = ['patient','tissue','gender','age','site','TNM_T','TNM_N','TNM_M','stage'])"
   ]
  },
  {
   "cell_type": "code",
   "execution_count": null,
   "id": "d1f8cec4-ef1f-4a49-9cda-f96309f5c7f9",
   "metadata": {},
   "outputs": [],
   "source": [
    "sc.pl.tsne(adata,color = ['leiden','RORC','IL17A'], cmap = my_cmap)"
   ]
  },
  {
   "cell_type": "code",
   "execution_count": null,
   "id": "52a6a369-ede7-41e3-97e5-36ce0415dc36",
   "metadata": {},
   "outputs": [],
   "source": [
    "plt.rcParams['figure.figsize'] = [8,8]\n",
    "sc.tl.leiden(adata, restrict_to = ('leiden', ['2']), resolution = 0.6, key_added= 'leiden1')\n",
    "sc.pl.tsne(adata, color=['leiden1','RORC','IL17A','IL17F'], size = 20, legend_loc = 'on data', cmap = my_cmap)"
   ]
  },
  {
   "cell_type": "code",
   "execution_count": null,
   "id": "29efb606-e985-4625-80ae-5212da4126cf",
   "metadata": {},
   "outputs": [],
   "source": [
    "plt.rcParams['figure.figsize'] = [8,8]\n",
    "sc.tl.leiden(adata, restrict_to = ('leiden1', ['6']), resolution = 0.3, key_added= 'leiden2')\n",
    "sc.pl.tsne(adata, color=['leiden2','RORC','IL17A','IL17F'], size = 20, legend_loc = 'on data', cmap = my_cmap)"
   ]
  },
  {
   "cell_type": "code",
   "execution_count": null,
   "id": "abe39c56-72e4-4320-bb7d-85a35d2ba395",
   "metadata": {},
   "outputs": [],
   "source": [
    "plt.rcParams['figure.figsize'] = [8,8]\n",
    "sc.tl.leiden(adata, restrict_to = ('leiden2', ['15']), resolution = 0.3, key_added= 'leiden3')\n",
    "sc.pl.tsne(adata, color=['leiden3','RORC','IL17A','IL17F'], size = 20, legend_loc = 'on data', cmap = my_cmap)"
   ]
  },
  {
   "cell_type": "code",
   "execution_count": null,
   "id": "e455c5d7-4118-4506-9ad2-9203e8472b90",
   "metadata": {},
   "outputs": [],
   "source": [
    "plt.rcParams['figure.figsize'] = [8,8]\n",
    "sc.tl.leiden(adata, restrict_to = ('leiden3', ['18']), resolution = 0.2, key_added= 'leiden4')\n",
    "sc.pl.tsne(adata, color=['leiden4','RORC','IL17A','IL17F'], size = 20, legend_loc = 'on data', cmap = my_cmap)"
   ]
  },
  {
   "cell_type": "code",
   "execution_count": null,
   "id": "8d26cb8c-24f4-4c19-81c7-b9731d953927",
   "metadata": {},
   "outputs": [],
   "source": [
    "IL17_genesmask = [gene.startswith(\"IL17\") and gene.startswith(\"IL17R\")==0 for gene in adata.var_names]\n",
    "IL17_genes = adata.var_names[IL17_genesmask]\n",
    "IL17_exp_set ={\n",
    "    'cytokine': IL17_genes, 'TF': 'RORC'\n",
    "}\n",
    "sc.pl.dotplot(adata,IL17_exp_set,groupby = 'leiden4' , vmax = 1, swap_axes = False, dot_min =0.1, dot_max =1,standard_scale = 'var')"
   ]
  },
  {
   "cell_type": "code",
   "execution_count": null,
   "id": "7c4e0b69-4b0b-4bbb-abf4-e92c74880da9",
   "metadata": {},
   "outputs": [],
   "source": [
    "potential_17 = adata[adata.obs['leiden4'].isin(['2,1','2,4','6,0','15,2','18,2']),:]"
   ]
  },
  {
   "cell_type": "code",
   "execution_count": null,
   "id": "fd5c1696-5b37-4251-bb6b-bf37c33a6dec",
   "metadata": {},
   "outputs": [],
   "source": [
    "potential_17.write('GSE188711_LeftnRight_T17.h5ad')"
   ]
  },
  {
   "cell_type": "code",
   "execution_count": null,
   "id": "5bd277d7-71fd-4407-a7cb-66d04316da39",
   "metadata": {},
   "outputs": [],
   "source": [
    "potential_gd = adata[adata.obs['leiden'].isin(['6','15']),:]"
   ]
  },
  {
   "cell_type": "code",
   "execution_count": null,
   "id": "3f455335",
   "metadata": {},
   "outputs": [],
   "source": [
    "sc.pp.highly_variable_genes(potential_gd, flavor='seurat', n_top_genes=3000)\n",
    "sc.pp.pca(potential_gd, n_comps=50, use_highly_variable=True, svd_solver='arpack')"
   ]
  },
  {
   "cell_type": "code",
   "execution_count": null,
   "id": "ea6380c2",
   "metadata": {},
   "outputs": [],
   "source": [
    "sc.pp.neighbors(potential_gd, n_neighbors = 15, n_pcs = 50)\n",
    "sc.tl.leiden(potential_gd, resolution = 1, key_added= 'leiden')                                                 "
   ]
  },
  {
   "cell_type": "code",
   "execution_count": null,
   "id": "a71612cb",
   "metadata": {},
   "outputs": [],
   "source": [
    "sc.tl.tsne(potential_gd)"
   ]
  },
  {
   "cell_type": "code",
   "execution_count": null,
   "id": "383e52e5",
   "metadata": {},
   "outputs": [],
   "source": [
    "%matplotlib inline\n",
    "sc.pl.tsne(potential_gd, color=['leiden','CD3E','CD3G','CD3D','TRDC','ICOS','CD4','CD8A','CD8B','FOXP3'],cmap = my_cmap)"
   ]
  },
  {
   "cell_type": "code",
   "execution_count": null,
   "id": "c94d90a9-571d-4aa8-90da-fd84d243ab56",
   "metadata": {},
   "outputs": [],
   "source": [
    "plt.rcParams['figure.figsize'] = [8,8]\n",
    "sc.tl.leiden(potential_gd, restrict_to = ('leiden', ['1']), resolution = 0.8, key_added= 'leiden1')\n",
    "sc.pl.tsne(potential_gd, color=['leiden1','CD3E','CD3G','CD3D','TRDC'], size = 20, legend_loc = 'on data', cmap = my_cmap)"
   ]
  },
  {
   "cell_type": "code",
   "execution_count": null,
   "id": "0e54bfb0-254c-473b-8d87-7996cdefd08b",
   "metadata": {},
   "outputs": [],
   "source": [
    "plt.rcParams['figure.figsize'] = [8,8]\n",
    "sc.tl.leiden(potential_gd, restrict_to = ('leiden1', ['6']), resolution = 0.6, key_added= 'leiden2')\n",
    "sc.pl.tsne(potential_gd, color=['leiden2','CD3E','CD3G','CD3D','TRDC'], size = 20, legend_loc = 'on data', cmap = my_cmap)"
   ]
  },
  {
   "cell_type": "code",
   "execution_count": null,
   "id": "73820a46-ee01-4a92-a765-fc2276e9134d",
   "metadata": {
    "tags": []
   },
   "outputs": [],
   "source": [
    "plt.rcParams['figure.figsize'] = [8,8]\n",
    "sc.tl.leiden(potential_gd, restrict_to = ('leiden2', ['10']), resolution = 0.3, key_added= 'leiden3')\n",
    "sc.pl.tsne(potential_gd, color=['leiden3','CD3E','CD3G','CD3D','TRDC'], size = 20, legend_loc = 'on data', cmap = my_cmap)"
   ]
  },
  {
   "cell_type": "code",
   "execution_count": null,
   "id": "63925872-d423-41f3-b0aa-6c630f9477dd",
   "metadata": {
    "tags": []
   },
   "outputs": [],
   "source": [
    "plt.rcParams['figure.figsize'] = [8,8]\n",
    "sc.tl.leiden(potential_gd, restrict_to = ('leiden3', ['3']), resolution = 0.5, key_added= 'leiden4')\n",
    "sc.pl.tsne(potential_gd, color=['leiden4','CD3E','CD3G','CD3D','TRDC'], size = 20, legend_loc = 'on data', cmap = my_cmap)"
   ]
  },
  {
   "cell_type": "code",
   "execution_count": null,
   "id": "c44f67c5-4f7d-4ffb-87cb-3766b7d33ab5",
   "metadata": {
    "tags": []
   },
   "outputs": [],
   "source": [
    "plt.rcParams['figure.figsize'] = [8,8]\n",
    "sc.tl.leiden(potential_gd, restrict_to = ('leiden3', ['6']), resolution = 0.5, key_added= 'leiden4')\n",
    "sc.pl.tsne(potential_gd, color=['leiden4','CD3E','CD3G','CD3D','TRDC'], size = 20, legend_loc = 'on data', cmap = my_cmap)"
   ]
  },
  {
   "cell_type": "code",
   "execution_count": null,
   "id": "cc2c8ce9-868c-4bca-b11d-94abd5c0880c",
   "metadata": {},
   "outputs": [],
   "source": [
    "gamma_genesmask = [gene.startswith(\"TRG\") for gene in potential_gd.var_names]\n",
    "gamma_genes = potential_gd.var_names[gamma_genesmask]\n",
    "delta_genesmask = [gene.startswith(\"TRD\") for gene in potential_gd.var_names]\n",
    "delta_genes = potential_gd.var_names[delta_genesmask]"
   ]
  },
  {
   "cell_type": "code",
   "execution_count": null,
   "id": "32dc9ecb-8db8-43e9-bac2-a6cd65303b6a",
   "metadata": {},
   "outputs": [],
   "source": [
    "TCR_exp_set ={\n",
    "\"gamma\": gamma_genes, \"delta\": delta_genes, \"CD3S\": ['CD3E','CD3D','CD3G']\n",
    "}\n",
    "sc.pl.dotplot(potential_gd,TCR_exp_set,groupby = 'leiden2' , vmax = 1, swap_axes = False, dot_min =0, dot_max =1,standard_scale = 'var')"
   ]
  },
  {
   "cell_type": "code",
   "execution_count": null,
   "id": "234e5472-9c60-485d-9942-ade2434a92aa",
   "metadata": {},
   "outputs": [],
   "source": [
    "gd = potential_gd[potential_gd.obs['leiden2'].isin(['1,1','1,4','3','6,4','7']),:]"
   ]
  },
  {
   "cell_type": "code",
   "execution_count": null,
   "id": "6e28cc88-ea83-4f26-889b-9ed7a9395f6c",
   "metadata": {},
   "outputs": [],
   "source": [
    "sc.pl.dotplot(gd,TCR_exp_set,groupby = 'leiden2' , vmax = 1, swap_axes = False, dot_min =0, dot_max =1,standard_scale = 'var')"
   ]
  },
  {
   "cell_type": "code",
   "execution_count": null,
   "id": "1b153b3d-5268-4da5-8b38-89131ec7a5c5",
   "metadata": {},
   "outputs": [],
   "source": [
    "gd.write('F:/CRC/GSE188711_LeftnRight/GSE188711_LeftnRight_gd.h5ad')"
   ]
  },
  {
   "cell_type": "code",
   "execution_count": null,
   "id": "1fea3b8e-f6b2-4ce8-b86e-dc78becccb04",
   "metadata": {},
   "outputs": [],
   "source": [
    "sc.pl.tsne(gd,color = ['RORC','IL17A'],cmap = my_cmap)"
   ]
  },
  {
   "cell_type": "code",
   "execution_count": null,
   "id": "16c8e2c1-aeab-4f14-9011-eadef33d7f8a",
   "metadata": {},
   "outputs": [],
   "source": [
    "adata_gd = sc.read_h5ad('F:/CRC/AA_Done/GSE188711_LeftnRight/GSE188711_LeftnRight_gd.h5ad')"
   ]
  },
  {
   "cell_type": "code",
   "execution_count": null,
   "id": "f5a69270-55d8-4331-8970-f8142bfbfe31",
   "metadata": {},
   "outputs": [],
   "source": [
    "bioinfo = pd.read_csv('F:/CRC/AA_Done/GSE188711_LeftnRight/bioinfo.csv')"
   ]
  },
  {
   "cell_type": "code",
   "execution_count": null,
   "id": "a50812a0-ea28-421e-b8b4-8144dc6de4a8",
   "metadata": {},
   "outputs": [],
   "source": [
    "patient_dict = dict(zip(bioinfo['GSM'], bioinfo['Patient No.']))\n",
    "patient = [patient_dict[i] for i in adata_gd.obs['sample_origin']]"
   ]
  },
  {
   "cell_type": "code",
   "execution_count": null,
   "id": "e8bfa76c-305d-4e03-bb66-cfaed69b1fe9",
   "metadata": {},
   "outputs": [],
   "source": [
    "gender_dict = dict(zip(bioinfo['GSM'], bioinfo['Sex']))\n",
    "gender = [gender_dict[i] for i in adata_gd.obs['sample_origin']]"
   ]
  },
  {
   "cell_type": "code",
   "execution_count": null,
   "id": "ab5c6d94-07c8-4d79-891e-fac87d578939",
   "metadata": {},
   "outputs": [],
   "source": [
    "age_dict = dict(zip(bioinfo['GSM'], bioinfo['Age']))\n",
    "age = [age_dict[i] for i in adata_gd.obs['sample_origin']]"
   ]
  },
  {
   "cell_type": "code",
   "execution_count": null,
   "id": "9af06a6e-d5f4-4dd4-afa9-55a1774be2d4",
   "metadata": {},
   "outputs": [],
   "source": [
    "site_dict = dict(zip(bioinfo['GSM'], bioinfo['Location']))\n",
    "site = [site_dict[i] for i in adata_gd.obs['sample_origin']]"
   ]
  },
  {
   "cell_type": "code",
   "execution_count": null,
   "id": "b4dbbf2c-c509-44cb-96df-353688479786",
   "metadata": {},
   "outputs": [],
   "source": [
    "T_dict = dict(zip(bioinfo['GSM'], bioinfo['AJCC Stage']))\n",
    "TNM_T = [T_dict[i] for i in adata_gd.obs['sample_origin']]"
   ]
  },
  {
   "cell_type": "code",
   "execution_count": null,
   "id": "9745ad33-881f-44d1-b552-a25d0d7f0fc8",
   "metadata": {},
   "outputs": [],
   "source": [
    "N_dict = dict(zip(bioinfo['GSM'], bioinfo['LN Metastasis']))\n",
    "TNM_N = [N_dict[i] for i in adata_gd.obs['sample_origin']]"
   ]
  },
  {
   "cell_type": "code",
   "execution_count": null,
   "id": "a099613b-cccc-4a13-8e5a-b6b9b08908d8",
   "metadata": {},
   "outputs": [],
   "source": [
    "M_dict = dict(zip(bioinfo['GSM'], bioinfo['Distant Metastasis']))\n",
    "TNM_M = [M_dict[i] for i in adata_gd.obs['sample_origin']]"
   ]
  },
  {
   "cell_type": "code",
   "execution_count": null,
   "id": "0cd76e61-0e94-4cc7-9df3-8481d02d31e5",
   "metadata": {},
   "outputs": [],
   "source": [
    "stage_dict = dict(zip(bioinfo['GSM'], bioinfo['AJCC Stage']))\n",
    "adata_gd.obs['stage'] = [stage_dict[i] for i in adata_gd.obs['sample_origin']]"
   ]
  },
  {
   "cell_type": "code",
   "execution_count": null,
   "id": "504c6994-8c66-4af5-90a7-434499c02bc3",
   "metadata": {},
   "outputs": [],
   "source": [
    "adata_gd.obs['patient'] = patient\n",
    "adata_gd.obs['tissue'] = 'CRC'\n",
    "adata_gd.obs['gender'] = gender\n",
    "adata_gd.obs['age'] = age\n",
    "adata_gd.obs['site'] = site\n",
    "adata_gd.obs['TNM_T'] = TNM_T\n",
    "adata_gd.obs['TNM_N'] = TNM_N\n",
    "adata_gd.obs['TNM_M'] = TNM_M"
   ]
  },
  {
   "cell_type": "code",
   "execution_count": null,
   "id": "2decb50d-d990-4cff-9793-a9828a352f55",
   "metadata": {},
   "outputs": [],
   "source": [
    "adata_gd.obs['gender'] = adata_gd.obs['gender'].replace({'F':'Female','M':'Male'})"
   ]
  },
  {
   "cell_type": "code",
   "execution_count": null,
   "id": "971693f7-73b8-4dff-8eb3-8986029eeb3a",
   "metadata": {},
   "outputs": [],
   "source": [
    "sc.pl.tsne(adata_gd,color = ['patient','tissue','gender','age','site','TNM_T','TNM_N','TNM_M','stage'])"
   ]
  },
  {
   "cell_type": "code",
   "execution_count": null,
   "id": "d2401e6a-3a43-4a27-aa44-992434b83f8b",
   "metadata": {},
   "outputs": [],
   "source": [
    "adata_gd.obs[['patient','tissue','gender','age','site','TNM_T','TNM_N','TNM_M','stage']].to_csv('F:/CRC/AA_Done/GSE188711_LeftnRight_gd.csv')"
   ]
  },
  {
   "cell_type": "code",
   "execution_count": null,
   "id": "cd673760-7b76-46e8-a44d-78a786a6127e",
   "metadata": {},
   "outputs": [],
   "source": [
    "adata_gd.write('F:/CRC/AA_Done/GSE188711_LeftnRight/GSE188711_LeftnRight_gd.h5ad')"
   ]
  },
  {
   "cell_type": "code",
   "execution_count": null,
   "id": "2e0e347b-b4b4-41ed-b1a0-2ac5ac3a48b9",
   "metadata": {},
   "outputs": [],
   "source": []
  },
  {
   "cell_type": "code",
   "execution_count": null,
   "id": "bd5b2d85-4347-4056-a9e7-8d5732d4f156",
   "metadata": {},
   "outputs": [],
   "source": []
  },
  {
   "cell_type": "code",
   "execution_count": null,
   "id": "0df0c36e-d033-400b-9c93-f15e0b94efc2",
   "metadata": {},
   "outputs": [],
   "source": [
    "from matplotlib.colors import LinearSegmentedColormap\n",
    "values = [0,1]\n",
    "colors = [(227, 227, 227), (255, 42, 18)]\n",
    "norm = plt.Normalize(min(values), max(values))\n",
    "my_cmap = LinearSegmentedColormap.from_list(\n",
    "    '', [(norm(value), tuple(np.array(color) / 255)) for value, color in zip(values, colors)])"
   ]
  },
  {
   "cell_type": "code",
   "execution_count": null,
   "id": "d56658c5-fe93-4870-baaa-2218f4d43140",
   "metadata": {},
   "outputs": [],
   "source": [
    "adata = sc.read_h5ad('integrated.h5ad')\n",
    "adata_17 = sc.read_h5ad('GSE188711_LeftnRight_T17.h5ad')\n",
    "adata_gd = sc.read_h5ad('GSE188711_LeftnRight_gd.h5ad')"
   ]
  },
  {
   "cell_type": "code",
   "execution_count": null,
   "id": "e169965c-f010-4c90-8471-8d84dfce0fe2",
   "metadata": {},
   "outputs": [],
   "source": [
    "adata.obs['IL17 secreting selected'] = '0'\n",
    "adata.obs['IL17 secreting selected'][adata.obs_names.isin(adata_17.obs_names)] = '1'"
   ]
  },
  {
   "cell_type": "code",
   "execution_count": null,
   "id": "b8dc4cc2-2b45-4159-b6b4-ec5320f603c8",
   "metadata": {},
   "outputs": [],
   "source": [
    "adata.obs['gdT selected'] = '0'\n",
    "adata.obs['gdT selected'][adata.obs_names.isin(adata_gd.obs_names)] = '1'"
   ]
  },
  {
   "cell_type": "code",
   "execution_count": null,
   "id": "3d8e1309-faf3-49d3-a7ee-9659c1671652",
   "metadata": {},
   "outputs": [],
   "source": [
    "plt.close()\n",
    "plt.rcParams['axes.linewidth'] = 2\n",
    "plt.rcParams['figure.figsize'] = [8,8]\n",
    "fig = sc.pl.tsne(adata, color=['RORC','IL17A','IL17F','IL17 secreting selected'],\n",
    "                 size =10, ncols = 2, palette = ['#E3E3E3', '#FF2A12'], cmap = my_cmap, return_fig = True, legend_fontsize = 'large')\n",
    "ax = fig.get_axes()\n",
    "for i in range(0,len(ax)):\n",
    "    ax[i].xaxis.label.set_fontsize(22)\n",
    "    ax[i].xaxis.label.set_fontweight('bold')\n",
    "    ax[i].yaxis.label.set_fontsize(22)\n",
    "    ax[i].title.set_fontsize(30)\n",
    "    ax[i].yaxis.label.set_fontweight('bold')\n",
    "    ax[i].title.set_fontweight('bold')\n",
    "fig.savefig('17_selected.png',dpi = 300,bbox_inches='tight') "
   ]
  },
  {
   "cell_type": "code",
   "execution_count": null,
   "id": "c712d959-8054-47a5-b85b-9682067e4c22",
   "metadata": {},
   "outputs": [],
   "source": [
    "plt.close()\n",
    "plt.rcParams['axes.linewidth'] = 2\n",
    "plt.rcParams['figure.figsize'] = [8,8]\n",
    "fig = sc.pl.tsne(adata, color=['CD3E','CD3D','CD3G','CD247','TRDC','gdT selected'],\n",
    "                 size =10, ncols = 2, palette = ['#E3E3E3', '#FF2A12'], cmap = my_cmap, return_fig = True, legend_fontsize = 'large')\n",
    "ax = fig.get_axes()\n",
    "for i in range(0,len(ax)):\n",
    "    ax[i].xaxis.label.set_fontsize(22)\n",
    "    ax[i].xaxis.label.set_fontweight('bold')\n",
    "    ax[i].yaxis.label.set_fontsize(22)\n",
    "    ax[i].title.set_fontsize(30)\n",
    "    ax[i].yaxis.label.set_fontweight('bold')\n",
    "    ax[i].title.set_fontweight('bold')\n",
    "fig.savefig('gd_selected.png',dpi = 300,bbox_inches='tight') "
   ]
  },
  {
   "cell_type": "code",
   "execution_count": null,
   "id": "08a98fb6-982f-4aa9-9aa1-e0d911f06ee9",
   "metadata": {},
   "outputs": [],
   "source": []
  }
 ],
 "metadata": {
  "kernelspec": {
   "display_name": "Python 3 (ipykernel)",
   "language": "python",
   "name": "python3"
  },
  "language_info": {
   "codemirror_mode": {
    "name": "ipython",
    "version": 3
   },
   "file_extension": ".py",
   "mimetype": "text/x-python",
   "name": "python",
   "nbconvert_exporter": "python",
   "pygments_lexer": "ipython3",
   "version": "3.9.13"
  }
 },
 "nbformat": 4,
 "nbformat_minor": 5
}
