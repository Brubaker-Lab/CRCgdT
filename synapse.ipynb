{
 "cells": [
  {
   "cell_type": "code",
   "execution_count": null,
   "id": "d1729e9e-28ec-4fd6-9769-9d4778952ada",
   "metadata": {},
   "outputs": [],
   "source": [
    "#import the library\n",
    "import scanpy as sc\n",
    "import numpy as np\n",
    "import scipy as sp\n",
    "import pandas as pd\n",
    "import matplotlib.pyplot as plt\n",
    "from matplotlib import rcParams\n",
    "from matplotlib import colors\n",
    "import seaborn as sb\n",
    "from gprofiler import GProfiler\n",
    "import seaborn as sns\n",
    "import rpy2.rinterface_lib.callbacks\n",
    "import logging\n",
    "import scirpy\n",
    "import anndata\n",
    "from rpy2.robjects import pandas2ri\n",
    "import anndata2ri\n",
    "\n",
    "import importlib\n",
    "import warnings\n",
    "warnings.filterwarnings(\"ignore\")\n",
    "\n",
    "import pickle as pkl\n",
    "from matplotlib.colors import LinearSegmentedColormap\n",
    "from sccd45ra import cd45ra_infer"
   ]
  },
  {
   "cell_type": "code",
   "execution_count": null,
   "id": "6d642b8c-f2d8-4aa1-b3bb-68b23272e7b3",
   "metadata": {},
   "outputs": [],
   "source": [
    "import h5py\n",
    "from scipy.sparse import csr_matrix\n",
    "\n",
    "# Open the HDF5 file\n",
    "file_path = 'Synapse/NonEpithelial_Count_matrix.h5'\n",
    "with h5py.File(file_path, 'r') as f:\n",
    "    # Load the necessary datasets\n",
    "    data = f['matrix/data'][()]\n",
    "    indices = f['matrix/indices'][()]\n",
    "    indptr = f['matrix/indptr'][()]\n",
    "    shape = f['matrix/shape'][()]"
   ]
  },
  {
   "cell_type": "code",
   "execution_count": null,
   "id": "9c9d3815-2eb7-40b3-9772-75296bc2e954",
   "metadata": {},
   "outputs": [],
   "source": [
    "with h5py.File(file_path, 'r') as f:\n",
    "    # Load the necessary datasets\n",
    "    genes = f['matrix/features/name'][()]\n",
    "    gene_ID = [str(i).split(\"'\")[1] for i in genes]"
   ]
  },
  {
   "cell_type": "code",
   "execution_count": null,
   "id": "7ecd7846-a41d-487e-8147-55e17a4a0881",
   "metadata": {},
   "outputs": [],
   "source": [
    "from matplotlib.colors import LinearSegmentedColormap\n",
    "values = [0,1]\n",
    "colors = [(227, 227, 227), (255, 42, 18)]\n",
    "norm = plt.Normalize(min(values), max(values))\n",
    "my_cmap = LinearSegmentedColormap.from_list(\n",
    "    '', [(norm(value), tuple(np.array(color) / 255)) for value, color in zip(values, colors)])"
   ]
  },
  {
   "cell_type": "code",
   "execution_count": null,
   "id": "49346cbd-a885-4d4f-bbb6-86ed9cb68786",
   "metadata": {},
   "outputs": [],
   "source": [
    "def print_full(x):\n",
    "    pd.set_option('display.max_rows', len(x))\n",
    "    print(x)\n",
    "    pd.reset_option('display.max_rows')"
   ]
  },
  {
   "cell_type": "code",
   "execution_count": null,
   "id": "39211b07-5052-4c68-a4c2-839a193f48a7",
   "metadata": {
    "tags": []
   },
   "outputs": [],
   "source": [
    "\n",
    "rpy2.rinterface_lib.callbacks.logger.setLevel(logging.ERROR)\n",
    "\n",
    "pandas2ri.activate()\n",
    "anndata2ri.activate()\n",
    "%load_ext rpy2.ipython"
   ]
  },
  {
   "cell_type": "code",
   "execution_count": null,
   "id": "65c0e77e-6c9b-4828-87b9-555ac3e461fd",
   "metadata": {
    "tags": []
   },
   "outputs": [],
   "source": [
    "plt.rcParams['figure.figsize']=(8,8)\n",
    "sc.settings.verbosity = 3\n",
    "\n",
    "sc.logging.print_versions()"
   ]
  },
  {
   "cell_type": "code",
   "execution_count": null,
   "id": "26e84b91-2cd5-4245-8aaa-294cf16804f6",
   "metadata": {
    "tags": []
   },
   "outputs": [],
   "source": [
    "%%R\n",
    "\n",
    ".libPaths(.libPaths('R\\\\win-library\\\\4.3'))\n",
    "\n",
    "\n",
    "library(scran)\n",
    "library(Seurat)"
   ]
  },
  {
   "cell_type": "code",
   "execution_count": null,
   "id": "8f886375-d83e-49e2-ae76-d648bd13d1e2",
   "metadata": {},
   "outputs": [],
   "source": [
    "my_palette = ['#0351A8','#8CB0E0','#D56D11','#FFBB78','#234E08','#53CB8B','#D30083','#CB788D','#4E195A','#C58CCF','#AA290F','#B03FD1','#E8BCCF','#64605F','#B2AD9A','#D2D30B','#D1BD4F','#06DCF2','#9EDAE5','#517219','#5B43CF','#D92F24','#FFD900','#002F33','#B8A3A3']"
   ]
  },
  {
   "cell_type": "code",
   "execution_count": null,
   "id": "43518edd-e761-4a70-93cb-574dfa4d5b94",
   "metadata": {},
   "outputs": [],
   "source": [
    "matrix = csr_matrix((data, indices, indptr), shape=[shape[1],shape[0]])"
   ]
  },
  {
   "cell_type": "code",
   "execution_count": null,
   "id": "c979ad6e-64ee-453b-9d3c-bef02d6b7aaa",
   "metadata": {},
   "outputs": [],
   "source": [
    "meta_data = pd.read_csv('Synapse/NonEpithelial_metadata.csv',index_col = 0)"
   ]
  },
  {
   "cell_type": "code",
   "execution_count": null,
   "id": "4a3a3cf3-e97e-4a85-832b-a50d9c1dafe0",
   "metadata": {},
   "outputs": [],
   "source": [
    "import anndata\n",
    "adata =anndata.AnnData(X = matrix)\n",
    "adata.var_names = gene_ID\n",
    "adata.obs_names = meta_data.index"
   ]
  },
  {
   "cell_type": "code",
   "execution_count": null,
   "id": "c3bdf9ca-0e46-4124-b537-1474cb8252f3",
   "metadata": {},
   "outputs": [],
   "source": [
    "adata.obs = meta_data"
   ]
  },
  {
   "cell_type": "code",
   "execution_count": null,
   "id": "5f7e9ed6-26e1-4c97-bda6-dc16ef274bce",
   "metadata": {},
   "outputs": [],
   "source": [
    "adata.write('Synapse/synapse.h5ad')"
   ]
  },
  {
   "cell_type": "code",
   "execution_count": null,
   "id": "e3cc02a6-eda2-4a62-a829-20f1a71d4934",
   "metadata": {},
   "outputs": [],
   "source": [
    "adata = sc.read_h5ad('Synapse/synapse.h5ad')"
   ]
  },
  {
   "cell_type": "code",
   "execution_count": null,
   "id": "d9c8be06-a6ea-4f4e-8445-f4a6521e117e",
   "metadata": {},
   "outputs": [],
   "source": [
    "meta = pd.read_excel('Synapse/41588_2022_1100_MOESM3_ESM.xlsx',sheet_name='Supplementary Table 13')"
   ]
  },
  {
   "cell_type": "code",
   "execution_count": null,
   "id": "797f1fc5-c799-482c-9f42-4e4e374170ad",
   "metadata": {},
   "outputs": [],
   "source": [
    "adata.obs['patient.ID'] = adata.obs['patient.ID'].replace('-JSC','')"
   ]
  },
  {
   "cell_type": "code",
   "execution_count": null,
   "id": "42120c10-7280-4ea7-81b8-ed2a737bbcbe",
   "metadata": {},
   "outputs": [],
   "source": [
    "for col_name in meta.columns[4:-3]:\n",
    "    dictionary = pd.Series(meta[col_name].astype(str).values, index=meta['patient.ID']).to_dict()\n",
    "    adata.obs[col_name] = adata.obs['patient.ID'].replace(dictionary)"
   ]
  },
  {
   "cell_type": "code",
   "execution_count": null,
   "id": "a695bd7f-0d8f-4e9c-918a-253cf9037011",
   "metadata": {},
   "outputs": [],
   "source": [
    "adata.obs['patient.ID'] = [i.replace('-JSC','') for i in adata.obs['patient.ID']]"
   ]
  },
  {
   "cell_type": "code",
   "execution_count": null,
   "id": "f1bff341-f25e-4b8d-912a-1ff549a076e3",
   "metadata": {},
   "outputs": [],
   "source": [
    "for col_name in meta.columns[2:-3]:\n",
    "    dictionary = pd.Series(meta[col_name].values, index=meta['patient.ID']).to_dict()\n",
    "    adata.obs[col_name] = adata.obs['patient.ID'].replace(dictionary)"
   ]
  },
  {
   "cell_type": "code",
   "execution_count": null,
   "id": "85e6dc0f-e624-4337-9849-115ce6a5c5d2",
   "metadata": {},
   "outputs": [],
   "source": [
    "for i in adata.obs.columns:\n",
    "    adata.obs[i] = adata.obs[i].astype(str)"
   ]
  },
  {
   "cell_type": "code",
   "execution_count": null,
   "id": "ba02ad1d-0460-4754-937f-213a3f4b6d98",
   "metadata": {},
   "outputs": [],
   "source": [
    "adata.obs[['sample.ID', 'patient.ID', 'sample.origin','dataset','Gender', 'Age at recruitment', 'Group Stage', 'Stage TNM','Site']]"
   ]
  },
  {
   "cell_type": "code",
   "execution_count": null,
   "id": "fe07a43f-eb75-4de2-aae2-358c8eee2a93",
   "metadata": {},
   "outputs": [],
   "source": [
    "adata.obs['patient'] = adata.obs['patient.ID']\n",
    "adata.obs['tissue'] = adata.obs['sample.origin']\n",
    "adata.obs['gender'] = adata.obs['Gender'] \n",
    "adata.obs['age'] = adata.obs['Age at recruitment'] \n",
    "adata.obs['site'] = adata.obs['Site']\n",
    "adata.obs['stage'] = adata.obs['Group Stage']"
   ]
  },
  {
   "cell_type": "code",
   "execution_count": null,
   "id": "25271ffc-83f9-4c95-bf4f-940e4a6eebbd",
   "metadata": {
    "tags": []
   },
   "outputs": [],
   "source": [
    "adata.obs['TNM_T'] = [i.split('T')[1].split('N')[0] for i in adata.obs['Stage TNM']]\n",
    "adata.obs['TNM_N'] = [i.split('N')[1].split('M')[0] for i in adata.obs['Stage TNM']]\n",
    "adata.obs['TNM_M'] = 'x'\n",
    "for i,stage in enumerate(adata.obs['Stage TNM']):\n",
    "    if len(stage.split('M')) > 1:\n",
    "        adata.obs['TNM_M'][i] = stage.split('M')[1]"
   ]
  },
  {
   "cell_type": "code",
   "execution_count": null,
   "id": "c53781a7-a4c9-47f1-814d-07b21133a838",
   "metadata": {},
   "outputs": [],
   "source": [
    "adata.obs['gender'] = adata.obs['gender'].replace({'F':'Female','M':'Male'})"
   ]
  },
  {
   "cell_type": "code",
   "execution_count": null,
   "id": "db72d965-752f-4796-bf94-56cc40bc9c87",
   "metadata": {
    "tags": []
   },
   "outputs": [],
   "source": [
    "sc.pl.umap(adata,color = ['patient','tissue','gender','age','site','TNM_T','TNM_N','TNM_M','stage'])"
   ]
  },
  {
   "cell_type": "code",
   "execution_count": null,
   "id": "8aa9e2fb-5731-4607-b3cd-ec172716277a",
   "metadata": {},
   "outputs": [],
   "source": [
    "sc.pp.normalize_total(adata, key_added = 'normalization_factors')\n",
    "sc.pp.log1p(adata)"
   ]
  },
  {
   "cell_type": "code",
   "execution_count": null,
   "id": "1136329d-dc56-4eec-abef-51611187327d",
   "metadata": {},
   "outputs": [],
   "source": [
    "sc.pp.highly_variable_genes(adata, flavor='seurat', n_top_genes=3000)\n",
    "sc.pp.pca(adata, n_comps=50, use_highly_variable=True, svd_solver='arpack')"
   ]
  },
  {
   "cell_type": "code",
   "execution_count": null,
   "id": "ac4ff35d-342a-4649-b616-af256756737e",
   "metadata": {},
   "outputs": [],
   "source": [
    "sc.pp.neighbors(adata, n_neighbors = 15, n_pcs = 50)\n",
    "sc.tl.leiden(adata, resolution = 0.8, key_added= 'leiden')                                                 "
   ]
  },
  {
   "cell_type": "code",
   "execution_count": null,
   "id": "140c1b0b-054e-4199-8768-8b95499e4a94",
   "metadata": {},
   "outputs": [],
   "source": [
    "sc.tl.umap(adata)"
   ]
  },
  {
   "cell_type": "code",
   "execution_count": null,
   "id": "9c4961ca-4e24-4514-8b8d-361dc3995b4c",
   "metadata": {
    "tags": []
   },
   "outputs": [],
   "source": [
    "%matplotlib inline\n",
    "plt.rcParams['axes.linewidth'] = 2\n",
    "fig = sc.pl.umap(adata, color =  ['leiden','TRGV4','CD3D','CD3E','CD3G'],size = 40, legend_loc = 'on data', palette  = my_palette, ncols = 1, cmap = my_cmap, return_fig = True, legend_fontsize = 'large')\n",
    "ax = fig.get_axes()\n",
    "for i in range(0,len(ax)):\n",
    "    ax[i].xaxis.label.set_fontsize(22)\n",
    "    ax[i].xaxis.label.set_fontweight('bold')\n",
    "    ax[i].yaxis.label.set_fontsize(22)\n",
    "    ax[i].title.set_fontsize(30)\n",
    "    ax[i].yaxis.label.set_fontweight('bold')\n",
    "    ax[i].title.set_fontweight('bold')\n",
    "#plt.savefig('overall_map_withunmatched.png')"
   ]
  },
  {
   "cell_type": "code",
   "execution_count": null,
   "id": "5668cbff-c27f-43e5-b5ef-f87b0b07af76",
   "metadata": {},
   "outputs": [],
   "source": [
    "sc.pl.umap(adata,color = ['leiden','RORC','IL17A','IL17F'],cmap = my_cmap, vmax = 3, size = 40, legend_loc = 'on data')"
   ]
  },
  {
   "cell_type": "code",
   "execution_count": null,
   "id": "1ec0db62-20c1-4174-a65d-896adb29f0df",
   "metadata": {},
   "outputs": [],
   "source": [
    "potential_17 = adata[adata.obs['leiden'].isin(['1']),:]"
   ]
  },
  {
   "cell_type": "code",
   "execution_count": null,
   "id": "ed83856b-648e-4501-bbe0-d4eeb4cc048f",
   "metadata": {},
   "outputs": [],
   "source": [
    "del potential_17.uns"
   ]
  },
  {
   "cell_type": "code",
   "execution_count": null,
   "id": "3f455335",
   "metadata": {},
   "outputs": [],
   "source": [
    "sc.pp.highly_variable_genes(potential_17, flavor='seurat', n_top_genes=3000)\n",
    "sc.pp.pca(potential_17, n_comps=50, use_highly_variable=True, svd_solver='arpack')"
   ]
  },
  {
   "cell_type": "code",
   "execution_count": null,
   "id": "ea6380c2",
   "metadata": {},
   "outputs": [],
   "source": [
    "sc.pp.neighbors(potential_17, n_neighbors = 15, n_pcs = 50)\n",
    "sc.tl.leiden(potential_17, resolution = 1, key_added= 'leiden')                                                 "
   ]
  },
  {
   "cell_type": "code",
   "execution_count": null,
   "id": "a71612cb",
   "metadata": {},
   "outputs": [],
   "source": [
    "sc.tl.tsne(potential_17)"
   ]
  },
  {
   "cell_type": "code",
   "execution_count": null,
   "id": "383e52e5",
   "metadata": {},
   "outputs": [],
   "source": [
    "%matplotlib inline\n",
    "sc.pl.tsne(potential_17, color=['leiden','RORC','IL17A','IL17F'],size = 40,cmap = my_cmap)"
   ]
  },
  {
   "cell_type": "code",
   "execution_count": null,
   "id": "3100e6f4-2df3-4703-8201-d3877879604c",
   "metadata": {},
   "outputs": [],
   "source": [
    "plt.rcParams['figure.figsize'] = [8,8]\n",
    "sc.tl.leiden(potential_17, restrict_to = ('leiden', ['5']), resolution = 0.4, key_added= 'leiden1')\n",
    "sc.pl.tsne(potential_17, color=['leiden1','RORC','IL17A','IL17F'], size = 20, legend_loc = 'on data', cmap = my_cmap)"
   ]
  },
  {
   "cell_type": "code",
   "execution_count": null,
   "id": "9a11aa56-99db-4ae6-9efa-62f3c8961d63",
   "metadata": {},
   "outputs": [],
   "source": [
    "plt.rcParams['figure.figsize'] = [8,8]\n",
    "sc.tl.leiden(potential_17, restrict_to = ('leiden1', ['7']), resolution = 0.4, key_added= 'leiden2')\n",
    "sc.pl.tsne(potential_17, color=['leiden2','RORC','IL17A','IL17F'], size = 20, legend_loc = 'on data', cmap = my_cmap)"
   ]
  },
  {
   "cell_type": "code",
   "execution_count": null,
   "id": "ffe50037-fa68-4705-a3bb-1ca58991f6b9",
   "metadata": {},
   "outputs": [],
   "source": [
    "plt.rcParams['figure.figsize'] = [8,8]\n",
    "sc.tl.leiden(potential_17, restrict_to = ('leiden2', ['2']), resolution = 0.5, key_added= 'leiden3')\n",
    "sc.pl.tsne(potential_17, color=['leiden3','RORC','IL17A','IL17F'], size = 30, legend_loc = 'on data', cmap = my_cmap)"
   ]
  },
  {
   "cell_type": "code",
   "execution_count": null,
   "id": "f6a45aad-4dcb-4755-afb6-4d033dd155a1",
   "metadata": {},
   "outputs": [],
   "source": [
    "IL17_genesmask = [gene.startswith(\"IL17\") and gene.startswith(\"IL17R\")==0 for gene in potential_17.var_names]\n",
    "IL17_genes = potential_17.var_names[IL17_genesmask]\n",
    "IL17_exp_set ={\n",
    "    'cytokine': IL17_genes, 'TF': 'RORC'\n",
    "}\n",
    "sc.pl.dotplot(potential_17,IL17_exp_set,groupby = 'leiden3' , vmax = 1, swap_axes = False, dot_min =0.1, dot_max =1,standard_scale = 'var')"
   ]
  },
  {
   "cell_type": "code",
   "execution_count": null,
   "id": "86c0ef76-97b1-4d52-8d53-9beaafc7e517",
   "metadata": {},
   "outputs": [],
   "source": [
    "T17_1 = potential_17[potential_17.obs['leiden3'].isin(['2,0','2,1','2,3','2,4','5,2','7,1','7,2','7,3','12']),:]"
   ]
  },
  {
   "cell_type": "code",
   "execution_count": null,
   "id": "2d225a3b-33f2-40e5-bc30-e9e170ca4e07",
   "metadata": {},
   "outputs": [],
   "source": [
    "potential_17 = adata[adata.obs['leiden'].isin(['9']),:]"
   ]
  },
  {
   "cell_type": "code",
   "execution_count": null,
   "id": "1edc86dd-181d-41e7-beae-19d6d8848f77",
   "metadata": {},
   "outputs": [],
   "source": [
    "del potential_17.uns"
   ]
  },
  {
   "cell_type": "code",
   "execution_count": null,
   "id": "6abd1db3-058d-4c7e-b5a3-4acb17e48be8",
   "metadata": {},
   "outputs": [],
   "source": [
    "sc.pp.highly_variable_genes(potential_17, flavor='seurat', n_top_genes=3000)\n",
    "sc.pp.pca(potential_17, n_comps=50, use_highly_variable=True, svd_solver='arpack')"
   ]
  },
  {
   "cell_type": "code",
   "execution_count": null,
   "id": "ff8f91ad-13a5-4c98-8d61-6a45003a2caf",
   "metadata": {},
   "outputs": [],
   "source": [
    "sc.pp.neighbors(potential_17, n_neighbors = 15, n_pcs = 50)\n",
    "sc.tl.leiden(potential_17, resolution = 1, key_added= 'leiden')                                                 "
   ]
  },
  {
   "cell_type": "code",
   "execution_count": null,
   "id": "9ac0ba0b-cf9d-4c67-b681-acb436030e98",
   "metadata": {},
   "outputs": [],
   "source": [
    "sc.tl.tsne(potential_17)"
   ]
  },
  {
   "cell_type": "code",
   "execution_count": null,
   "id": "b1e968c2-ce04-4c92-beff-108dba373f97",
   "metadata": {},
   "outputs": [],
   "source": [
    "%matplotlib inline\n",
    "sc.pl.tsne(potential_17, color=['leiden','RORC','IL17A','IL17F'],size = 40,cmap = my_cmap)"
   ]
  },
  {
   "cell_type": "code",
   "execution_count": null,
   "id": "3f2010bb-2bfb-40c6-a9fb-34f72e58edf4",
   "metadata": {},
   "outputs": [],
   "source": [
    "plt.rcParams['figure.figsize'] = [8,8]\n",
    "sc.tl.leiden(potential_17, restrict_to = ('leiden', ['2']), resolution = 0.9, key_added= 'leiden1')\n",
    "sc.pl.tsne(potential_17, color=['leiden1','RORC','IL17A','IL17F'], size = 20, legend_loc = 'on data', cmap = my_cmap)"
   ]
  },
  {
   "cell_type": "code",
   "execution_count": null,
   "id": "bcc0855b-6786-421d-853c-374c5b03dc3b",
   "metadata": {},
   "outputs": [],
   "source": [
    "plt.rcParams['figure.figsize'] = [8,8]\n",
    "sc.tl.leiden(potential_17, restrict_to = ('leiden1', ['8']), resolution = 0.4, key_added= 'leiden2')\n",
    "sc.pl.tsne(potential_17, color=['leiden2','RORC','IL17A','IL17F'], size = 20, legend_loc = 'on data', cmap = my_cmap)"
   ]
  },
  {
   "cell_type": "code",
   "execution_count": null,
   "id": "46285c2d",
   "metadata": {},
   "outputs": [],
   "source": [
    "plt.rcParams['figure.figsize'] = [8,8]\n",
    "sc.tl.leiden(potential_17, restrict_to = ('leiden2', ['2']), resolution = 0.5, key_added= 'leiden3')\n",
    "sc.pl.tsne(potential_17, color=['leiden3','RORC','IL17A','IL17F'], size = 30, legend_loc = 'on data', cmap = my_cmap)"
   ]
  },
  {
   "cell_type": "code",
   "execution_count": null,
   "id": "1d3855e3-d576-4943-b78e-dc772ed3f6a4",
   "metadata": {},
   "outputs": [],
   "source": [
    "IL17_genesmask = [gene.startswith(\"IL17\") and gene.startswith(\"IL17R\")==0 for gene in potential_17.var_names]\n",
    "IL17_genes = potential_17.var_names[IL17_genesmask]\n",
    "IL17_exp_set ={\n",
    "    'cytokine': IL17_genes, 'TF': 'RORC'\n",
    "}\n",
    "sc.pl.dotplot(potential_17,IL17_exp_set,groupby = 'leiden2' , vmax = 1, swap_axes = False, dot_min =0.1, dot_max =1,standard_scale = 'var')"
   ]
  },
  {
   "cell_type": "code",
   "execution_count": null,
   "id": "86d4c21f-c324-47c7-80bb-5fde2d0b629e",
   "metadata": {},
   "outputs": [],
   "source": [
    "T17_2 = potential_17[potential_17.obs['leiden2'].isin(['2,1','16']),:]"
   ]
  },
  {
   "cell_type": "code",
   "execution_count": null,
   "id": "a547b3e6-361f-4f7b-9cc0-54f4307ad683",
   "metadata": {},
   "outputs": [],
   "source": [
    "potential_17 = adata[adata.obs['leiden'].isin(['8']),:]"
   ]
  },
  {
   "cell_type": "code",
   "execution_count": null,
   "id": "61db437a-27f0-472e-a96d-c0f7b97f52d4",
   "metadata": {},
   "outputs": [],
   "source": [
    "del potential_17.uns"
   ]
  },
  {
   "cell_type": "code",
   "execution_count": null,
   "id": "52e056b1-1112-41dd-9207-8f6858bba372",
   "metadata": {},
   "outputs": [],
   "source": [
    "sc.pp.highly_variable_genes(potential_17, flavor='seurat', n_top_genes=3000)\n",
    "sc.pp.pca(potential_17, n_comps=50, use_highly_variable=True, svd_solver='arpack')"
   ]
  },
  {
   "cell_type": "code",
   "execution_count": null,
   "id": "cfb88a75-8fe7-4db5-8862-ccfbeac37d45",
   "metadata": {},
   "outputs": [],
   "source": [
    "sc.pp.neighbors(potential_17, n_neighbors = 15, n_pcs = 50)\n",
    "sc.tl.leiden(potential_17, resolution = 1, key_added= 'leiden')                                                 "
   ]
  },
  {
   "cell_type": "code",
   "execution_count": null,
   "id": "4949fc02-e6e3-4cfd-a2c4-265e8398e667",
   "metadata": {},
   "outputs": [],
   "source": [
    "sc.tl.tsne(potential_17)"
   ]
  },
  {
   "cell_type": "code",
   "execution_count": null,
   "id": "d2949333-134d-4476-a32f-2007341e433c",
   "metadata": {},
   "outputs": [],
   "source": [
    "%matplotlib inline\n",
    "sc.pl.tsne(potential_17, color=['leiden','RORC','IL17A','IL17F'],size = 40,cmap = my_cmap)"
   ]
  },
  {
   "cell_type": "code",
   "execution_count": null,
   "id": "e8b4ea14-3686-4371-8061-0e612c5813cb",
   "metadata": {},
   "outputs": [],
   "source": [
    "IL17_genesmask = [gene.startswith(\"IL17\") and gene.startswith(\"IL17R\")==0 for gene in potential_17.var_names]\n",
    "IL17_genes = potential_17.var_names[IL17_genesmask]\n",
    "IL17_exp_set ={\n",
    "    'cytokine': IL17_genes, 'TF': 'RORC'\n",
    "}\n",
    "sc.pl.dotplot(potential_17,IL17_exp_set,groupby = 'leiden' , vmax = 1, swap_axes = False, dot_min =0.1, dot_max =1,standard_scale = 'var')"
   ]
  },
  {
   "cell_type": "code",
   "execution_count": null,
   "id": "d881a1d0-d612-487a-aade-8190e8499296",
   "metadata": {},
   "outputs": [],
   "source": [
    "T17_3 = potential_17[potential_17.obs['leiden'].isin(['0']),:]"
   ]
  },
  {
   "cell_type": "code",
   "execution_count": null,
   "id": "bcd60911-4a31-460d-925d-e3dda00a9286",
   "metadata": {},
   "outputs": [],
   "source": [
    "potential_17 = adata[adata.obs['leiden'].isin(['3']),:]"
   ]
  },
  {
   "cell_type": "code",
   "execution_count": null,
   "id": "10ef4396-48a6-48b9-8e35-0daebedd195a",
   "metadata": {},
   "outputs": [],
   "source": [
    "del potential_17.uns"
   ]
  },
  {
   "cell_type": "code",
   "execution_count": null,
   "id": "4104cb34-be7b-45e2-a7dd-d2579531e46a",
   "metadata": {},
   "outputs": [],
   "source": [
    "sc.pp.highly_variable_genes(potential_17, flavor='seurat', n_top_genes=3000)\n",
    "sc.pp.pca(potential_17, n_comps=50, use_highly_variable=True, svd_solver='arpack')"
   ]
  },
  {
   "cell_type": "code",
   "execution_count": null,
   "id": "e1204d12-03c5-45e0-8ff5-cd9bc0aa5e73",
   "metadata": {},
   "outputs": [],
   "source": [
    "sc.pp.neighbors(potential_17, n_neighbors = 15, n_pcs = 50)\n",
    "sc.tl.leiden(potential_17, resolution = 1, key_added= 'leiden')                                                 "
   ]
  },
  {
   "cell_type": "code",
   "execution_count": null,
   "id": "66706aa4-e4dc-418a-b374-31f938784836",
   "metadata": {},
   "outputs": [],
   "source": [
    "sc.tl.tsne(potential_17)"
   ]
  },
  {
   "cell_type": "code",
   "execution_count": null,
   "id": "7f3df73f-2e22-4323-bad0-33fafbca0858",
   "metadata": {},
   "outputs": [],
   "source": [
    "%matplotlib inline\n",
    "sc.pl.tsne(potential_17, color=['leiden','RORC','IL17A','IL17F'],size = 40,cmap = my_cmap)"
   ]
  },
  {
   "cell_type": "code",
   "execution_count": null,
   "id": "feb63452-0a45-4bb0-9bb4-788efac1a4db",
   "metadata": {},
   "outputs": [],
   "source": [
    "plt.rcParams['figure.figsize'] = [8,8]\n",
    "sc.tl.leiden(potential_17, restrict_to = ('leiden', ['1']), resolution = 0.9, key_added= 'leiden1')\n",
    "sc.pl.tsne(potential_17, color=['leiden1','RORC','IL17A','IL17F'], size = 20, legend_loc = 'on data', cmap = my_cmap)"
   ]
  },
  {
   "cell_type": "code",
   "execution_count": null,
   "id": "9b3de16c-85a8-4434-bde2-5d9b5612f7cd",
   "metadata": {},
   "outputs": [],
   "source": [
    "IL17_genesmask = [gene.startswith(\"IL17\") and gene.startswith(\"IL17R\")==0 for gene in potential_17.var_names]\n",
    "IL17_genes = potential_17.var_names[IL17_genesmask]\n",
    "IL17_exp_set ={\n",
    "    'cytokine': IL17_genes, 'TF': 'RORC'\n",
    "}\n",
    "sc.pl.dotplot(potential_17,IL17_exp_set,groupby = 'leiden1' , vmax = 1, swap_axes = False, dot_min =0.1, dot_max =1,standard_scale = 'var')"
   ]
  },
  {
   "cell_type": "code",
   "execution_count": null,
   "id": "0e460360-30db-4e5b-8970-eddcf5a372ba",
   "metadata": {},
   "outputs": [],
   "source": [
    "T17_4 = potential_17[potential_17.obs['leiden2'].isin(['2,1','16']),:]"
   ]
  },
  {
   "cell_type": "code",
   "execution_count": null,
   "id": "334e1914-7cad-49ce-88cf-4139b5dbb3ae",
   "metadata": {},
   "outputs": [],
   "source": [
    "potential_17 = adata[adata.obs['leiden'].isin(['4']),:]"
   ]
  },
  {
   "cell_type": "code",
   "execution_count": null,
   "id": "50b5295c-c85d-425c-a70b-8b958971612b",
   "metadata": {},
   "outputs": [],
   "source": [
    "del potential_17.uns"
   ]
  },
  {
   "cell_type": "code",
   "execution_count": null,
   "id": "335a3a84-57b7-4158-9938-21e544963cad",
   "metadata": {},
   "outputs": [],
   "source": [
    "sc.pp.highly_variable_genes(potential_17, flavor='seurat', n_top_genes=3000)\n",
    "sc.pp.pca(potential_17, n_comps=50, use_highly_variable=True, svd_solver='arpack')"
   ]
  },
  {
   "cell_type": "code",
   "execution_count": null,
   "id": "cd4f8fe1-2eab-4c70-b6d4-d20acff96f89",
   "metadata": {},
   "outputs": [],
   "source": [
    "sc.pp.neighbors(potential_17, n_neighbors = 15, n_pcs = 50)\n",
    "sc.tl.leiden(potential_17, resolution = 1, key_added= 'leiden')                                                 "
   ]
  },
  {
   "cell_type": "code",
   "execution_count": null,
   "id": "c1d1b114-e10e-4fc8-b6f5-5d46cabced8f",
   "metadata": {},
   "outputs": [],
   "source": [
    "sc.tl.tsne(potential_17)"
   ]
  },
  {
   "cell_type": "code",
   "execution_count": null,
   "id": "6acd11a2-a71a-4ae9-ae33-7f7d2fbdd780",
   "metadata": {},
   "outputs": [],
   "source": [
    "%matplotlib inline\n",
    "sc.pl.tsne(potential_17, color=['leiden','RORC','IL17A','IL17F'],size = 40,cmap = my_cmap)"
   ]
  },
  {
   "cell_type": "code",
   "execution_count": null,
   "id": "67ee4bb8-5589-476f-a7ae-7e50529d0bde",
   "metadata": {},
   "outputs": [],
   "source": [
    "plt.rcParams['figure.figsize'] = [8,8]\n",
    "sc.tl.leiden(potential_17, restrict_to = ('leiden', ['7']), resolution = 0.5, key_added= 'leiden1')\n",
    "sc.pl.tsne(potential_17, color=['leiden1','RORC','IL17A','IL17F'], size = 20, legend_loc = 'on data', cmap = my_cmap)"
   ]
  },
  {
   "cell_type": "code",
   "execution_count": null,
   "id": "3d740107-64e7-4dcf-b91e-2f020fb3c984",
   "metadata": {},
   "outputs": [],
   "source": [
    "plt.rcParams['figure.figsize'] = [8,8]\n",
    "sc.tl.leiden(potential_17, restrict_to = ('leiden1', ['4']), resolution = 0.5, key_added= 'leiden2')\n",
    "sc.pl.tsne(potential_17, color=['leiden2','RORC','IL17A','IL17F'], size = 20, legend_loc = 'on data', cmap = my_cmap)"
   ]
  },
  {
   "cell_type": "code",
   "execution_count": null,
   "id": "badca230-24f5-4da5-b3cd-84887f7055ad",
   "metadata": {},
   "outputs": [],
   "source": [
    "plt.rcParams['figure.figsize'] = [8,8]\n",
    "sc.tl.leiden(potential_17, restrict_to = ('leiden2', ['9']), resolution = 0.5, key_added= 'leiden3')\n",
    "sc.pl.tsne(potential_17, color=['leiden3','RORC','IL17A','IL17F'], size = 30, legend_loc = 'on data', cmap = my_cmap)"
   ]
  },
  {
   "cell_type": "code",
   "execution_count": null,
   "id": "42bd6cd7-5787-4a19-95d9-bab1cc18be1b",
   "metadata": {},
   "outputs": [],
   "source": [
    "plt.rcParams['figure.figsize'] = [8,8]\n",
    "sc.tl.leiden(potential_17, restrict_to = ('leiden3', ['3']), resolution = 0.6, key_added= 'leiden4')\n",
    "sc.pl.tsne(potential_17, color=['leiden4','RORC','IL17A','IL17F'], size = 30, legend_loc = 'on data', cmap = my_cmap)"
   ]
  },
  {
   "cell_type": "code",
   "execution_count": null,
   "id": "8d6df228-753c-484e-98ed-73f93a728a39",
   "metadata": {},
   "outputs": [],
   "source": [
    "IL17_genesmask = [gene.startswith(\"IL17\") and gene.startswith(\"IL17R\")==0 for gene in potential_17.var_names]\n",
    "IL17_genes = potential_17.var_names[IL17_genesmask]\n",
    "IL17_exp_set ={\n",
    "    'cytokine': IL17_genes, 'TF': 'RORC'\n",
    "}\n",
    "sc.pl.dotplot(potential_17,IL17_exp_set,groupby = 'leiden4' , vmax = 1, swap_axes = False, dot_min =0.1, dot_max =1,standard_scale = 'var')"
   ]
  },
  {
   "cell_type": "code",
   "execution_count": null,
   "id": "6ad0b762-3e2c-403e-ac73-3f8747dbcfd6",
   "metadata": {},
   "outputs": [],
   "source": [
    "T17_5 = potential_17[potential_17.obs['leiden'].isin(['3,0','3,2','4,1','7,0','7,1','7,3','9,0','9,1']),:]"
   ]
  },
  {
   "cell_type": "code",
   "execution_count": null,
   "id": "727ac3d8-cd58-4f38-856a-abeadb9c8454",
   "metadata": {},
   "outputs": [],
   "source": [
    "potential_17 = adata[adata.obs['leiden'].isin(['5']),:]"
   ]
  },
  {
   "cell_type": "code",
   "execution_count": null,
   "id": "b13090ba-aa05-484e-b48c-d978af0d7036",
   "metadata": {},
   "outputs": [],
   "source": [
    "del potential_17.uns"
   ]
  },
  {
   "cell_type": "code",
   "execution_count": null,
   "id": "09c2bef2-de67-438c-ba37-fd2f1edac474",
   "metadata": {},
   "outputs": [],
   "source": [
    "sc.pp.highly_variable_genes(potential_17, flavor='seurat', n_top_genes=3000)\n",
    "sc.pp.pca(potential_17, n_comps=50, use_highly_variable=True, svd_solver='arpack')"
   ]
  },
  {
   "cell_type": "code",
   "execution_count": null,
   "id": "d3c4b0b0-ca00-4901-a320-83bf62090d78",
   "metadata": {},
   "outputs": [],
   "source": [
    "sc.pp.neighbors(potential_17, n_neighbors = 15, n_pcs = 50)\n",
    "sc.tl.leiden(potential_17, resolution = 0.7, key_added= 'leiden')                                                 "
   ]
  },
  {
   "cell_type": "code",
   "execution_count": null,
   "id": "e86a90bb-8a88-4904-9edd-48e50c91f667",
   "metadata": {},
   "outputs": [],
   "source": [
    "sc.tl.tsne(potential_17)"
   ]
  },
  {
   "cell_type": "code",
   "execution_count": null,
   "id": "997971b8-79ad-4cb7-959c-709a07c337f4",
   "metadata": {},
   "outputs": [],
   "source": [
    "%matplotlib inline\n",
    "sc.pl.tsne(potential_17, color=['leiden','RORC','IL17A','IL17F'],size = 40,cmap = my_cmap)"
   ]
  },
  {
   "cell_type": "code",
   "execution_count": null,
   "id": "001ee3e5-a804-4b47-a616-e6dd49dd3d95",
   "metadata": {},
   "outputs": [],
   "source": [
    "plt.rcParams['figure.figsize'] = [8,8]\n",
    "sc.tl.leiden(potential_17, restrict_to = ('leiden', ['3']), resolution = 1, key_added= 'leiden1')\n",
    "sc.pl.tsne(potential_17, color=['leiden1','RORC','IL17A','IL17F'], size = 20, legend_loc = 'on data', cmap = my_cmap)"
   ]
  },
  {
   "cell_type": "code",
   "execution_count": null,
   "id": "14701270-f25c-4346-90fe-18a43164e64a",
   "metadata": {
    "tags": []
   },
   "outputs": [],
   "source": [
    "plt.rcParams['figure.figsize'] = [8,8]\n",
    "sc.tl.leiden(potential_17, restrict_to = ('leiden1', ['4']), resolution = 1, key_added= 'leiden2')\n",
    "sc.pl.tsne(potential_17, color=['leiden2','RORC','IL17A','IL17F'], size = 20, legend_loc = 'on data', cmap = my_cmap)"
   ]
  },
  {
   "cell_type": "code",
   "execution_count": null,
   "id": "d4c73450-cec2-4e88-ba6f-96fc427b9772",
   "metadata": {},
   "outputs": [],
   "source": [
    "IL17_genesmask = [gene.startswith(\"IL17\") and gene.startswith(\"IL17R\")==0 for gene in potential_17.var_names]\n",
    "IL17_genes = potential_17.var_names[IL17_genesmask]\n",
    "IL17_exp_set ={\n",
    "    'cytokine': IL17_genes, 'TF': 'RORC'\n",
    "}\n",
    "sc.pl.dotplot(potential_17,IL17_exp_set,groupby = 'leiden1' , vmax = 1, swap_axes = False, dot_min =0.1, dot_max =1,standard_scale = 'var')"
   ]
  },
  {
   "cell_type": "code",
   "execution_count": null,
   "id": "21849902-a42d-4c5b-98bd-e1a37920106a",
   "metadata": {},
   "outputs": [],
   "source": [
    "T17_6 = potential_17[potential_17.obs['leiden1'].isin(['3,7','9']),:]"
   ]
  },
  {
   "cell_type": "code",
   "execution_count": null,
   "id": "ad4c54df-35aa-4016-b8bf-280b3455bc12",
   "metadata": {},
   "outputs": [],
   "source": [
    "potential_17 = adata[adata.obs['leiden'].isin(['15']),:]"
   ]
  },
  {
   "cell_type": "code",
   "execution_count": null,
   "id": "ba310978-b85a-4c2a-a90e-af6ceec7b8aa",
   "metadata": {},
   "outputs": [],
   "source": [
    "del potential_17.uns"
   ]
  },
  {
   "cell_type": "code",
   "execution_count": null,
   "id": "c094bd46-3398-4558-9bd0-c9660773d3ca",
   "metadata": {},
   "outputs": [],
   "source": [
    "sc.pp.highly_variable_genes(potential_17, flavor='seurat', n_top_genes=3000)\n",
    "sc.pp.pca(potential_17, n_comps=50, use_highly_variable=True, svd_solver='arpack')"
   ]
  },
  {
   "cell_type": "code",
   "execution_count": null,
   "id": "e1bdd4d7-527b-4502-b1b9-743b05012e85",
   "metadata": {},
   "outputs": [],
   "source": [
    "sc.pp.neighbors(potential_17, n_neighbors = 15, n_pcs = 50)\n",
    "sc.tl.leiden(potential_17, resolution = 1, key_added= 'leiden')                                                 "
   ]
  },
  {
   "cell_type": "code",
   "execution_count": null,
   "id": "9009b372-700c-41a1-884b-c40cf8be2523",
   "metadata": {},
   "outputs": [],
   "source": [
    "sc.tl.tsne(potential_17)"
   ]
  },
  {
   "cell_type": "code",
   "execution_count": null,
   "id": "9e529acb-2635-479a-bea0-ece54fc587e0",
   "metadata": {},
   "outputs": [],
   "source": [
    "%matplotlib inline\n",
    "sc.pl.tsne(potential_17, color=['leiden','RORC','IL17A','IL17F'],size = 40,cmap = my_cmap)"
   ]
  },
  {
   "cell_type": "code",
   "execution_count": null,
   "id": "d799f5aa-3508-4927-a3e6-da51e703f40c",
   "metadata": {},
   "outputs": [],
   "source": [
    "plt.rcParams['figure.figsize'] = [8,8]\n",
    "sc.tl.leiden(potential_17, restrict_to = ('leiden', ['3']), resolution = 0.5, key_added= 'leiden1')\n",
    "sc.pl.tsne(potential_17, color=['leiden1','RORC','IL17A','IL17F'], size = 40, legend_loc = 'on data', cmap = my_cmap)"
   ]
  },
  {
   "cell_type": "code",
   "execution_count": null,
   "id": "8f68fdd2-8457-4722-bbd4-fab60ef0bc20",
   "metadata": {},
   "outputs": [],
   "source": [
    "plt.rcParams['figure.figsize'] = [8,8]\n",
    "sc.tl.leiden(potential_17, restrict_to = ('leiden1', ['4']), resolution = 0.5, key_added= 'leiden2')\n",
    "sc.pl.tsne(potential_17, color=['leiden2','RORC','IL17A','IL17F'], size = 20, legend_loc = 'on data', cmap = my_cmap)"
   ]
  },
  {
   "cell_type": "code",
   "execution_count": null,
   "id": "d48fc2e2-5010-4eb2-b848-f9c6e84b5925",
   "metadata": {},
   "outputs": [],
   "source": [
    "plt.rcParams['figure.figsize'] = [8,8]\n",
    "sc.tl.leiden(potential_17, restrict_to = ('leiden2', ['5']), resolution = 0.5, key_added= 'leiden3')\n",
    "sc.pl.tsne(potential_17, color=['leiden3','RORC','IL17A','IL17F'], size = 30, legend_loc = 'on data', cmap = my_cmap)"
   ]
  },
  {
   "cell_type": "code",
   "execution_count": null,
   "id": "18a91f60-a587-4780-aa80-be6e6540dcd4",
   "metadata": {},
   "outputs": [],
   "source": [
    "plt.rcParams['figure.figsize'] = [8,8]\n",
    "sc.tl.leiden(potential_17, restrict_to = ('leiden3', ['10']), resolution = 0.4, key_added= 'leiden4')\n",
    "sc.pl.tsne(potential_17, color=['leiden4','RORC','IL17A','IL17F'], size = 30, legend_loc = 'on data', cmap = my_cmap)"
   ]
  },
  {
   "cell_type": "code",
   "execution_count": null,
   "id": "076c7c2f-f6bd-4bf8-9bb2-d7b8af1daf01",
   "metadata": {},
   "outputs": [],
   "source": [
    "IL17_genesmask = [gene.startswith(\"IL17\") and gene.startswith(\"IL17R\")==0 for gene in potential_17.var_names]\n",
    "IL17_genes = potential_17.var_names[IL17_genesmask]\n",
    "IL17_exp_set ={\n",
    "    'cytokine': IL17_genes, 'TF': 'RORC'\n",
    "}\n",
    "sc.pl.dotplot(potential_17,IL17_exp_set,groupby = 'leiden4' , vmax = 1, swap_axes = False, dot_min =0.1, dot_max =1,standard_scale = 'var')"
   ]
  },
  {
   "cell_type": "code",
   "execution_count": null,
   "id": "1af89051-3ff9-41a9-83e3-70f9a8a09ab3",
   "metadata": {},
   "outputs": [],
   "source": [
    "T17_7 = potential_17[potential_17.obs['leiden'].isin(['3,1','3,3','4,0','4,2','5,0','10,2','5,3','4,1']),:]"
   ]
  },
  {
   "cell_type": "code",
   "execution_count": null,
   "id": "4b3c5941-d3de-48dd-bbc0-642243559842",
   "metadata": {},
   "outputs": [],
   "source": [
    "potential_17 = adata[adata.obs['leiden'].isin(['39']),:]"
   ]
  },
  {
   "cell_type": "code",
   "execution_count": null,
   "id": "1c40ef31-9a3f-4adc-8d9c-c09f5ebdc9a9",
   "metadata": {},
   "outputs": [],
   "source": [
    "del potential_17.uns"
   ]
  },
  {
   "cell_type": "code",
   "execution_count": null,
   "id": "7d5a4058-9c45-4bfa-b6b9-7d499286a0d3",
   "metadata": {},
   "outputs": [],
   "source": [
    "sc.pp.highly_variable_genes(potential_17, flavor='seurat', n_top_genes=3000)\n",
    "sc.pp.pca(potential_17, n_comps=50, use_highly_variable=True, svd_solver='arpack')"
   ]
  },
  {
   "cell_type": "code",
   "execution_count": null,
   "id": "c84ebcaf-4b77-4c7b-8142-0b9df947beb5",
   "metadata": {},
   "outputs": [],
   "source": [
    "sc.pp.neighbors(potential_17, n_neighbors = 15, n_pcs = 50)\n",
    "sc.tl.leiden(potential_17, resolution = 0.7, key_added= 'leiden')                                                 "
   ]
  },
  {
   "cell_type": "code",
   "execution_count": null,
   "id": "7a738492-e076-449e-b6bf-af9ead7628b8",
   "metadata": {},
   "outputs": [],
   "source": [
    "sc.tl.tsne(potential_17)"
   ]
  },
  {
   "cell_type": "code",
   "execution_count": null,
   "id": "63976b64-33ec-43d9-959f-602702784715",
   "metadata": {},
   "outputs": [],
   "source": [
    "%matplotlib inline\n",
    "sc.pl.tsne(potential_17, color=['leiden','RORC','IL17A','IL17F'],size = 40,cmap = my_cmap)"
   ]
  },
  {
   "cell_type": "code",
   "execution_count": null,
   "id": "11ac3641-e697-4b51-9265-f4b07f2358f5",
   "metadata": {},
   "outputs": [],
   "source": [
    "IL17_genesmask = [gene.startswith(\"IL17\") and gene.startswith(\"IL17R\")==0 for gene in potential_17.var_names]\n",
    "IL17_genes = potential_17.var_names[IL17_genesmask]\n",
    "IL17_exp_set ={\n",
    "    'cytokine': IL17_genes, 'TF': 'RORC'\n",
    "}\n",
    "sc.pl.dotplot(potential_17,IL17_exp_set,groupby = 'leiden' , vmax = 1, swap_axes = False, dot_min =0.1, dot_max =1,standard_scale = 'var')"
   ]
  },
  {
   "cell_type": "code",
   "execution_count": null,
   "id": "385c8335-f52a-4941-8bfd-648da75523d2",
   "metadata": {},
   "outputs": [],
   "source": [
    "T17_8 = potential_17[potential_17.obs['leiden'].isin(['4'])==0,:]"
   ]
  },
  {
   "cell_type": "code",
   "execution_count": null,
   "id": "86fe2678-347e-48db-a355-3c7722310e27",
   "metadata": {},
   "outputs": [],
   "source": [
    "potential_17 = adata[adata.obs['leiden'].isin(['6']),:]"
   ]
  },
  {
   "cell_type": "code",
   "execution_count": null,
   "id": "dcdc37a2-25e9-4792-b3d1-8d4421e6cdc8",
   "metadata": {},
   "outputs": [],
   "source": [
    "del potential_17.uns"
   ]
  },
  {
   "cell_type": "code",
   "execution_count": null,
   "id": "0388b0ba-cc6b-4aab-9e69-a2fd754932aa",
   "metadata": {},
   "outputs": [],
   "source": [
    "sc.pp.highly_variable_genes(potential_17, flavor='seurat', n_top_genes=3000)\n",
    "sc.pp.pca(potential_17, n_comps=50, use_highly_variable=True, svd_solver='arpack')"
   ]
  },
  {
   "cell_type": "code",
   "execution_count": null,
   "id": "a4fb3e53-34ed-4249-a4a5-af674052f410",
   "metadata": {},
   "outputs": [],
   "source": [
    "sc.pp.neighbors(potential_17, n_neighbors = 15, n_pcs = 50)\n",
    "sc.tl.leiden(potential_17, resolution = 0.7, key_added= 'leiden')                                                 "
   ]
  },
  {
   "cell_type": "code",
   "execution_count": null,
   "id": "0e24db4d-3cdc-4ae1-afdb-8e095339cfd1",
   "metadata": {},
   "outputs": [],
   "source": [
    "sc.tl.tsne(potential_17)"
   ]
  },
  {
   "cell_type": "code",
   "execution_count": null,
   "id": "e6638263-9478-4727-b065-72cc7cfca334",
   "metadata": {},
   "outputs": [],
   "source": [
    "%matplotlib inline\n",
    "sc.pl.tsne(potential_17, color=['leiden','RORC','IL17A','IL17F'],size = 40,cmap = my_cmap)"
   ]
  },
  {
   "cell_type": "code",
   "execution_count": null,
   "id": "a06f8921-f075-47a9-b586-f4ac98ae2b0d",
   "metadata": {},
   "outputs": [],
   "source": [
    "plt.rcParams['figure.figsize'] = [8,8]\n",
    "sc.tl.leiden(potential_17, restrict_to = ('leiden', ['12']), resolution = 0.3, key_added= 'leiden1')\n",
    "sc.pl.tsne(potential_17, color=['leiden1','RORC','IL17A','IL17F'], size = 40, legend_loc = 'on data', cmap = my_cmap)"
   ]
  },
  {
   "cell_type": "code",
   "execution_count": null,
   "id": "58951368-dbcf-46f1-8b68-d0e937f363d8",
   "metadata": {},
   "outputs": [],
   "source": [
    "IL17_genesmask = [gene.startswith(\"IL17\") and gene.startswith(\"IL17R\")==0 for gene in potential_17.var_names]\n",
    "IL17_genes = potential_17.var_names[IL17_genesmask]\n",
    "IL17_exp_set ={\n",
    "    'cytokine': IL17_genes, 'TF': 'RORC'\n",
    "}\n",
    "sc.pl.dotplot(potential_17,IL17_exp_set,groupby = 'leiden1' , vmax = 1, swap_axes = False, dot_min =0.1, dot_max =1,standard_scale = 'var')"
   ]
  },
  {
   "cell_type": "code",
   "execution_count": null,
   "id": "0a9787d3-036e-43dc-bb16-35200eb05964",
   "metadata": {},
   "outputs": [],
   "source": [
    "T17_9 = potential_17[potential_17.obs['leiden1'].isin(['12,0','12,2'])==0,:]"
   ]
  },
  {
   "cell_type": "code",
   "execution_count": null,
   "id": "9001a01d-7608-4fd9-a233-635a126b89a7",
   "metadata": {},
   "outputs": [],
   "source": [
    "adata_17 = T17_1.concatenate(T17_2,T17_3,T17_5,T17_6,T17_7,T17_8,T17_9, batch_key = 'original_cluster', join = 'outer',index_unique = None, fill_value=0)"
   ]
  },
  {
   "cell_type": "code",
   "execution_count": null,
   "id": "5b561252-96ae-4db6-8c5b-a6b0984eb2a4",
   "metadata": {},
   "outputs": [],
   "source": [
    "sc.pp.highly_variable_genes(adata_17, flavor='seurat', n_top_genes=3000)\n",
    "sc.pp.pca(adata_17, n_comps=50, use_highly_variable=True, svd_solver='arpack')"
   ]
  },
  {
   "cell_type": "code",
   "execution_count": null,
   "id": "2ac272da-c988-465c-9439-f904a6c2fd28",
   "metadata": {},
   "outputs": [],
   "source": [
    "sc.pp.neighbors(adata_17, n_neighbors = 15, n_pcs = 50)\n",
    "sc.tl.leiden(adata_17, resolution = 1, key_added= 'leiden')                                                 "
   ]
  },
  {
   "cell_type": "code",
   "execution_count": null,
   "id": "40634f25-f52d-4841-90ef-a4f14962ba9d",
   "metadata": {},
   "outputs": [],
   "source": [
    "sc.tl.tsne(adata_17)"
   ]
  },
  {
   "cell_type": "code",
   "execution_count": null,
   "id": "f6f9062d-2494-4822-a08f-614161533c0a",
   "metadata": {},
   "outputs": [],
   "source": [
    "%matplotlib inline\n",
    "sc.pl.tsne(adata_17, color=['leiden','RORC','IL17A','IL17F'],size = 40,legend_loc = 'on data',cmap = my_cmap)"
   ]
  },
  {
   "cell_type": "code",
   "execution_count": null,
   "id": "691e03c7-b942-4cbb-9eaf-6ef352c54ff2",
   "metadata": {},
   "outputs": [],
   "source": [
    "adata_17_refined = adata_17[adata_17.obs['leiden'].isin(['1','15','9','3','16','17','11'])]"
   ]
  },
  {
   "cell_type": "code",
   "execution_count": null,
   "id": "2b764527-32ec-4a0a-8690-0af4ec6aedb3",
   "metadata": {},
   "outputs": [],
   "source": [
    "%matplotlib inline\n",
    "sc.pl.tsne(adata_17_refined, color=['leiden','RORC','IL17A','IL17F'],size = 40,legend_loc = 'on data',cmap = my_cmap)"
   ]
  },
  {
   "cell_type": "code",
   "execution_count": null,
   "id": "8ae14c87-94f5-4c31-b9c6-679902bc2893",
   "metadata": {},
   "outputs": [],
   "source": [
    "adata_17_refined.write('synapse_T17.h5ad')"
   ]
  },
  {
   "cell_type": "code",
   "execution_count": null,
   "id": "15b022a5-9d1e-40af-b6a9-f78154d68f71",
   "metadata": {},
   "outputs": [],
   "source": [
    "adata_test = sc.read_h5ad('synapse.h5ad')"
   ]
  },
  {
   "cell_type": "code",
   "execution_count": null,
   "id": "6229ef2c-5cad-41b1-97b0-12a9128be5df",
   "metadata": {},
   "outputs": [],
   "source": [
    "T_population = [str(i) for i in [1,3,4,5,8,9,10,15,39,45]]\n",
    "T_adata = adata[adata.obs['leiden'].isin(T_population),:]"
   ]
  },
  {
   "cell_type": "code",
   "execution_count": null,
   "id": "00841923-e6c1-4241-9592-4da17b8ea70b",
   "metadata": {},
   "outputs": [],
   "source": [
    "T_adata.write('T_adata.h5ad')"
   ]
  },
  {
   "cell_type": "code",
   "execution_count": null,
   "id": "9b861244-872a-49f5-b69b-7c19b649a1af",
   "metadata": {
    "tags": []
   },
   "outputs": [],
   "source": [
    "import scanpy as sc\n",
    "import numpy as np\n",
    "import scipy as sp\n",
    "import pandas as pd\n",
    "import matplotlib.pyplot as plt\n",
    "from matplotlib import rcParams\n",
    "from matplotlib import colors\n",
    "import seaborn as sb\n",
    "from gprofiler import GProfiler\n",
    "import seaborn as sns\n",
    "import rpy2.rinterface_lib.callbacks\n",
    "import logging\n",
    "import tensorflow as tf\n",
    "from sklearn.metrics import accuracy_score, precision_score, recall_score\n",
    "from sklearn.model_selection import train_test_split, KFold, cross_val_score\n",
    "from sklearn.svm import LinearSVC, SVC\n",
    "from sklearn.linear_model import  LogisticRegression\n",
    "from keras.models import load_model\n",
    "from skopt import gp_minimize\n",
    "from skopt.space import Real, Integer\n",
    "from skopt.utils import use_named_args\n",
    "from functools import partial\n",
    "from sklearn.ensemble import StackingClassifier\n",
    "from bayes_opt import BayesianOptimization\n",
    "from rpy2.robjects import pandas2ri\n",
    "from joblib import dump, load\n",
    "import pickle\n",
    "import anndata2ri\n",
    "import anndata\n",
    "from sklearn.metrics import precision_score, recall_score"
   ]
  },
  {
   "cell_type": "code",
   "execution_count": null,
   "id": "b4a3504b-2198-4ade-85e0-29e37498953f",
   "metadata": {
    "tags": []
   },
   "outputs": [],
   "source": [
    "import warnings\n",
    "warnings.filterwarnings(\"ignore\")"
   ]
  },
  {
   "cell_type": "code",
   "execution_count": null,
   "id": "2d14d7ed-2f59-44fd-bc19-d062e5babc63",
   "metadata": {},
   "outputs": [],
   "source": [
    "from matplotlib.colors import LinearSegmentedColormap\n",
    "values = [0,1]\n",
    "colors = [(227, 227, 227), (255, 42, 18)]\n",
    "norm = plt.Normalize(min(values), max(values))\n",
    "my_cmap = LinearSegmentedColormap.from_list(\n",
    "    '', [(norm(value), tuple(np.array(color) / 255)) for value, color in zip(values, colors)])"
   ]
  },
  {
   "cell_type": "code",
   "execution_count": null,
   "id": "9ca2021d-5119-45d4-b018-c1d6a0e755e4",
   "metadata": {},
   "outputs": [],
   "source": [
    "def print_full(x):\n",
    "    pd.set_option('display.max_rows', len(x))\n",
    "    print(x)\n",
    "    pd.reset_option('display.max_rows')"
   ]
  },
  {
   "cell_type": "code",
   "execution_count": null,
   "id": "f3903190-1346-46d4-afcb-c28e5033e831",
   "metadata": {},
   "outputs": [],
   "source": [
    "my_palette = ['#0351A8','#8CB0E0','#D56D11','#FFBB78','#234E08','#53CB8B','#D30083','#CB788D','#4E195A','#C58CCF','#AA290F','#B03FD1','#E8BCCF','#64605F','#B2AD9A','#D2D30B','#D1BD4F','#06DCF2','#9EDAE5','#517219','#5B43CF','#D92F24','#FFD900','#002F33','#B8A3A3']"
   ]
  },
  {
   "cell_type": "code",
   "execution_count": null,
   "id": "2ed0302a-2a75-4eb4-9a6c-728118ab3bdd",
   "metadata": {},
   "outputs": [],
   "source": [
    "adata = sc.read_h5ad('T_adata.h5ad')"
   ]
  },
  {
   "cell_type": "code",
   "execution_count": null,
   "id": "1504dc9e-aa27-4224-83e7-a6b46c1eca44",
   "metadata": {
    "tags": []
   },
   "outputs": [],
   "source": [
    "lr = load('best_LR.joblib')\n",
    "features = pd.read_excel('best_LR_features.xlsx')[0].values.tolist()"
   ]
  },
  {
   "cell_type": "code",
   "execution_count": null,
   "id": "c96211b9-85f6-43cf-810c-c0aca05345f3",
   "metadata": {
    "tags": []
   },
   "outputs": [],
   "source": [
    "SVM = load('best_SVM.joblib')"
   ]
  },
  {
   "cell_type": "code",
   "execution_count": null,
   "id": "36e58e9b-02db-4713-9449-776f409175ef",
   "metadata": {
    "tags": []
   },
   "outputs": [],
   "source": [
    "_org_df = pd.DataFrame(index=adata.obs_names, columns=features)\n",
    "\n",
    "for feature in features:\n",
    "    if feature in adata.var_names:\n",
    "        # Get column values, taking care of sparse data\n",
    "        column_data = adata.X[:, adata.var_names == feature].A if isinstance(adata.X, sp.sparse.spmatrix) else adata.X[:, adata.var_names == feature]\n",
    "\n",
    "        # Since column_data might have more than 1 dimension, we need to squeeze it to match _org_df shape\n",
    "        _org_df[feature] = np.squeeze(column_data)\n",
    "    else:\n",
    "        _org_df[feature] = 0  # This will broadcast the assignment across all rows"
   ]
  },
  {
   "cell_type": "code",
   "execution_count": null,
   "id": "c61166b8-dce0-46c4-9de4-ee04ea3c8bec",
   "metadata": {
    "tags": []
   },
   "outputs": [],
   "source": [
    "adata.obs['gd_predict'] = SVM.predict(_org_df)\n",
    "adata.obs['gd_predict'] = adata.obs['gd_predict'].astype(str)"
   ]
  },
  {
   "cell_type": "code",
   "execution_count": null,
   "id": "23787e47-5ca7-43e3-9dd7-0f71f77c83e5",
   "metadata": {},
   "outputs": [],
   "source": [
    "sc.pl.tsne(adata,color = 'gd_predict')"
   ]
  },
  {
   "cell_type": "code",
   "execution_count": null,
   "id": "bef1b56b-b36b-45ae-843e-010aa2963fa5",
   "metadata": {},
   "outputs": [],
   "source": [
    "del adata.uns['log1p']\n",
    "sc.pp.highly_variable_genes(adata, flavor = 'seurat', n_top_genes=3000)\n",
    "#adata.var['highly_variable'] = adata.var_names.isin(features)\n",
    "sc.pp.pca(adata, n_comps=50, use_highly_variable=True, svd_solver='arpack')"
   ]
  },
  {
   "cell_type": "code",
   "execution_count": null,
   "id": "90b001cc-d468-412f-88d4-9a5afd07e393",
   "metadata": {
    "tags": []
   },
   "outputs": [],
   "source": [
    "sc.pp.neighbors(adata, n_neighbors = 15, n_pcs = 50)\n",
    "sc.tl.leiden(adata, resolution = 0.8, key_added= 'leiden')                                                 "
   ]
  },
  {
   "cell_type": "code",
   "execution_count": null,
   "id": "306ddc10-71b2-4371-b703-2b1fd6bbedf1",
   "metadata": {},
   "outputs": [],
   "source": [
    "del adata.uns['leiden_colors']"
   ]
  },
  {
   "cell_type": "code",
   "execution_count": null,
   "id": "131375c3-5e75-4993-b804-a03f67d52f2d",
   "metadata": {},
   "outputs": [],
   "source": [
    "sc.tl.tsne(adata)"
   ]
  },
  {
   "cell_type": "code",
   "execution_count": null,
   "id": "eeeee9f4-ba7e-4c58-9212-e1dbef19d778",
   "metadata": {},
   "outputs": [],
   "source": [
    "%matplotlib inline\n",
    "plt.rcParams['axes.linewidth'] = 2\n",
    "fig = sc.pl.tsne(adata, color = ['leiden','ZBTB16','IKZF2','TRGV4','CD3D','CD3E','CD3G','CD247','TRDC','CD4','CD8A','PDCD1','LGALS3','NCAM1'],size = 20, legend_loc = 'on data', palette  = my_palette, ncols = 4, cmap = my_cmap, return_fig = True, legend_fontsize = 'large')\n",
    "ax = fig.get_axes()\n",
    "for i in range(0,len(ax)):\n",
    "    ax[i].xaxis.label.set_fontsize(22)\n",
    "    ax[i].xaxis.label.set_fontweight('bold')\n",
    "    ax[i].yaxis.label.set_fontsize(22)\n",
    "    ax[i].title.set_fontsize(30)\n",
    "    ax[i].yaxis.label.set_fontweight('bold')\n",
    "    ax[i].title.set_fontweight('bold')\n",
    "#plt.savefig('overall_map_withunmatched.png')"
   ]
  },
  {
   "cell_type": "code",
   "execution_count": null,
   "id": "70299c65-2425-4da6-afd9-4865cca4662c",
   "metadata": {
    "tags": []
   },
   "outputs": [],
   "source": [
    "%matplotlib inline\n",
    "plt.rcParams['axes.linewidth'] = 2\n",
    "fig = sc.pl.tsne(adata, color = ['RORC'],size = 40, legend_loc = 'on data', ncols = 4, cmap = my_cmap, return_fig = True, legend_fontsize = 'large')\n",
    "ax = fig.get_axes()\n",
    "for i in range(0,len(ax)):\n",
    "    ax[i].xaxis.label.set_fontsize(22)\n",
    "    ax[i].xaxis.label.set_fontweight('bold')\n",
    "    ax[i].yaxis.label.set_fontsize(22)\n",
    "    ax[i].title.set_fontsize(30)\n",
    "    ax[i].yaxis.label.set_fontweight('bold')\n",
    "    ax[i].title.set_fontweight('bold')\n",
    "#plt.savefig('overall_map_withunmatched.png')"
   ]
  },
  {
   "cell_type": "markdown",
   "id": "c9020ca3-0645-4090-867b-bb42e981e1ab",
   "metadata": {
    "tags": []
   },
   "source": [
    "## Tedious procedure of gamma delta T identification"
   ]
  },
  {
   "cell_type": "markdown",
   "id": "569f20ee-9214-4a38-b35b-d615bfb2d8b1",
   "metadata": {
    "tags": []
   },
   "source": [
    "### temp checkpoints"
   ]
  },
  {
   "cell_type": "code",
   "execution_count": null,
   "id": "a04bcf81-3105-474c-bf06-857e2e74004c",
   "metadata": {},
   "outputs": [],
   "source": [
    "prob_gd = adata[adata.obs['leiden'].isin(['7']),:]"
   ]
  },
  {
   "cell_type": "code",
   "execution_count": null,
   "id": "c6466993-cead-40e2-a7d4-8b34d11ff3ad",
   "metadata": {},
   "outputs": [],
   "source": [
    "sc.pp.highly_variable_genes(prob_gd, flavor = 'seurat', n_top_genes=3000)\n",
    "#.var['highly_variable'] = adata.var_names.isin(features)\n",
    "sc.pp.pca(prob_gd, n_comps=50, use_highly_variable=True, svd_solver='arpack')"
   ]
  },
  {
   "cell_type": "code",
   "execution_count": null,
   "id": "65bc53fc-ecdd-4987-869a-bada1c4a4c95",
   "metadata": {
    "tags": []
   },
   "outputs": [],
   "source": [
    "sc.pp.neighbors(prob_gd, n_neighbors = 15, n_pcs = 50)\n",
    "sc.tl.leiden(prob_gd, resolution = 0.8, key_added= 'leiden')                                                 "
   ]
  },
  {
   "cell_type": "code",
   "execution_count": null,
   "id": "3b2375bb-8874-4cc1-be74-eebf190cda8c",
   "metadata": {},
   "outputs": [],
   "source": [
    "sc.tl.tsne(prob_gd)"
   ]
  },
  {
   "cell_type": "code",
   "execution_count": null,
   "id": "2537e5da-a69d-47f3-9f1a-677963d27910",
   "metadata": {},
   "outputs": [],
   "source": [
    "%matplotlib inline\n",
    "plt.rcParams['axes.linewidth'] = 2\n",
    "fig = sc.pl.tsne(prob_gd, color = ['leiden','ZBTB16','IKZF2','TRGV4','CD3D','CD3G','CD3E',\n",
    "                                   'CD247','IFNG','IL17A','TRDC','TRDV1','TRDV2','TRDV3','CD4','CD8A',\n",
    "                                   'PDCD1','KLRK1','RORC','TRAV1-2'],size = 20, legend_loc = 'on data', palette  = my_palette, ncols = 4, cmap = my_cmap, return_fig = True, legend_fontsize = 'large')\n",
    "ax = fig.get_axes()\n",
    "for i in range(0,len(ax)):\n",
    "    ax[i].xaxis.label.set_fontsize(22)\n",
    "    ax[i].xaxis.label.set_fontweight('bold')\n",
    "    ax[i].yaxis.label.set_fontsize(22)\n",
    "    ax[i].title.set_fontsize(30)\n",
    "    ax[i].yaxis.label.set_fontweight('bold')\n",
    "    ax[i].title.set_fontweight('bold')\n",
    "#plt.savefig('overall_map_withunmatched.png')"
   ]
  },
  {
   "cell_type": "code",
   "execution_count": null,
   "id": "8434f2ae-aae2-4b50-bbf6-3e7e4f2842c6",
   "metadata": {},
   "outputs": [],
   "source": [
    "gamma_genesmask = [gene.startswith(\"TRG\") for gene in adata.var_names]\n",
    "gamma_genes = adata.var_names[gamma_genesmask]\n",
    "delta_genesmask = [gene.startswith(\"TRD\") for gene in adata.var_names]\n",
    "delta_genes = adata.var_names[delta_genesmask]"
   ]
  },
  {
   "cell_type": "code",
   "execution_count": null,
   "id": "0019ad0d-2725-4225-85e3-f71231ab17bd",
   "metadata": {},
   "outputs": [],
   "source": [
    "plt.rcParams['figure.figsize'] = [8,8]\n",
    "sc.tl.leiden(prob_gd, restrict_to = ('leiden', ['4']), resolution = 0.9, key_added= 'leiden1')\n",
    "sc.pl.tsne(prob_gd, color=['leiden1','CD4','CD8A','TRDC'], size = 30, legend_loc = 'on data', cmap = my_cmap)"
   ]
  },
  {
   "cell_type": "code",
   "execution_count": null,
   "id": "04b56853-7c61-4672-a2bf-a859de108f89",
   "metadata": {},
   "outputs": [],
   "source": [
    "plt.rcParams['figure.figsize'] = [8,8]\n",
    "sc.tl.leiden(prob_gd, restrict_to = ('leiden1', ['6']), resolution = 0.35, key_added= 'leiden2')\n",
    "sc.pl.tsne(prob_gd, color=['leiden2','CD4','CD8A','TRDC'], size = 30, legend_loc = 'on data', cmap = my_cmap)"
   ]
  },
  {
   "cell_type": "code",
   "execution_count": null,
   "id": "41a40e1a-c437-469f-97f9-dbcc21bd8e50",
   "metadata": {},
   "outputs": [],
   "source": [
    "plt.rcParams['figure.figsize'] = [8,8]\n",
    "sc.tl.leiden(prob_gd, restrict_to = ('leiden2', ['3']), resolution = 0.35, key_added= 'leiden3')\n",
    "sc.pl.tsne(prob_gd, color=['leiden3','CD4','CD8A','TRDC'], size = 30, legend_loc = 'on data', cmap = my_cmap)"
   ]
  },
  {
   "cell_type": "code",
   "execution_count": null,
   "id": "0b1e8971-f87f-4ee5-b772-0524fa8c6480",
   "metadata": {},
   "outputs": [],
   "source": [
    "plt.rcParams['figure.figsize'] = [8,8]\n",
    "sc.tl.leiden(prob_gd, restrict_to = ('leiden3', ['1']), resolution = 0.9, key_added= 'leiden4')\n",
    "sc.pl.tsne(prob_gd, color=['leiden4','CD4','CD8A','TRDC'], size = 30, legend_loc = 'on data', cmap = my_cmap)"
   ]
  },
  {
   "cell_type": "code",
   "execution_count": null,
   "id": "d24c1a39-61be-45b4-b716-d24f2d1a44ae",
   "metadata": {},
   "outputs": [],
   "source": [
    "plt.rcParams['figure.figsize'] = [8,8]\n",
    "sc.tl.leiden(prob_gd, restrict_to = ('leiden4', ['4,1']), resolution = 0.5, key_added= 'leiden5')\n",
    "sc.pl.tsne(prob_gd, color=['leiden5','CD4','CD8A','TRDC'], size = 30, legend_loc = 'on data', cmap = my_cmap)"
   ]
  },
  {
   "cell_type": "code",
   "execution_count": null,
   "id": "31cf39e6-42d6-46e3-9a6f-90356fdf8597",
   "metadata": {},
   "outputs": [],
   "source": [
    "TCR_exp_set ={\n",
    "\"gamma\": gamma_genes, \"delta\": delta_genes, \"CD3S\": ['CD3E','CD3D','CD3G']\n",
    "}\n",
    "sc.pl.dotplot(prob_gd,TCR_exp_set,groupby = 'leiden5' , vmax = 1, swap_axes = False, dot_min =0, dot_max =1,standard_scale = 'var')"
   ]
  },
  {
   "cell_type": "code",
   "execution_count": null,
   "id": "a3add6cd-a4b6-403b-8d37-27b164e02546",
   "metadata": {},
   "outputs": [],
   "source": [
    "gd1 = prob_gd[prob_gd.obs['leiden4'].isin(['1,8','4,0','4,1,0','4,1,1','4,3','4,4','4,5','4,6','4,7']),:]"
   ]
  },
  {
   "cell_type": "code",
   "execution_count": null,
   "id": "0fba31b4-56ad-4b93-81d6-3373c95b5383",
   "metadata": {
    "tags": []
   },
   "outputs": [],
   "source": [
    "sc.pl.tsne(gd1,color = ['leiden4','CD3D','CD3E','CD3G','CD247','TRDC'])"
   ]
  },
  {
   "cell_type": "markdown",
   "id": "767402d8-69b9-4e32-86ff-e7de90379c6f",
   "metadata": {},
   "source": [
    "### further cluster the pseudo gd"
   ]
  },
  {
   "cell_type": "code",
   "execution_count": null,
   "id": "83dc85ff-83ff-4891-bc46-66a705062f29",
   "metadata": {},
   "outputs": [],
   "source": [
    "prob_gd = adata[adata.obs['leiden'].isin(['9']),:]"
   ]
  },
  {
   "cell_type": "code",
   "execution_count": null,
   "id": "c56e9772-5129-470f-8300-6d786fe2bba0",
   "metadata": {},
   "outputs": [],
   "source": [
    "sc.pp.highly_variable_genes(prob_gd, flavor = 'seurat', n_top_genes=3000)\n",
    "#.var['highly_variable'] = adata.var_names.isin(features)\n",
    "sc.pp.pca(prob_gd, n_comps=50, use_highly_variable=True, svd_solver='arpack')"
   ]
  },
  {
   "cell_type": "code",
   "execution_count": null,
   "id": "c3de0f50-a3e2-40dd-a5f0-d8ef035e509e",
   "metadata": {
    "tags": []
   },
   "outputs": [],
   "source": [
    "sc.pp.neighbors(prob_gd, n_neighbors = 15, n_pcs = 50)\n",
    "sc.tl.leiden(prob_gd, resolution = 0.8, key_added= 'leiden')                                                 "
   ]
  },
  {
   "cell_type": "code",
   "execution_count": null,
   "id": "83cbd74c-a86d-4c3e-90b0-3624e2bf8ba5",
   "metadata": {},
   "outputs": [],
   "source": [
    "sc.tl.tsne(prob_gd)"
   ]
  },
  {
   "cell_type": "code",
   "execution_count": null,
   "id": "a928a476-e60e-48e7-ac96-c43383dd2685",
   "metadata": {},
   "outputs": [],
   "source": [
    "%matplotlib inline\n",
    "plt.rcParams['axes.linewidth'] = 2\n",
    "fig = sc.pl.tsne(prob_gd, color = ['leiden','ZBTB16','IKZF2','TRDC','CD3D','CD3G','CD3E','CD247','IFNG','IL17A','TRDV1','TRDV2','TRDV3','CD3D','CD3E','CD3G','CD247','PDCD1','KLRK1','RORC','TRAV1-2'],size = 20, legend_loc = 'on data', palette  = my_palette, ncols = 4, cmap = my_cmap, return_fig = True, legend_fontsize = 'large')\n",
    "ax = fig.get_axes()\n",
    "for i in range(0,len(ax)):\n",
    "    ax[i].xaxis.label.set_fontsize(22)\n",
    "    ax[i].xaxis.label.set_fontweight('bold')\n",
    "    ax[i].yaxis.label.set_fontsize(22)\n",
    "    ax[i].title.set_fontsize(30)\n",
    "    ax[i].yaxis.label.set_fontweight('bold')\n",
    "    ax[i].title.set_fontweight('bold')\n",
    "#plt.savefig('overall_map_withunmatched.png')"
   ]
  },
  {
   "cell_type": "code",
   "execution_count": null,
   "id": "b34a6b9c-36ce-4ad1-a83d-709c72882bc3",
   "metadata": {},
   "outputs": [],
   "source": [
    "plt.rcParams['figure.figsize'] = [8,8]\n",
    "sc.tl.leiden(prob_gd, restrict_to = ('leiden', ['6']), resolution = 0.4, key_added= 'leiden1')\n",
    "sc.pl.tsne(prob_gd, color=['leiden1','CD3D','CD3E','CD3G','CD247','TRDC'], size = 30, legend_loc = 'on data', cmap = my_cmap)"
   ]
  },
  {
   "cell_type": "code",
   "execution_count": null,
   "id": "0bc82456-0a7e-4f4d-bd60-f0fc359ad0b4",
   "metadata": {},
   "outputs": [],
   "source": [
    "plt.rcParams['figure.figsize'] = [8,8]\n",
    "sc.tl.leiden(prob_gd, restrict_to = ('leiden1', ['5']), resolution = 0.5, key_added= 'leiden2')\n",
    "sc.pl.tsne(prob_gd, color=['leiden2','CD3D','CD3E','CD3G','CD247','TRDC'], size = 30, legend_loc = 'on data', cmap = my_cmap)"
   ]
  },
  {
   "cell_type": "code",
   "execution_count": null,
   "id": "2ca3b3eb-cc18-421b-9135-96d20fd1f560",
   "metadata": {},
   "outputs": [],
   "source": [
    "plt.rcParams['figure.figsize'] = [8,8]\n",
    "sc.tl.leiden(prob_gd, restrict_to = ('leiden2', ['3']), resolution = 0.5, key_added= 'leiden3')\n",
    "sc.pl.tsne(prob_gd, color=['leiden3','CD3D','CD3E','CD3G','CD247','TRDC'], size = 30, legend_loc = 'on data', cmap = my_cmap)"
   ]
  },
  {
   "cell_type": "code",
   "execution_count": null,
   "id": "5c7a8c93-28e4-45e6-b351-3b5a6b016c70",
   "metadata": {},
   "outputs": [],
   "source": [
    "TCR_exp_set ={\n",
    "\"gamma\": gamma_genes, \"delta\": delta_genes, \"CD3S\": ['CD3E','CD3D','CD3G']\n",
    "}\n",
    "\n",
    "\n",
    "\n",
    "sc.pl.dotplot(prob_gd,TCR_exp_set,groupby = 'leiden3' , vmax = 1, swap_axes = False, dot_min =0, dot_max =1,standard_scale = 'var')"
   ]
  },
  {
   "cell_type": "code",
   "execution_count": null,
   "id": "638dde64-7815-4c4a-9f7e-1fa5df6ed556",
   "metadata": {},
   "outputs": [],
   "source": [
    "gd2 = prob_gd[prob_gd.obs['leiden3'].isin(['5,2','6,2','6,3']),:]"
   ]
  },
  {
   "cell_type": "code",
   "execution_count": null,
   "id": "3a2a57df-5406-4673-b318-73c497991c71",
   "metadata": {
    "tags": []
   },
   "outputs": [],
   "source": [
    "sc.pl.tsne(gd2,color = ['leiden3','CD3D','CD3E','CD3G','CD247','TRDC'])"
   ]
  },
  {
   "cell_type": "markdown",
   "id": "1e150e35-2ead-4931-b08d-8ead545f4547",
   "metadata": {},
   "source": [
    "### further cluster the pseudo gd"
   ]
  },
  {
   "cell_type": "code",
   "execution_count": null,
   "id": "fcdebc37-1856-40b6-a9a3-fb4e8ee5eb07",
   "metadata": {},
   "outputs": [],
   "source": [
    "prob_gd = adata[adata.obs['leiden'].isin(['4']),:]"
   ]
  },
  {
   "cell_type": "code",
   "execution_count": null,
   "id": "f930e2d1-c2dc-456a-ba67-39da5f407982",
   "metadata": {},
   "outputs": [],
   "source": [
    "sc.pp.highly_variable_genes(prob_gd, flavor = 'seurat', n_top_genes=3000)\n",
    "#.var['highly_variable'] = adata.var_names.isin(features)\n",
    "sc.pp.pca(prob_gd, n_comps=50, use_highly_variable=True, svd_solver='arpack')"
   ]
  },
  {
   "cell_type": "code",
   "execution_count": null,
   "id": "f52cf32f-bda7-42c9-ae9c-7feb699bd906",
   "metadata": {
    "tags": []
   },
   "outputs": [],
   "source": [
    "sc.pp.neighbors(prob_gd, n_neighbors = 15, n_pcs = 50)\n",
    "sc.tl.leiden(prob_gd, resolution = 0.8, key_added= 'leiden')                                                 "
   ]
  },
  {
   "cell_type": "code",
   "execution_count": null,
   "id": "4c063f81-5d1a-4a8a-be44-3ec6d1f2ef20",
   "metadata": {},
   "outputs": [],
   "source": [
    "sc.tl.tsne(prob_gd)"
   ]
  },
  {
   "cell_type": "code",
   "execution_count": null,
   "id": "d10a07b5-32b5-40b1-9f10-84714bc85c19",
   "metadata": {},
   "outputs": [],
   "source": [
    "%matplotlib inline\n",
    "plt.rcParams['axes.linewidth'] = 2\n",
    "fig = sc.pl.tsne(prob_gd, color = ['leiden','ZBTB16','IKZF2','TRDC','CD3D','CD3G','CD3E',\n",
    "                                   'CD247',],size = 20, legend_loc = 'on data', palette  = my_palette, ncols = 4, cmap = my_cmap, return_fig = True, legend_fontsize = 'large')\n",
    "ax = fig.get_axes()\n",
    "for i in range(0,len(ax)):\n",
    "    ax[i].xaxis.label.set_fontsize(22)\n",
    "    ax[i].xaxis.label.set_fontweight('bold')\n",
    "    ax[i].yaxis.label.set_fontsize(22)\n",
    "    ax[i].title.set_fontsize(30)\n",
    "    ax[i].yaxis.label.set_fontweight('bold')\n",
    "    ax[i].title.set_fontweight('bold')\n",
    "#plt.savefig('overall_map_withunmatched.png')"
   ]
  },
  {
   "cell_type": "code",
   "execution_count": null,
   "id": "e58a97fb-a23f-4446-8283-3c9a771b7eb1",
   "metadata": {},
   "outputs": [],
   "source": [
    "plt.rcParams['figure.figsize'] = [8,8]\n",
    "sc.tl.leiden(prob_gd, restrict_to = ('leiden', ['7']), resolution = 0.5, key_added= 'leiden1')\n",
    "sc.pl.tsne(prob_gd, color=['leiden1','CD3D','CD3E','CD3G','CD247','TRDC'], size = 30, legend_loc = 'on data', cmap = my_cmap)"
   ]
  },
  {
   "cell_type": "code",
   "execution_count": null,
   "id": "28ddc908-337e-4e75-9bca-47a142ace3fe",
   "metadata": {},
   "outputs": [],
   "source": [
    "plt.rcParams['figure.figsize'] = [8,8]\n",
    "sc.tl.leiden(prob_gd, restrict_to = ('leiden1', ['1']), resolution = 0.6, key_added= 'leiden2')\n",
    "sc.pl.tsne(prob_gd, color=['leiden2','CD3D','CD3E','CD3G','CD247','TRDC'], size = 30, legend_loc = 'on data', cmap = my_cmap)"
   ]
  },
  {
   "cell_type": "code",
   "execution_count": null,
   "id": "b0bb593a-d7f6-40b5-9d83-e94d559ef36d",
   "metadata": {},
   "outputs": [],
   "source": [
    "plt.rcParams['figure.figsize'] = [8,8]\n",
    "sc.tl.leiden(prob_gd, restrict_to = ('leiden2', ['6']), resolution = 0.4, key_added= 'leiden3')\n",
    "sc.pl.tsne(prob_gd, color=['leiden3','CD3D','CD3E','CD3G','CD247','TRDC'], size = 30, legend_loc = 'on data', cmap = my_cmap)"
   ]
  },
  {
   "cell_type": "code",
   "execution_count": null,
   "id": "e7c9c852-7212-4332-8d79-77f969aa9ec4",
   "metadata": {},
   "outputs": [],
   "source": [
    "TCR_exp_set ={\n",
    "\"gamma\": gamma_genes, \"delta\": delta_genes, \"CD3S\": ['CD3E','CD3D','CD3G']\n",
    "}\n",
    "\n",
    "\n",
    "\n",
    "sc.pl.dotplot(prob_gd,TCR_exp_set,groupby = 'leiden3' , vmax = 1, swap_axes = False, dot_min =0, dot_max =1,standard_scale = 'var')"
   ]
  },
  {
   "cell_type": "code",
   "execution_count": null,
   "id": "65ed8517-daca-4328-a9db-affc5e5b4a16",
   "metadata": {},
   "outputs": [],
   "source": [
    "gd3 = prob_gd[prob_gd.obs['leiden3'].isin(['1,3','6,3','7,1','7,2','9']),:]"
   ]
  },
  {
   "cell_type": "code",
   "execution_count": null,
   "id": "cf5b1d78-dfc9-4195-b36d-1aa9ea1e9ef0",
   "metadata": {
    "tags": []
   },
   "outputs": [],
   "source": [
    "sc.pl.tsne(gd3,color = ['leiden3','CD3D','CD3E','CD3G','CD247','TRDC'])"
   ]
  },
  {
   "cell_type": "markdown",
   "id": "2c8098e6-a6e4-41cf-9725-d41af4991441",
   "metadata": {
    "tags": []
   },
   "source": [
    "### further cluster the pseudo gd"
   ]
  },
  {
   "cell_type": "code",
   "execution_count": null,
   "id": "6f89dadb-9f26-460d-8683-b17feeddfe41",
   "metadata": {},
   "outputs": [],
   "source": [
    "prob_gd = adata[adata.obs['leiden'].isin(['14']),:]"
   ]
  },
  {
   "cell_type": "code",
   "execution_count": null,
   "id": "771b39d9-cb5f-4f48-b563-9c16172cb85e",
   "metadata": {},
   "outputs": [],
   "source": [
    "sc.pp.highly_variable_genes(prob_gd, flavor = 'seurat', n_top_genes=3000)\n",
    "#.var['highly_variable'] = adata.var_names.isin(features)\n",
    "sc.pp.pca(prob_gd, n_comps=50, use_highly_variable=True, svd_solver='arpack')"
   ]
  },
  {
   "cell_type": "code",
   "execution_count": null,
   "id": "d97ebe5d-b68f-4fae-a8c3-1c30494c2297",
   "metadata": {
    "tags": []
   },
   "outputs": [],
   "source": [
    "sc.pp.neighbors(prob_gd, n_neighbors = 15, n_pcs = 50)\n",
    "sc.tl.leiden(prob_gd, resolution = 0.8, key_added= 'leiden')                                                 "
   ]
  },
  {
   "cell_type": "code",
   "execution_count": null,
   "id": "5375181a-7e37-4ad5-8168-2bbe5b447dce",
   "metadata": {},
   "outputs": [],
   "source": [
    "sc.tl.tsne(prob_gd)"
   ]
  },
  {
   "cell_type": "code",
   "execution_count": null,
   "id": "700ae83e-8ac2-4926-bcca-6fc084e22f22",
   "metadata": {},
   "outputs": [],
   "source": [
    "%matplotlib inline\n",
    "plt.rcParams['axes.linewidth'] = 2\n",
    "fig = sc.pl.tsne(prob_gd, color = ['leiden','ZBTB16','IKZF2','TRGV4','CD3D','CD3G','CD3E',\n",
    "                                   'CD247','TRDC'],size = 50, legend_loc = 'on data', palette  = my_palette, ncols = 4, cmap = my_cmap, return_fig = True, legend_fontsize = 'large')\n",
    "ax = fig.get_axes()\n",
    "for i in range(0,len(ax)):\n",
    "    ax[i].xaxis.label.set_fontsize(22)\n",
    "    ax[i].xaxis.label.set_fontweight('bold')\n",
    "    ax[i].yaxis.label.set_fontsize(22)\n",
    "    ax[i].title.set_fontsize(30)\n",
    "    ax[i].yaxis.label.set_fontweight('bold')\n",
    "    ax[i].title.set_fontweight('bold')\n",
    "#plt.savefig('overall_map_withunmatched.png')"
   ]
  },
  {
   "cell_type": "code",
   "execution_count": null,
   "id": "194cb2d5-054f-4cd1-bddd-0d1bccc806ac",
   "metadata": {},
   "outputs": [],
   "source": [
    "plt.rcParams['figure.figsize'] = [8,8]\n",
    "sc.tl.leiden(prob_gd, restrict_to = ('leiden', ['7']), resolution = 0.3, key_added= 'leiden1')\n",
    "sc.pl.tsne(prob_gd, color=['leiden1','CD3D','CD3E','CD3G','CD247','TRDC'], size = 30, legend_loc = 'on data', cmap = my_cmap)"
   ]
  },
  {
   "cell_type": "code",
   "execution_count": null,
   "id": "d6d1606f-e640-4554-aa9a-d8d407f908e5",
   "metadata": {},
   "outputs": [],
   "source": [
    "plt.rcParams['figure.figsize'] = [8,8]\n",
    "sc.tl.leiden(prob_gd, restrict_to = ('leiden1', ['3']), resolution = 0.5, key_added= 'leiden2')\n",
    "sc.pl.tsne(prob_gd, color=['leiden2','CD3D','CD3E','CD3G','CD247','TRDC'], size = 30, legend_loc = 'on data', cmap = my_cmap)"
   ]
  },
  {
   "cell_type": "code",
   "execution_count": null,
   "id": "972d60e6-c0a9-4a7c-9e47-576cd1e77fee",
   "metadata": {},
   "outputs": [],
   "source": [
    "TCR_exp_set ={\n",
    "\"gamma\": gamma_genes, \"delta\": delta_genes, \"CD3S\": ['CD3E','CD3D','CD3G']\n",
    "}\n",
    "\n",
    "\n",
    "\n",
    "sc.pl.dotplot(prob_gd,TCR_exp_set,groupby = 'leiden2' , vmax = 1, swap_axes = False, dot_min =0, dot_max =1,standard_scale = 'var')"
   ]
  },
  {
   "cell_type": "code",
   "execution_count": null,
   "id": "b5b1fd53-581b-4061-887e-38c39a0ccfe4",
   "metadata": {},
   "outputs": [],
   "source": [
    "gd4 = prob_gd[prob_gd.obs['leiden2'].isin(['3,2','3,3','7,1']),:]"
   ]
  },
  {
   "cell_type": "code",
   "execution_count": null,
   "id": "418a3f5f-b06f-410a-b810-93300237f5f3",
   "metadata": {
    "tags": []
   },
   "outputs": [],
   "source": [
    "sc.pl.tsne(gd4,color = ['leiden2','CD3D','CD3E','CD3G','CD247','TRDC'])"
   ]
  },
  {
   "cell_type": "markdown",
   "id": "a2b3f382-a70a-4154-8c1e-edb5e835fe82",
   "metadata": {},
   "source": [
    "### possibly gamma deltas"
   ]
  },
  {
   "cell_type": "code",
   "execution_count": null,
   "id": "3f540adc-4b56-4e59-8d31-f26b43543358",
   "metadata": {},
   "outputs": [],
   "source": [
    "adata_gd = gd1.concatenate(gd2,gd3,gd4, batch_key = 'original_cluster', batch_categories=['7','9','4','14'],join = 'outer',fill_value=0)"
   ]
  },
  {
   "cell_type": "code",
   "execution_count": null,
   "id": "c148f3a7-d681-48df-a0b7-52fa786c8957",
   "metadata": {},
   "outputs": [],
   "source": [
    "adata_gd"
   ]
  },
  {
   "cell_type": "code",
   "execution_count": null,
   "id": "fe468d18-9e64-42bf-af06-b705bded1619",
   "metadata": {},
   "outputs": [],
   "source": [
    "sc.pp.highly_variable_genes(adata_gd, flavor = 'seurat', n_top_genes=3000)\n",
    "#.var['highly_variable'] = adata.var_names.isin(features)\n",
    "sc.pp.pca(adata_gd, n_comps=50, use_highly_variable=True, svd_solver='arpack')"
   ]
  },
  {
   "cell_type": "code",
   "execution_count": null,
   "id": "3222d75d-cd1e-4f54-9d39-f98b94836f06",
   "metadata": {
    "tags": []
   },
   "outputs": [],
   "source": [
    "sc.pp.neighbors(adata_gd, n_neighbors = 15, n_pcs = 50)\n",
    "sc.tl.leiden(adata_gd, resolution = 0.8, key_added= 'leiden')                                                 "
   ]
  },
  {
   "cell_type": "code",
   "execution_count": null,
   "id": "9991938b-2e79-4a4c-a08f-1a32c3cdff74",
   "metadata": {},
   "outputs": [],
   "source": [
    "sc.tl.tsne(adata_gd)"
   ]
  },
  {
   "cell_type": "code",
   "execution_count": null,
   "id": "cfa4bdf0-617f-462b-a42f-552e7bff354b",
   "metadata": {},
   "outputs": [],
   "source": [
    "%matplotlib inline\n",
    "plt.rcParams['axes.linewidth'] = 2\n",
    "fig = sc.pl.tsne(adata_gd, color = ['original_cluster','leiden','ZBTB16','IKZF2','TRGV4','CD3D','CD3G','CD3E',\n",
    "                                   'CD247','IFNG','IL17A','TRDC','TRDV1','TRDV2','TRDV3','CD4',\n",
    "                                   'CD8A','CD8B','PDCD1','KLRK1','RORC','TRDC','FOXP3','TRAV1-2'],size = 50, legend_loc = 'on data', palette  = my_palette, ncols = 4, cmap = my_cmap, return_fig = True, legend_fontsize = 'large')\n",
    "ax = fig.get_axes()\n",
    "for i in range(0,len(ax)):\n",
    "    ax[i].xaxis.label.set_fontsize(22)\n",
    "    ax[i].xaxis.label.set_fontweight('bold')\n",
    "    ax[i].yaxis.label.set_fontsize(22)\n",
    "    ax[i].title.set_fontsize(30)\n",
    "    ax[i].yaxis.label.set_fontweight('bold')\n",
    "    ax[i].title.set_fontweight('bold')\n",
    "#plt.savefig('overall_map_withunmatched.png')"
   ]
  },
  {
   "cell_type": "code",
   "execution_count": null,
   "id": "5d8dcb09-3647-4bfe-96ed-d474e2c356e9",
   "metadata": {},
   "outputs": [],
   "source": [
    "plt.rcParams['figure.figsize'] = [8,8]\n",
    "sc.tl.leiden(adata_gd, restrict_to = ('leiden', ['4']), resolution = 0.3, key_added= 'leiden1')\n",
    "sc.pl.tsne(adata_gd, color=['leiden1','CD3E','CD3G','CD3D','TRDC'], size = 30, legend_loc = 'on data', cmap = my_cmap)"
   ]
  },
  {
   "cell_type": "code",
   "execution_count": null,
   "id": "2b82af47-d7e8-433f-bafb-be68ad7dbd62",
   "metadata": {},
   "outputs": [],
   "source": [
    "TCR_exp_set ={\n",
    "\"gamma\": gamma_genes, \"delta\": delta_genes, \"CD3S\": ['CD3E','CD3D','CD3G']\n",
    "}\n",
    "\n",
    "\n",
    "\n",
    "sc.pl.dotplot(adata_gd,TCR_exp_set,groupby = 'leiden1' , vmax = 1, swap_axes = False, dot_min =0, dot_max =1,standard_scale = 'var')"
   ]
  },
  {
   "cell_type": "code",
   "execution_count": null,
   "id": "3a7c0f25-2aa6-4bc2-b1f1-b92a82805f10",
   "metadata": {},
   "outputs": [],
   "source": [
    "adata_gd_filtered = adata_gd[adata_gd.obs['leiden1'].isin(['4,0','4,2']) == 0,:]"
   ]
  },
  {
   "cell_type": "code",
   "execution_count": null,
   "id": "b19c82e2-6402-4de0-be1a-c781152d4f79",
   "metadata": {},
   "outputs": [],
   "source": [
    "adata_gd_filtered.write('synapse_gd.h5ad')"
   ]
  },
  {
   "cell_type": "markdown",
   "id": "ef1e3823-46f2-4436-a382-81a898de9228",
   "metadata": {},
   "source": [
    "## Do they show any sign of IL17 secreting?"
   ]
  },
  {
   "cell_type": "code",
   "execution_count": null,
   "id": "072872bf-9eba-4a9b-a19a-d142a4212340",
   "metadata": {},
   "outputs": [],
   "source": [
    "sc.pl.tsne(adata_gd_filtered,color = ['IL17A','RORC'], cmap = my_cmap)"
   ]
  },
  {
   "cell_type": "code",
   "execution_count": null,
   "id": "79e537da-fde9-4bf4-a606-6d72747819b6",
   "metadata": {},
   "outputs": [],
   "source": [
    "meta = pd.read_excel('Synapse/41588_2022_1100_MOESM3_ESM.xlsx',sheet_name='Supplementary Table 13')"
   ]
  },
  {
   "cell_type": "code",
   "execution_count": null,
   "id": "da04c90e-463a-4667-aef6-6acdd8294aff",
   "metadata": {},
   "outputs": [],
   "source": [
    "adata.obs['patient.ID'] = adata.obs['patient.ID'].replace('-JSC','')"
   ]
  },
  {
   "cell_type": "code",
   "execution_count": null,
   "id": "5d387b28-b60b-4671-a232-aca2d2f6dc14",
   "metadata": {},
   "outputs": [],
   "source": [
    "for col_name in meta.columns[4:-3]:\n",
    "    dictionary = pd.Series(meta[col_name].astype(str).values, index=meta['patient.ID']).to_dict()\n",
    "    adata.obs[col_name] = adata.obs['patient.ID'].replace(dictionary)"
   ]
  },
  {
   "cell_type": "code",
   "execution_count": null,
   "id": "bfe3aed5-7dec-4812-a711-a65eef8f224a",
   "metadata": {},
   "outputs": [],
   "source": [
    "adata_gd_filtered = sc.read_h5ad('synapse_gd.h5ad')"
   ]
  },
  {
   "cell_type": "code",
   "execution_count": null,
   "id": "e794c989-a44e-44c5-bec3-9e7c587a2d72",
   "metadata": {},
   "outputs": [],
   "source": [
    "adata_gd_filtered.obs['patient.ID'] = [i.replace('-JSC','') for i in adata_gd_filtered.obs['patient.ID']]"
   ]
  },
  {
   "cell_type": "code",
   "execution_count": null,
   "id": "3495173c-1d64-4e04-afa6-1dc961e26706",
   "metadata": {},
   "outputs": [],
   "source": [
    "for col_name in meta.columns[2:-3]:\n",
    "    dictionary = pd.Series(meta[col_name].values, index=meta['patient.ID']).to_dict()\n",
    "    adata_gd_filtered.obs[col_name] = adata_gd_filtered.obs['patient.ID'].replace(dictionary)"
   ]
  },
  {
   "cell_type": "code",
   "execution_count": null,
   "id": "14a99637-333f-4379-8751-ae08a1d37fef",
   "metadata": {},
   "outputs": [],
   "source": [
    "%matplotlib inline\n",
    "plt.rcParams['axes.linewidth'] = 2\n",
    "fig = sc.pl.tsne(adata_gd_filtered, color = ['TRDV1','TRDV2','original_cluster','patient.ID','Site','Sidedness','sample.origin'],\n",
    "                 size = 80, palette  = my_palette, \n",
    "                 ncols = 1, cmap = my_cmap, return_fig = True, legend_fontsize = 'large')\n",
    "ax = fig.get_axes()\n",
    "for i in range(0,len(ax)):\n",
    "    ax[i].xaxis.label.set_fontsize(22)\n",
    "    ax[i].xaxis.label.set_fontweight('bold')\n",
    "    ax[i].yaxis.label.set_fontsize(22)\n",
    "    ax[i].title.set_fontsize(30)\n",
    "    ax[i].yaxis.label.set_fontweight('bold')\n",
    "    ax[i].title.set_fontweight('bold')\n",
    "plt.savefig('Synapse/overall_map_withunmatched.png')\n",
    "\n",
    "#shows patient's gd T specificity"
   ]
  },
  {
   "cell_type": "code",
   "execution_count": null,
   "id": "f713627a-b400-4281-a67f-8c7965085805",
   "metadata": {},
   "outputs": [],
   "source": [
    "for i in adata_gd_filtered.obs.columns:\n",
    "    adata_gd_filtered.obs[i] = adata_gd_filtered.obs[i].astype(str)\n",
    "adata_gd_filtered.write('synapse_gd_with_metadata.h5ad')"
   ]
  },
  {
   "cell_type": "code",
   "execution_count": null,
   "id": "7b6dd4b2-bd7b-4720-8e02-e7081cdd22c4",
   "metadata": {},
   "outputs": [],
   "source": [
    "adata_gd = sc.read_h5ad('synapse_gd_with_metadata.h5ad')"
   ]
  },
  {
   "cell_type": "code",
   "execution_count": null,
   "id": "2ee9f4e7-0a98-42e7-9162-fd2f5a008e7e",
   "metadata": {},
   "outputs": [],
   "source": [
    "adata_gd.obs[['sample.ID', 'patient.ID', 'sample.origin','dataset','Gender', 'Age at recruitment', 'Group Stage', 'Stage TNM','Site']]"
   ]
  },
  {
   "cell_type": "code",
   "execution_count": null,
   "id": "223bb806-c8ce-4d5d-a20d-ecab4dd6845a",
   "metadata": {},
   "outputs": [],
   "source": [
    "adata_gd.obs['patient'] = adata_gd.obs['patient.ID']\n",
    "adata_gd.obs['tissue'] = adata_gd.obs['sample.origin']\n",
    "adata_gd.obs['gender'] = adata_gd.obs['Gender'] \n",
    "adata_gd.obs['age'] = adata_gd.obs['Age at recruitment'] \n",
    "adata_gd.obs['site'] = adata_gd.obs['Site']\n",
    "adata_gd.obs['stage'] = adata_gd.obs['Group Stage']"
   ]
  },
  {
   "cell_type": "code",
   "execution_count": null,
   "id": "913a3075-1ed4-4de6-bd2e-f040bfdaa5f7",
   "metadata": {
    "tags": []
   },
   "outputs": [],
   "source": [
    "adata_gd.obs['TNM_T'] = [i.split('T')[1].split('N')[0] for i in adata_gd.obs['Stage TNM']]\n",
    "adata_gd.obs['TNM_N'] = [i.split('N')[1].split('M')[0] for i in adata_gd.obs['Stage TNM']]\n",
    "adata_gd.obs['TNM_M'] = 'x'\n",
    "for i,stage in enumerate(adata_gd.obs['Stage TNM']):\n",
    "    if len(stage.split('M')) > 1:\n",
    "        adata_gd.obs['TNM_M'][i] = stage.split('M')[1]"
   ]
  },
  {
   "cell_type": "code",
   "execution_count": null,
   "id": "be24e856-34ba-443a-b081-ad5464297670",
   "metadata": {},
   "outputs": [],
   "source": [
    "adata_gd.obs['gender'] = adata_gd.obs['gender'].replace({'F':'Female','M':'Male'})"
   ]
  },
  {
   "cell_type": "code",
   "execution_count": null,
   "id": "1dc17533-76b0-48e4-b0f3-cfb919a39a83",
   "metadata": {},
   "outputs": [],
   "source": [
    "sc.pl.tsne(adata_gd,color = ['patient','tissue','gender','age','site','TNM_T','TNM_N','TNM_M','stage'])"
   ]
  },
  {
   "cell_type": "code",
   "execution_count": null,
   "id": "5e661f50-d708-4e4d-a0b1-f7c1716508e7",
   "metadata": {},
   "outputs": [],
   "source": [
    "adata_gd.obs[['patient','tissue','gender','age','site','TNM_T','TNM_N','TNM_M','stage']].to_csv('synapse_gd.csv')"
   ]
  },
  {
   "cell_type": "code",
   "execution_count": null,
   "id": "dd50566f-89bd-4725-a248-64729e764747",
   "metadata": {},
   "outputs": [],
   "source": [
    "adata_gd.write('Synapse/Synapse_gd.h5ad')"
   ]
  },
  {
   "cell_type": "code",
   "execution_count": null,
   "id": "9147facc-ed44-4286-a0e1-6a3724b42b62",
   "metadata": {},
   "outputs": [],
   "source": [
    "adata.var_names_make_unique()"
   ]
  },
  {
   "cell_type": "code",
   "execution_count": null,
   "id": "4f256e27-fb6f-4825-b6b3-3aeb570818a4",
   "metadata": {},
   "outputs": [],
   "source": [
    "gd_info = pd.read_csv('synapse_gd.csv')"
   ]
  },
  {
   "cell_type": "code",
   "execution_count": null,
   "id": "7e887abb-f89b-4283-9f0d-101158b1e381",
   "metadata": {},
   "outputs": [],
   "source": [
    "gd_info['new_cellID'] = ['-'.join(i.split('-')[0:-1]) for i in gd_info['cell.ID']]"
   ]
  },
  {
   "cell_type": "code",
   "execution_count": null,
   "id": "c6bdb865-0914-47b5-8acc-7fae7d7e9d7a",
   "metadata": {},
   "outputs": [],
   "source": [
    "counts = adata[gd_info['new_cellID'],:].X.T\n",
    "colnames = gd_info['new_cellID']\n",
    "rownames = adata.var_names"
   ]
  },
  {
   "cell_type": "code",
   "execution_count": null,
   "id": "a4185ebe-8b7c-481b-9762-d14da3376243",
   "metadata": {},
   "outputs": [],
   "source": [
    "%%R -i colnames -i rownames -i counts \n",
    "\n",
    "colnames(counts) = colnames\n",
    "rownames(counts) = rownames\n",
    "\n",
    "srat <- CreateSeuratObject(counts = counts, project = \"synapse\", min.cells = 0, min.features = 0, assay = \"RNA\")"
   ]
  },
  {
   "cell_type": "code",
   "execution_count": null,
   "id": "fb73036e-5b64-4af8-b0b6-be383988e782",
   "metadata": {},
   "outputs": [],
   "source": [
    "%%R -i gd_info\n",
    "srat = AddMetaData(srat, metadata = gd_info)\n",
    "saveRDS(srat, 'synapse_gd.rds')"
   ]
  },
  {
   "cell_type": "code",
   "execution_count": null,
   "id": "dbed9f4d-3a30-46f8-bce7-dee1b30ad903",
   "metadata": {},
   "outputs": [],
   "source": []
  },
  {
   "cell_type": "code",
   "execution_count": null,
   "id": "2ece0bdc-3d33-4cc3-a64f-11f82b64e31c",
   "metadata": {},
   "outputs": [],
   "source": []
  },
  {
   "cell_type": "code",
   "execution_count": null,
   "id": "3cf34e01-39a6-4647-b80e-4908b01fcf36",
   "metadata": {},
   "outputs": [],
   "source": [
    "from matplotlib.colors import LinearSegmentedColormap\n",
    "values = [0,1]\n",
    "colors = [(227, 227, 227), (255, 42, 18)]\n",
    "norm = plt.Normalize(min(values), max(values))\n",
    "my_cmap = LinearSegmentedColormap.from_list(\n",
    "    '', [(norm(value), tuple(np.array(color) / 255)) for value, color in zip(values, colors)])"
   ]
  },
  {
   "cell_type": "code",
   "execution_count": null,
   "id": "f10f1d98-1039-4659-bd5f-7b9156e003e1",
   "metadata": {},
   "outputs": [],
   "source": [
    "adata = sc.read_h5ad('synapse.h5ad')\n",
    "adata_17 = sc.read_h5ad('synapse_T17.h5ad')\n",
    "adata_gd = sc.read_h5ad('synapse_gd.h5ad')"
   ]
  },
  {
   "cell_type": "code",
   "execution_count": null,
   "id": "900df157-82fe-4d7d-bfd4-c001aae64a7f",
   "metadata": {},
   "outputs": [],
   "source": [
    "adata.obs['IL17 secreting selected'] = '0'\n",
    "adata.obs['IL17 secreting selected'][adata.obs_names.isin(adata_17.obs_names)] = '1'"
   ]
  },
  {
   "cell_type": "code",
   "execution_count": null,
   "id": "b2d50fc1-9693-4034-a76d-2ffc1789ea26",
   "metadata": {},
   "outputs": [],
   "source": [
    "adata_gd.obs_names= ['-'.join(i.split('-')[0:-1]) for i in adata_gd.obs_names]"
   ]
  },
  {
   "cell_type": "code",
   "execution_count": null,
   "id": "890754db-0f32-4126-b38a-8b8ac01e63ce",
   "metadata": {},
   "outputs": [],
   "source": [
    "adata.obs['gdT selected'] = '0'\n",
    "adata.obs['gdT selected'][adata.obs_names.isin(adata_gd.obs_names)] = '1'"
   ]
  },
  {
   "cell_type": "code",
   "execution_count": null,
   "id": "94847ff4-cd8c-4c17-ac9d-adcb926d8c47",
   "metadata": {},
   "outputs": [],
   "source": [
    "plt.close()\n",
    "plt.rcParams['axes.linewidth'] = 2\n",
    "plt.rcParams['figure.figsize'] = [8,8]\n",
    "fig = sc.pl.umap(adata, color=['leiden','RORC','IL17A','IL17F','IL17 secreting selected'],\n",
    "                 size =1, ncols = 2, palette =my_palette, cmap = my_cmap, legend_loc = 'on data',return_fig = True, legend_fontsize = 'large', vmax = 4)\n",
    "ax = fig.get_axes()\n",
    "for i in range(0,len(ax)):\n",
    "    ax[i].xaxis.label.set_fontsize(22)\n",
    "    ax[i].xaxis.label.set_fontweight('bold')\n",
    "    ax[i].yaxis.label.set_fontsize(22)\n",
    "    ax[i].title.set_fontsize(30)\n",
    "    ax[i].yaxis.label.set_fontweight('bold')\n",
    "    ax[i].title.set_fontweight('bold')\n",
    "#fig.savefig('17_selected.png',dpi = 300,bbox_inches='tight') "
   ]
  },
  {
   "cell_type": "code",
   "execution_count": null,
   "id": "780ad8d6-22b3-4d2d-9207-5382b4a0a40e",
   "metadata": {},
   "outputs": [],
   "source": [
    "plt.close()\n",
    "plt.rcParams['axes.linewidth'] = 2\n",
    "plt.rcParams['figure.figsize'] = [8,8]\n",
    "fig = sc.pl.umap(adata, color=['RORC','IL17A','IL17F','IL17 secreting selected'],\n",
    "                 size =1, ncols = 2, palette = ['#E3E3E3', '#FF2A12'], cmap = my_cmap, return_fig = True, legend_fontsize = 'large', vmax = 4)\n",
    "ax = fig.get_axes()\n",
    "for i in range(0,len(ax)):\n",
    "    ax[i].xaxis.label.set_fontsize(22)\n",
    "    ax[i].xaxis.label.set_fontweight('bold')\n",
    "    ax[i].yaxis.label.set_fontsize(22)\n",
    "    ax[i].title.set_fontsize(30)\n",
    "    ax[i].yaxis.label.set_fontweight('bold')\n",
    "    ax[i].title.set_fontweight('bold')\n",
    "fig.savefig('17_selected.png',dpi = 300,bbox_inches='tight') "
   ]
  },
  {
   "cell_type": "code",
   "execution_count": null,
   "id": "53f0d745-3f9b-4699-bef0-5aac7e0a8222",
   "metadata": {},
   "outputs": [],
   "source": [
    "plt.close()\n",
    "plt.rcParams['axes.linewidth'] = 2\n",
    "plt.rcParams['figure.figsize'] = [8,8]\n",
    "fig = sc.pl.umap(adata, color=['CD3E','CD3D','CD3G','CD247','TRDC','gdT selected'],\n",
    "                 size =1, ncols = 2, palette = ['#E3E3E3', '#FF2A12'], cmap = my_cmap, return_fig = True, legend_fontsize = 'large')\n",
    "ax = fig.get_axes()\n",
    "for i in range(0,len(ax)):\n",
    "    ax[i].xaxis.label.set_fontsize(22)\n",
    "    ax[i].xaxis.label.set_fontweight('bold')\n",
    "    ax[i].yaxis.label.set_fontsize(22)\n",
    "    ax[i].title.set_fontsize(30)\n",
    "    ax[i].yaxis.label.set_fontweight('bold')\n",
    "    ax[i].title.set_fontweight('bold')\n",
    "fig.savefig('gd_selected.png',dpi = 300,bbox_inches='tight') "
   ]
  },
  {
   "cell_type": "code",
   "execution_count": null,
   "id": "938f6965-4149-495d-a327-640e047f371a",
   "metadata": {},
   "outputs": [],
   "source": [
    "adata_17.var_names_make_unique()"
   ]
  },
  {
   "cell_type": "code",
   "execution_count": null,
   "id": "e323b2e0-4193-41e2-bd37-f3f168ae4cf9",
   "metadata": {},
   "outputs": [],
   "source": [
    "counts = adata_17.X.T\n",
    "colnames = adata_17.obs_names\n",
    "rownames = adata_17.var_names"
   ]
  },
  {
   "cell_type": "code",
   "execution_count": null,
   "id": "6f37f970-65ef-4099-8141-19b8bf03bf44",
   "metadata": {},
   "outputs": [],
   "source": [
    "metadata = adata_17.obs"
   ]
  },
  {
   "cell_type": "code",
   "execution_count": null,
   "id": "9809aa09-7315-4b2c-80de-3d1132bc04df",
   "metadata": {},
   "outputs": [],
   "source": [
    "metadata['orig.ident'] = 'synapse'"
   ]
  },
  {
   "cell_type": "code",
   "execution_count": null,
   "id": "191ebaf4-bd09-4768-9de5-8f9fc34b8fca",
   "metadata": {},
   "outputs": [],
   "source": [
    "%%R -i colnames -i rownames -i counts \n",
    "\n",
    "colnames(counts) = colnames\n",
    "rownames(counts) = rownames\n",
    "\n",
    "srat <- CreateSeuratObject(counts = counts, project = \"synapse\", min.cells = 0, min.features = 0, assay = \"RNA\")"
   ]
  },
  {
   "cell_type": "code",
   "execution_count": null,
   "id": "06c4bd18-d917-48e9-a855-93c9ce158fe8",
   "metadata": {},
   "outputs": [],
   "source": [
    "%%R -i metadata\n",
    "srat = AddMetaData(srat, metadata = metadata)\n",
    "saveRDS(srat, 'synapse_T17.rds')"
   ]
  },
  {
   "cell_type": "code",
   "execution_count": null,
   "id": "bdb25787-4657-47a6-975c-4fed1efa4bba",
   "metadata": {},
   "outputs": [],
   "source": []
  }
 ],
 "metadata": {
  "kernelspec": {
   "display_name": "Python 3 (ipykernel)",
   "language": "python",
   "name": "python3"
  },
  "language_info": {
   "codemirror_mode": {
    "name": "ipython",
    "version": 3
   },
   "file_extension": ".py",
   "mimetype": "text/x-python",
   "name": "python",
   "nbconvert_exporter": "python",
   "pygments_lexer": "ipython3",
   "version": "3.9.13"
  }
 },
 "nbformat": 4,
 "nbformat_minor": 5
}
