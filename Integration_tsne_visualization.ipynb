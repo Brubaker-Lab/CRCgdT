{
 "cells": [
  {
   "cell_type": "code",
   "execution_count": null,
   "metadata": {},
   "outputs": [],
   "source": [
    "adata = sc.read_h5ad('gd_integrated.h5ad') # read in the data we converted"
   ]
  },
  {
   "cell_type": "code",
   "execution_count": null,
   "metadata": {},
   "outputs": [],
   "source": [
    "# note that we already have the residual based PCA back in SCT + seurate integration!\n",
    "# get the neighborhood from that established PC\n",
    "sc.pp.neighbors(adata, n_pcs = 50)\n",
    "sc.tl.leiden(adata, resolution = 0.8, key_added= 'leiden')\n",
    "\n",
    "sc.pl.pca(adata, color=['leiden','CD4'], legend_loc = 'on data')\n",
    "%matplotlib inline\n",
    "sc.tl.tsne(adata)\n",
    "\n",
    "#For tsne visualization\n",
    "plt.rcParams['axes.linewidth'] = 2\n",
    "sc.pl.tsne(adata, color=['leiden','CD3E','CD3G','CD3D','TRDC','ICOS','CD4','CD8A','CD8B','FOXP3','IFNG'],legend_loc = 'on data',cmap = my_cmap)\n",
    "#^^^simply change tsne to umap will allows you plot umap in scanpy"
   ]
  }
 ],
 "metadata": {
  "language_info": {
   "name": "python"
  }
 },
 "nbformat": 4,
 "nbformat_minor": 2
}
