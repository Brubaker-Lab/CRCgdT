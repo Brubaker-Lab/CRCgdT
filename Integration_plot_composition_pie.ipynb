{
 "cells": [
  {
   "cell_type": "code",
   "execution_count": null,
   "metadata": {},
   "outputs": [],
   "source": [
    "#composition pie chart -- change the key to plot other attribute\n",
    "plt.rcParams['figure.figsize'] = [8,7.2]\n",
    "\n",
    "ID_tot = adata.obs['tissue'].values.categories\n",
    "pdtemp = pd.DataFrame(adata.obs['tissue'].value_counts(normalize = True))\n",
    "#pdtemp = pdtemp.rename({'proportion': i}, axis='columns')\n",
    "\n",
    "pdtemp = pdtemp.reindex(index =ID_tot)\n",
    "wedges, texts, autotexts =plt.pie([i[0] for i in pdtemp.values], colors = adata.uns['tissue_colors'],autopct='%1.2f%%',radius = 1.2)\n",
    "#tissue_colors is a palette\n",
    "\n",
    "plt.legend(wedges, ID_tot,\n",
    "          loc=\"center left\",\n",
    "            bbox_to_anchor=(1, 0, 0.5, 1), fontsize = 15)\n",
    "plt.title(label = 'Tissue Type', fontsize = 30)\n",
    "plt.setp(autotexts, size=25, weight=\"bold\")\n",
    "plt.tight_layout()\n",
    "plt.savefig('pie.png',dpi = 300,bbox_inches='tight')"
   ]
  }
 ],
 "metadata": {
  "language_info": {
   "name": "python"
  }
 },
 "nbformat": 4,
 "nbformat_minor": 2
}
