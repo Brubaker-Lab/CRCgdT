{
 "cells": [
  {
   "cell_type": "code",
   "execution_count": null,
   "id": "11e438e2-e8e0-4dec-b1c0-6bbc2e5c5a7e",
   "metadata": {
    "tags": []
   },
   "outputs": [],
   "source": [
    "#import the library\n",
    "import scanpy as sc\n",
    "import numpy as np\n",
    "import scipy as sp\n",
    "import pandas as pd\n",
    "import matplotlib.pyplot as plt\n",
    "from matplotlib import rcParams\n",
    "from matplotlib import colors\n",
    "import seaborn as sb\n",
    "from gprofiler import GProfiler\n",
    "import seaborn as sns\n",
    "import rpy2.rinterface_lib.callbacks\n",
    "import logging\n",
    "import tensorflow as tf\n",
    "import os\n",
    "\n",
    "from rpy2.robjects import pandas2ri\n",
    "import anndata2ri\n",
    "\n",
    "import importlib\n",
    "import warnings\n",
    "warnings.filterwarnings(\"ignore\")\n",
    "import pickle as pkl\n",
    "from matplotlib.colors import LinearSegmentedColormap"
   ]
  },
  {
   "cell_type": "code",
   "execution_count": null,
   "id": "b3875d4c-9493-415f-9137-b1e95c38c8ef",
   "metadata": {},
   "outputs": [],
   "source": [
    "def print_full(x):\n",
    "    pd.set_option('display.max_rows', len(x))\n",
    "    print(x)\n",
    "    pd.reset_option('display.max_rows')"
   ]
  },
  {
   "cell_type": "code",
   "execution_count": null,
   "id": "20c6af1b-c04d-4dbd-9bdc-9cecb68ede38",
   "metadata": {},
   "outputs": [],
   "source": [
    "#This pallete is for colorblinds\n",
    "my_palette = ['#0351A8','#8CB0E0','#D56D11','#FFBB78','#234E08','#53CB8B','#D30083','#CB788D','#4E195A','#C58CCF','#AA290F','#B03FD1','#E8BCCF','#64605F','#B2AD9A','#D2D30B','#D1BD4F','#06DCF2','#9EDAE5','#517219','#5B43CF','#D92F24','#FFD900','#002F33','#B8A3A3']"
   ]
  },
  {
   "cell_type": "code",
   "execution_count": null,
   "id": "d32287b6-95de-4f1b-81ca-517a83781e0b",
   "metadata": {},
   "outputs": [],
   "source": [
    "from matplotlib.colors import LinearSegmentedColormap\n",
    "values = [0,1]\n",
    "colors = [(227, 227, 227), (255, 42, 18)]\n",
    "norm = plt.Normalize(min(values), max(values))\n",
    "my_cmap = LinearSegmentedColormap.from_list(\n",
    "    '', [(norm(value), tuple(np.array(color) / 255)) for value, color in zip(values, colors)])"
   ]
  },
  {
   "cell_type": "code",
   "execution_count": null,
   "id": "ce8209ca-8d50-4377-92cd-faaac4306208",
   "metadata": {
    "tags": []
   },
   "outputs": [],
   "source": [
    "# Ignore R warning messages\n",
    "#Note: this can be commented out to get more verbose R output\n",
    "rpy2.rinterface_lib.callbacks.logger.setLevel(logging.ERROR)\n",
    "\n",
    "pandas2ri.activate()\n",
    "anndata2ri.activate()\n",
    "%load_ext rpy2.ipython"
   ]
  },
  {
   "cell_type": "code",
   "execution_count": null,
   "id": "f11795cb-466f-43d8-83fc-8f0effa2a95d",
   "metadata": {
    "tags": []
   },
   "outputs": [],
   "source": [
    "plt.rcParams['figure.figsize']=(8,8) #rescale figures\n",
    "sc.settings.verbosity = 3\n",
    "sc.logging.print_versions()"
   ]
  },
  {
   "cell_type": "code",
   "execution_count": null,
   "id": "26ce3d17-a413-4b44-b484-0629947f98cc",
   "metadata": {},
   "outputs": [],
   "source": [
    "%%R\n",
    "# Load libraries from correct lib Paths for my environment - ignore this!\n",
    ".libPaths(.libPaths('C:\\\\Users\\\\16220\\\\AppData\\\\Local\\\\R\\\\win-library\\\\4.3'))\n",
    "library(Seurat)"
   ]
  },
  {
   "cell_type": "code",
   "execution_count": null,
   "id": "e5434085-68d7-4f82-891d-8815b4a37c0b",
   "metadata": {},
   "outputs": [],
   "source": [
    "raw_table = pd.read_csv('F:/CRC/AAA_USELESS/GSE108989/GSE108989_CRC.TCell.S11138.count.txt',sep = '\\t',index_col = 1)\n",
    "del raw_table['geneID']"
   ]
  },
  {
   "cell_type": "code",
   "execution_count": null,
   "id": "221eb543-3a2b-48af-8769-bc1602a9de95",
   "metadata": {
    "tags": []
   },
   "outputs": [],
   "source": [
    "raw_table = raw_table.T"
   ]
  },
  {
   "cell_type": "code",
   "execution_count": null,
   "id": "ceae3efa-3559-4cf7-8a2f-947729685b71",
   "metadata": {},
   "outputs": [],
   "source": [
    "import anndata\n",
    "adata = anndata.AnnData(X = raw_table.values)\n",
    "adata.var_names = [str(i) for i in raw_table.columns]\n",
    "adata.obs_names = raw_table.index"
   ]
  },
  {
   "cell_type": "code",
   "execution_count": null,
   "id": "b682d5db-c3d0-4239-8904-7032320cb836",
   "metadata": {},
   "outputs": [],
   "source": [
    "adata.var_names_make_unique()"
   ]
  },
  {
   "cell_type": "code",
   "execution_count": null,
   "id": "d9f0bc90-3567-40ed-b689-1bb896a8bc2e",
   "metadata": {},
   "outputs": [],
   "source": [
    "adata_17_raw = adata[adata_17.obs_names,:]"
   ]
  },
  {
   "cell_type": "code",
   "execution_count": null,
   "id": "7eac2fc2-5d6e-4bce-83a1-94e84f3982fa",
   "metadata": {},
   "outputs": [],
   "source": [
    "colnames = adata_17_raw.obs_names\n",
    "rownames = adata_17_raw.var_names\n",
    "counts = adata_17_raw.X.T"
   ]
  },
  {
   "cell_type": "code",
   "execution_count": null,
   "id": "6f3e692f-cd3f-49c4-bb3a-40a2ad630789",
   "metadata": {},
   "outputs": [],
   "source": [
    "%%R -i colnames -i rownames -i counts\n",
    "colnames(counts) = colnames\n",
    "rownames(counts) = rownames\n",
    "\n",
    "srat <- CreateSeuratObject(counts = counts, project = \"GSE108989\", min.cells = 0, min.features = 0, assay = \"RNA\")"
   ]
  },
  {
   "cell_type": "code",
   "execution_count": null,
   "id": "e158259c-e362-4b25-8efb-42fa7666ab1f",
   "metadata": {},
   "outputs": [],
   "source": [
    "%R saveRDS(srat, 'GSE108989_T17.rds')"
   ]
  },
  {
   "cell_type": "code",
   "execution_count": null,
   "id": "3e628bf2-3791-4149-9d24-a6ad9f5504f6",
   "metadata": {},
   "outputs": [],
   "source": [
    "adata.obs['n_counts'] = adata.X.sum(1)\n",
    "adata.obs['log_counts'] = np.log(adata.obs['n_counts'])\n",
    "adata.obs['n_genes'] = (adata.X > 0).sum(1)\n",
    "adata.obs['log10GenesPerUMI'] = np.log10(adata.obs['n_genes'])/np.log10(adata.obs['n_counts']) #This is the complexity"
   ]
  },
  {
   "cell_type": "code",
   "execution_count": null,
   "id": "0d5a3a82-d822-4ac4-b645-bf092c32c4b4",
   "metadata": {},
   "outputs": [],
   "source": [
    "%matplotlib inline\n",
    "t1 = sc.pl.violin(adata, 'n_counts', size=2, log=True, cut=0)\n",
    "t2 = sc.pl.violin(adata, 'n_genes')"
   ]
  },
  {
   "cell_type": "code",
   "execution_count": null,
   "id": "8cd34803-7b48-483e-8c00-2f38d6684a26",
   "metadata": {},
   "outputs": [],
   "source": [
    "sc.pp.normalize_total(adata, key_added = 'normalization_factors')\n",
    "sc.pp.log1p(adata)"
   ]
  },
  {
   "cell_type": "code",
   "execution_count": null,
   "id": "341cedb5-65e4-4dc8-bbfa-ab1f8bc9a93b",
   "metadata": {},
   "outputs": [],
   "source": [
    "sc.pp.highly_variable_genes(adata, flavor='seurat', n_top_genes=3000)\n",
    "sc.pp.pca(adata, n_comps=50, use_highly_variable=True, svd_solver='arpack')"
   ]
  },
  {
   "cell_type": "code",
   "execution_count": null,
   "id": "b0783feb-e933-47cf-bfc2-2af5ac31973a",
   "metadata": {},
   "outputs": [],
   "source": [
    "sc.pp.neighbors(adata, n_neighbors = 15, n_pcs = 50)\n",
    "sc.tl.leiden(adata, resolution = 0.8, key_added= 'leiden')                                                 "
   ]
  },
  {
   "cell_type": "code",
   "execution_count": null,
   "id": "3c20c11a-4332-449a-a708-152ddac93c69",
   "metadata": {},
   "outputs": [],
   "source": [
    "sc.tl.tsne(adata)"
   ]
  },
  {
   "cell_type": "code",
   "execution_count": null,
   "id": "5cc7efeb-5c62-474a-8cbc-7b66f67ac4a0",
   "metadata": {},
   "outputs": [],
   "source": [
    "%matplotlib inline\n",
    "sc.pl.tsne(adata, color=['leiden','CD3D','CD3E','CD3G','IFNG','RORC','IL17A','IL17F','CD4','CD8A'],cmap = my_cmap)"
   ]
  },
  {
   "cell_type": "code",
   "execution_count": null,
   "id": "de5e97ba-6462-4881-8ed0-552fcfea46f7",
   "metadata": {},
   "outputs": [],
   "source": [
    "adata.write('GSE108989.h5ad')"
   ]
  },
  {
   "cell_type": "code",
   "execution_count": null,
   "id": "2c9951be-c4ff-42be-9b5b-64db543f2885",
   "metadata": {},
   "outputs": [],
   "source": []
  },
  {
   "cell_type": "code",
   "execution_count": null,
   "id": "07ae156a-49ac-45c1-a2f0-94c62576b5fe",
   "metadata": {},
   "outputs": [],
   "source": [
    "bioinfo = pd.read_excel('bioinfo.xlsx',index_col = 0).T"
   ]
  },
  {
   "cell_type": "code",
   "execution_count": null,
   "id": "843af9ac-fe8b-4b83-9a66-34995195d83c",
   "metadata": {},
   "outputs": [],
   "source": [
    "ID = pd.read_csv('ID.tsv', sep = '\\t', index_col = 0)"
   ]
  },
  {
   "cell_type": "code",
   "execution_count": null,
   "id": "16051d8b-e434-4423-8990-dfd8a628bd13",
   "metadata": {},
   "outputs": [],
   "source": [
    "adata.obs['patient'] = ID.loc[adata.obs_names,:]['Patient_ID']"
   ]
  },
  {
   "cell_type": "code",
   "execution_count": null,
   "id": "1261aa38-0e5e-47e4-b7b5-34108f785286",
   "metadata": {},
   "outputs": [],
   "source": [
    "adata.obs['patient'] = [i.split('_')[1] for i in adata.obs['sample_origin']]"
   ]
  },
  {
   "cell_type": "code",
   "execution_count": null,
   "id": "ce86884f-7885-4ea3-ac5a-19b3f976282f",
   "metadata": {},
   "outputs": [],
   "source": [
    "adata.obs['tissue'] = 'Carcinoma'"
   ]
  },
  {
   "cell_type": "code",
   "execution_count": null,
   "id": "046a2979-a632-42a2-b703-bc5c2dbead04",
   "metadata": {},
   "outputs": [],
   "source": [
    "gender_dict = dict(zip(bioinfo.index, bioinfo['Gender']))\n",
    "adata.obs['gender'] = [gender_dict[i] for i in adata.obs['patient']]"
   ]
  },
  {
   "cell_type": "code",
   "execution_count": null,
   "id": "4dbe748f-250f-462c-986a-7bf67b0bb217",
   "metadata": {},
   "outputs": [],
   "source": [
    "age_dict = dict(zip(bioinfo.index, bioinfo['Age']))\n",
    "adata.obs['age'] = [age_dict[i] for i in adata.obs['patient']]"
   ]
  },
  {
   "cell_type": "code",
   "execution_count": null,
   "id": "ffe4a837-aba2-413a-a9c3-06f0c7b717a9",
   "metadata": {},
   "outputs": [],
   "source": [
    "site_dict = dict(zip(bioinfo.index, bioinfo['Histological type']))\n",
    "adata.obs['site'] = [site_dict[i] for i in adata.obs['patient']]"
   ]
  },
  {
   "cell_type": "code",
   "execution_count": null,
   "id": "a5d2386d-5b87-458f-8b3c-ab89d89eb210",
   "metadata": {},
   "outputs": [],
   "source": [
    "T_dict = dict(zip(bioinfo.index, bioinfo['pTNM: T']))\n",
    "adata.obs['TNM_T'] = [T_dict[i] for i in adata.obs['patient']]"
   ]
  },
  {
   "cell_type": "code",
   "execution_count": null,
   "id": "68e69438-9c47-4c39-ab30-1e6efe670a13",
   "metadata": {},
   "outputs": [],
   "source": [
    "N_dict = dict(zip(bioinfo.index, bioinfo['pTNM: N']))\n",
    "adata.obs['TNM_N'] = [N_dict[i] for i in adata.obs['patient']]"
   ]
  },
  {
   "cell_type": "code",
   "execution_count": null,
   "id": "5df6f4d7-fcca-4dd3-839f-488ec7af5331",
   "metadata": {},
   "outputs": [],
   "source": [
    "M_dict = dict(zip(bioinfo.index, bioinfo['pTNM: M']))\n",
    "adata.obs['TNM_M'] = [M_dict[i] for i in adata.obs['patient']]"
   ]
  },
  {
   "cell_type": "code",
   "execution_count": null,
   "id": "97617398-adaa-42af-ab7d-092b8d5c1372",
   "metadata": {},
   "outputs": [],
   "source": [
    "stage_dict = dict(zip(bioinfo.index, bioinfo['Stage']))\n",
    "adata.obs['stage'] = [stage_dict[i] for i in adata.obs['patient']]"
   ]
  },
  {
   "cell_type": "code",
   "execution_count": null,
   "id": "2364db6b-f96a-4169-ac61-4068b11bd85b",
   "metadata": {},
   "outputs": [],
   "source": [
    "sc.pl.tsne(adata,color = ['patient','tissue','gender','age','site','TNM_T','TNM_N','TNM_M'])"
   ]
  },
  {
   "cell_type": "code",
   "execution_count": null,
   "id": "f579e12b-7309-4dbe-ab51-01530e6f101e",
   "metadata": {},
   "outputs": [],
   "source": [
    "sc.pl.tsne(adata,color = ['leiden','RORC','IL17A'], cmap = my_cmap)"
   ]
  },
  {
   "cell_type": "code",
   "execution_count": null,
   "id": "674e138a-b922-4ce7-a435-8ac829025724",
   "metadata": {},
   "outputs": [],
   "source": [
    "plt.rcParams['figure.figsize'] = [8,8]\n",
    "sc.tl.leiden(adata, restrict_to = ('leiden', ['7']), resolution = 0.3, key_added= 'leiden1')\n",
    "sc.pl.tsne(adata, color=['leiden1','RORC','IL17A','IL17F'], size = 20, legend_loc = 'on data', cmap = my_cmap)"
   ]
  },
  {
   "cell_type": "code",
   "execution_count": null,
   "id": "9846ad1a-bfae-4265-80ae-4d0c0e212484",
   "metadata": {},
   "outputs": [],
   "source": [
    "plt.rcParams['figure.figsize'] = [8,8]\n",
    "sc.tl.leiden(adata, restrict_to = ('leiden1', ['6']), resolution = 0.6, key_added= 'leiden2')\n",
    "sc.pl.tsne(adata, color=['leiden2','RORC','IL17A','IL17F'], size = 20, legend_loc = 'on data', cmap = my_cmap)"
   ]
  },
  {
   "cell_type": "code",
   "execution_count": null,
   "id": "22671337-e25e-4df3-955f-b287e95b2c45",
   "metadata": {},
   "outputs": [],
   "source": [
    "plt.rcParams['figure.figsize'] = [8,8]\n",
    "sc.tl.leiden(adata, restrict_to = ('leiden2', ['2']), resolution = 0.6, key_added= 'leiden3')\n",
    "sc.pl.tsne(adata, color=['leiden3','RORC','IL17A','IL17F'], size = 20, legend_loc = 'on data', cmap = my_cmap)"
   ]
  },
  {
   "cell_type": "code",
   "execution_count": null,
   "id": "20702390-5d09-4aaa-9f0e-dd9d103260ac",
   "metadata": {},
   "outputs": [],
   "source": [
    "plt.rcParams['figure.figsize'] = [8,8]\n",
    "sc.tl.leiden(adata, restrict_to = ('leiden3', ['0']), resolution = 0.8, key_added= 'leiden4')\n",
    "sc.pl.tsne(adata, color=['leiden4','RORC','IL17A','IL17F'], size = 20, legend_loc = 'on data', cmap = my_cmap)"
   ]
  },
  {
   "cell_type": "code",
   "execution_count": null,
   "id": "e5c95c27-c645-455c-9bca-e9ea293dbc30",
   "metadata": {
    "tags": []
   },
   "outputs": [],
   "source": [
    "IL17_genesmask = [gene.startswith(\"IL17\") and gene.startswith(\"IL17R\")==0 for gene in adata.var_names]\n",
    "IL17_genes = adata.var_names[IL17_genesmask]\n",
    "IL17_exp_set ={\n",
    "    'cytokine': IL17_genes, 'TF': 'RORC'\n",
    "}\n",
    "sc.pl.dotplot(adata,IL17_exp_set,groupby = 'leiden4' , vmax = 1, swap_axes = False, dot_min =0.1, dot_max =1,standard_scale = 'var')"
   ]
  },
  {
   "cell_type": "code",
   "execution_count": null,
   "id": "07092962-7af4-40c1-947b-fbde8402ce69",
   "metadata": {},
   "outputs": [],
   "source": [
    "adata_17 = adata[adata.obs['leiden4'].isin(['0,0','0,1','0,2','0,6','0,7','2,5','2,6','6,0','6,1','7,2']),:]"
   ]
  },
  {
   "cell_type": "code",
   "execution_count": null,
   "id": "227c2afa-8931-425d-a90d-f194c3870a8e",
   "metadata": {},
   "outputs": [],
   "source": [
    "del adata_17.uns"
   ]
  },
  {
   "cell_type": "code",
   "execution_count": null,
   "id": "cfadbe5c-d8e5-4617-b19e-e214e1fa6f67",
   "metadata": {},
   "outputs": [],
   "source": [
    "sc.pp.highly_variable_genes(adata_17, flavor='seurat', n_top_genes=3000)\n",
    "sc.pp.pca(adata_17, n_comps=50, use_highly_variable=True, svd_solver='arpack')"
   ]
  },
  {
   "cell_type": "code",
   "execution_count": null,
   "id": "fcb365c2-259d-48f4-ab16-3d117a06530b",
   "metadata": {},
   "outputs": [],
   "source": [
    "sc.pp.neighbors(adata_17, n_neighbors = 15, n_pcs = 50)\n",
    "sc.tl.leiden(adata_17, resolution = 1, key_added= 'leiden')                                                 "
   ]
  },
  {
   "cell_type": "code",
   "execution_count": null,
   "id": "2be93889-d50d-4f43-a940-557217c04b89",
   "metadata": {},
   "outputs": [],
   "source": [
    "sc.tl.tsne(adata_17)"
   ]
  },
  {
   "cell_type": "code",
   "execution_count": null,
   "id": "3ecb20fb-818e-4876-ab1e-dbbb28b8f8c6",
   "metadata": {},
   "outputs": [],
   "source": [
    "%matplotlib inline\n",
    "sc.pl.tsne(adata_17, color=['leiden','RORC','IL17A','IL17F'],size = 40,cmap = my_cmap)"
   ]
  },
  {
   "cell_type": "code",
   "execution_count": null,
   "id": "e2dfffad-2e44-4d8d-aa4f-92a40855ce25",
   "metadata": {},
   "outputs": [],
   "source": [
    "adata_17_refined = adata_17[adata_17.obs['leiden'].isin(['0'])==0,:]"
   ]
  },
  {
   "cell_type": "code",
   "execution_count": null,
   "id": "fff914fa-e857-4694-97d3-1af1f12649a2",
   "metadata": {},
   "outputs": [],
   "source": [
    "adata_17.write('GSE108989_T17.h5ad')"
   ]
  },
  {
   "cell_type": "code",
   "execution_count": null,
   "id": "77a563dc-b966-4830-8ef8-e90008a4fd74",
   "metadata": {},
   "outputs": [],
   "source": [
    "adata_17 = sc.read_h5ad('GSE108989_T17.h5ad')"
   ]
  },
  {
   "cell_type": "code",
   "execution_count": null,
   "id": "7d47fa46-ad6f-4e23-9115-f228ea9a5251",
   "metadata": {},
   "outputs": [],
   "source": [
    "adata.write('GSE108989.h5ad')"
   ]
  },
  {
   "cell_type": "code",
   "execution_count": null,
   "id": "268f8c17-8506-45a8-9f57-a300c2393a7d",
   "metadata": {},
   "outputs": [],
   "source": []
  },
  {
   "cell_type": "code",
   "execution_count": null,
   "id": "a29b7d78-498d-4088-957f-32e5b0676452",
   "metadata": {},
   "outputs": [],
   "source": []
  },
  {
   "cell_type": "code",
   "execution_count": null,
   "id": "4332bee9-b3f7-4a45-9891-79d36fb28d5a",
   "metadata": {},
   "outputs": [],
   "source": [
    "from matplotlib.colors import LinearSegmentedColormap\n",
    "values = [0,1]\n",
    "colors = [(227, 227, 227), (255, 42, 18)]\n",
    "norm = plt.Normalize(min(values), max(values))\n",
    "my_cmap = LinearSegmentedColormap.from_list(\n",
    "    '', [(norm(value), tuple(np.array(color) / 255)) for value, color in zip(values, colors)])"
   ]
  },
  {
   "cell_type": "code",
   "execution_count": null,
   "id": "cd5c7d66-e6f0-459c-9164-9c7d7ebf7086",
   "metadata": {},
   "outputs": [],
   "source": [
    "#adata = sc.read_h5ad('GSE108989.h5ad')\n",
    "adata_17 = sc.read_h5ad('GSE108989_T17.h5ad')\n",
    "#adata_gd = sc.read_h5ad('GSE108989_T17.h5ad')"
   ]
  },
  {
   "cell_type": "code",
   "execution_count": null,
   "id": "e380c622-bfa3-421d-8036-56b3c6f531e6",
   "metadata": {},
   "outputs": [],
   "source": [
    "adata.obs['IL17 secreting selected'] = '0'\n",
    "adata.obs['IL17 secreting selected'][adata.obs_names.isin(adata_17.obs_names)] = '1'"
   ]
  },
  {
   "cell_type": "code",
   "execution_count": null,
   "id": "96c08894-ef77-498d-910c-17310f3e297e",
   "metadata": {},
   "outputs": [],
   "source": [
    "adata.obs['gdT selected'] = '0'\n",
    "adata.obs['gdT selected'][adata.obs_names.isin(adata_gd.obs_names)] = '1'"
   ]
  },
  {
   "cell_type": "code",
   "execution_count": null,
   "id": "40269f39-10bd-4dc2-befa-adc453334777",
   "metadata": {},
   "outputs": [],
   "source": [
    "plt.close()\n",
    "plt.rcParams['axes.linewidth'] = 2\n",
    "plt.rcParams['figure.figsize'] = [8,8]\n",
    "fig = sc.pl.tsne(adata, color=['RORC','IL17A','IL17F','IL17 secreting selected'],\n",
    "                 size =20, ncols = 2, palette = ['#E3E3E3', '#FF2A12'], cmap = my_cmap, return_fig = True, legend_fontsize = 'large', vmax = 4)\n",
    "ax = fig.get_axes()\n",
    "for i in range(0,len(ax)):\n",
    "    ax[i].xaxis.label.set_fontsize(22)\n",
    "    ax[i].xaxis.label.set_fontweight('bold')\n",
    "    ax[i].yaxis.label.set_fontsize(22)\n",
    "    ax[i].title.set_fontsize(30)\n",
    "    ax[i].yaxis.label.set_fontweight('bold')\n",
    "    ax[i].title.set_fontweight('bold')\n",
    "fig.savefig('17_selected.png',dpi = 300,bbox_inches='tight') "
   ]
  },
  {
   "cell_type": "code",
   "execution_count": null,
   "id": "28605c6c-972e-4f3d-b1ca-e5108867fd8a",
   "metadata": {},
   "outputs": [],
   "source": [
    "plt.close()\n",
    "plt.rcParams['axes.linewidth'] = 2\n",
    "plt.rcParams['figure.figsize'] = [8,12]\n",
    "fig = sc.pl.tsne(adata, color=['CD3E','CD3D','CD3G','CD247','TRDC','gdT selected'],\n",
    "                 size =20, ncols = 2, palette = ['#E3E3E3', '#FF2A12'], cmap = my_cmap, return_fig = True, legend_fontsize = 'large')\n",
    "ax = fig.get_axes()\n",
    "for i in range(0,len(ax)):\n",
    "    ax[i].xaxis.label.set_fontsize(22)\n",
    "    ax[i].xaxis.label.set_fontweight('bold')\n",
    "    ax[i].yaxis.label.set_fontsize(22)\n",
    "    ax[i].title.set_fontsize(30)\n",
    "    ax[i].yaxis.label.set_fontweight('bold')\n",
    "    ax[i].title.set_fontweight('bold')\n",
    "fig.savefig('gd_selected.png',dpi = 300,bbox_inches='tight') "
   ]
  }
 ],
 "metadata": {
  "kernelspec": {
   "display_name": "Python 3 (ipykernel)",
   "language": "python",
   "name": "python3"
  },
  "language_info": {
   "codemirror_mode": {
    "name": "ipython",
    "version": 3
   },
   "file_extension": ".py",
   "mimetype": "text/x-python",
   "name": "python",
   "nbconvert_exporter": "python",
   "pygments_lexer": "ipython3",
   "version": "3.9.13"
  }
 },
 "nbformat": 4,
 "nbformat_minor": 5
}
